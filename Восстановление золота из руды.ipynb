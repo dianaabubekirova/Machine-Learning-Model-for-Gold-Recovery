{
 "cells": [
  {
   "cell_type": "markdown",
   "metadata": {
    "toc": true
   },
   "source": [
    "<h1>Содержание<span class=\"tocSkip\"></span></h1>\n",
    "<div class=\"toc\"><ul class=\"toc-item\"><li><span><a href=\"#Подготовка-данных\" data-toc-modified-id=\"Подготовка-данных-1\"><span class=\"toc-item-num\">1&nbsp;&nbsp;</span>Подготовка данных</a></span><ul class=\"toc-item\"><li><span><a href=\"#Откройте-файлы-и-изучите-их\" data-toc-modified-id=\"Откройте-файлы-и-изучите-их-1.1\"><span class=\"toc-item-num\">1.1&nbsp;&nbsp;</span>Откройте файлы и изучите их</a></span><ul class=\"toc-item\"><li><span><a href=\"#Изучим-данные-первого-датасета\" data-toc-modified-id=\"Изучим-данные-первого-датасета-1.1.1\"><span class=\"toc-item-num\">1.1.1&nbsp;&nbsp;</span>Изучим данные первого датасета</a></span></li><li><span><a href=\"#Изучим-данные-второго-датасета\" data-toc-modified-id=\"Изучим-данные-второго-датасета-1.1.2\"><span class=\"toc-item-num\">1.1.2&nbsp;&nbsp;</span>Изучим данные второго датасета</a></span></li><li><span><a href=\"#Изучим-данные-второго-датасета\" data-toc-modified-id=\"Изучим-данные-второго-датасета-1.1.3\"><span class=\"toc-item-num\">1.1.3&nbsp;&nbsp;</span>Изучим данные второго датасета</a></span></li></ul></li><li><span><a href=\"#Проверка-эффективности-обогащения,-вычисление-её-на-обучающей-выборке-и-найхождение-MAE-между-собственными-расчётами-и-значением-признака\" data-toc-modified-id=\"Проверка-эффективности-обогащения,-вычисление-её-на-обучающей-выборке-и-найхождение-MAE-между-собственными-расчётами-и-значением-признака-1.2\"><span class=\"toc-item-num\">1.2&nbsp;&nbsp;</span>Проверка эффективности обогащения, вычисление её на обучающей выборке и найхождение MAE между собственными расчётами и значением признака</a></span></li><li><span><a href=\"#Предобработка-данных\" data-toc-modified-id=\"Предобработка-данных-1.3\"><span class=\"toc-item-num\">1.3&nbsp;&nbsp;</span>Предобработка данных</a></span><ul class=\"toc-item\"><li><span><a href=\"#Тип-данных\" data-toc-modified-id=\"Тип-данных-1.3.1\"><span class=\"toc-item-num\">1.3.1&nbsp;&nbsp;</span>Тип данных</a></span></li><li><span><a href=\"#Пропуски\" data-toc-modified-id=\"Пропуски-1.3.2\"><span class=\"toc-item-num\">1.3.2&nbsp;&nbsp;</span>Пропуски</a></span></li></ul></li><li><span><a href=\"#Анализ-признаков,-недоступных-в-тестовой-выборке\" data-toc-modified-id=\"Анализ-признаков,-недоступных-в-тестовой-выборке-1.4\"><span class=\"toc-item-num\">1.4&nbsp;&nbsp;</span>Анализ признаков, недоступных в тестовой выборке</a></span></li><li><span><a href=\"#Вывод\" data-toc-modified-id=\"Вывод-1.5\"><span class=\"toc-item-num\">1.5&nbsp;&nbsp;</span>Вывод</a></span></li></ul></li><li><span><a href=\"#Анализ-данных\" data-toc-modified-id=\"Анализ-данных-2\"><span class=\"toc-item-num\">2&nbsp;&nbsp;</span>Анализ данных</a></span><ul class=\"toc-item\"><li><span><a href=\"#Изменения-концентраций-металлов-(Au,-Ag,-Pb)-на-различных-этапах-очистки\" data-toc-modified-id=\"Изменения-концентраций-металлов-(Au,-Ag,-Pb)-на-различных-этапах-очистки-2.1\"><span class=\"toc-item-num\">2.1&nbsp;&nbsp;</span>Изменения концентраций металлов (Au, Ag, Pb) на различных этапах очистки</a></span><ul class=\"toc-item\"><li><span><a href=\"#Золото\" data-toc-modified-id=\"Золото-2.1.1\"><span class=\"toc-item-num\">2.1.1&nbsp;&nbsp;</span>Золото</a></span></li><li><span><a href=\"#Серебро\" data-toc-modified-id=\"Серебро-2.1.2\"><span class=\"toc-item-num\">2.1.2&nbsp;&nbsp;</span>Серебро</a></span></li><li><span><a href=\"#Свинец\" data-toc-modified-id=\"Свинец-2.1.3\"><span class=\"toc-item-num\">2.1.3&nbsp;&nbsp;</span>Свинец</a></span></li></ul></li><li><span><a href=\"#Сравнение-распределения-размеров-гранул-сырья-на-обучающей-и-тестовой-выборках\" data-toc-modified-id=\"Сравнение-распределения-размеров-гранул-сырья-на-обучающей-и-тестовой-выборках-2.2\"><span class=\"toc-item-num\">2.2&nbsp;&nbsp;</span>Сравнение распределения размеров гранул сырья на обучающей и тестовой выборках</a></span></li><li><span><a href=\"#Исследование-суммарной-концентрации-всех-веществ-на-разных-стадиях:-в-сырье,-в-черновом-и-финальном-концентратах\" data-toc-modified-id=\"Исследование-суммарной-концентрации-всех-веществ-на-разных-стадиях:-в-сырье,-в-черновом-и-финальном-концентратах-2.3\"><span class=\"toc-item-num\">2.3&nbsp;&nbsp;</span>Исследование суммарной концентрации всех веществ на разных стадиях: в сырье, в черновом и финальном концентратах</a></span></li><li><span><a href=\"#Вывод\" data-toc-modified-id=\"Вывод-2.4\"><span class=\"toc-item-num\">2.4&nbsp;&nbsp;</span>Вывод</a></span></li></ul></li><li><span><a href=\"#Модель\" data-toc-modified-id=\"Модель-3\"><span class=\"toc-item-num\">3&nbsp;&nbsp;</span>Модель</a></span><ul class=\"toc-item\"><li><span><a href=\"#Функция-для-вычисления-итоговой-sMAPE\" data-toc-modified-id=\"Функция-для-вычисления-итоговой-sMAPE-3.1\"><span class=\"toc-item-num\">3.1&nbsp;&nbsp;</span>Функция для вычисления итоговой sMAPE</a></span></li><li><span><a href=\"#Обучение-моделей-и-оценка-качества-кросс-валидацией\" data-toc-modified-id=\"Обучение-моделей-и-оценка-качества-кросс-валидацией-3.2\"><span class=\"toc-item-num\">3.2&nbsp;&nbsp;</span>Обучение моделей и оценка качества кросс-валидацией</a></span><ul class=\"toc-item\"><li><span><a href=\"#Rougher-model\" data-toc-modified-id=\"Rougher-model-3.2.1\"><span class=\"toc-item-num\">3.2.1&nbsp;&nbsp;</span>Rougher model</a></span></li><li><span><a href=\"#Final-model\" data-toc-modified-id=\"Final-model-3.2.2\"><span class=\"toc-item-num\">3.2.2&nbsp;&nbsp;</span>Final model</a></span></li></ul></li><li><span><a href=\"#Тестирование-модели\" data-toc-modified-id=\"Тестирование-модели-3.3\"><span class=\"toc-item-num\">3.3&nbsp;&nbsp;</span>Тестирование модели</a></span><ul class=\"toc-item\"><li><span><a href=\"#Rougher-модель-тестирование\" data-toc-modified-id=\"Rougher-модель-тестирование-3.3.1\"><span class=\"toc-item-num\">3.3.1&nbsp;&nbsp;</span>Rougher модель тестирование</a></span></li><li><span><a href=\"#Final-model-тестирование\" data-toc-modified-id=\"Final-model-тестирование-3.3.2\"><span class=\"toc-item-num\">3.3.2&nbsp;&nbsp;</span>Final model тестирование</a></span></li><li><span><a href=\"#Итоговое-sMAPE\" data-toc-modified-id=\"Итоговое-sMAPE-3.3.3\"><span class=\"toc-item-num\">3.3.3&nbsp;&nbsp;</span>Итоговое sMAPE</a></span></li></ul></li><li><span><a href=\"#Сравнение-метрик-с-дамми-моделью\" data-toc-modified-id=\"Сравнение-метрик-с-дамми-моделью-3.4\"><span class=\"toc-item-num\">3.4&nbsp;&nbsp;</span>Сравнение метрик с дамми-моделью</a></span></li><li><span><a href=\"#Вывод\" data-toc-modified-id=\"Вывод-3.5\"><span class=\"toc-item-num\">3.5&nbsp;&nbsp;</span>Вывод</a></span></li></ul></li><li><span><a href=\"#Вывод-по-проекту:\" data-toc-modified-id=\"Вывод-по-проекту:-4\"><span class=\"toc-item-num\">4&nbsp;&nbsp;</span>Вывод по проекту:</a></span></li><li><span><a href=\"#Чек-лист-готовности-проекта\" data-toc-modified-id=\"Чек-лист-готовности-проекта-5\"><span class=\"toc-item-num\">5&nbsp;&nbsp;</span>Чек-лист готовности проекта</a></span></li></ul></div>"
   ]
  },
  {
   "cell_type": "markdown",
   "metadata": {},
   "source": [
    "# Восстановление золота из руды"
   ]
  },
  {
   "cell_type": "markdown",
   "metadata": {},
   "source": [
    "Подготовьте прототип модели машинного обучения для «Цифры». Компания разрабатывает решения для эффективной работы промышленных предприятий.\n",
    "\n",
    "Модель должна предсказать коэффициент восстановления золота из золотосодержащей руды. Используйте данные с параметрами добычи и очистки. \n",
    "\n",
    "Модель поможет оптимизировать производство, чтобы не запускать предприятие с убыточными характеристиками.\n",
    "\n",
    "Вам нужно:\n",
    "\n",
    "1. Подготовить данные;\n",
    "2. Провести исследовательский анализ данных;\n",
    "3. Построить и обучить модель.\n",
    "\n",
    "Чтобы выполнить проект, обращайтесь к библиотекам *pandas*, *matplotlib* и *sklearn.* Вам поможет их документация."
   ]
  },
  {
   "cell_type": "markdown",
   "metadata": {},
   "source": [
    "**Описание данных**\n",
    "\n",
    "*Технологический процесс*\n",
    "- Rougher feed — исходное сырье\n",
    "- Rougher additions (или reagent additions) — флотационные реагенты: Xanthate, Sulphate, Depressant\n",
    "- Xanthate — ксантогенат (промотер, или активатор флотации);\n",
    "- Sulphate — сульфат (на данном производстве сульфид натрия);\n",
    "- Depressant — депрессант (силикат натрия).\n",
    "- Rougher process (англ. «грубый процесс») — флотация\n",
    "- Rougher tails — отвальные хвосты\n",
    "- Float banks — флотационная установка\n",
    "- Cleaner process — очистка\n",
    "- Rougher Au — черновой концентрат золота\n",
    "- Final Au — финальный концентрат золота\n",
    "\n",
    "**Параметры этапов**\n",
    "- air amount — объём воздуха\n",
    "- fluid levels — уровень жидкости\n",
    "- feed size — размер гранул сырья\n",
    "- feed rate — скорость подачи\n",
    "\n",
    "**Наименование признаков**\n",
    "\n",
    "*Наименование признаков должно быть такое:*\n",
    "- [этап].[тип_параметра].[название_параметра]\n",
    "\n",
    "- Пример: rougher.input.feed_ag\n",
    "- Возможные значения для блока [этап]:\n",
    "- rougher — флотация\n",
    "- primary_cleaner — первичная очистка\n",
    "- secondary_cleaner — вторичная очистка\n",
    "- final — финальные характеристики\n",
    "*Возможные значения для блока [тип_параметра]:*\n",
    "- input — параметры сырья\n",
    "- output — параметры продукта\n",
    "- state — параметры, характеризующие текущее состояние этапа\n",
    "- calculation — расчётные характеристики"
   ]
  },
  {
   "cell_type": "markdown",
   "metadata": {},
   "source": [
    "## Подготовка данных"
   ]
  },
  {
   "cell_type": "markdown",
   "metadata": {},
   "source": [
    "Импортируем необходимые библиотеки"
   ]
  },
  {
   "cell_type": "code",
   "execution_count": 1,
   "metadata": {},
   "outputs": [],
   "source": [
    "import pandas as pd\n",
    "import numpy as np\n",
    "from scipy import stats as st\n",
    "import matplotlib.pyplot as plt\n",
    "import matplotlib.style as style\n",
    "import seaborn as sns\n",
    "\n",
    "from sklearn.metrics import mean_absolute_error\n",
    "from sklearn.preprocessing import StandardScaler\n",
    "from sklearn.tree import DecisionTreeRegressor\n",
    "from sklearn.model_selection import RandomizedSearchCV\n",
    "from sklearn.dummy import DummyRegressor\n",
    "from sklearn.ensemble import RandomForestRegressor\n",
    "from sklearn.metrics import make_scorer\n",
    "from sklearn.model_selection import cross_val_score\n",
    "from sklearn.model_selection import train_test_split\n",
    "\n",
    "import warnings\n",
    "warnings.filterwarnings(\"ignore\")"
   ]
  },
  {
   "cell_type": "code",
   "execution_count": 2,
   "metadata": {},
   "outputs": [],
   "source": [
    "df_train = pd.read_csv('/datasets/gold_recovery_train_new.csv') #— обучающая выборка;\n",
    "df_test = pd.read_csv('/datasets/gold_recovery_test_new.csv') #— тестовая выборка;\n",
    "df_full = pd.read_csv('/datasets/gold_recovery_full_new.csv') #— исходные данные"
   ]
  },
  {
   "cell_type": "markdown",
   "metadata": {},
   "source": [
    "### Откройте файлы и изучите их"
   ]
  },
  {
   "cell_type": "markdown",
   "metadata": {},
   "source": [
    "#### Изучим данные первого датасета"
   ]
  },
  {
   "cell_type": "code",
   "execution_count": 3,
   "metadata": {
    "scrolled": true
   },
   "outputs": [
    {
     "name": "stdout",
     "output_type": "stream",
     "text": [
      "<class 'pandas.core.frame.DataFrame'>\n",
      "RangeIndex: 14149 entries, 0 to 14148\n",
      "Data columns (total 87 columns):\n",
      " #   Column                                              Non-Null Count  Dtype  \n",
      "---  ------                                              --------------  -----  \n",
      " 0   date                                                14149 non-null  object \n",
      " 1   final.output.concentrate_ag                         14148 non-null  float64\n",
      " 2   final.output.concentrate_pb                         14148 non-null  float64\n",
      " 3   final.output.concentrate_sol                        13938 non-null  float64\n",
      " 4   final.output.concentrate_au                         14149 non-null  float64\n",
      " 5   final.output.recovery                               14149 non-null  float64\n",
      " 6   final.output.tail_ag                                14149 non-null  float64\n",
      " 7   final.output.tail_pb                                14049 non-null  float64\n",
      " 8   final.output.tail_sol                               14144 non-null  float64\n",
      " 9   final.output.tail_au                                14149 non-null  float64\n",
      " 10  primary_cleaner.input.sulfate                       14129 non-null  float64\n",
      " 11  primary_cleaner.input.depressant                    14117 non-null  float64\n",
      " 12  primary_cleaner.input.feed_size                     14149 non-null  float64\n",
      " 13  primary_cleaner.input.xanthate                      14049 non-null  float64\n",
      " 14  primary_cleaner.output.concentrate_ag               14149 non-null  float64\n",
      " 15  primary_cleaner.output.concentrate_pb               14063 non-null  float64\n",
      " 16  primary_cleaner.output.concentrate_sol              13863 non-null  float64\n",
      " 17  primary_cleaner.output.concentrate_au               14149 non-null  float64\n",
      " 18  primary_cleaner.output.tail_ag                      14148 non-null  float64\n",
      " 19  primary_cleaner.output.tail_pb                      14134 non-null  float64\n",
      " 20  primary_cleaner.output.tail_sol                     14103 non-null  float64\n",
      " 21  primary_cleaner.output.tail_au                      14149 non-null  float64\n",
      " 22  primary_cleaner.state.floatbank8_a_air              14145 non-null  float64\n",
      " 23  primary_cleaner.state.floatbank8_a_level            14148 non-null  float64\n",
      " 24  primary_cleaner.state.floatbank8_b_air              14145 non-null  float64\n",
      " 25  primary_cleaner.state.floatbank8_b_level            14148 non-null  float64\n",
      " 26  primary_cleaner.state.floatbank8_c_air              14147 non-null  float64\n",
      " 27  primary_cleaner.state.floatbank8_c_level            14148 non-null  float64\n",
      " 28  primary_cleaner.state.floatbank8_d_air              14146 non-null  float64\n",
      " 29  primary_cleaner.state.floatbank8_d_level            14148 non-null  float64\n",
      " 30  rougher.calculation.sulfate_to_au_concentrate       14148 non-null  float64\n",
      " 31  rougher.calculation.floatbank10_sulfate_to_au_feed  14148 non-null  float64\n",
      " 32  rougher.calculation.floatbank11_sulfate_to_au_feed  14148 non-null  float64\n",
      " 33  rougher.calculation.au_pb_ratio                     14149 non-null  float64\n",
      " 34  rougher.input.feed_ag                               14149 non-null  float64\n",
      " 35  rougher.input.feed_pb                               14049 non-null  float64\n",
      " 36  rougher.input.feed_rate                             14141 non-null  float64\n",
      " 37  rougher.input.feed_size                             14005 non-null  float64\n",
      " 38  rougher.input.feed_sol                              14071 non-null  float64\n",
      " 39  rougher.input.feed_au                               14149 non-null  float64\n",
      " 40  rougher.input.floatbank10_sulfate                   14120 non-null  float64\n",
      " 41  rougher.input.floatbank10_xanthate                  14141 non-null  float64\n",
      " 42  rougher.input.floatbank11_sulfate                   14113 non-null  float64\n",
      " 43  rougher.input.floatbank11_xanthate                  13721 non-null  float64\n",
      " 44  rougher.output.concentrate_ag                       14149 non-null  float64\n",
      " 45  rougher.output.concentrate_pb                       14149 non-null  float64\n",
      " 46  rougher.output.concentrate_sol                      14127 non-null  float64\n",
      " 47  rougher.output.concentrate_au                       14149 non-null  float64\n",
      " 48  rougher.output.recovery                             14149 non-null  float64\n",
      " 49  rougher.output.tail_ag                              14148 non-null  float64\n",
      " 50  rougher.output.tail_pb                              14149 non-null  float64\n",
      " 51  rougher.output.tail_sol                             14149 non-null  float64\n",
      " 52  rougher.output.tail_au                              14149 non-null  float64\n",
      " 53  rougher.state.floatbank10_a_air                     14148 non-null  float64\n",
      " 54  rougher.state.floatbank10_a_level                   14148 non-null  float64\n",
      " 55  rougher.state.floatbank10_b_air                     14148 non-null  float64\n",
      " 56  rougher.state.floatbank10_b_level                   14148 non-null  float64\n",
      " 57  rougher.state.floatbank10_c_air                     14148 non-null  float64\n",
      " 58  rougher.state.floatbank10_c_level                   14148 non-null  float64\n",
      " 59  rougher.state.floatbank10_d_air                     14149 non-null  float64\n",
      " 60  rougher.state.floatbank10_d_level                   14149 non-null  float64\n",
      " 61  rougher.state.floatbank10_e_air                     13713 non-null  float64\n",
      " 62  rougher.state.floatbank10_e_level                   14149 non-null  float64\n",
      " 63  rougher.state.floatbank10_f_air                     14149 non-null  float64\n",
      " 64  rougher.state.floatbank10_f_level                   14149 non-null  float64\n",
      " 65  secondary_cleaner.output.tail_ag                    14147 non-null  float64\n",
      " 66  secondary_cleaner.output.tail_pb                    14139 non-null  float64\n",
      " 67  secondary_cleaner.output.tail_sol                   12544 non-null  float64\n",
      " 68  secondary_cleaner.output.tail_au                    14149 non-null  float64\n",
      " 69  secondary_cleaner.state.floatbank2_a_air            13932 non-null  float64\n",
      " 70  secondary_cleaner.state.floatbank2_a_level          14148 non-null  float64\n",
      " 71  secondary_cleaner.state.floatbank2_b_air            14128 non-null  float64\n",
      " 72  secondary_cleaner.state.floatbank2_b_level          14148 non-null  float64\n",
      " 73  secondary_cleaner.state.floatbank3_a_air            14145 non-null  float64\n",
      " 74  secondary_cleaner.state.floatbank3_a_level          14148 non-null  float64\n",
      " 75  secondary_cleaner.state.floatbank3_b_air            14148 non-null  float64\n",
      " 76  secondary_cleaner.state.floatbank3_b_level          14148 non-null  float64\n",
      " 77  secondary_cleaner.state.floatbank4_a_air            14143 non-null  float64\n",
      " 78  secondary_cleaner.state.floatbank4_a_level          14148 non-null  float64\n",
      " 79  secondary_cleaner.state.floatbank4_b_air            14148 non-null  float64\n",
      " 80  secondary_cleaner.state.floatbank4_b_level          14148 non-null  float64\n",
      " 81  secondary_cleaner.state.floatbank5_a_air            14148 non-null  float64\n",
      " 82  secondary_cleaner.state.floatbank5_a_level          14148 non-null  float64\n",
      " 83  secondary_cleaner.state.floatbank5_b_air            14148 non-null  float64\n",
      " 84  secondary_cleaner.state.floatbank5_b_level          14148 non-null  float64\n",
      " 85  secondary_cleaner.state.floatbank6_a_air            14147 non-null  float64\n",
      " 86  secondary_cleaner.state.floatbank6_a_level          14148 non-null  float64\n",
      "dtypes: float64(86), object(1)\n",
      "memory usage: 9.4+ MB\n"
     ]
    }
   ],
   "source": [
    "df_train.info()"
   ]
  },
  {
   "cell_type": "code",
   "execution_count": 4,
   "metadata": {
    "scrolled": true
   },
   "outputs": [
    {
     "data": {
      "text/html": [
       "<div>\n",
       "<style scoped>\n",
       "    .dataframe tbody tr th:only-of-type {\n",
       "        vertical-align: middle;\n",
       "    }\n",
       "\n",
       "    .dataframe tbody tr th {\n",
       "        vertical-align: top;\n",
       "    }\n",
       "\n",
       "    .dataframe thead th {\n",
       "        text-align: right;\n",
       "    }\n",
       "</style>\n",
       "<table border=\"1\" class=\"dataframe\">\n",
       "  <thead>\n",
       "    <tr style=\"text-align: right;\">\n",
       "      <th></th>\n",
       "      <th>date</th>\n",
       "      <th>final.output.concentrate_ag</th>\n",
       "      <th>final.output.concentrate_pb</th>\n",
       "      <th>final.output.concentrate_sol</th>\n",
       "      <th>final.output.concentrate_au</th>\n",
       "      <th>final.output.recovery</th>\n",
       "      <th>final.output.tail_ag</th>\n",
       "      <th>final.output.tail_pb</th>\n",
       "      <th>final.output.tail_sol</th>\n",
       "      <th>final.output.tail_au</th>\n",
       "      <th>...</th>\n",
       "      <th>secondary_cleaner.state.floatbank4_a_air</th>\n",
       "      <th>secondary_cleaner.state.floatbank4_a_level</th>\n",
       "      <th>secondary_cleaner.state.floatbank4_b_air</th>\n",
       "      <th>secondary_cleaner.state.floatbank4_b_level</th>\n",
       "      <th>secondary_cleaner.state.floatbank5_a_air</th>\n",
       "      <th>secondary_cleaner.state.floatbank5_a_level</th>\n",
       "      <th>secondary_cleaner.state.floatbank5_b_air</th>\n",
       "      <th>secondary_cleaner.state.floatbank5_b_level</th>\n",
       "      <th>secondary_cleaner.state.floatbank6_a_air</th>\n",
       "      <th>secondary_cleaner.state.floatbank6_a_level</th>\n",
       "    </tr>\n",
       "  </thead>\n",
       "  <tbody>\n",
       "    <tr>\n",
       "      <th>0</th>\n",
       "      <td>2016-01-15 00:00:00</td>\n",
       "      <td>6.055403</td>\n",
       "      <td>9.889648</td>\n",
       "      <td>5.507324</td>\n",
       "      <td>42.192020</td>\n",
       "      <td>70.541216</td>\n",
       "      <td>10.411962</td>\n",
       "      <td>0.895447</td>\n",
       "      <td>16.904297</td>\n",
       "      <td>2.143149</td>\n",
       "      <td>...</td>\n",
       "      <td>14.016835</td>\n",
       "      <td>-502.488007</td>\n",
       "      <td>12.099931</td>\n",
       "      <td>-504.715942</td>\n",
       "      <td>9.925633</td>\n",
       "      <td>-498.310211</td>\n",
       "      <td>8.079666</td>\n",
       "      <td>-500.470978</td>\n",
       "      <td>14.151341</td>\n",
       "      <td>-605.841980</td>\n",
       "    </tr>\n",
       "    <tr>\n",
       "      <th>1</th>\n",
       "      <td>2016-01-15 01:00:00</td>\n",
       "      <td>6.029369</td>\n",
       "      <td>9.968944</td>\n",
       "      <td>5.257781</td>\n",
       "      <td>42.701629</td>\n",
       "      <td>69.266198</td>\n",
       "      <td>10.462676</td>\n",
       "      <td>0.927452</td>\n",
       "      <td>16.634514</td>\n",
       "      <td>2.224930</td>\n",
       "      <td>...</td>\n",
       "      <td>13.992281</td>\n",
       "      <td>-505.503262</td>\n",
       "      <td>11.950531</td>\n",
       "      <td>-501.331529</td>\n",
       "      <td>10.039245</td>\n",
       "      <td>-500.169983</td>\n",
       "      <td>7.984757</td>\n",
       "      <td>-500.582168</td>\n",
       "      <td>13.998353</td>\n",
       "      <td>-599.787184</td>\n",
       "    </tr>\n",
       "    <tr>\n",
       "      <th>2</th>\n",
       "      <td>2016-01-15 02:00:00</td>\n",
       "      <td>6.055926</td>\n",
       "      <td>10.213995</td>\n",
       "      <td>5.383759</td>\n",
       "      <td>42.657501</td>\n",
       "      <td>68.116445</td>\n",
       "      <td>10.507046</td>\n",
       "      <td>0.953716</td>\n",
       "      <td>16.208849</td>\n",
       "      <td>2.257889</td>\n",
       "      <td>...</td>\n",
       "      <td>14.015015</td>\n",
       "      <td>-502.520901</td>\n",
       "      <td>11.912783</td>\n",
       "      <td>-501.133383</td>\n",
       "      <td>10.070913</td>\n",
       "      <td>-500.129135</td>\n",
       "      <td>8.013877</td>\n",
       "      <td>-500.517572</td>\n",
       "      <td>14.028663</td>\n",
       "      <td>-601.427363</td>\n",
       "    </tr>\n",
       "    <tr>\n",
       "      <th>3</th>\n",
       "      <td>2016-01-15 03:00:00</td>\n",
       "      <td>6.047977</td>\n",
       "      <td>9.977019</td>\n",
       "      <td>4.858634</td>\n",
       "      <td>42.689819</td>\n",
       "      <td>68.347543</td>\n",
       "      <td>10.422762</td>\n",
       "      <td>0.883763</td>\n",
       "      <td>16.532835</td>\n",
       "      <td>2.146849</td>\n",
       "      <td>...</td>\n",
       "      <td>14.036510</td>\n",
       "      <td>-500.857308</td>\n",
       "      <td>11.999550</td>\n",
       "      <td>-501.193686</td>\n",
       "      <td>9.970366</td>\n",
       "      <td>-499.201640</td>\n",
       "      <td>7.977324</td>\n",
       "      <td>-500.255908</td>\n",
       "      <td>14.005551</td>\n",
       "      <td>-599.996129</td>\n",
       "    </tr>\n",
       "    <tr>\n",
       "      <th>4</th>\n",
       "      <td>2016-01-15 04:00:00</td>\n",
       "      <td>6.148599</td>\n",
       "      <td>10.142511</td>\n",
       "      <td>4.939416</td>\n",
       "      <td>42.774141</td>\n",
       "      <td>66.927016</td>\n",
       "      <td>10.360302</td>\n",
       "      <td>0.792826</td>\n",
       "      <td>16.525686</td>\n",
       "      <td>2.055292</td>\n",
       "      <td>...</td>\n",
       "      <td>14.027298</td>\n",
       "      <td>-499.838632</td>\n",
       "      <td>11.953070</td>\n",
       "      <td>-501.053894</td>\n",
       "      <td>9.925709</td>\n",
       "      <td>-501.686727</td>\n",
       "      <td>7.894242</td>\n",
       "      <td>-500.356035</td>\n",
       "      <td>13.996647</td>\n",
       "      <td>-601.496691</td>\n",
       "    </tr>\n",
       "    <tr>\n",
       "      <th>5</th>\n",
       "      <td>2016-01-15 05:00:00</td>\n",
       "      <td>6.482968</td>\n",
       "      <td>10.049416</td>\n",
       "      <td>5.480257</td>\n",
       "      <td>41.633678</td>\n",
       "      <td>69.465816</td>\n",
       "      <td>10.182708</td>\n",
       "      <td>0.664118</td>\n",
       "      <td>16.999638</td>\n",
       "      <td>1.918586</td>\n",
       "      <td>...</td>\n",
       "      <td>13.938497</td>\n",
       "      <td>-500.970168</td>\n",
       "      <td>11.883350</td>\n",
       "      <td>-500.395298</td>\n",
       "      <td>10.054147</td>\n",
       "      <td>-496.374715</td>\n",
       "      <td>7.965083</td>\n",
       "      <td>-499.364752</td>\n",
       "      <td>14.017067</td>\n",
       "      <td>-599.707915</td>\n",
       "    </tr>\n",
       "    <tr>\n",
       "      <th>6</th>\n",
       "      <td>2016-01-15 06:00:00</td>\n",
       "      <td>6.533849</td>\n",
       "      <td>10.058141</td>\n",
       "      <td>4.569100</td>\n",
       "      <td>41.995316</td>\n",
       "      <td>69.300835</td>\n",
       "      <td>10.304598</td>\n",
       "      <td>0.807342</td>\n",
       "      <td>16.723575</td>\n",
       "      <td>2.058913</td>\n",
       "      <td>...</td>\n",
       "      <td>14.046819</td>\n",
       "      <td>-500.971133</td>\n",
       "      <td>12.091543</td>\n",
       "      <td>-500.501426</td>\n",
       "      <td>10.003247</td>\n",
       "      <td>-497.083180</td>\n",
       "      <td>8.010890</td>\n",
       "      <td>-500.002423</td>\n",
       "      <td>14.029649</td>\n",
       "      <td>-600.905470</td>\n",
       "    </tr>\n",
       "    <tr>\n",
       "      <th>7</th>\n",
       "      <td>2016-01-15 07:00:00</td>\n",
       "      <td>6.130823</td>\n",
       "      <td>9.935481</td>\n",
       "      <td>4.389813</td>\n",
       "      <td>42.452727</td>\n",
       "      <td>70.230976</td>\n",
       "      <td>10.443288</td>\n",
       "      <td>0.949346</td>\n",
       "      <td>16.689959</td>\n",
       "      <td>2.143437</td>\n",
       "      <td>...</td>\n",
       "      <td>13.974691</td>\n",
       "      <td>-501.819696</td>\n",
       "      <td>12.101324</td>\n",
       "      <td>-500.583446</td>\n",
       "      <td>9.873169</td>\n",
       "      <td>-499.171928</td>\n",
       "      <td>7.993381</td>\n",
       "      <td>-499.794518</td>\n",
       "      <td>13.984498</td>\n",
       "      <td>-600.411070</td>\n",
       "    </tr>\n",
       "    <tr>\n",
       "      <th>8</th>\n",
       "      <td>2016-01-15 08:00:00</td>\n",
       "      <td>5.834140</td>\n",
       "      <td>10.071156</td>\n",
       "      <td>4.876389</td>\n",
       "      <td>43.404078</td>\n",
       "      <td>69.688595</td>\n",
       "      <td>10.420140</td>\n",
       "      <td>1.065453</td>\n",
       "      <td>17.201948</td>\n",
       "      <td>2.209881</td>\n",
       "      <td>...</td>\n",
       "      <td>13.964030</td>\n",
       "      <td>-504.252450</td>\n",
       "      <td>12.060738</td>\n",
       "      <td>-501.174549</td>\n",
       "      <td>10.033838</td>\n",
       "      <td>-501.178133</td>\n",
       "      <td>7.881604</td>\n",
       "      <td>-499.729434</td>\n",
       "      <td>13.967135</td>\n",
       "      <td>-599.061188</td>\n",
       "    </tr>\n",
       "    <tr>\n",
       "      <th>9</th>\n",
       "      <td>2016-01-15 09:00:00</td>\n",
       "      <td>5.687063</td>\n",
       "      <td>9.980404</td>\n",
       "      <td>5.282514</td>\n",
       "      <td>43.235220</td>\n",
       "      <td>70.279619</td>\n",
       "      <td>10.487013</td>\n",
       "      <td>1.159805</td>\n",
       "      <td>17.483979</td>\n",
       "      <td>2.209593</td>\n",
       "      <td>...</td>\n",
       "      <td>13.989632</td>\n",
       "      <td>-503.195299</td>\n",
       "      <td>12.052233</td>\n",
       "      <td>-500.928547</td>\n",
       "      <td>9.962574</td>\n",
       "      <td>-502.986357</td>\n",
       "      <td>7.979219</td>\n",
       "      <td>-500.146835</td>\n",
       "      <td>13.981614</td>\n",
       "      <td>-598.070855</td>\n",
       "    </tr>\n",
       "  </tbody>\n",
       "</table>\n",
       "<p>10 rows × 87 columns</p>\n",
       "</div>"
      ],
      "text/plain": [
       "                  date  final.output.concentrate_ag  \\\n",
       "0  2016-01-15 00:00:00                     6.055403   \n",
       "1  2016-01-15 01:00:00                     6.029369   \n",
       "2  2016-01-15 02:00:00                     6.055926   \n",
       "3  2016-01-15 03:00:00                     6.047977   \n",
       "4  2016-01-15 04:00:00                     6.148599   \n",
       "5  2016-01-15 05:00:00                     6.482968   \n",
       "6  2016-01-15 06:00:00                     6.533849   \n",
       "7  2016-01-15 07:00:00                     6.130823   \n",
       "8  2016-01-15 08:00:00                     5.834140   \n",
       "9  2016-01-15 09:00:00                     5.687063   \n",
       "\n",
       "   final.output.concentrate_pb  final.output.concentrate_sol  \\\n",
       "0                     9.889648                      5.507324   \n",
       "1                     9.968944                      5.257781   \n",
       "2                    10.213995                      5.383759   \n",
       "3                     9.977019                      4.858634   \n",
       "4                    10.142511                      4.939416   \n",
       "5                    10.049416                      5.480257   \n",
       "6                    10.058141                      4.569100   \n",
       "7                     9.935481                      4.389813   \n",
       "8                    10.071156                      4.876389   \n",
       "9                     9.980404                      5.282514   \n",
       "\n",
       "   final.output.concentrate_au  final.output.recovery  final.output.tail_ag  \\\n",
       "0                    42.192020              70.541216             10.411962   \n",
       "1                    42.701629              69.266198             10.462676   \n",
       "2                    42.657501              68.116445             10.507046   \n",
       "3                    42.689819              68.347543             10.422762   \n",
       "4                    42.774141              66.927016             10.360302   \n",
       "5                    41.633678              69.465816             10.182708   \n",
       "6                    41.995316              69.300835             10.304598   \n",
       "7                    42.452727              70.230976             10.443288   \n",
       "8                    43.404078              69.688595             10.420140   \n",
       "9                    43.235220              70.279619             10.487013   \n",
       "\n",
       "   final.output.tail_pb  final.output.tail_sol  final.output.tail_au  ...  \\\n",
       "0              0.895447              16.904297              2.143149  ...   \n",
       "1              0.927452              16.634514              2.224930  ...   \n",
       "2              0.953716              16.208849              2.257889  ...   \n",
       "3              0.883763              16.532835              2.146849  ...   \n",
       "4              0.792826              16.525686              2.055292  ...   \n",
       "5              0.664118              16.999638              1.918586  ...   \n",
       "6              0.807342              16.723575              2.058913  ...   \n",
       "7              0.949346              16.689959              2.143437  ...   \n",
       "8              1.065453              17.201948              2.209881  ...   \n",
       "9              1.159805              17.483979              2.209593  ...   \n",
       "\n",
       "   secondary_cleaner.state.floatbank4_a_air  \\\n",
       "0                                 14.016835   \n",
       "1                                 13.992281   \n",
       "2                                 14.015015   \n",
       "3                                 14.036510   \n",
       "4                                 14.027298   \n",
       "5                                 13.938497   \n",
       "6                                 14.046819   \n",
       "7                                 13.974691   \n",
       "8                                 13.964030   \n",
       "9                                 13.989632   \n",
       "\n",
       "   secondary_cleaner.state.floatbank4_a_level  \\\n",
       "0                                 -502.488007   \n",
       "1                                 -505.503262   \n",
       "2                                 -502.520901   \n",
       "3                                 -500.857308   \n",
       "4                                 -499.838632   \n",
       "5                                 -500.970168   \n",
       "6                                 -500.971133   \n",
       "7                                 -501.819696   \n",
       "8                                 -504.252450   \n",
       "9                                 -503.195299   \n",
       "\n",
       "   secondary_cleaner.state.floatbank4_b_air  \\\n",
       "0                                 12.099931   \n",
       "1                                 11.950531   \n",
       "2                                 11.912783   \n",
       "3                                 11.999550   \n",
       "4                                 11.953070   \n",
       "5                                 11.883350   \n",
       "6                                 12.091543   \n",
       "7                                 12.101324   \n",
       "8                                 12.060738   \n",
       "9                                 12.052233   \n",
       "\n",
       "   secondary_cleaner.state.floatbank4_b_level  \\\n",
       "0                                 -504.715942   \n",
       "1                                 -501.331529   \n",
       "2                                 -501.133383   \n",
       "3                                 -501.193686   \n",
       "4                                 -501.053894   \n",
       "5                                 -500.395298   \n",
       "6                                 -500.501426   \n",
       "7                                 -500.583446   \n",
       "8                                 -501.174549   \n",
       "9                                 -500.928547   \n",
       "\n",
       "   secondary_cleaner.state.floatbank5_a_air  \\\n",
       "0                                  9.925633   \n",
       "1                                 10.039245   \n",
       "2                                 10.070913   \n",
       "3                                  9.970366   \n",
       "4                                  9.925709   \n",
       "5                                 10.054147   \n",
       "6                                 10.003247   \n",
       "7                                  9.873169   \n",
       "8                                 10.033838   \n",
       "9                                  9.962574   \n",
       "\n",
       "   secondary_cleaner.state.floatbank5_a_level  \\\n",
       "0                                 -498.310211   \n",
       "1                                 -500.169983   \n",
       "2                                 -500.129135   \n",
       "3                                 -499.201640   \n",
       "4                                 -501.686727   \n",
       "5                                 -496.374715   \n",
       "6                                 -497.083180   \n",
       "7                                 -499.171928   \n",
       "8                                 -501.178133   \n",
       "9                                 -502.986357   \n",
       "\n",
       "   secondary_cleaner.state.floatbank5_b_air  \\\n",
       "0                                  8.079666   \n",
       "1                                  7.984757   \n",
       "2                                  8.013877   \n",
       "3                                  7.977324   \n",
       "4                                  7.894242   \n",
       "5                                  7.965083   \n",
       "6                                  8.010890   \n",
       "7                                  7.993381   \n",
       "8                                  7.881604   \n",
       "9                                  7.979219   \n",
       "\n",
       "   secondary_cleaner.state.floatbank5_b_level  \\\n",
       "0                                 -500.470978   \n",
       "1                                 -500.582168   \n",
       "2                                 -500.517572   \n",
       "3                                 -500.255908   \n",
       "4                                 -500.356035   \n",
       "5                                 -499.364752   \n",
       "6                                 -500.002423   \n",
       "7                                 -499.794518   \n",
       "8                                 -499.729434   \n",
       "9                                 -500.146835   \n",
       "\n",
       "   secondary_cleaner.state.floatbank6_a_air  \\\n",
       "0                                 14.151341   \n",
       "1                                 13.998353   \n",
       "2                                 14.028663   \n",
       "3                                 14.005551   \n",
       "4                                 13.996647   \n",
       "5                                 14.017067   \n",
       "6                                 14.029649   \n",
       "7                                 13.984498   \n",
       "8                                 13.967135   \n",
       "9                                 13.981614   \n",
       "\n",
       "   secondary_cleaner.state.floatbank6_a_level  \n",
       "0                                 -605.841980  \n",
       "1                                 -599.787184  \n",
       "2                                 -601.427363  \n",
       "3                                 -599.996129  \n",
       "4                                 -601.496691  \n",
       "5                                 -599.707915  \n",
       "6                                 -600.905470  \n",
       "7                                 -600.411070  \n",
       "8                                 -599.061188  \n",
       "9                                 -598.070855  \n",
       "\n",
       "[10 rows x 87 columns]"
      ]
     },
     "execution_count": 4,
     "metadata": {},
     "output_type": "execute_result"
    }
   ],
   "source": [
    "df_train.head(10)"
   ]
  },
  {
   "cell_type": "code",
   "execution_count": 5,
   "metadata": {},
   "outputs": [
    {
     "data": {
      "text/html": [
       "<div>\n",
       "<style scoped>\n",
       "    .dataframe tbody tr th:only-of-type {\n",
       "        vertical-align: middle;\n",
       "    }\n",
       "\n",
       "    .dataframe tbody tr th {\n",
       "        vertical-align: top;\n",
       "    }\n",
       "\n",
       "    .dataframe thead th {\n",
       "        text-align: right;\n",
       "    }\n",
       "</style>\n",
       "<table border=\"1\" class=\"dataframe\">\n",
       "  <thead>\n",
       "    <tr style=\"text-align: right;\">\n",
       "      <th></th>\n",
       "      <th>final.output.concentrate_ag</th>\n",
       "      <th>final.output.concentrate_pb</th>\n",
       "      <th>final.output.concentrate_sol</th>\n",
       "      <th>final.output.concentrate_au</th>\n",
       "      <th>final.output.recovery</th>\n",
       "      <th>final.output.tail_ag</th>\n",
       "      <th>final.output.tail_pb</th>\n",
       "      <th>final.output.tail_sol</th>\n",
       "      <th>final.output.tail_au</th>\n",
       "      <th>primary_cleaner.input.sulfate</th>\n",
       "      <th>...</th>\n",
       "      <th>secondary_cleaner.state.floatbank4_a_air</th>\n",
       "      <th>secondary_cleaner.state.floatbank4_a_level</th>\n",
       "      <th>secondary_cleaner.state.floatbank4_b_air</th>\n",
       "      <th>secondary_cleaner.state.floatbank4_b_level</th>\n",
       "      <th>secondary_cleaner.state.floatbank5_a_air</th>\n",
       "      <th>secondary_cleaner.state.floatbank5_a_level</th>\n",
       "      <th>secondary_cleaner.state.floatbank5_b_air</th>\n",
       "      <th>secondary_cleaner.state.floatbank5_b_level</th>\n",
       "      <th>secondary_cleaner.state.floatbank6_a_air</th>\n",
       "      <th>secondary_cleaner.state.floatbank6_a_level</th>\n",
       "    </tr>\n",
       "  </thead>\n",
       "  <tbody>\n",
       "    <tr>\n",
       "      <th>count</th>\n",
       "      <td>14148.000000</td>\n",
       "      <td>14148.000000</td>\n",
       "      <td>13938.000000</td>\n",
       "      <td>14149.000000</td>\n",
       "      <td>14149.000000</td>\n",
       "      <td>14149.000000</td>\n",
       "      <td>14049.000000</td>\n",
       "      <td>14144.000000</td>\n",
       "      <td>14149.000000</td>\n",
       "      <td>14129.000000</td>\n",
       "      <td>...</td>\n",
       "      <td>14143.000000</td>\n",
       "      <td>14148.000000</td>\n",
       "      <td>14148.000000</td>\n",
       "      <td>14148.000000</td>\n",
       "      <td>14148.000000</td>\n",
       "      <td>14148.000000</td>\n",
       "      <td>14148.000000</td>\n",
       "      <td>14148.000000</td>\n",
       "      <td>14147.000000</td>\n",
       "      <td>14148.000000</td>\n",
       "    </tr>\n",
       "    <tr>\n",
       "      <th>mean</th>\n",
       "      <td>5.142034</td>\n",
       "      <td>10.132960</td>\n",
       "      <td>9.202849</td>\n",
       "      <td>44.003792</td>\n",
       "      <td>66.518832</td>\n",
       "      <td>9.607035</td>\n",
       "      <td>2.597298</td>\n",
       "      <td>10.512122</td>\n",
       "      <td>2.918421</td>\n",
       "      <td>133.320659</td>\n",
       "      <td>...</td>\n",
       "      <td>19.985454</td>\n",
       "      <td>-478.696836</td>\n",
       "      <td>15.487065</td>\n",
       "      <td>-460.229416</td>\n",
       "      <td>16.775136</td>\n",
       "      <td>-483.956022</td>\n",
       "      <td>13.064590</td>\n",
       "      <td>-483.966564</td>\n",
       "      <td>19.577539</td>\n",
       "      <td>-506.798480</td>\n",
       "    </tr>\n",
       "    <tr>\n",
       "      <th>std</th>\n",
       "      <td>1.369586</td>\n",
       "      <td>1.654930</td>\n",
       "      <td>2.790516</td>\n",
       "      <td>4.905261</td>\n",
       "      <td>10.295402</td>\n",
       "      <td>2.319069</td>\n",
       "      <td>0.971843</td>\n",
       "      <td>3.003617</td>\n",
       "      <td>0.903712</td>\n",
       "      <td>39.431659</td>\n",
       "      <td>...</td>\n",
       "      <td>5.657723</td>\n",
       "      <td>50.736021</td>\n",
       "      <td>5.255655</td>\n",
       "      <td>58.843586</td>\n",
       "      <td>5.831906</td>\n",
       "      <td>37.892788</td>\n",
       "      <td>5.765617</td>\n",
       "      <td>39.207913</td>\n",
       "      <td>5.764417</td>\n",
       "      <td>37.079249</td>\n",
       "    </tr>\n",
       "    <tr>\n",
       "      <th>min</th>\n",
       "      <td>0.000000</td>\n",
       "      <td>0.000000</td>\n",
       "      <td>0.000000</td>\n",
       "      <td>0.000000</td>\n",
       "      <td>0.000000</td>\n",
       "      <td>0.000000</td>\n",
       "      <td>0.000000</td>\n",
       "      <td>0.000000</td>\n",
       "      <td>0.000000</td>\n",
       "      <td>0.003112</td>\n",
       "      <td>...</td>\n",
       "      <td>0.000000</td>\n",
       "      <td>-799.709069</td>\n",
       "      <td>0.000000</td>\n",
       "      <td>-799.889113</td>\n",
       "      <td>-0.372054</td>\n",
       "      <td>-797.142475</td>\n",
       "      <td>0.646208</td>\n",
       "      <td>-800.006180</td>\n",
       "      <td>0.195324</td>\n",
       "      <td>-809.398668</td>\n",
       "    </tr>\n",
       "    <tr>\n",
       "      <th>25%</th>\n",
       "      <td>4.211620</td>\n",
       "      <td>9.297355</td>\n",
       "      <td>7.484645</td>\n",
       "      <td>43.276111</td>\n",
       "      <td>62.545817</td>\n",
       "      <td>7.997429</td>\n",
       "      <td>1.905973</td>\n",
       "      <td>8.811324</td>\n",
       "      <td>2.368607</td>\n",
       "      <td>107.006651</td>\n",
       "      <td>...</td>\n",
       "      <td>14.990775</td>\n",
       "      <td>-500.628656</td>\n",
       "      <td>11.894558</td>\n",
       "      <td>-500.149000</td>\n",
       "      <td>11.083980</td>\n",
       "      <td>-500.363177</td>\n",
       "      <td>8.994405</td>\n",
       "      <td>-500.105994</td>\n",
       "      <td>14.989304</td>\n",
       "      <td>-500.745104</td>\n",
       "    </tr>\n",
       "    <tr>\n",
       "      <th>50%</th>\n",
       "      <td>4.994652</td>\n",
       "      <td>10.297144</td>\n",
       "      <td>8.845462</td>\n",
       "      <td>44.872436</td>\n",
       "      <td>67.432775</td>\n",
       "      <td>9.480270</td>\n",
       "      <td>2.592022</td>\n",
       "      <td>10.514621</td>\n",
       "      <td>2.851025</td>\n",
       "      <td>133.018328</td>\n",
       "      <td>...</td>\n",
       "      <td>20.001789</td>\n",
       "      <td>-499.681450</td>\n",
       "      <td>14.975536</td>\n",
       "      <td>-499.388738</td>\n",
       "      <td>17.932223</td>\n",
       "      <td>-499.702452</td>\n",
       "      <td>11.997547</td>\n",
       "      <td>-499.914556</td>\n",
       "      <td>19.984175</td>\n",
       "      <td>-500.061431</td>\n",
       "    </tr>\n",
       "    <tr>\n",
       "      <th>75%</th>\n",
       "      <td>5.859540</td>\n",
       "      <td>11.170603</td>\n",
       "      <td>10.487508</td>\n",
       "      <td>46.166425</td>\n",
       "      <td>72.346428</td>\n",
       "      <td>11.003707</td>\n",
       "      <td>3.241723</td>\n",
       "      <td>11.933009</td>\n",
       "      <td>3.434764</td>\n",
       "      <td>159.825396</td>\n",
       "      <td>...</td>\n",
       "      <td>24.990826</td>\n",
       "      <td>-477.472413</td>\n",
       "      <td>20.059375</td>\n",
       "      <td>-400.039008</td>\n",
       "      <td>21.346550</td>\n",
       "      <td>-487.712108</td>\n",
       "      <td>17.982903</td>\n",
       "      <td>-453.186936</td>\n",
       "      <td>24.991623</td>\n",
       "      <td>-499.536466</td>\n",
       "    </tr>\n",
       "    <tr>\n",
       "      <th>max</th>\n",
       "      <td>16.001945</td>\n",
       "      <td>17.031899</td>\n",
       "      <td>18.124851</td>\n",
       "      <td>52.756638</td>\n",
       "      <td>100.000000</td>\n",
       "      <td>19.552149</td>\n",
       "      <td>5.639565</td>\n",
       "      <td>22.317730</td>\n",
       "      <td>8.197408</td>\n",
       "      <td>250.127834</td>\n",
       "      <td>...</td>\n",
       "      <td>30.115735</td>\n",
       "      <td>-245.239184</td>\n",
       "      <td>24.007913</td>\n",
       "      <td>-145.071088</td>\n",
       "      <td>43.709931</td>\n",
       "      <td>-275.073125</td>\n",
       "      <td>27.926001</td>\n",
       "      <td>-157.396071</td>\n",
       "      <td>32.188906</td>\n",
       "      <td>-104.427459</td>\n",
       "    </tr>\n",
       "  </tbody>\n",
       "</table>\n",
       "<p>8 rows × 86 columns</p>\n",
       "</div>"
      ],
      "text/plain": [
       "       final.output.concentrate_ag  final.output.concentrate_pb  \\\n",
       "count                 14148.000000                 14148.000000   \n",
       "mean                      5.142034                    10.132960   \n",
       "std                       1.369586                     1.654930   \n",
       "min                       0.000000                     0.000000   \n",
       "25%                       4.211620                     9.297355   \n",
       "50%                       4.994652                    10.297144   \n",
       "75%                       5.859540                    11.170603   \n",
       "max                      16.001945                    17.031899   \n",
       "\n",
       "       final.output.concentrate_sol  final.output.concentrate_au  \\\n",
       "count                  13938.000000                 14149.000000   \n",
       "mean                       9.202849                    44.003792   \n",
       "std                        2.790516                     4.905261   \n",
       "min                        0.000000                     0.000000   \n",
       "25%                        7.484645                    43.276111   \n",
       "50%                        8.845462                    44.872436   \n",
       "75%                       10.487508                    46.166425   \n",
       "max                       18.124851                    52.756638   \n",
       "\n",
       "       final.output.recovery  final.output.tail_ag  final.output.tail_pb  \\\n",
       "count           14149.000000          14149.000000          14049.000000   \n",
       "mean               66.518832              9.607035              2.597298   \n",
       "std                10.295402              2.319069              0.971843   \n",
       "min                 0.000000              0.000000              0.000000   \n",
       "25%                62.545817              7.997429              1.905973   \n",
       "50%                67.432775              9.480270              2.592022   \n",
       "75%                72.346428             11.003707              3.241723   \n",
       "max               100.000000             19.552149              5.639565   \n",
       "\n",
       "       final.output.tail_sol  final.output.tail_au  \\\n",
       "count           14144.000000          14149.000000   \n",
       "mean               10.512122              2.918421   \n",
       "std                 3.003617              0.903712   \n",
       "min                 0.000000              0.000000   \n",
       "25%                 8.811324              2.368607   \n",
       "50%                10.514621              2.851025   \n",
       "75%                11.933009              3.434764   \n",
       "max                22.317730              8.197408   \n",
       "\n",
       "       primary_cleaner.input.sulfate  ...  \\\n",
       "count                   14129.000000  ...   \n",
       "mean                      133.320659  ...   \n",
       "std                        39.431659  ...   \n",
       "min                         0.003112  ...   \n",
       "25%                       107.006651  ...   \n",
       "50%                       133.018328  ...   \n",
       "75%                       159.825396  ...   \n",
       "max                       250.127834  ...   \n",
       "\n",
       "       secondary_cleaner.state.floatbank4_a_air  \\\n",
       "count                              14143.000000   \n",
       "mean                                  19.985454   \n",
       "std                                    5.657723   \n",
       "min                                    0.000000   \n",
       "25%                                   14.990775   \n",
       "50%                                   20.001789   \n",
       "75%                                   24.990826   \n",
       "max                                   30.115735   \n",
       "\n",
       "       secondary_cleaner.state.floatbank4_a_level  \\\n",
       "count                                14148.000000   \n",
       "mean                                  -478.696836   \n",
       "std                                     50.736021   \n",
       "min                                   -799.709069   \n",
       "25%                                   -500.628656   \n",
       "50%                                   -499.681450   \n",
       "75%                                   -477.472413   \n",
       "max                                   -245.239184   \n",
       "\n",
       "       secondary_cleaner.state.floatbank4_b_air  \\\n",
       "count                              14148.000000   \n",
       "mean                                  15.487065   \n",
       "std                                    5.255655   \n",
       "min                                    0.000000   \n",
       "25%                                   11.894558   \n",
       "50%                                   14.975536   \n",
       "75%                                   20.059375   \n",
       "max                                   24.007913   \n",
       "\n",
       "       secondary_cleaner.state.floatbank4_b_level  \\\n",
       "count                                14148.000000   \n",
       "mean                                  -460.229416   \n",
       "std                                     58.843586   \n",
       "min                                   -799.889113   \n",
       "25%                                   -500.149000   \n",
       "50%                                   -499.388738   \n",
       "75%                                   -400.039008   \n",
       "max                                   -145.071088   \n",
       "\n",
       "       secondary_cleaner.state.floatbank5_a_air  \\\n",
       "count                              14148.000000   \n",
       "mean                                  16.775136   \n",
       "std                                    5.831906   \n",
       "min                                   -0.372054   \n",
       "25%                                   11.083980   \n",
       "50%                                   17.932223   \n",
       "75%                                   21.346550   \n",
       "max                                   43.709931   \n",
       "\n",
       "       secondary_cleaner.state.floatbank5_a_level  \\\n",
       "count                                14148.000000   \n",
       "mean                                  -483.956022   \n",
       "std                                     37.892788   \n",
       "min                                   -797.142475   \n",
       "25%                                   -500.363177   \n",
       "50%                                   -499.702452   \n",
       "75%                                   -487.712108   \n",
       "max                                   -275.073125   \n",
       "\n",
       "       secondary_cleaner.state.floatbank5_b_air  \\\n",
       "count                              14148.000000   \n",
       "mean                                  13.064590   \n",
       "std                                    5.765617   \n",
       "min                                    0.646208   \n",
       "25%                                    8.994405   \n",
       "50%                                   11.997547   \n",
       "75%                                   17.982903   \n",
       "max                                   27.926001   \n",
       "\n",
       "       secondary_cleaner.state.floatbank5_b_level  \\\n",
       "count                                14148.000000   \n",
       "mean                                  -483.966564   \n",
       "std                                     39.207913   \n",
       "min                                   -800.006180   \n",
       "25%                                   -500.105994   \n",
       "50%                                   -499.914556   \n",
       "75%                                   -453.186936   \n",
       "max                                   -157.396071   \n",
       "\n",
       "       secondary_cleaner.state.floatbank6_a_air  \\\n",
       "count                              14147.000000   \n",
       "mean                                  19.577539   \n",
       "std                                    5.764417   \n",
       "min                                    0.195324   \n",
       "25%                                   14.989304   \n",
       "50%                                   19.984175   \n",
       "75%                                   24.991623   \n",
       "max                                   32.188906   \n",
       "\n",
       "       secondary_cleaner.state.floatbank6_a_level  \n",
       "count                                14148.000000  \n",
       "mean                                  -506.798480  \n",
       "std                                     37.079249  \n",
       "min                                   -809.398668  \n",
       "25%                                   -500.745104  \n",
       "50%                                   -500.061431  \n",
       "75%                                   -499.536466  \n",
       "max                                   -104.427459  \n",
       "\n",
       "[8 rows x 86 columns]"
      ]
     },
     "execution_count": 5,
     "metadata": {},
     "output_type": "execute_result"
    }
   ],
   "source": [
    "df_train.describe()"
   ]
  },
  {
   "cell_type": "code",
   "execution_count": 6,
   "metadata": {},
   "outputs": [
    {
     "data": {
      "text/plain": [
       "0"
      ]
     },
     "execution_count": 6,
     "metadata": {},
     "output_type": "execute_result"
    }
   ],
   "source": [
    "#\n",
    "df_train.duplicated().sum()"
   ]
  },
  {
   "cell_type": "code",
   "execution_count": 7,
   "metadata": {
    "scrolled": true
   },
   "outputs": [
    {
     "data": {
      "text/plain": [
       "date                                            0\n",
       "final.output.concentrate_ag                     1\n",
       "final.output.concentrate_pb                     1\n",
       "final.output.concentrate_sol                  211\n",
       "final.output.concentrate_au                     0\n",
       "                                             ... \n",
       "secondary_cleaner.state.floatbank5_a_level      1\n",
       "secondary_cleaner.state.floatbank5_b_air        1\n",
       "secondary_cleaner.state.floatbank5_b_level      1\n",
       "secondary_cleaner.state.floatbank6_a_air        2\n",
       "secondary_cleaner.state.floatbank6_a_level      1\n",
       "Length: 87, dtype: int64"
      ]
     },
     "execution_count": 7,
     "metadata": {},
     "output_type": "execute_result"
    }
   ],
   "source": [
    "#\n",
    "df_train.isna().sum()"
   ]
  },
  {
   "cell_type": "markdown",
   "metadata": {},
   "source": [
    "**Вывод:**\n",
    "1. В обучающей выборке 87 столбцов и 14149 строчек\n",
    "2. Много пропусков, которые позже удалим\n",
    "3. Отсутсвуют явные дубликаты\n",
    "4. Только в тип данных - date, но нужно будет перевсти в - datetime64, в остальных тип данных - float64"
   ]
  },
  {
   "cell_type": "markdown",
   "metadata": {},
   "source": [
    "#### Изучим данные второго датасета"
   ]
  },
  {
   "cell_type": "code",
   "execution_count": 8,
   "metadata": {
    "scrolled": true
   },
   "outputs": [
    {
     "name": "stdout",
     "output_type": "stream",
     "text": [
      "<class 'pandas.core.frame.DataFrame'>\n",
      "RangeIndex: 5290 entries, 0 to 5289\n",
      "Data columns (total 53 columns):\n",
      " #   Column                                      Non-Null Count  Dtype  \n",
      "---  ------                                      --------------  -----  \n",
      " 0   date                                        5290 non-null   object \n",
      " 1   primary_cleaner.input.sulfate               5286 non-null   float64\n",
      " 2   primary_cleaner.input.depressant            5285 non-null   float64\n",
      " 3   primary_cleaner.input.feed_size             5290 non-null   float64\n",
      " 4   primary_cleaner.input.xanthate              5286 non-null   float64\n",
      " 5   primary_cleaner.state.floatbank8_a_air      5290 non-null   float64\n",
      " 6   primary_cleaner.state.floatbank8_a_level    5290 non-null   float64\n",
      " 7   primary_cleaner.state.floatbank8_b_air      5290 non-null   float64\n",
      " 8   primary_cleaner.state.floatbank8_b_level    5290 non-null   float64\n",
      " 9   primary_cleaner.state.floatbank8_c_air      5290 non-null   float64\n",
      " 10  primary_cleaner.state.floatbank8_c_level    5290 non-null   float64\n",
      " 11  primary_cleaner.state.floatbank8_d_air      5290 non-null   float64\n",
      " 12  primary_cleaner.state.floatbank8_d_level    5290 non-null   float64\n",
      " 13  rougher.input.feed_ag                       5290 non-null   float64\n",
      " 14  rougher.input.feed_pb                       5290 non-null   float64\n",
      " 15  rougher.input.feed_rate                     5287 non-null   float64\n",
      " 16  rougher.input.feed_size                     5289 non-null   float64\n",
      " 17  rougher.input.feed_sol                      5269 non-null   float64\n",
      " 18  rougher.input.feed_au                       5290 non-null   float64\n",
      " 19  rougher.input.floatbank10_sulfate           5285 non-null   float64\n",
      " 20  rougher.input.floatbank10_xanthate          5290 non-null   float64\n",
      " 21  rougher.input.floatbank11_sulfate           5282 non-null   float64\n",
      " 22  rougher.input.floatbank11_xanthate          5265 non-null   float64\n",
      " 23  rougher.state.floatbank10_a_air             5290 non-null   float64\n",
      " 24  rougher.state.floatbank10_a_level           5290 non-null   float64\n",
      " 25  rougher.state.floatbank10_b_air             5290 non-null   float64\n",
      " 26  rougher.state.floatbank10_b_level           5290 non-null   float64\n",
      " 27  rougher.state.floatbank10_c_air             5290 non-null   float64\n",
      " 28  rougher.state.floatbank10_c_level           5290 non-null   float64\n",
      " 29  rougher.state.floatbank10_d_air             5290 non-null   float64\n",
      " 30  rougher.state.floatbank10_d_level           5290 non-null   float64\n",
      " 31  rougher.state.floatbank10_e_air             5290 non-null   float64\n",
      " 32  rougher.state.floatbank10_e_level           5290 non-null   float64\n",
      " 33  rougher.state.floatbank10_f_air             5290 non-null   float64\n",
      " 34  rougher.state.floatbank10_f_level           5290 non-null   float64\n",
      " 35  secondary_cleaner.state.floatbank2_a_air    5287 non-null   float64\n",
      " 36  secondary_cleaner.state.floatbank2_a_level  5290 non-null   float64\n",
      " 37  secondary_cleaner.state.floatbank2_b_air    5288 non-null   float64\n",
      " 38  secondary_cleaner.state.floatbank2_b_level  5290 non-null   float64\n",
      " 39  secondary_cleaner.state.floatbank3_a_air    5281 non-null   float64\n",
      " 40  secondary_cleaner.state.floatbank3_a_level  5290 non-null   float64\n",
      " 41  secondary_cleaner.state.floatbank3_b_air    5290 non-null   float64\n",
      " 42  secondary_cleaner.state.floatbank3_b_level  5290 non-null   float64\n",
      " 43  secondary_cleaner.state.floatbank4_a_air    5290 non-null   float64\n",
      " 44  secondary_cleaner.state.floatbank4_a_level  5290 non-null   float64\n",
      " 45  secondary_cleaner.state.floatbank4_b_air    5290 non-null   float64\n",
      " 46  secondary_cleaner.state.floatbank4_b_level  5290 non-null   float64\n",
      " 47  secondary_cleaner.state.floatbank5_a_air    5290 non-null   float64\n",
      " 48  secondary_cleaner.state.floatbank5_a_level  5290 non-null   float64\n",
      " 49  secondary_cleaner.state.floatbank5_b_air    5290 non-null   float64\n",
      " 50  secondary_cleaner.state.floatbank5_b_level  5290 non-null   float64\n",
      " 51  secondary_cleaner.state.floatbank6_a_air    5290 non-null   float64\n",
      " 52  secondary_cleaner.state.floatbank6_a_level  5290 non-null   float64\n",
      "dtypes: float64(52), object(1)\n",
      "memory usage: 2.1+ MB\n"
     ]
    }
   ],
   "source": [
    "df_test.info()"
   ]
  },
  {
   "cell_type": "code",
   "execution_count": 9,
   "metadata": {},
   "outputs": [
    {
     "data": {
      "text/html": [
       "<div>\n",
       "<style scoped>\n",
       "    .dataframe tbody tr th:only-of-type {\n",
       "        vertical-align: middle;\n",
       "    }\n",
       "\n",
       "    .dataframe tbody tr th {\n",
       "        vertical-align: top;\n",
       "    }\n",
       "\n",
       "    .dataframe thead th {\n",
       "        text-align: right;\n",
       "    }\n",
       "</style>\n",
       "<table border=\"1\" class=\"dataframe\">\n",
       "  <thead>\n",
       "    <tr style=\"text-align: right;\">\n",
       "      <th></th>\n",
       "      <th>primary_cleaner.input.sulfate</th>\n",
       "      <th>primary_cleaner.input.depressant</th>\n",
       "      <th>primary_cleaner.input.feed_size</th>\n",
       "      <th>primary_cleaner.input.xanthate</th>\n",
       "      <th>primary_cleaner.state.floatbank8_a_air</th>\n",
       "      <th>primary_cleaner.state.floatbank8_a_level</th>\n",
       "      <th>primary_cleaner.state.floatbank8_b_air</th>\n",
       "      <th>primary_cleaner.state.floatbank8_b_level</th>\n",
       "      <th>primary_cleaner.state.floatbank8_c_air</th>\n",
       "      <th>primary_cleaner.state.floatbank8_c_level</th>\n",
       "      <th>...</th>\n",
       "      <th>secondary_cleaner.state.floatbank4_a_air</th>\n",
       "      <th>secondary_cleaner.state.floatbank4_a_level</th>\n",
       "      <th>secondary_cleaner.state.floatbank4_b_air</th>\n",
       "      <th>secondary_cleaner.state.floatbank4_b_level</th>\n",
       "      <th>secondary_cleaner.state.floatbank5_a_air</th>\n",
       "      <th>secondary_cleaner.state.floatbank5_a_level</th>\n",
       "      <th>secondary_cleaner.state.floatbank5_b_air</th>\n",
       "      <th>secondary_cleaner.state.floatbank5_b_level</th>\n",
       "      <th>secondary_cleaner.state.floatbank6_a_air</th>\n",
       "      <th>secondary_cleaner.state.floatbank6_a_level</th>\n",
       "    </tr>\n",
       "  </thead>\n",
       "  <tbody>\n",
       "    <tr>\n",
       "      <th>count</th>\n",
       "      <td>5286.000000</td>\n",
       "      <td>5285.000000</td>\n",
       "      <td>5290.000000</td>\n",
       "      <td>5286.000000</td>\n",
       "      <td>5.290000e+03</td>\n",
       "      <td>5290.000000</td>\n",
       "      <td>5.290000e+03</td>\n",
       "      <td>5290.000000</td>\n",
       "      <td>5.290000e+03</td>\n",
       "      <td>5290.000000</td>\n",
       "      <td>...</td>\n",
       "      <td>5.290000e+03</td>\n",
       "      <td>5290.000000</td>\n",
       "      <td>5.290000e+03</td>\n",
       "      <td>5290.000000</td>\n",
       "      <td>5290.000000</td>\n",
       "      <td>5290.000000</td>\n",
       "      <td>5290.000000</td>\n",
       "      <td>5290.000000</td>\n",
       "      <td>5290.000000</td>\n",
       "      <td>5290.000000</td>\n",
       "    </tr>\n",
       "    <tr>\n",
       "      <th>mean</th>\n",
       "      <td>174.839652</td>\n",
       "      <td>8.683596</td>\n",
       "      <td>7.266339</td>\n",
       "      <td>1.383803</td>\n",
       "      <td>1.539494e+03</td>\n",
       "      <td>-497.665883</td>\n",
       "      <td>1.545174e+03</td>\n",
       "      <td>-500.273098</td>\n",
       "      <td>1.527272e+03</td>\n",
       "      <td>-498.330680</td>\n",
       "      <td>...</td>\n",
       "      <td>1.632007e+01</td>\n",
       "      <td>-505.144570</td>\n",
       "      <td>1.373544e+01</td>\n",
       "      <td>-463.349858</td>\n",
       "      <td>12.804186</td>\n",
       "      <td>-501.329122</td>\n",
       "      <td>9.881145</td>\n",
       "      <td>-495.663398</td>\n",
       "      <td>17.304935</td>\n",
       "      <td>-501.793193</td>\n",
       "    </tr>\n",
       "    <tr>\n",
       "      <th>std</th>\n",
       "      <td>43.027080</td>\n",
       "      <td>3.072050</td>\n",
       "      <td>0.610219</td>\n",
       "      <td>0.643474</td>\n",
       "      <td>1.167979e+02</td>\n",
       "      <td>19.952431</td>\n",
       "      <td>1.222246e+02</td>\n",
       "      <td>32.968307</td>\n",
       "      <td>1.225380e+02</td>\n",
       "      <td>21.964876</td>\n",
       "      <td>...</td>\n",
       "      <td>3.493583e+00</td>\n",
       "      <td>31.427337</td>\n",
       "      <td>3.430484e+00</td>\n",
       "      <td>86.189107</td>\n",
       "      <td>3.026591</td>\n",
       "      <td>17.951495</td>\n",
       "      <td>2.868205</td>\n",
       "      <td>34.535007</td>\n",
       "      <td>4.536544</td>\n",
       "      <td>39.044215</td>\n",
       "    </tr>\n",
       "    <tr>\n",
       "      <th>min</th>\n",
       "      <td>2.566156</td>\n",
       "      <td>0.003839</td>\n",
       "      <td>5.650000</td>\n",
       "      <td>0.004984</td>\n",
       "      <td>5.445860e-32</td>\n",
       "      <td>-795.316337</td>\n",
       "      <td>6.647490e-32</td>\n",
       "      <td>-799.997015</td>\n",
       "      <td>4.033736e-32</td>\n",
       "      <td>-799.960571</td>\n",
       "      <td>...</td>\n",
       "      <td>1.079872e-16</td>\n",
       "      <td>-799.798523</td>\n",
       "      <td>2.489718e-17</td>\n",
       "      <td>-800.836914</td>\n",
       "      <td>0.069227</td>\n",
       "      <td>-797.323986</td>\n",
       "      <td>0.528083</td>\n",
       "      <td>-800.220337</td>\n",
       "      <td>-0.079426</td>\n",
       "      <td>-809.741464</td>\n",
       "    </tr>\n",
       "    <tr>\n",
       "      <th>25%</th>\n",
       "      <td>147.121401</td>\n",
       "      <td>6.489555</td>\n",
       "      <td>6.890000</td>\n",
       "      <td>0.907623</td>\n",
       "      <td>1.498936e+03</td>\n",
       "      <td>-500.357298</td>\n",
       "      <td>1.498971e+03</td>\n",
       "      <td>-500.703002</td>\n",
       "      <td>1.473230e+03</td>\n",
       "      <td>-501.018117</td>\n",
       "      <td>...</td>\n",
       "      <td>1.403618e+01</td>\n",
       "      <td>-500.868258</td>\n",
       "      <td>1.202862e+01</td>\n",
       "      <td>-500.323028</td>\n",
       "      <td>10.914838</td>\n",
       "      <td>-500.726841</td>\n",
       "      <td>8.036719</td>\n",
       "      <td>-500.194668</td>\n",
       "      <td>13.997317</td>\n",
       "      <td>-500.690984</td>\n",
       "    </tr>\n",
       "    <tr>\n",
       "      <th>50%</th>\n",
       "      <td>177.828489</td>\n",
       "      <td>8.052207</td>\n",
       "      <td>7.250000</td>\n",
       "      <td>1.197610</td>\n",
       "      <td>1.585129e+03</td>\n",
       "      <td>-499.969164</td>\n",
       "      <td>1.595622e+03</td>\n",
       "      <td>-500.028514</td>\n",
       "      <td>1.549595e+03</td>\n",
       "      <td>-500.017711</td>\n",
       "      <td>...</td>\n",
       "      <td>1.700847e+01</td>\n",
       "      <td>-500.115727</td>\n",
       "      <td>1.496486e+01</td>\n",
       "      <td>-499.576513</td>\n",
       "      <td>12.954182</td>\n",
       "      <td>-499.990332</td>\n",
       "      <td>10.004301</td>\n",
       "      <td>-499.990535</td>\n",
       "      <td>16.014935</td>\n",
       "      <td>-500.007126</td>\n",
       "    </tr>\n",
       "    <tr>\n",
       "      <th>75%</th>\n",
       "      <td>208.125438</td>\n",
       "      <td>10.027764</td>\n",
       "      <td>7.600000</td>\n",
       "      <td>1.797819</td>\n",
       "      <td>1.602077e+03</td>\n",
       "      <td>-499.568951</td>\n",
       "      <td>1.602324e+03</td>\n",
       "      <td>-499.293257</td>\n",
       "      <td>1.601144e+03</td>\n",
       "      <td>-498.994130</td>\n",
       "      <td>...</td>\n",
       "      <td>1.803862e+01</td>\n",
       "      <td>-499.404224</td>\n",
       "      <td>1.596213e+01</td>\n",
       "      <td>-400.933805</td>\n",
       "      <td>15.097528</td>\n",
       "      <td>-499.283191</td>\n",
       "      <td>11.997467</td>\n",
       "      <td>-499.719913</td>\n",
       "      <td>21.020013</td>\n",
       "      <td>-499.373018</td>\n",
       "    </tr>\n",
       "    <tr>\n",
       "      <th>max</th>\n",
       "      <td>265.983123</td>\n",
       "      <td>40.000000</td>\n",
       "      <td>15.500000</td>\n",
       "      <td>4.102454</td>\n",
       "      <td>2.103104e+03</td>\n",
       "      <td>-57.195404</td>\n",
       "      <td>1.813084e+03</td>\n",
       "      <td>-142.527229</td>\n",
       "      <td>1.715054e+03</td>\n",
       "      <td>-150.937035</td>\n",
       "      <td>...</td>\n",
       "      <td>3.005180e+01</td>\n",
       "      <td>-401.565212</td>\n",
       "      <td>3.126971e+01</td>\n",
       "      <td>-6.506986</td>\n",
       "      <td>25.258848</td>\n",
       "      <td>-244.483566</td>\n",
       "      <td>14.086866</td>\n",
       "      <td>-137.740004</td>\n",
       "      <td>26.705889</td>\n",
       "      <td>-123.307487</td>\n",
       "    </tr>\n",
       "  </tbody>\n",
       "</table>\n",
       "<p>8 rows × 52 columns</p>\n",
       "</div>"
      ],
      "text/plain": [
       "       primary_cleaner.input.sulfate  primary_cleaner.input.depressant  \\\n",
       "count                    5286.000000                       5285.000000   \n",
       "mean                      174.839652                          8.683596   \n",
       "std                        43.027080                          3.072050   \n",
       "min                         2.566156                          0.003839   \n",
       "25%                       147.121401                          6.489555   \n",
       "50%                       177.828489                          8.052207   \n",
       "75%                       208.125438                         10.027764   \n",
       "max                       265.983123                         40.000000   \n",
       "\n",
       "       primary_cleaner.input.feed_size  primary_cleaner.input.xanthate  \\\n",
       "count                      5290.000000                     5286.000000   \n",
       "mean                          7.266339                        1.383803   \n",
       "std                           0.610219                        0.643474   \n",
       "min                           5.650000                        0.004984   \n",
       "25%                           6.890000                        0.907623   \n",
       "50%                           7.250000                        1.197610   \n",
       "75%                           7.600000                        1.797819   \n",
       "max                          15.500000                        4.102454   \n",
       "\n",
       "       primary_cleaner.state.floatbank8_a_air  \\\n",
       "count                            5.290000e+03   \n",
       "mean                             1.539494e+03   \n",
       "std                              1.167979e+02   \n",
       "min                              5.445860e-32   \n",
       "25%                              1.498936e+03   \n",
       "50%                              1.585129e+03   \n",
       "75%                              1.602077e+03   \n",
       "max                              2.103104e+03   \n",
       "\n",
       "       primary_cleaner.state.floatbank8_a_level  \\\n",
       "count                               5290.000000   \n",
       "mean                                -497.665883   \n",
       "std                                   19.952431   \n",
       "min                                 -795.316337   \n",
       "25%                                 -500.357298   \n",
       "50%                                 -499.969164   \n",
       "75%                                 -499.568951   \n",
       "max                                  -57.195404   \n",
       "\n",
       "       primary_cleaner.state.floatbank8_b_air  \\\n",
       "count                            5.290000e+03   \n",
       "mean                             1.545174e+03   \n",
       "std                              1.222246e+02   \n",
       "min                              6.647490e-32   \n",
       "25%                              1.498971e+03   \n",
       "50%                              1.595622e+03   \n",
       "75%                              1.602324e+03   \n",
       "max                              1.813084e+03   \n",
       "\n",
       "       primary_cleaner.state.floatbank8_b_level  \\\n",
       "count                               5290.000000   \n",
       "mean                                -500.273098   \n",
       "std                                   32.968307   \n",
       "min                                 -799.997015   \n",
       "25%                                 -500.703002   \n",
       "50%                                 -500.028514   \n",
       "75%                                 -499.293257   \n",
       "max                                 -142.527229   \n",
       "\n",
       "       primary_cleaner.state.floatbank8_c_air  \\\n",
       "count                            5.290000e+03   \n",
       "mean                             1.527272e+03   \n",
       "std                              1.225380e+02   \n",
       "min                              4.033736e-32   \n",
       "25%                              1.473230e+03   \n",
       "50%                              1.549595e+03   \n",
       "75%                              1.601144e+03   \n",
       "max                              1.715054e+03   \n",
       "\n",
       "       primary_cleaner.state.floatbank8_c_level  ...  \\\n",
       "count                               5290.000000  ...   \n",
       "mean                                -498.330680  ...   \n",
       "std                                   21.964876  ...   \n",
       "min                                 -799.960571  ...   \n",
       "25%                                 -501.018117  ...   \n",
       "50%                                 -500.017711  ...   \n",
       "75%                                 -498.994130  ...   \n",
       "max                                 -150.937035  ...   \n",
       "\n",
       "       secondary_cleaner.state.floatbank4_a_air  \\\n",
       "count                              5.290000e+03   \n",
       "mean                               1.632007e+01   \n",
       "std                                3.493583e+00   \n",
       "min                                1.079872e-16   \n",
       "25%                                1.403618e+01   \n",
       "50%                                1.700847e+01   \n",
       "75%                                1.803862e+01   \n",
       "max                                3.005180e+01   \n",
       "\n",
       "       secondary_cleaner.state.floatbank4_a_level  \\\n",
       "count                                 5290.000000   \n",
       "mean                                  -505.144570   \n",
       "std                                     31.427337   \n",
       "min                                   -799.798523   \n",
       "25%                                   -500.868258   \n",
       "50%                                   -500.115727   \n",
       "75%                                   -499.404224   \n",
       "max                                   -401.565212   \n",
       "\n",
       "       secondary_cleaner.state.floatbank4_b_air  \\\n",
       "count                              5.290000e+03   \n",
       "mean                               1.373544e+01   \n",
       "std                                3.430484e+00   \n",
       "min                                2.489718e-17   \n",
       "25%                                1.202862e+01   \n",
       "50%                                1.496486e+01   \n",
       "75%                                1.596213e+01   \n",
       "max                                3.126971e+01   \n",
       "\n",
       "       secondary_cleaner.state.floatbank4_b_level  \\\n",
       "count                                 5290.000000   \n",
       "mean                                  -463.349858   \n",
       "std                                     86.189107   \n",
       "min                                   -800.836914   \n",
       "25%                                   -500.323028   \n",
       "50%                                   -499.576513   \n",
       "75%                                   -400.933805   \n",
       "max                                     -6.506986   \n",
       "\n",
       "       secondary_cleaner.state.floatbank5_a_air  \\\n",
       "count                               5290.000000   \n",
       "mean                                  12.804186   \n",
       "std                                    3.026591   \n",
       "min                                    0.069227   \n",
       "25%                                   10.914838   \n",
       "50%                                   12.954182   \n",
       "75%                                   15.097528   \n",
       "max                                   25.258848   \n",
       "\n",
       "       secondary_cleaner.state.floatbank5_a_level  \\\n",
       "count                                 5290.000000   \n",
       "mean                                  -501.329122   \n",
       "std                                     17.951495   \n",
       "min                                   -797.323986   \n",
       "25%                                   -500.726841   \n",
       "50%                                   -499.990332   \n",
       "75%                                   -499.283191   \n",
       "max                                   -244.483566   \n",
       "\n",
       "       secondary_cleaner.state.floatbank5_b_air  \\\n",
       "count                               5290.000000   \n",
       "mean                                   9.881145   \n",
       "std                                    2.868205   \n",
       "min                                    0.528083   \n",
       "25%                                    8.036719   \n",
       "50%                                   10.004301   \n",
       "75%                                   11.997467   \n",
       "max                                   14.086866   \n",
       "\n",
       "       secondary_cleaner.state.floatbank5_b_level  \\\n",
       "count                                 5290.000000   \n",
       "mean                                  -495.663398   \n",
       "std                                     34.535007   \n",
       "min                                   -800.220337   \n",
       "25%                                   -500.194668   \n",
       "50%                                   -499.990535   \n",
       "75%                                   -499.719913   \n",
       "max                                   -137.740004   \n",
       "\n",
       "       secondary_cleaner.state.floatbank6_a_air  \\\n",
       "count                               5290.000000   \n",
       "mean                                  17.304935   \n",
       "std                                    4.536544   \n",
       "min                                   -0.079426   \n",
       "25%                                   13.997317   \n",
       "50%                                   16.014935   \n",
       "75%                                   21.020013   \n",
       "max                                   26.705889   \n",
       "\n",
       "       secondary_cleaner.state.floatbank6_a_level  \n",
       "count                                 5290.000000  \n",
       "mean                                  -501.793193  \n",
       "std                                     39.044215  \n",
       "min                                   -809.741464  \n",
       "25%                                   -500.690984  \n",
       "50%                                   -500.007126  \n",
       "75%                                   -499.373018  \n",
       "max                                   -123.307487  \n",
       "\n",
       "[8 rows x 52 columns]"
      ]
     },
     "execution_count": 9,
     "metadata": {},
     "output_type": "execute_result"
    }
   ],
   "source": [
    "df_test.describe()"
   ]
  },
  {
   "cell_type": "code",
   "execution_count": 10,
   "metadata": {
    "scrolled": true
   },
   "outputs": [
    {
     "data": {
      "text/html": [
       "<div>\n",
       "<style scoped>\n",
       "    .dataframe tbody tr th:only-of-type {\n",
       "        vertical-align: middle;\n",
       "    }\n",
       "\n",
       "    .dataframe tbody tr th {\n",
       "        vertical-align: top;\n",
       "    }\n",
       "\n",
       "    .dataframe thead th {\n",
       "        text-align: right;\n",
       "    }\n",
       "</style>\n",
       "<table border=\"1\" class=\"dataframe\">\n",
       "  <thead>\n",
       "    <tr style=\"text-align: right;\">\n",
       "      <th></th>\n",
       "      <th>date</th>\n",
       "      <th>primary_cleaner.input.sulfate</th>\n",
       "      <th>primary_cleaner.input.depressant</th>\n",
       "      <th>primary_cleaner.input.feed_size</th>\n",
       "      <th>primary_cleaner.input.xanthate</th>\n",
       "      <th>primary_cleaner.state.floatbank8_a_air</th>\n",
       "      <th>primary_cleaner.state.floatbank8_a_level</th>\n",
       "      <th>primary_cleaner.state.floatbank8_b_air</th>\n",
       "      <th>primary_cleaner.state.floatbank8_b_level</th>\n",
       "      <th>primary_cleaner.state.floatbank8_c_air</th>\n",
       "      <th>...</th>\n",
       "      <th>secondary_cleaner.state.floatbank4_a_air</th>\n",
       "      <th>secondary_cleaner.state.floatbank4_a_level</th>\n",
       "      <th>secondary_cleaner.state.floatbank4_b_air</th>\n",
       "      <th>secondary_cleaner.state.floatbank4_b_level</th>\n",
       "      <th>secondary_cleaner.state.floatbank5_a_air</th>\n",
       "      <th>secondary_cleaner.state.floatbank5_a_level</th>\n",
       "      <th>secondary_cleaner.state.floatbank5_b_air</th>\n",
       "      <th>secondary_cleaner.state.floatbank5_b_level</th>\n",
       "      <th>secondary_cleaner.state.floatbank6_a_air</th>\n",
       "      <th>secondary_cleaner.state.floatbank6_a_level</th>\n",
       "    </tr>\n",
       "  </thead>\n",
       "  <tbody>\n",
       "    <tr>\n",
       "      <th>0</th>\n",
       "      <td>2016-09-01 00:59:59</td>\n",
       "      <td>210.800909</td>\n",
       "      <td>14.993118</td>\n",
       "      <td>8.080000</td>\n",
       "      <td>1.005021</td>\n",
       "      <td>1398.981301</td>\n",
       "      <td>-500.225577</td>\n",
       "      <td>1399.144926</td>\n",
       "      <td>-499.919735</td>\n",
       "      <td>1400.102998</td>\n",
       "      <td>...</td>\n",
       "      <td>12.023554</td>\n",
       "      <td>-497.795834</td>\n",
       "      <td>8.016656</td>\n",
       "      <td>-501.289139</td>\n",
       "      <td>7.946562</td>\n",
       "      <td>-432.317850</td>\n",
       "      <td>4.872511</td>\n",
       "      <td>-500.037437</td>\n",
       "      <td>26.705889</td>\n",
       "      <td>-499.709414</td>\n",
       "    </tr>\n",
       "    <tr>\n",
       "      <th>1</th>\n",
       "      <td>2016-09-01 01:59:59</td>\n",
       "      <td>215.392455</td>\n",
       "      <td>14.987471</td>\n",
       "      <td>8.080000</td>\n",
       "      <td>0.990469</td>\n",
       "      <td>1398.777912</td>\n",
       "      <td>-500.057435</td>\n",
       "      <td>1398.055362</td>\n",
       "      <td>-499.778182</td>\n",
       "      <td>1396.151033</td>\n",
       "      <td>...</td>\n",
       "      <td>12.058140</td>\n",
       "      <td>-498.695773</td>\n",
       "      <td>8.130979</td>\n",
       "      <td>-499.634209</td>\n",
       "      <td>7.958270</td>\n",
       "      <td>-525.839648</td>\n",
       "      <td>4.878850</td>\n",
       "      <td>-500.162375</td>\n",
       "      <td>25.019940</td>\n",
       "      <td>-499.819438</td>\n",
       "    </tr>\n",
       "    <tr>\n",
       "      <th>2</th>\n",
       "      <td>2016-09-01 02:59:59</td>\n",
       "      <td>215.259946</td>\n",
       "      <td>12.884934</td>\n",
       "      <td>7.786667</td>\n",
       "      <td>0.996043</td>\n",
       "      <td>1398.493666</td>\n",
       "      <td>-500.868360</td>\n",
       "      <td>1398.860436</td>\n",
       "      <td>-499.764529</td>\n",
       "      <td>1398.075709</td>\n",
       "      <td>...</td>\n",
       "      <td>11.962366</td>\n",
       "      <td>-498.767484</td>\n",
       "      <td>8.096893</td>\n",
       "      <td>-500.827423</td>\n",
       "      <td>8.071056</td>\n",
       "      <td>-500.801673</td>\n",
       "      <td>4.905125</td>\n",
       "      <td>-499.828510</td>\n",
       "      <td>24.994862</td>\n",
       "      <td>-500.622559</td>\n",
       "    </tr>\n",
       "    <tr>\n",
       "      <th>3</th>\n",
       "      <td>2016-09-01 03:59:59</td>\n",
       "      <td>215.336236</td>\n",
       "      <td>12.006805</td>\n",
       "      <td>7.640000</td>\n",
       "      <td>0.863514</td>\n",
       "      <td>1399.618111</td>\n",
       "      <td>-498.863574</td>\n",
       "      <td>1397.440120</td>\n",
       "      <td>-499.211024</td>\n",
       "      <td>1400.129303</td>\n",
       "      <td>...</td>\n",
       "      <td>12.033091</td>\n",
       "      <td>-498.350935</td>\n",
       "      <td>8.074946</td>\n",
       "      <td>-499.474407</td>\n",
       "      <td>7.897085</td>\n",
       "      <td>-500.868509</td>\n",
       "      <td>4.931400</td>\n",
       "      <td>-499.963623</td>\n",
       "      <td>24.948919</td>\n",
       "      <td>-498.709987</td>\n",
       "    </tr>\n",
       "    <tr>\n",
       "      <th>4</th>\n",
       "      <td>2016-09-01 04:59:59</td>\n",
       "      <td>199.099327</td>\n",
       "      <td>10.682530</td>\n",
       "      <td>7.530000</td>\n",
       "      <td>0.805575</td>\n",
       "      <td>1401.268123</td>\n",
       "      <td>-500.808305</td>\n",
       "      <td>1398.128818</td>\n",
       "      <td>-499.504543</td>\n",
       "      <td>1402.172226</td>\n",
       "      <td>...</td>\n",
       "      <td>12.025367</td>\n",
       "      <td>-500.786497</td>\n",
       "      <td>8.054678</td>\n",
       "      <td>-500.397500</td>\n",
       "      <td>8.107890</td>\n",
       "      <td>-509.526725</td>\n",
       "      <td>4.957674</td>\n",
       "      <td>-500.360026</td>\n",
       "      <td>25.003331</td>\n",
       "      <td>-500.856333</td>\n",
       "    </tr>\n",
       "    <tr>\n",
       "      <th>5</th>\n",
       "      <td>2016-09-01 05:59:59</td>\n",
       "      <td>168.485085</td>\n",
       "      <td>8.817007</td>\n",
       "      <td>7.420000</td>\n",
       "      <td>0.791191</td>\n",
       "      <td>1402.826803</td>\n",
       "      <td>-499.299521</td>\n",
       "      <td>1401.511119</td>\n",
       "      <td>-499.205357</td>\n",
       "      <td>1404.088107</td>\n",
       "      <td>...</td>\n",
       "      <td>12.029797</td>\n",
       "      <td>-499.814895</td>\n",
       "      <td>8.036586</td>\n",
       "      <td>-500.371492</td>\n",
       "      <td>8.041446</td>\n",
       "      <td>-510.037054</td>\n",
       "      <td>4.983949</td>\n",
       "      <td>-499.990990</td>\n",
       "      <td>24.978973</td>\n",
       "      <td>-500.475640</td>\n",
       "    </tr>\n",
       "    <tr>\n",
       "      <th>6</th>\n",
       "      <td>2016-09-01 06:59:59</td>\n",
       "      <td>144.133440</td>\n",
       "      <td>7.924610</td>\n",
       "      <td>7.420000</td>\n",
       "      <td>0.788838</td>\n",
       "      <td>1398.252401</td>\n",
       "      <td>-499.748672</td>\n",
       "      <td>1393.255503</td>\n",
       "      <td>-499.195380</td>\n",
       "      <td>1396.738566</td>\n",
       "      <td>...</td>\n",
       "      <td>12.026296</td>\n",
       "      <td>-499.473127</td>\n",
       "      <td>8.027984</td>\n",
       "      <td>-500.983079</td>\n",
       "      <td>7.907340</td>\n",
       "      <td>-507.964971</td>\n",
       "      <td>5.010224</td>\n",
       "      <td>-500.043697</td>\n",
       "      <td>25.040709</td>\n",
       "      <td>-499.501984</td>\n",
       "    </tr>\n",
       "    <tr>\n",
       "      <th>7</th>\n",
       "      <td>2016-09-01 07:59:59</td>\n",
       "      <td>133.513396</td>\n",
       "      <td>8.055252</td>\n",
       "      <td>6.988000</td>\n",
       "      <td>0.801871</td>\n",
       "      <td>1401.669677</td>\n",
       "      <td>-501.777839</td>\n",
       "      <td>1400.754446</td>\n",
       "      <td>-502.514024</td>\n",
       "      <td>1400.465244</td>\n",
       "      <td>...</td>\n",
       "      <td>12.040911</td>\n",
       "      <td>-501.293852</td>\n",
       "      <td>8.020490</td>\n",
       "      <td>-499.185229</td>\n",
       "      <td>8.116897</td>\n",
       "      <td>-511.927561</td>\n",
       "      <td>5.036498</td>\n",
       "      <td>-500.149615</td>\n",
       "      <td>25.032580</td>\n",
       "      <td>-503.970657</td>\n",
       "    </tr>\n",
       "    <tr>\n",
       "      <th>8</th>\n",
       "      <td>2016-09-01 08:59:59</td>\n",
       "      <td>133.735356</td>\n",
       "      <td>7.999618</td>\n",
       "      <td>6.935000</td>\n",
       "      <td>0.789329</td>\n",
       "      <td>1402.358981</td>\n",
       "      <td>-499.981597</td>\n",
       "      <td>1400.985954</td>\n",
       "      <td>-496.802968</td>\n",
       "      <td>1401.168584</td>\n",
       "      <td>...</td>\n",
       "      <td>11.998184</td>\n",
       "      <td>-499.481608</td>\n",
       "      <td>8.012610</td>\n",
       "      <td>-500.896783</td>\n",
       "      <td>7.974422</td>\n",
       "      <td>-521.199104</td>\n",
       "      <td>5.061599</td>\n",
       "      <td>-499.791519</td>\n",
       "      <td>25.005063</td>\n",
       "      <td>-497.613716</td>\n",
       "    </tr>\n",
       "    <tr>\n",
       "      <th>9</th>\n",
       "      <td>2016-09-01 09:59:59</td>\n",
       "      <td>126.961069</td>\n",
       "      <td>8.017856</td>\n",
       "      <td>7.030000</td>\n",
       "      <td>0.805298</td>\n",
       "      <td>1400.816120</td>\n",
       "      <td>-499.014158</td>\n",
       "      <td>1399.975401</td>\n",
       "      <td>-499.570552</td>\n",
       "      <td>1401.871924</td>\n",
       "      <td>...</td>\n",
       "      <td>12.040725</td>\n",
       "      <td>-499.987743</td>\n",
       "      <td>7.989503</td>\n",
       "      <td>-499.750625</td>\n",
       "      <td>7.989710</td>\n",
       "      <td>-509.946737</td>\n",
       "      <td>5.068811</td>\n",
       "      <td>-499.293900</td>\n",
       "      <td>24.992741</td>\n",
       "      <td>-499.272255</td>\n",
       "    </tr>\n",
       "  </tbody>\n",
       "</table>\n",
       "<p>10 rows × 53 columns</p>\n",
       "</div>"
      ],
      "text/plain": [
       "                  date  primary_cleaner.input.sulfate  \\\n",
       "0  2016-09-01 00:59:59                     210.800909   \n",
       "1  2016-09-01 01:59:59                     215.392455   \n",
       "2  2016-09-01 02:59:59                     215.259946   \n",
       "3  2016-09-01 03:59:59                     215.336236   \n",
       "4  2016-09-01 04:59:59                     199.099327   \n",
       "5  2016-09-01 05:59:59                     168.485085   \n",
       "6  2016-09-01 06:59:59                     144.133440   \n",
       "7  2016-09-01 07:59:59                     133.513396   \n",
       "8  2016-09-01 08:59:59                     133.735356   \n",
       "9  2016-09-01 09:59:59                     126.961069   \n",
       "\n",
       "   primary_cleaner.input.depressant  primary_cleaner.input.feed_size  \\\n",
       "0                         14.993118                         8.080000   \n",
       "1                         14.987471                         8.080000   \n",
       "2                         12.884934                         7.786667   \n",
       "3                         12.006805                         7.640000   \n",
       "4                         10.682530                         7.530000   \n",
       "5                          8.817007                         7.420000   \n",
       "6                          7.924610                         7.420000   \n",
       "7                          8.055252                         6.988000   \n",
       "8                          7.999618                         6.935000   \n",
       "9                          8.017856                         7.030000   \n",
       "\n",
       "   primary_cleaner.input.xanthate  primary_cleaner.state.floatbank8_a_air  \\\n",
       "0                        1.005021                             1398.981301   \n",
       "1                        0.990469                             1398.777912   \n",
       "2                        0.996043                             1398.493666   \n",
       "3                        0.863514                             1399.618111   \n",
       "4                        0.805575                             1401.268123   \n",
       "5                        0.791191                             1402.826803   \n",
       "6                        0.788838                             1398.252401   \n",
       "7                        0.801871                             1401.669677   \n",
       "8                        0.789329                             1402.358981   \n",
       "9                        0.805298                             1400.816120   \n",
       "\n",
       "   primary_cleaner.state.floatbank8_a_level  \\\n",
       "0                               -500.225577   \n",
       "1                               -500.057435   \n",
       "2                               -500.868360   \n",
       "3                               -498.863574   \n",
       "4                               -500.808305   \n",
       "5                               -499.299521   \n",
       "6                               -499.748672   \n",
       "7                               -501.777839   \n",
       "8                               -499.981597   \n",
       "9                               -499.014158   \n",
       "\n",
       "   primary_cleaner.state.floatbank8_b_air  \\\n",
       "0                             1399.144926   \n",
       "1                             1398.055362   \n",
       "2                             1398.860436   \n",
       "3                             1397.440120   \n",
       "4                             1398.128818   \n",
       "5                             1401.511119   \n",
       "6                             1393.255503   \n",
       "7                             1400.754446   \n",
       "8                             1400.985954   \n",
       "9                             1399.975401   \n",
       "\n",
       "   primary_cleaner.state.floatbank8_b_level  \\\n",
       "0                               -499.919735   \n",
       "1                               -499.778182   \n",
       "2                               -499.764529   \n",
       "3                               -499.211024   \n",
       "4                               -499.504543   \n",
       "5                               -499.205357   \n",
       "6                               -499.195380   \n",
       "7                               -502.514024   \n",
       "8                               -496.802968   \n",
       "9                               -499.570552   \n",
       "\n",
       "   primary_cleaner.state.floatbank8_c_air  ...  \\\n",
       "0                             1400.102998  ...   \n",
       "1                             1396.151033  ...   \n",
       "2                             1398.075709  ...   \n",
       "3                             1400.129303  ...   \n",
       "4                             1402.172226  ...   \n",
       "5                             1404.088107  ...   \n",
       "6                             1396.738566  ...   \n",
       "7                             1400.465244  ...   \n",
       "8                             1401.168584  ...   \n",
       "9                             1401.871924  ...   \n",
       "\n",
       "   secondary_cleaner.state.floatbank4_a_air  \\\n",
       "0                                 12.023554   \n",
       "1                                 12.058140   \n",
       "2                                 11.962366   \n",
       "3                                 12.033091   \n",
       "4                                 12.025367   \n",
       "5                                 12.029797   \n",
       "6                                 12.026296   \n",
       "7                                 12.040911   \n",
       "8                                 11.998184   \n",
       "9                                 12.040725   \n",
       "\n",
       "   secondary_cleaner.state.floatbank4_a_level  \\\n",
       "0                                 -497.795834   \n",
       "1                                 -498.695773   \n",
       "2                                 -498.767484   \n",
       "3                                 -498.350935   \n",
       "4                                 -500.786497   \n",
       "5                                 -499.814895   \n",
       "6                                 -499.473127   \n",
       "7                                 -501.293852   \n",
       "8                                 -499.481608   \n",
       "9                                 -499.987743   \n",
       "\n",
       "   secondary_cleaner.state.floatbank4_b_air  \\\n",
       "0                                  8.016656   \n",
       "1                                  8.130979   \n",
       "2                                  8.096893   \n",
       "3                                  8.074946   \n",
       "4                                  8.054678   \n",
       "5                                  8.036586   \n",
       "6                                  8.027984   \n",
       "7                                  8.020490   \n",
       "8                                  8.012610   \n",
       "9                                  7.989503   \n",
       "\n",
       "   secondary_cleaner.state.floatbank4_b_level  \\\n",
       "0                                 -501.289139   \n",
       "1                                 -499.634209   \n",
       "2                                 -500.827423   \n",
       "3                                 -499.474407   \n",
       "4                                 -500.397500   \n",
       "5                                 -500.371492   \n",
       "6                                 -500.983079   \n",
       "7                                 -499.185229   \n",
       "8                                 -500.896783   \n",
       "9                                 -499.750625   \n",
       "\n",
       "   secondary_cleaner.state.floatbank5_a_air  \\\n",
       "0                                  7.946562   \n",
       "1                                  7.958270   \n",
       "2                                  8.071056   \n",
       "3                                  7.897085   \n",
       "4                                  8.107890   \n",
       "5                                  8.041446   \n",
       "6                                  7.907340   \n",
       "7                                  8.116897   \n",
       "8                                  7.974422   \n",
       "9                                  7.989710   \n",
       "\n",
       "   secondary_cleaner.state.floatbank5_a_level  \\\n",
       "0                                 -432.317850   \n",
       "1                                 -525.839648   \n",
       "2                                 -500.801673   \n",
       "3                                 -500.868509   \n",
       "4                                 -509.526725   \n",
       "5                                 -510.037054   \n",
       "6                                 -507.964971   \n",
       "7                                 -511.927561   \n",
       "8                                 -521.199104   \n",
       "9                                 -509.946737   \n",
       "\n",
       "   secondary_cleaner.state.floatbank5_b_air  \\\n",
       "0                                  4.872511   \n",
       "1                                  4.878850   \n",
       "2                                  4.905125   \n",
       "3                                  4.931400   \n",
       "4                                  4.957674   \n",
       "5                                  4.983949   \n",
       "6                                  5.010224   \n",
       "7                                  5.036498   \n",
       "8                                  5.061599   \n",
       "9                                  5.068811   \n",
       "\n",
       "   secondary_cleaner.state.floatbank5_b_level  \\\n",
       "0                                 -500.037437   \n",
       "1                                 -500.162375   \n",
       "2                                 -499.828510   \n",
       "3                                 -499.963623   \n",
       "4                                 -500.360026   \n",
       "5                                 -499.990990   \n",
       "6                                 -500.043697   \n",
       "7                                 -500.149615   \n",
       "8                                 -499.791519   \n",
       "9                                 -499.293900   \n",
       "\n",
       "   secondary_cleaner.state.floatbank6_a_air  \\\n",
       "0                                 26.705889   \n",
       "1                                 25.019940   \n",
       "2                                 24.994862   \n",
       "3                                 24.948919   \n",
       "4                                 25.003331   \n",
       "5                                 24.978973   \n",
       "6                                 25.040709   \n",
       "7                                 25.032580   \n",
       "8                                 25.005063   \n",
       "9                                 24.992741   \n",
       "\n",
       "   secondary_cleaner.state.floatbank6_a_level  \n",
       "0                                 -499.709414  \n",
       "1                                 -499.819438  \n",
       "2                                 -500.622559  \n",
       "3                                 -498.709987  \n",
       "4                                 -500.856333  \n",
       "5                                 -500.475640  \n",
       "6                                 -499.501984  \n",
       "7                                 -503.970657  \n",
       "8                                 -497.613716  \n",
       "9                                 -499.272255  \n",
       "\n",
       "[10 rows x 53 columns]"
      ]
     },
     "execution_count": 10,
     "metadata": {},
     "output_type": "execute_result"
    }
   ],
   "source": [
    "df_test.head(10)"
   ]
  },
  {
   "cell_type": "code",
   "execution_count": 11,
   "metadata": {},
   "outputs": [
    {
     "data": {
      "text/plain": [
       "0"
      ]
     },
     "execution_count": 11,
     "metadata": {},
     "output_type": "execute_result"
    }
   ],
   "source": [
    "df_test.duplicated().sum()"
   ]
  },
  {
   "cell_type": "code",
   "execution_count": 12,
   "metadata": {
    "scrolled": true
   },
   "outputs": [
    {
     "data": {
      "text/plain": [
       "date                                           0\n",
       "primary_cleaner.input.sulfate                  4\n",
       "primary_cleaner.input.depressant               5\n",
       "primary_cleaner.input.feed_size                0\n",
       "primary_cleaner.input.xanthate                 4\n",
       "primary_cleaner.state.floatbank8_a_air         0\n",
       "primary_cleaner.state.floatbank8_a_level       0\n",
       "primary_cleaner.state.floatbank8_b_air         0\n",
       "primary_cleaner.state.floatbank8_b_level       0\n",
       "primary_cleaner.state.floatbank8_c_air         0\n",
       "primary_cleaner.state.floatbank8_c_level       0\n",
       "primary_cleaner.state.floatbank8_d_air         0\n",
       "primary_cleaner.state.floatbank8_d_level       0\n",
       "rougher.input.feed_ag                          0\n",
       "rougher.input.feed_pb                          0\n",
       "rougher.input.feed_rate                        3\n",
       "rougher.input.feed_size                        1\n",
       "rougher.input.feed_sol                        21\n",
       "rougher.input.feed_au                          0\n",
       "rougher.input.floatbank10_sulfate              5\n",
       "rougher.input.floatbank10_xanthate             0\n",
       "rougher.input.floatbank11_sulfate              8\n",
       "rougher.input.floatbank11_xanthate            25\n",
       "rougher.state.floatbank10_a_air                0\n",
       "rougher.state.floatbank10_a_level              0\n",
       "rougher.state.floatbank10_b_air                0\n",
       "rougher.state.floatbank10_b_level              0\n",
       "rougher.state.floatbank10_c_air                0\n",
       "rougher.state.floatbank10_c_level              0\n",
       "rougher.state.floatbank10_d_air                0\n",
       "rougher.state.floatbank10_d_level              0\n",
       "rougher.state.floatbank10_e_air                0\n",
       "rougher.state.floatbank10_e_level              0\n",
       "rougher.state.floatbank10_f_air                0\n",
       "rougher.state.floatbank10_f_level              0\n",
       "secondary_cleaner.state.floatbank2_a_air       3\n",
       "secondary_cleaner.state.floatbank2_a_level     0\n",
       "secondary_cleaner.state.floatbank2_b_air       2\n",
       "secondary_cleaner.state.floatbank2_b_level     0\n",
       "secondary_cleaner.state.floatbank3_a_air       9\n",
       "secondary_cleaner.state.floatbank3_a_level     0\n",
       "secondary_cleaner.state.floatbank3_b_air       0\n",
       "secondary_cleaner.state.floatbank3_b_level     0\n",
       "secondary_cleaner.state.floatbank4_a_air       0\n",
       "secondary_cleaner.state.floatbank4_a_level     0\n",
       "secondary_cleaner.state.floatbank4_b_air       0\n",
       "secondary_cleaner.state.floatbank4_b_level     0\n",
       "secondary_cleaner.state.floatbank5_a_air       0\n",
       "secondary_cleaner.state.floatbank5_a_level     0\n",
       "secondary_cleaner.state.floatbank5_b_air       0\n",
       "secondary_cleaner.state.floatbank5_b_level     0\n",
       "secondary_cleaner.state.floatbank6_a_air       0\n",
       "secondary_cleaner.state.floatbank6_a_level     0\n",
       "dtype: int64"
      ]
     },
     "execution_count": 12,
     "metadata": {},
     "output_type": "execute_result"
    }
   ],
   "source": [
    "df_test.isna().sum()"
   ]
  },
  {
   "cell_type": "markdown",
   "metadata": {},
   "source": [
    "**Вывод:**\n",
    "1. В тестовой выборке 53 столбцов и 5290 строчек\n",
    "2. Пропусков намного меньше, уберем их похже\n",
    "3. Отсутсвуют явные дубликаты\n",
    "4. Только в тип данных - date, но нужно будет перевсти в - datetime64, в остальных тип данных - float64"
   ]
  },
  {
   "cell_type": "markdown",
   "metadata": {},
   "source": [
    "#### Изучим данные второго датасета"
   ]
  },
  {
   "cell_type": "code",
   "execution_count": 13,
   "metadata": {
    "scrolled": true
   },
   "outputs": [
    {
     "name": "stdout",
     "output_type": "stream",
     "text": [
      "<class 'pandas.core.frame.DataFrame'>\n",
      "RangeIndex: 19439 entries, 0 to 19438\n",
      "Data columns (total 87 columns):\n",
      " #   Column                                              Non-Null Count  Dtype  \n",
      "---  ------                                              --------------  -----  \n",
      " 0   date                                                19439 non-null  object \n",
      " 1   final.output.concentrate_ag                         19438 non-null  float64\n",
      " 2   final.output.concentrate_pb                         19438 non-null  float64\n",
      " 3   final.output.concentrate_sol                        19228 non-null  float64\n",
      " 4   final.output.concentrate_au                         19439 non-null  float64\n",
      " 5   final.output.recovery                               19439 non-null  float64\n",
      " 6   final.output.tail_ag                                19438 non-null  float64\n",
      " 7   final.output.tail_pb                                19338 non-null  float64\n",
      " 8   final.output.tail_sol                               19433 non-null  float64\n",
      " 9   final.output.tail_au                                19439 non-null  float64\n",
      " 10  primary_cleaner.input.sulfate                       19415 non-null  float64\n",
      " 11  primary_cleaner.input.depressant                    19402 non-null  float64\n",
      " 12  primary_cleaner.input.feed_size                     19439 non-null  float64\n",
      " 13  primary_cleaner.input.xanthate                      19335 non-null  float64\n",
      " 14  primary_cleaner.output.concentrate_ag               19439 non-null  float64\n",
      " 15  primary_cleaner.output.concentrate_pb               19323 non-null  float64\n",
      " 16  primary_cleaner.output.concentrate_sol              19069 non-null  float64\n",
      " 17  primary_cleaner.output.concentrate_au               19439 non-null  float64\n",
      " 18  primary_cleaner.output.tail_ag                      19435 non-null  float64\n",
      " 19  primary_cleaner.output.tail_pb                      19418 non-null  float64\n",
      " 20  primary_cleaner.output.tail_sol                     19377 non-null  float64\n",
      " 21  primary_cleaner.output.tail_au                      19439 non-null  float64\n",
      " 22  primary_cleaner.state.floatbank8_a_air              19435 non-null  float64\n",
      " 23  primary_cleaner.state.floatbank8_a_level            19438 non-null  float64\n",
      " 24  primary_cleaner.state.floatbank8_b_air              19435 non-null  float64\n",
      " 25  primary_cleaner.state.floatbank8_b_level            19438 non-null  float64\n",
      " 26  primary_cleaner.state.floatbank8_c_air              19437 non-null  float64\n",
      " 27  primary_cleaner.state.floatbank8_c_level            19438 non-null  float64\n",
      " 28  primary_cleaner.state.floatbank8_d_air              19436 non-null  float64\n",
      " 29  primary_cleaner.state.floatbank8_d_level            19438 non-null  float64\n",
      " 30  rougher.calculation.sulfate_to_au_concentrate       19437 non-null  float64\n",
      " 31  rougher.calculation.floatbank10_sulfate_to_au_feed  19437 non-null  float64\n",
      " 32  rougher.calculation.floatbank11_sulfate_to_au_feed  19437 non-null  float64\n",
      " 33  rougher.calculation.au_pb_ratio                     19439 non-null  float64\n",
      " 34  rougher.input.feed_ag                               19439 non-null  float64\n",
      " 35  rougher.input.feed_pb                               19339 non-null  float64\n",
      " 36  rougher.input.feed_rate                             19428 non-null  float64\n",
      " 37  rougher.input.feed_size                             19294 non-null  float64\n",
      " 38  rougher.input.feed_sol                              19340 non-null  float64\n",
      " 39  rougher.input.feed_au                               19439 non-null  float64\n",
      " 40  rougher.input.floatbank10_sulfate                   19405 non-null  float64\n",
      " 41  rougher.input.floatbank10_xanthate                  19431 non-null  float64\n",
      " 42  rougher.input.floatbank11_sulfate                   19395 non-null  float64\n",
      " 43  rougher.input.floatbank11_xanthate                  18986 non-null  float64\n",
      " 44  rougher.output.concentrate_ag                       19439 non-null  float64\n",
      " 45  rougher.output.concentrate_pb                       19439 non-null  float64\n",
      " 46  rougher.output.concentrate_sol                      19416 non-null  float64\n",
      " 47  rougher.output.concentrate_au                       19439 non-null  float64\n",
      " 48  rougher.output.recovery                             19439 non-null  float64\n",
      " 49  rougher.output.tail_ag                              19438 non-null  float64\n",
      " 50  rougher.output.tail_pb                              19439 non-null  float64\n",
      " 51  rougher.output.tail_sol                             19439 non-null  float64\n",
      " 52  rougher.output.tail_au                              19439 non-null  float64\n",
      " 53  rougher.state.floatbank10_a_air                     19438 non-null  float64\n",
      " 54  rougher.state.floatbank10_a_level                   19438 non-null  float64\n",
      " 55  rougher.state.floatbank10_b_air                     19438 non-null  float64\n",
      " 56  rougher.state.floatbank10_b_level                   19438 non-null  float64\n",
      " 57  rougher.state.floatbank10_c_air                     19438 non-null  float64\n",
      " 58  rougher.state.floatbank10_c_level                   19438 non-null  float64\n",
      " 59  rougher.state.floatbank10_d_air                     19439 non-null  float64\n",
      " 60  rougher.state.floatbank10_d_level                   19439 non-null  float64\n",
      " 61  rougher.state.floatbank10_e_air                     19003 non-null  float64\n",
      " 62  rougher.state.floatbank10_e_level                   19439 non-null  float64\n",
      " 63  rougher.state.floatbank10_f_air                     19439 non-null  float64\n",
      " 64  rougher.state.floatbank10_f_level                   19439 non-null  float64\n",
      " 65  secondary_cleaner.output.tail_ag                    19437 non-null  float64\n",
      " 66  secondary_cleaner.output.tail_pb                    19427 non-null  float64\n",
      " 67  secondary_cleaner.output.tail_sol                   17691 non-null  float64\n",
      " 68  secondary_cleaner.output.tail_au                    19439 non-null  float64\n",
      " 69  secondary_cleaner.state.floatbank2_a_air            19219 non-null  float64\n",
      " 70  secondary_cleaner.state.floatbank2_a_level          19438 non-null  float64\n",
      " 71  secondary_cleaner.state.floatbank2_b_air            19416 non-null  float64\n",
      " 72  secondary_cleaner.state.floatbank2_b_level          19438 non-null  float64\n",
      " 73  secondary_cleaner.state.floatbank3_a_air            19426 non-null  float64\n",
      " 74  secondary_cleaner.state.floatbank3_a_level          19438 non-null  float64\n",
      " 75  secondary_cleaner.state.floatbank3_b_air            19438 non-null  float64\n",
      " 76  secondary_cleaner.state.floatbank3_b_level          19438 non-null  float64\n",
      " 77  secondary_cleaner.state.floatbank4_a_air            19433 non-null  float64\n",
      " 78  secondary_cleaner.state.floatbank4_a_level          19438 non-null  float64\n",
      " 79  secondary_cleaner.state.floatbank4_b_air            19438 non-null  float64\n",
      " 80  secondary_cleaner.state.floatbank4_b_level          19438 non-null  float64\n",
      " 81  secondary_cleaner.state.floatbank5_a_air            19438 non-null  float64\n",
      " 82  secondary_cleaner.state.floatbank5_a_level          19438 non-null  float64\n",
      " 83  secondary_cleaner.state.floatbank5_b_air            19438 non-null  float64\n",
      " 84  secondary_cleaner.state.floatbank5_b_level          19438 non-null  float64\n",
      " 85  secondary_cleaner.state.floatbank6_a_air            19437 non-null  float64\n",
      " 86  secondary_cleaner.state.floatbank6_a_level          19438 non-null  float64\n",
      "dtypes: float64(86), object(1)\n",
      "memory usage: 12.9+ MB\n"
     ]
    }
   ],
   "source": [
    "df_full.info()"
   ]
  },
  {
   "cell_type": "code",
   "execution_count": 14,
   "metadata": {},
   "outputs": [
    {
     "data": {
      "text/html": [
       "<div>\n",
       "<style scoped>\n",
       "    .dataframe tbody tr th:only-of-type {\n",
       "        vertical-align: middle;\n",
       "    }\n",
       "\n",
       "    .dataframe tbody tr th {\n",
       "        vertical-align: top;\n",
       "    }\n",
       "\n",
       "    .dataframe thead th {\n",
       "        text-align: right;\n",
       "    }\n",
       "</style>\n",
       "<table border=\"1\" class=\"dataframe\">\n",
       "  <thead>\n",
       "    <tr style=\"text-align: right;\">\n",
       "      <th></th>\n",
       "      <th>final.output.concentrate_ag</th>\n",
       "      <th>final.output.concentrate_pb</th>\n",
       "      <th>final.output.concentrate_sol</th>\n",
       "      <th>final.output.concentrate_au</th>\n",
       "      <th>final.output.recovery</th>\n",
       "      <th>final.output.tail_ag</th>\n",
       "      <th>final.output.tail_pb</th>\n",
       "      <th>final.output.tail_sol</th>\n",
       "      <th>final.output.tail_au</th>\n",
       "      <th>primary_cleaner.input.sulfate</th>\n",
       "      <th>...</th>\n",
       "      <th>secondary_cleaner.state.floatbank4_a_air</th>\n",
       "      <th>secondary_cleaner.state.floatbank4_a_level</th>\n",
       "      <th>secondary_cleaner.state.floatbank4_b_air</th>\n",
       "      <th>secondary_cleaner.state.floatbank4_b_level</th>\n",
       "      <th>secondary_cleaner.state.floatbank5_a_air</th>\n",
       "      <th>secondary_cleaner.state.floatbank5_a_level</th>\n",
       "      <th>secondary_cleaner.state.floatbank5_b_air</th>\n",
       "      <th>secondary_cleaner.state.floatbank5_b_level</th>\n",
       "      <th>secondary_cleaner.state.floatbank6_a_air</th>\n",
       "      <th>secondary_cleaner.state.floatbank6_a_level</th>\n",
       "    </tr>\n",
       "  </thead>\n",
       "  <tbody>\n",
       "    <tr>\n",
       "      <th>count</th>\n",
       "      <td>19438.000000</td>\n",
       "      <td>19438.000000</td>\n",
       "      <td>19228.000000</td>\n",
       "      <td>19439.000000</td>\n",
       "      <td>19439.000000</td>\n",
       "      <td>19438.000000</td>\n",
       "      <td>19338.000000</td>\n",
       "      <td>19433.000000</td>\n",
       "      <td>19439.000000</td>\n",
       "      <td>19415.000000</td>\n",
       "      <td>...</td>\n",
       "      <td>19433.000000</td>\n",
       "      <td>19438.000000</td>\n",
       "      <td>19438.000000</td>\n",
       "      <td>19438.000000</td>\n",
       "      <td>19438.000000</td>\n",
       "      <td>19438.000000</td>\n",
       "      <td>19438.000000</td>\n",
       "      <td>19438.000000</td>\n",
       "      <td>19437.000000</td>\n",
       "      <td>19438.000000</td>\n",
       "    </tr>\n",
       "    <tr>\n",
       "      <th>mean</th>\n",
       "      <td>5.168470</td>\n",
       "      <td>9.978895</td>\n",
       "      <td>9.501224</td>\n",
       "      <td>44.076513</td>\n",
       "      <td>67.050208</td>\n",
       "      <td>9.688589</td>\n",
       "      <td>2.705795</td>\n",
       "      <td>10.583728</td>\n",
       "      <td>3.042467</td>\n",
       "      <td>144.624774</td>\n",
       "      <td>...</td>\n",
       "      <td>18.987674</td>\n",
       "      <td>-485.894516</td>\n",
       "      <td>15.010366</td>\n",
       "      <td>-461.078636</td>\n",
       "      <td>15.694452</td>\n",
       "      <td>-488.684065</td>\n",
       "      <td>12.198224</td>\n",
       "      <td>-487.149827</td>\n",
       "      <td>18.959024</td>\n",
       "      <td>-505.436305</td>\n",
       "    </tr>\n",
       "    <tr>\n",
       "      <th>std</th>\n",
       "      <td>1.372348</td>\n",
       "      <td>1.669240</td>\n",
       "      <td>2.787537</td>\n",
       "      <td>5.129784</td>\n",
       "      <td>10.125840</td>\n",
       "      <td>2.328642</td>\n",
       "      <td>0.949077</td>\n",
       "      <td>2.868782</td>\n",
       "      <td>0.922808</td>\n",
       "      <td>44.464071</td>\n",
       "      <td>...</td>\n",
       "      <td>5.411058</td>\n",
       "      <td>47.758570</td>\n",
       "      <td>4.890228</td>\n",
       "      <td>67.405524</td>\n",
       "      <td>5.510974</td>\n",
       "      <td>34.533396</td>\n",
       "      <td>5.333024</td>\n",
       "      <td>38.347312</td>\n",
       "      <td>5.550498</td>\n",
       "      <td>37.689057</td>\n",
       "    </tr>\n",
       "    <tr>\n",
       "      <th>min</th>\n",
       "      <td>0.000000</td>\n",
       "      <td>0.000000</td>\n",
       "      <td>0.000000</td>\n",
       "      <td>0.000000</td>\n",
       "      <td>0.000000</td>\n",
       "      <td>0.000000</td>\n",
       "      <td>0.000000</td>\n",
       "      <td>0.000000</td>\n",
       "      <td>0.000000</td>\n",
       "      <td>0.003112</td>\n",
       "      <td>...</td>\n",
       "      <td>0.000000</td>\n",
       "      <td>-799.798523</td>\n",
       "      <td>0.000000</td>\n",
       "      <td>-800.836914</td>\n",
       "      <td>-0.372054</td>\n",
       "      <td>-797.323986</td>\n",
       "      <td>0.528083</td>\n",
       "      <td>-800.220337</td>\n",
       "      <td>-0.079426</td>\n",
       "      <td>-809.741464</td>\n",
       "    </tr>\n",
       "    <tr>\n",
       "      <th>25%</th>\n",
       "      <td>4.251240</td>\n",
       "      <td>9.137262</td>\n",
       "      <td>7.722820</td>\n",
       "      <td>43.402215</td>\n",
       "      <td>63.299712</td>\n",
       "      <td>8.062878</td>\n",
       "      <td>2.040119</td>\n",
       "      <td>8.938947</td>\n",
       "      <td>2.461138</td>\n",
       "      <td>114.107029</td>\n",
       "      <td>...</td>\n",
       "      <td>14.975734</td>\n",
       "      <td>-500.704892</td>\n",
       "      <td>11.940294</td>\n",
       "      <td>-500.187742</td>\n",
       "      <td>10.988606</td>\n",
       "      <td>-500.458467</td>\n",
       "      <td>8.971105</td>\n",
       "      <td>-500.129462</td>\n",
       "      <td>14.983037</td>\n",
       "      <td>-500.728067</td>\n",
       "    </tr>\n",
       "    <tr>\n",
       "      <th>50%</th>\n",
       "      <td>5.066094</td>\n",
       "      <td>10.102433</td>\n",
       "      <td>9.218961</td>\n",
       "      <td>45.011244</td>\n",
       "      <td>68.172738</td>\n",
       "      <td>9.743623</td>\n",
       "      <td>2.748730</td>\n",
       "      <td>10.622456</td>\n",
       "      <td>2.984909</td>\n",
       "      <td>143.232103</td>\n",
       "      <td>...</td>\n",
       "      <td>18.017481</td>\n",
       "      <td>-499.837793</td>\n",
       "      <td>14.971014</td>\n",
       "      <td>-499.459786</td>\n",
       "      <td>15.000036</td>\n",
       "      <td>-499.802605</td>\n",
       "      <td>11.019433</td>\n",
       "      <td>-499.935317</td>\n",
       "      <td>19.960541</td>\n",
       "      <td>-500.048400</td>\n",
       "    </tr>\n",
       "    <tr>\n",
       "      <th>75%</th>\n",
       "      <td>5.895527</td>\n",
       "      <td>11.035769</td>\n",
       "      <td>10.947813</td>\n",
       "      <td>46.275313</td>\n",
       "      <td>72.686642</td>\n",
       "      <td>11.134294</td>\n",
       "      <td>3.333216</td>\n",
       "      <td>12.104271</td>\n",
       "      <td>3.571351</td>\n",
       "      <td>175.075656</td>\n",
       "      <td>...</td>\n",
       "      <td>23.012470</td>\n",
       "      <td>-498.249730</td>\n",
       "      <td>19.034162</td>\n",
       "      <td>-400.118106</td>\n",
       "      <td>18.026190</td>\n",
       "      <td>-498.384187</td>\n",
       "      <td>14.019088</td>\n",
       "      <td>-499.436708</td>\n",
       "      <td>24.003170</td>\n",
       "      <td>-499.495378</td>\n",
       "    </tr>\n",
       "    <tr>\n",
       "      <th>max</th>\n",
       "      <td>16.001945</td>\n",
       "      <td>17.031899</td>\n",
       "      <td>19.615720</td>\n",
       "      <td>52.756638</td>\n",
       "      <td>100.000000</td>\n",
       "      <td>19.552149</td>\n",
       "      <td>5.804178</td>\n",
       "      <td>22.317730</td>\n",
       "      <td>8.245022</td>\n",
       "      <td>265.983123</td>\n",
       "      <td>...</td>\n",
       "      <td>30.115735</td>\n",
       "      <td>-245.239184</td>\n",
       "      <td>31.269706</td>\n",
       "      <td>-6.506986</td>\n",
       "      <td>43.709931</td>\n",
       "      <td>-244.483566</td>\n",
       "      <td>27.926001</td>\n",
       "      <td>-137.740004</td>\n",
       "      <td>32.188906</td>\n",
       "      <td>-104.427459</td>\n",
       "    </tr>\n",
       "  </tbody>\n",
       "</table>\n",
       "<p>8 rows × 86 columns</p>\n",
       "</div>"
      ],
      "text/plain": [
       "       final.output.concentrate_ag  final.output.concentrate_pb  \\\n",
       "count                 19438.000000                 19438.000000   \n",
       "mean                      5.168470                     9.978895   \n",
       "std                       1.372348                     1.669240   \n",
       "min                       0.000000                     0.000000   \n",
       "25%                       4.251240                     9.137262   \n",
       "50%                       5.066094                    10.102433   \n",
       "75%                       5.895527                    11.035769   \n",
       "max                      16.001945                    17.031899   \n",
       "\n",
       "       final.output.concentrate_sol  final.output.concentrate_au  \\\n",
       "count                  19228.000000                 19439.000000   \n",
       "mean                       9.501224                    44.076513   \n",
       "std                        2.787537                     5.129784   \n",
       "min                        0.000000                     0.000000   \n",
       "25%                        7.722820                    43.402215   \n",
       "50%                        9.218961                    45.011244   \n",
       "75%                       10.947813                    46.275313   \n",
       "max                       19.615720                    52.756638   \n",
       "\n",
       "       final.output.recovery  final.output.tail_ag  final.output.tail_pb  \\\n",
       "count           19439.000000          19438.000000          19338.000000   \n",
       "mean               67.050208              9.688589              2.705795   \n",
       "std                10.125840              2.328642              0.949077   \n",
       "min                 0.000000              0.000000              0.000000   \n",
       "25%                63.299712              8.062878              2.040119   \n",
       "50%                68.172738              9.743623              2.748730   \n",
       "75%                72.686642             11.134294              3.333216   \n",
       "max               100.000000             19.552149              5.804178   \n",
       "\n",
       "       final.output.tail_sol  final.output.tail_au  \\\n",
       "count           19433.000000          19439.000000   \n",
       "mean               10.583728              3.042467   \n",
       "std                 2.868782              0.922808   \n",
       "min                 0.000000              0.000000   \n",
       "25%                 8.938947              2.461138   \n",
       "50%                10.622456              2.984909   \n",
       "75%                12.104271              3.571351   \n",
       "max                22.317730              8.245022   \n",
       "\n",
       "       primary_cleaner.input.sulfate  ...  \\\n",
       "count                   19415.000000  ...   \n",
       "mean                      144.624774  ...   \n",
       "std                        44.464071  ...   \n",
       "min                         0.003112  ...   \n",
       "25%                       114.107029  ...   \n",
       "50%                       143.232103  ...   \n",
       "75%                       175.075656  ...   \n",
       "max                       265.983123  ...   \n",
       "\n",
       "       secondary_cleaner.state.floatbank4_a_air  \\\n",
       "count                              19433.000000   \n",
       "mean                                  18.987674   \n",
       "std                                    5.411058   \n",
       "min                                    0.000000   \n",
       "25%                                   14.975734   \n",
       "50%                                   18.017481   \n",
       "75%                                   23.012470   \n",
       "max                                   30.115735   \n",
       "\n",
       "       secondary_cleaner.state.floatbank4_a_level  \\\n",
       "count                                19438.000000   \n",
       "mean                                  -485.894516   \n",
       "std                                     47.758570   \n",
       "min                                   -799.798523   \n",
       "25%                                   -500.704892   \n",
       "50%                                   -499.837793   \n",
       "75%                                   -498.249730   \n",
       "max                                   -245.239184   \n",
       "\n",
       "       secondary_cleaner.state.floatbank4_b_air  \\\n",
       "count                              19438.000000   \n",
       "mean                                  15.010366   \n",
       "std                                    4.890228   \n",
       "min                                    0.000000   \n",
       "25%                                   11.940294   \n",
       "50%                                   14.971014   \n",
       "75%                                   19.034162   \n",
       "max                                   31.269706   \n",
       "\n",
       "       secondary_cleaner.state.floatbank4_b_level  \\\n",
       "count                                19438.000000   \n",
       "mean                                  -461.078636   \n",
       "std                                     67.405524   \n",
       "min                                   -800.836914   \n",
       "25%                                   -500.187742   \n",
       "50%                                   -499.459786   \n",
       "75%                                   -400.118106   \n",
       "max                                     -6.506986   \n",
       "\n",
       "       secondary_cleaner.state.floatbank5_a_air  \\\n",
       "count                              19438.000000   \n",
       "mean                                  15.694452   \n",
       "std                                    5.510974   \n",
       "min                                   -0.372054   \n",
       "25%                                   10.988606   \n",
       "50%                                   15.000036   \n",
       "75%                                   18.026190   \n",
       "max                                   43.709931   \n",
       "\n",
       "       secondary_cleaner.state.floatbank5_a_level  \\\n",
       "count                                19438.000000   \n",
       "mean                                  -488.684065   \n",
       "std                                     34.533396   \n",
       "min                                   -797.323986   \n",
       "25%                                   -500.458467   \n",
       "50%                                   -499.802605   \n",
       "75%                                   -498.384187   \n",
       "max                                   -244.483566   \n",
       "\n",
       "       secondary_cleaner.state.floatbank5_b_air  \\\n",
       "count                              19438.000000   \n",
       "mean                                  12.198224   \n",
       "std                                    5.333024   \n",
       "min                                    0.528083   \n",
       "25%                                    8.971105   \n",
       "50%                                   11.019433   \n",
       "75%                                   14.019088   \n",
       "max                                   27.926001   \n",
       "\n",
       "       secondary_cleaner.state.floatbank5_b_level  \\\n",
       "count                                19438.000000   \n",
       "mean                                  -487.149827   \n",
       "std                                     38.347312   \n",
       "min                                   -800.220337   \n",
       "25%                                   -500.129462   \n",
       "50%                                   -499.935317   \n",
       "75%                                   -499.436708   \n",
       "max                                   -137.740004   \n",
       "\n",
       "       secondary_cleaner.state.floatbank6_a_air  \\\n",
       "count                              19437.000000   \n",
       "mean                                  18.959024   \n",
       "std                                    5.550498   \n",
       "min                                   -0.079426   \n",
       "25%                                   14.983037   \n",
       "50%                                   19.960541   \n",
       "75%                                   24.003170   \n",
       "max                                   32.188906   \n",
       "\n",
       "       secondary_cleaner.state.floatbank6_a_level  \n",
       "count                                19438.000000  \n",
       "mean                                  -505.436305  \n",
       "std                                     37.689057  \n",
       "min                                   -809.741464  \n",
       "25%                                   -500.728067  \n",
       "50%                                   -500.048400  \n",
       "75%                                   -499.495378  \n",
       "max                                   -104.427459  \n",
       "\n",
       "[8 rows x 86 columns]"
      ]
     },
     "execution_count": 14,
     "metadata": {},
     "output_type": "execute_result"
    }
   ],
   "source": [
    "df_full.describe()"
   ]
  },
  {
   "cell_type": "code",
   "execution_count": 15,
   "metadata": {},
   "outputs": [
    {
     "data": {
      "text/html": [
       "<div>\n",
       "<style scoped>\n",
       "    .dataframe tbody tr th:only-of-type {\n",
       "        vertical-align: middle;\n",
       "    }\n",
       "\n",
       "    .dataframe tbody tr th {\n",
       "        vertical-align: top;\n",
       "    }\n",
       "\n",
       "    .dataframe thead th {\n",
       "        text-align: right;\n",
       "    }\n",
       "</style>\n",
       "<table border=\"1\" class=\"dataframe\">\n",
       "  <thead>\n",
       "    <tr style=\"text-align: right;\">\n",
       "      <th></th>\n",
       "      <th>date</th>\n",
       "      <th>final.output.concentrate_ag</th>\n",
       "      <th>final.output.concentrate_pb</th>\n",
       "      <th>final.output.concentrate_sol</th>\n",
       "      <th>final.output.concentrate_au</th>\n",
       "      <th>final.output.recovery</th>\n",
       "      <th>final.output.tail_ag</th>\n",
       "      <th>final.output.tail_pb</th>\n",
       "      <th>final.output.tail_sol</th>\n",
       "      <th>final.output.tail_au</th>\n",
       "      <th>...</th>\n",
       "      <th>secondary_cleaner.state.floatbank4_a_air</th>\n",
       "      <th>secondary_cleaner.state.floatbank4_a_level</th>\n",
       "      <th>secondary_cleaner.state.floatbank4_b_air</th>\n",
       "      <th>secondary_cleaner.state.floatbank4_b_level</th>\n",
       "      <th>secondary_cleaner.state.floatbank5_a_air</th>\n",
       "      <th>secondary_cleaner.state.floatbank5_a_level</th>\n",
       "      <th>secondary_cleaner.state.floatbank5_b_air</th>\n",
       "      <th>secondary_cleaner.state.floatbank5_b_level</th>\n",
       "      <th>secondary_cleaner.state.floatbank6_a_air</th>\n",
       "      <th>secondary_cleaner.state.floatbank6_a_level</th>\n",
       "    </tr>\n",
       "  </thead>\n",
       "  <tbody>\n",
       "    <tr>\n",
       "      <th>0</th>\n",
       "      <td>2016-01-15 00:00:00</td>\n",
       "      <td>6.055403</td>\n",
       "      <td>9.889648</td>\n",
       "      <td>5.507324</td>\n",
       "      <td>42.192020</td>\n",
       "      <td>70.541216</td>\n",
       "      <td>10.411962</td>\n",
       "      <td>0.895447</td>\n",
       "      <td>16.904297</td>\n",
       "      <td>2.143149</td>\n",
       "      <td>...</td>\n",
       "      <td>14.016835</td>\n",
       "      <td>-502.488007</td>\n",
       "      <td>12.099931</td>\n",
       "      <td>-504.715942</td>\n",
       "      <td>9.925633</td>\n",
       "      <td>-498.310211</td>\n",
       "      <td>8.079666</td>\n",
       "      <td>-500.470978</td>\n",
       "      <td>14.151341</td>\n",
       "      <td>-605.841980</td>\n",
       "    </tr>\n",
       "    <tr>\n",
       "      <th>1</th>\n",
       "      <td>2016-01-15 01:00:00</td>\n",
       "      <td>6.029369</td>\n",
       "      <td>9.968944</td>\n",
       "      <td>5.257781</td>\n",
       "      <td>42.701629</td>\n",
       "      <td>69.266198</td>\n",
       "      <td>10.462676</td>\n",
       "      <td>0.927452</td>\n",
       "      <td>16.634514</td>\n",
       "      <td>2.224930</td>\n",
       "      <td>...</td>\n",
       "      <td>13.992281</td>\n",
       "      <td>-505.503262</td>\n",
       "      <td>11.950531</td>\n",
       "      <td>-501.331529</td>\n",
       "      <td>10.039245</td>\n",
       "      <td>-500.169983</td>\n",
       "      <td>7.984757</td>\n",
       "      <td>-500.582168</td>\n",
       "      <td>13.998353</td>\n",
       "      <td>-599.787184</td>\n",
       "    </tr>\n",
       "    <tr>\n",
       "      <th>2</th>\n",
       "      <td>2016-01-15 02:00:00</td>\n",
       "      <td>6.055926</td>\n",
       "      <td>10.213995</td>\n",
       "      <td>5.383759</td>\n",
       "      <td>42.657501</td>\n",
       "      <td>68.116445</td>\n",
       "      <td>10.507046</td>\n",
       "      <td>0.953716</td>\n",
       "      <td>16.208849</td>\n",
       "      <td>2.257889</td>\n",
       "      <td>...</td>\n",
       "      <td>14.015015</td>\n",
       "      <td>-502.520901</td>\n",
       "      <td>11.912783</td>\n",
       "      <td>-501.133383</td>\n",
       "      <td>10.070913</td>\n",
       "      <td>-500.129135</td>\n",
       "      <td>8.013877</td>\n",
       "      <td>-500.517572</td>\n",
       "      <td>14.028663</td>\n",
       "      <td>-601.427363</td>\n",
       "    </tr>\n",
       "    <tr>\n",
       "      <th>3</th>\n",
       "      <td>2016-01-15 03:00:00</td>\n",
       "      <td>6.047977</td>\n",
       "      <td>9.977019</td>\n",
       "      <td>4.858634</td>\n",
       "      <td>42.689819</td>\n",
       "      <td>68.347543</td>\n",
       "      <td>10.422762</td>\n",
       "      <td>0.883763</td>\n",
       "      <td>16.532835</td>\n",
       "      <td>2.146849</td>\n",
       "      <td>...</td>\n",
       "      <td>14.036510</td>\n",
       "      <td>-500.857308</td>\n",
       "      <td>11.999550</td>\n",
       "      <td>-501.193686</td>\n",
       "      <td>9.970366</td>\n",
       "      <td>-499.201640</td>\n",
       "      <td>7.977324</td>\n",
       "      <td>-500.255908</td>\n",
       "      <td>14.005551</td>\n",
       "      <td>-599.996129</td>\n",
       "    </tr>\n",
       "    <tr>\n",
       "      <th>4</th>\n",
       "      <td>2016-01-15 04:00:00</td>\n",
       "      <td>6.148599</td>\n",
       "      <td>10.142511</td>\n",
       "      <td>4.939416</td>\n",
       "      <td>42.774141</td>\n",
       "      <td>66.927016</td>\n",
       "      <td>10.360302</td>\n",
       "      <td>0.792826</td>\n",
       "      <td>16.525686</td>\n",
       "      <td>2.055292</td>\n",
       "      <td>...</td>\n",
       "      <td>14.027298</td>\n",
       "      <td>-499.838632</td>\n",
       "      <td>11.953070</td>\n",
       "      <td>-501.053894</td>\n",
       "      <td>9.925709</td>\n",
       "      <td>-501.686727</td>\n",
       "      <td>7.894242</td>\n",
       "      <td>-500.356035</td>\n",
       "      <td>13.996647</td>\n",
       "      <td>-601.496691</td>\n",
       "    </tr>\n",
       "  </tbody>\n",
       "</table>\n",
       "<p>5 rows × 87 columns</p>\n",
       "</div>"
      ],
      "text/plain": [
       "                  date  final.output.concentrate_ag  \\\n",
       "0  2016-01-15 00:00:00                     6.055403   \n",
       "1  2016-01-15 01:00:00                     6.029369   \n",
       "2  2016-01-15 02:00:00                     6.055926   \n",
       "3  2016-01-15 03:00:00                     6.047977   \n",
       "4  2016-01-15 04:00:00                     6.148599   \n",
       "\n",
       "   final.output.concentrate_pb  final.output.concentrate_sol  \\\n",
       "0                     9.889648                      5.507324   \n",
       "1                     9.968944                      5.257781   \n",
       "2                    10.213995                      5.383759   \n",
       "3                     9.977019                      4.858634   \n",
       "4                    10.142511                      4.939416   \n",
       "\n",
       "   final.output.concentrate_au  final.output.recovery  final.output.tail_ag  \\\n",
       "0                    42.192020              70.541216             10.411962   \n",
       "1                    42.701629              69.266198             10.462676   \n",
       "2                    42.657501              68.116445             10.507046   \n",
       "3                    42.689819              68.347543             10.422762   \n",
       "4                    42.774141              66.927016             10.360302   \n",
       "\n",
       "   final.output.tail_pb  final.output.tail_sol  final.output.tail_au  ...  \\\n",
       "0              0.895447              16.904297              2.143149  ...   \n",
       "1              0.927452              16.634514              2.224930  ...   \n",
       "2              0.953716              16.208849              2.257889  ...   \n",
       "3              0.883763              16.532835              2.146849  ...   \n",
       "4              0.792826              16.525686              2.055292  ...   \n",
       "\n",
       "   secondary_cleaner.state.floatbank4_a_air  \\\n",
       "0                                 14.016835   \n",
       "1                                 13.992281   \n",
       "2                                 14.015015   \n",
       "3                                 14.036510   \n",
       "4                                 14.027298   \n",
       "\n",
       "   secondary_cleaner.state.floatbank4_a_level  \\\n",
       "0                                 -502.488007   \n",
       "1                                 -505.503262   \n",
       "2                                 -502.520901   \n",
       "3                                 -500.857308   \n",
       "4                                 -499.838632   \n",
       "\n",
       "   secondary_cleaner.state.floatbank4_b_air  \\\n",
       "0                                 12.099931   \n",
       "1                                 11.950531   \n",
       "2                                 11.912783   \n",
       "3                                 11.999550   \n",
       "4                                 11.953070   \n",
       "\n",
       "   secondary_cleaner.state.floatbank4_b_level  \\\n",
       "0                                 -504.715942   \n",
       "1                                 -501.331529   \n",
       "2                                 -501.133383   \n",
       "3                                 -501.193686   \n",
       "4                                 -501.053894   \n",
       "\n",
       "   secondary_cleaner.state.floatbank5_a_air  \\\n",
       "0                                  9.925633   \n",
       "1                                 10.039245   \n",
       "2                                 10.070913   \n",
       "3                                  9.970366   \n",
       "4                                  9.925709   \n",
       "\n",
       "   secondary_cleaner.state.floatbank5_a_level  \\\n",
       "0                                 -498.310211   \n",
       "1                                 -500.169983   \n",
       "2                                 -500.129135   \n",
       "3                                 -499.201640   \n",
       "4                                 -501.686727   \n",
       "\n",
       "   secondary_cleaner.state.floatbank5_b_air  \\\n",
       "0                                  8.079666   \n",
       "1                                  7.984757   \n",
       "2                                  8.013877   \n",
       "3                                  7.977324   \n",
       "4                                  7.894242   \n",
       "\n",
       "   secondary_cleaner.state.floatbank5_b_level  \\\n",
       "0                                 -500.470978   \n",
       "1                                 -500.582168   \n",
       "2                                 -500.517572   \n",
       "3                                 -500.255908   \n",
       "4                                 -500.356035   \n",
       "\n",
       "   secondary_cleaner.state.floatbank6_a_air  \\\n",
       "0                                 14.151341   \n",
       "1                                 13.998353   \n",
       "2                                 14.028663   \n",
       "3                                 14.005551   \n",
       "4                                 13.996647   \n",
       "\n",
       "   secondary_cleaner.state.floatbank6_a_level  \n",
       "0                                 -605.841980  \n",
       "1                                 -599.787184  \n",
       "2                                 -601.427363  \n",
       "3                                 -599.996129  \n",
       "4                                 -601.496691  \n",
       "\n",
       "[5 rows x 87 columns]"
      ]
     },
     "execution_count": 15,
     "metadata": {},
     "output_type": "execute_result"
    }
   ],
   "source": [
    "df_full.head()"
   ]
  },
  {
   "cell_type": "code",
   "execution_count": 16,
   "metadata": {},
   "outputs": [
    {
     "data": {
      "text/plain": [
       "0"
      ]
     },
     "execution_count": 16,
     "metadata": {},
     "output_type": "execute_result"
    }
   ],
   "source": [
    "df_full.duplicated().sum()"
   ]
  },
  {
   "cell_type": "code",
   "execution_count": 17,
   "metadata": {
    "scrolled": false
   },
   "outputs": [
    {
     "data": {
      "text/plain": [
       "date                                            0\n",
       "final.output.concentrate_ag                     1\n",
       "final.output.concentrate_pb                     1\n",
       "final.output.concentrate_sol                  211\n",
       "final.output.concentrate_au                     0\n",
       "                                             ... \n",
       "secondary_cleaner.state.floatbank5_a_level      1\n",
       "secondary_cleaner.state.floatbank5_b_air        1\n",
       "secondary_cleaner.state.floatbank5_b_level      1\n",
       "secondary_cleaner.state.floatbank6_a_air        2\n",
       "secondary_cleaner.state.floatbank6_a_level      1\n",
       "Length: 87, dtype: int64"
      ]
     },
     "execution_count": 17,
     "metadata": {},
     "output_type": "execute_result"
    }
   ],
   "source": [
    "df_full.isna().sum()"
   ]
  },
  {
   "cell_type": "markdown",
   "metadata": {},
   "source": [
    "**Вывод:**\n",
    "1. В исходной выборке 87 столбцов и 19439 строчек\n",
    "2. Много пропусков, удалим их позже\n",
    "3. Отсутсвуют явные дубликаты\n",
    "4. Только в тип данных - date, но нужно будет перевсти в - datetime64, в остальных тип данных - float64"
   ]
  },
  {
   "cell_type": "markdown",
   "metadata": {},
   "source": [
    "###  Проверка эффективности обогащения, вычисление её на обучающей выборке и найхождение MAE между собственными расчётами и значением признака"
   ]
  },
  {
   "cell_type": "code",
   "execution_count": 18,
   "metadata": {},
   "outputs": [],
   "source": [
    "#Считаем эффективность обогащения на обучающей выборке\n",
    "\n",
    "C = df_train['rougher.output.concentrate_au']\n",
    "F = df_train['rougher.input.feed_au']\n",
    "T = df_train['rougher.output.tail_au']\n",
    "recovery = ((C * (F - T)) / (F * (C - T))) * 100"
   ]
  },
  {
   "cell_type": "code",
   "execution_count": 19,
   "metadata": {},
   "outputs": [
    {
     "data": {
      "text/plain": [
       "'0.00000000000000973512'"
      ]
     },
     "execution_count": 19,
     "metadata": {},
     "output_type": "execute_result"
    }
   ],
   "source": [
    "#Выводим MAE\n",
    "mae = mean_absolute_error(recovery, df_train['rougher.output.recovery'])\n",
    "\n",
    "#выведем число без экспоненциальной записи\n",
    "\"{:.20f}\".format(mae)"
   ]
  },
  {
   "cell_type": "code",
   "execution_count": 20,
   "metadata": {},
   "outputs": [
    {
     "data": {
      "text/plain": [
       "-1.1102230246251565e-16"
      ]
     },
     "execution_count": 20,
     "metadata": {},
     "output_type": "execute_result"
    }
   ],
   "source": [
    "# КОД РЕВЬЮЕРА\n",
    "1/2 + 1/3 - 5/6"
   ]
  },
  {
   "cell_type": "markdown",
   "metadata": {},
   "source": [
    "**Вывод:**\n",
    "\n",
    "Средняя абсолютная ошибка между значениями признака и расчетами составляет 0.00000000000000973512, значение MAE очень мало, что может свидетельствовать о высокой точности расчетов относительно значений признака."
   ]
  },
  {
   "cell_type": "markdown",
   "metadata": {},
   "source": [
    "### Предобработка данных"
   ]
  },
  {
   "cell_type": "markdown",
   "metadata": {},
   "source": [
    "#### Тип данных"
   ]
  },
  {
   "cell_type": "code",
   "execution_count": 21,
   "metadata": {},
   "outputs": [],
   "source": [
    "#Переведём date в формат datetime.\n",
    "\n",
    "df_train['date'] = pd.to_datetime(df_train['date'], format ='%Y-%m-%dT%H:%M:%S')\n",
    "df_test['date'] = pd.to_datetime(df_test['date'], format ='%Y-%m-%dT%H:%M:%S')\n",
    "df_full['date'] = pd.to_datetime(df_full['date'], format ='%Y-%m-%dT%H:%M:%S')"
   ]
  },
  {
   "cell_type": "markdown",
   "metadata": {},
   "source": [
    "Проверим тип данных сейчас"
   ]
  },
  {
   "cell_type": "code",
   "execution_count": 22,
   "metadata": {
    "scrolled": true
   },
   "outputs": [
    {
     "data": {
      "text/plain": [
       "dtype('<M8[ns]')"
      ]
     },
     "execution_count": 22,
     "metadata": {},
     "output_type": "execute_result"
    }
   ],
   "source": [
    "df_train['date'].dtypes"
   ]
  },
  {
   "cell_type": "code",
   "execution_count": 23,
   "metadata": {
    "scrolled": true
   },
   "outputs": [
    {
     "data": {
      "text/plain": [
       "dtype('<M8[ns]')"
      ]
     },
     "execution_count": 23,
     "metadata": {},
     "output_type": "execute_result"
    }
   ],
   "source": [
    "df_test['date'].dtypes"
   ]
  },
  {
   "cell_type": "code",
   "execution_count": 24,
   "metadata": {
    "scrolled": true
   },
   "outputs": [
    {
     "data": {
      "text/plain": [
       "dtype('<M8[ns]')"
      ]
     },
     "execution_count": 24,
     "metadata": {},
     "output_type": "execute_result"
    }
   ],
   "source": [
    "df_full['date'].dtypes"
   ]
  },
  {
   "cell_type": "markdown",
   "metadata": {},
   "source": [
    "#### Пропуски"
   ]
  },
  {
   "cell_type": "code",
   "execution_count": 25,
   "metadata": {},
   "outputs": [
    {
     "name": "stdout",
     "output_type": "stream",
     "text": [
      "Количество пропусков в тренировочной выборке: 4100\n",
      "Количество пропусков в тестовой выборке: 90\n",
      "Количество пропусков в исходной выборке: 4481\n"
     ]
    }
   ],
   "source": [
    "#проверим количество пропусков в трех датасетах\n",
    "print('Количество пропусков в тренировочной выборке:', df_train.isna().sum().sum())\n",
    "print('Количество пропусков в тестовой выборке:', df_test.isna().sum().sum())\n",
    "print('Количество пропусков в исходной выборке:', df_full.isna().sum().sum())"
   ]
  },
  {
   "cell_type": "markdown",
   "metadata": {},
   "source": [
    "Количество пропусков в тренировочной и исходной выборках слишком большое для удаление, поэтому заменим на медианное значение, потому что много выбросов"
   ]
  },
  {
   "cell_type": "code",
   "execution_count": 26,
   "metadata": {},
   "outputs": [
    {
     "data": {
      "text/plain": [
       "date                            0\n",
       "final.output.concentrate_ag     0\n",
       "final.output.concentrate_pb     0\n",
       "final.output.concentrate_sol    0\n",
       "final.output.concentrate_au     0\n",
       "dtype: int64"
      ]
     },
     "execution_count": 26,
     "metadata": {},
     "output_type": "execute_result"
    }
   ],
   "source": [
    "#Заполняем методом ffill.\n",
    "\n",
    "df_train = df_train.fillna(method = 'ffill')\n",
    "df_test = df_test.fillna(method = 'ffill')\n",
    "df_full = df_full.fillna(method = 'ffill')\n",
    "\n",
    "#Проверим один датасет на пропуски.\n",
    "\n",
    "df_full.isna().sum().head()\n"
   ]
  },
  {
   "cell_type": "markdown",
   "metadata": {},
   "source": [
    "### Анализ признаков, недоступных в тестовой выборке"
   ]
  },
  {
   "cell_type": "code",
   "execution_count": 27,
   "metadata": {
    "scrolled": true
   },
   "outputs": [
    {
     "name": "stdout",
     "output_type": "stream",
     "text": [
      "final.output.concentrate_ag\n",
      "final.output.concentrate_pb\n",
      "final.output.concentrate_sol\n",
      "final.output.concentrate_au\n",
      "final.output.recovery\n",
      "final.output.tail_ag\n",
      "final.output.tail_pb\n",
      "final.output.tail_sol\n",
      "final.output.tail_au\n",
      "primary_cleaner.output.concentrate_ag\n",
      "primary_cleaner.output.concentrate_pb\n",
      "primary_cleaner.output.concentrate_sol\n",
      "primary_cleaner.output.concentrate_au\n",
      "primary_cleaner.output.tail_ag\n",
      "primary_cleaner.output.tail_pb\n",
      "primary_cleaner.output.tail_sol\n",
      "primary_cleaner.output.tail_au\n",
      "rougher.calculation.sulfate_to_au_concentrate\n",
      "rougher.calculation.floatbank10_sulfate_to_au_feed\n",
      "rougher.calculation.floatbank11_sulfate_to_au_feed\n",
      "rougher.calculation.au_pb_ratio\n",
      "rougher.output.concentrate_ag\n",
      "rougher.output.concentrate_pb\n",
      "rougher.output.concentrate_sol\n",
      "rougher.output.concentrate_au\n",
      "rougher.output.recovery\n",
      "rougher.output.tail_ag\n",
      "rougher.output.tail_pb\n",
      "rougher.output.tail_sol\n",
      "rougher.output.tail_au\n",
      "secondary_cleaner.output.tail_ag\n",
      "secondary_cleaner.output.tail_pb\n",
      "secondary_cleaner.output.tail_sol\n",
      "secondary_cleaner.output.tail_au\n"
     ]
    }
   ],
   "source": [
    "#Цикл для признаков.\n",
    "\n",
    "for col in df_train.columns:\n",
    "    if col not in df_test.columns:\n",
    "        print(col)"
   ]
  },
  {
   "cell_type": "markdown",
   "metadata": {},
   "source": [
    "*Из условия вспомним наименования признаков и параметры*"
   ]
  },
  {
   "cell_type": "markdown",
   "metadata": {},
   "source": [
    "**Параметры этапов**\n",
    "- air amount — объём воздуха\n",
    "- fluid levels — уровень жидкости\n",
    "- feed size — размер гранул сырья\n",
    "- feed rate — скорость подачи\n",
    "\n",
    "**Наименование признаков**\n",
    "\n",
    "*Наименование признаков должно быть такое:*\n",
    "- [этап].[тип_параметра].[название_параметра]\n",
    "\n",
    "- Пример: rougher.input.feed_ag\n",
    "- Возможные значения для блока [этап]:\n",
    "- rougher — флотация\n",
    "- primary_cleaner — первичная очистка\n",
    "- secondary_cleaner — вторичная очистка\n",
    "- final — финальные характеристики\n",
    "*Возможные значения для блока [тип_параметра]:*\n",
    "- input — параметры сырья\n",
    "- output — параметры продукта\n",
    "- state — параметры, характеризующие текущее состояние этапа\n",
    "- calculation — расчётные характеристики"
   ]
  },
  {
   "cell_type": "markdown",
   "metadata": {},
   "source": [
    "Признаки, связанные с параметрами продукта на всех этапах обработки и расчетными характеристиками, отсутствуют в тестовой выборке. Тестовая выборка содержит только входные данные о продукте и установках для очистки."
   ]
  },
  {
   "cell_type": "markdown",
   "metadata": {},
   "source": [
    "### Вывод"
   ]
  },
  {
   "cell_type": "markdown",
   "metadata": {},
   "source": [
    "1. Были извлечены и изучены данные\n",
    "\n",
    "\n",
    "2. Между значениями признака и расчетами наблюдается очень маленькая средняя абсолютная ошибка, поэтому расчеты, скорее всего, очень точны по сравнению с значениями признака\n",
    "\n",
    "\n",
    "3. Исправлен тип данных в столбце 'Date' и пропуски заменены медианным значением\n",
    "\n",
    "\n",
    "4. В тестовой выборке только входные данные продукта и установки для очистки"
   ]
  },
  {
   "cell_type": "markdown",
   "metadata": {},
   "source": [
    "## Анализ данных"
   ]
  },
  {
   "cell_type": "markdown",
   "metadata": {},
   "source": [
    "### Изменения концентраций металлов (Au, Ag, Pb) на различных этапах очистки"
   ]
  },
  {
   "cell_type": "markdown",
   "metadata": {},
   "source": [
    "#### Золото"
   ]
  },
  {
   "cell_type": "code",
   "execution_count": 28,
   "metadata": {},
   "outputs": [
    {
     "data": {
      "image/png": "[encoded data removed]",
      "text/plain": [
       "<Figure size 720x432 with 1 Axes>"
      ]
     },
     "metadata": {
      "needs_background": "light"
     },
     "output_type": "display_data"
    }
   ],
   "source": [
    "# выбор столбцов с концентрацией золота на разных этапах\n",
    "au_cols = ['rougher.input.feed_au', 'rougher.output.concentrate_au', 'primary_cleaner.output.concentrate_au', 'final.output.concentrate_au']\n",
    "au_names = ['Rougher input', 'Rougher output', 'Primary cleaner output', 'Final output']\n",
    "\n",
    "# построение графиков\n",
    "fig, ax = plt.subplots(figsize=(10, 6))\n",
    "for i, col in enumerate(au_cols):\n",
    "    df_full[col].plot(kind='kde', ax=ax, label=au_names[i])\n",
    "ax.set_xlabel('Концентрация, %')\n",
    "ax.set_title('Концентрация золота на разных этапах очистки')\n",
    "ax.legend()\n",
    "plt.show()\n"
   ]
  },
  {
   "cell_type": "markdown",
   "metadata": {},
   "source": [
    "На графике можно увидеть, как меняется распределение концентрации золота на различных этапах очистки. Первоначально концентрация золота имеет широкое распределение, сильно скошенное вправо, на этапе флотации (Rougher input). На этапе первичной очистки (Rougher output) распределение становится уже и имеет два пика. На следующем этапе очистки (Primary cleaner output) распределение еще более сужается и сдвигается влево, что говорит о более высокой концентрации золота. Наконец, на этапе финальной очистки (Final output) концентрация золота становится еще выше и распределение еще более сдвигается влево. Это говорит о том, что процесс очистки золота в целом эффективен и позволяет увеличивать концентрацию золота на каждом последующем этапе."
   ]
  },
  {
   "cell_type": "markdown",
   "metadata": {},
   "source": [
    "<div class=\"alert alert-success\">\n",
    "<font size=\"4\"><b>✔️ Комментарий ревьюера</b></font>\n",
    "    <br /> \n",
    "    <font size=\"3\", color = \"black\">\n",
    "<br />    \n",
    "Молодец, что не забыла добавить input\n",
    "<br />\n",
    "    </font>\n",
    "</div>"
   ]
  },
  {
   "cell_type": "markdown",
   "metadata": {},
   "source": [
    "<div class=\"alert alert-warning\">\n",
    "<font size=\"4\"><b>⚠️ Комментарий ревьюера</b></font>\n",
    "    <br /> \n",
    "    <font size=\"3\", color = \"black\">\n",
    "<br />\n",
    "А не видно ли каких-то выбросов/аномалий? Если есть, тоже стоит в выводе описывать."
   ]
  },
  {
   "cell_type": "markdown",
   "metadata": {},
   "source": [
    "#### Серебро"
   ]
  },
  {
   "cell_type": "code",
   "execution_count": 29,
   "metadata": {},
   "outputs": [
    {
     "data": {
      "image/png": "[encoded data removed]",
      "text/plain": [
       "<Figure size 720x432 with 1 Axes>"
      ]
     },
     "metadata": {
      "needs_background": "light"
     },
     "output_type": "display_data"
    }
   ],
   "source": [
    "# выбор столбцов с концентрацией серебра на разных этапах\n",
    "ag_cols = ['rougher.input.feed_ag', 'rougher.output.concentrate_ag', 'primary_cleaner.output.concentrate_ag', 'final.output.concentrate_ag']\n",
    "ag_names = ['Rougher input', 'Rougher output', 'Primary cleaner output', 'Final output']\n",
    "\n",
    "# построение графиков\n",
    "fig, ax = plt.subplots(figsize=(10, 6))\n",
    "for i, col in enumerate(ag_cols):\n",
    "    df_full[col].plot(kind='kde', ax=ax, label=ag_names[i])\n",
    "ax.set_xlabel('Концентрация, %')\n",
    "ax.set_title('Концентрация серебра на разных этапах очистки')\n",
    "ax.legend()\n",
    "plt.show()"
   ]
  },
  {
   "cell_type": "markdown",
   "metadata": {},
   "source": [
    "На графике можно увидеть, как меняется распределение концентрации серебра на различных этапах очистки. Изначально концентрация серебра имеет широкое распределение и находится на относительно низком уровне на этапе флотации (Rougher input). На этапе первичной очистки (Rougher output) распределение сужается и сдвигается влево, что говорит о повышении концентрации серебра. На следующем этапе очистки (Primary cleaner output) концентрация серебра продолжает увеличиваться, распределение еще более сужается и сдвигается влево. Наконец, на этапе финальной очистки (Final output) концентрация серебра становится наиболее высокой, и распределение еще более сдвигается влево. Это говорит о том, что процесс очистки серебра в целом эффективен и позволяет увеличивать концентрацию серебра на каждом последующем этапе."
   ]
  },
  {
   "cell_type": "markdown",
   "metadata": {},
   "source": [
    "#### Свинец"
   ]
  },
  {
   "cell_type": "code",
   "execution_count": 30,
   "metadata": {},
   "outputs": [
    {
     "data": {
      "image/png": "[encoded data removed]",
      "text/plain": [
       "<Figure size 720x432 with 1 Axes>"
      ]
     },
     "metadata": {
      "needs_background": "light"
     },
     "output_type": "display_data"
    }
   ],
   "source": [
    "# выбор столбцов с концентрацией свинца на разных этапах\n",
    "pb_cols = ['rougher.input.feed_pb', 'rougher.output.concentrate_pb', 'primary_cleaner.output.concentrate_pb', 'final.output.concentrate_pb']\n",
    "pb_names = ['Rougher input', 'Rougher output', 'Primary cleaner output', 'Final output']\n",
    "\n",
    "# построение графиков\n",
    "fig, ax = plt.subplots(figsize=(10, 6))\n",
    "for i, col in enumerate(pb_cols):\n",
    "    df_full[col].plot(kind='kde', ax=ax, label=pb_names[i])\n",
    "ax.set_xlabel('Концентрация, %')\n",
    "ax.set_title('Концентрация свинца на разных этапах очистки')\n",
    "ax.legend()\n",
    "plt.show()"
   ]
  },
  {
   "cell_type": "markdown",
   "metadata": {},
   "source": [
    "На графике можно увидеть, как меняется распределение концентрации свинца на различных этапах очистки. Первоначально концентрация свинца имеет широкое распределение на этапе флотации (Rougher input). На этапе первичной очистки (Rougher output) распределение становится уже и имеет два пика. На следующем этапе очистки (Primary cleaner output) распределение еще более сужается и сдвигается вправо, что говорит о более высокой концентрации свинца. Однако, на этапе финальной очистки (Final output) концентрация свинца снижается по сравнению с предыдущим этапом и распределение снова становится более широким. Это может свидетельствовать о том, что процесс очистки свинца не всегда эффективен и на последнем этапе могут происходить потери."
   ]
  },
  {
   "cell_type": "markdown",
   "metadata": {},
   "source": [
    "**Вывод:**\n",
    "\n",
    "1. Распределение концентрации золота на каждом этапе очистки становится более узким и сдвигается влево, что говорит о повышении концентрации золота. Это свидетельствует о том, что процесс очистки золота в целом эффективен и позволяет увеличивать концентрацию золота на каждом последующем этапе.\n",
    "\n",
    "\n",
    "2. Распределение концентрации серебра также становится более узким и сдвигается влево на каждом последующем этапе очистки. Это говорит о том, что процесс очистки серебра также эффективен и позволяет увеличивать концентрацию серебра на каждом последующем этапе.\n",
    "\n",
    "\n",
    "3. Распределение концентрации свинца имеет два пика на этапе первичной очистки, что свидетельствует о повышении концентрации свинца. Однако на последнем этапе концентрация свинца снижается по сравнению с предыдущим этапом, что может указывать на потери в процессе очистки свинца.\n",
    "\n",
    "В целом можно сделать вывод, что процесс очистки золота и серебра эффективен и позволяет увеличивать концентрацию на каждом последующем этапе, в то время как процесс очистки свинца может приводить к потерям на последнем этапе."
   ]
  },
  {
   "cell_type": "markdown",
   "metadata": {},
   "source": [
    "### Сравнение распределения размеров гранул сырья на обучающей и тестовой выборках"
   ]
  },
  {
   "cell_type": "code",
   "execution_count": 31,
   "metadata": {},
   "outputs": [
    {
     "data": {
      "image/png": "[encoded data removed]",
      "text/plain": [
       "<Figure size 720x432 with 1 Axes>"
      ]
     },
     "metadata": {},
     "output_type": "display_data"
    }
   ],
   "source": [
    "sns.set(style='whitegrid')\n",
    "plt.figure(figsize=(10, 6))\n",
    "\n",
    "sns.histplot(data=df_train, x='rougher.input.feed_size', alpha=0.5, color='blue', label='Обучающая выборка', stat='density', common_norm=False)\n",
    "sns.histplot(data=df_test, x='rougher.input.feed_size', alpha=0.5, color='red', label='Тестовая выборка', stat='density', common_norm=False)\n",
    "\n",
    "plt.title('Сравнение распределения размеров гранул сырья на обучающей и тестовой выборках (Флотация)', fontsize=14)\n",
    "plt.xlabel('Размер гранул сырья, мкм', fontsize=12)\n",
    "plt.ylabel('Плотность распределения', fontsize=12)\n",
    "plt.legend(fontsize=12)\n",
    "\n",
    "plt.show()"
   ]
  },
  {
   "cell_type": "code",
   "execution_count": 32,
   "metadata": {},
   "outputs": [
    {
     "data": {
      "image/png": "[encoded data removed]",
      "text/plain": [
       "<Figure size 720x432 with 1 Axes>"
      ]
     },
     "metadata": {},
     "output_type": "display_data"
    }
   ],
   "source": [
    "sns.set(style='whitegrid')\n",
    "plt.figure(figsize=(10, 6))\n",
    "\n",
    "sns.histplot(data=df_train, x='primary_cleaner.input.feed_size', alpha=0.5, color='blue', label='Обучающая выборка', stat='density', common_norm=False)\n",
    "sns.histplot(data=df_test, x='primary_cleaner.input.feed_size', alpha=0.5, color='red', label='Тестовая выборка', stat='density', common_norm=False)\n",
    "\n",
    "plt.title('Сравнение распределения размеров гранул сырья на обучающей и тестовой выборках(Первичная очистка)', fontsize=14)\n",
    "plt.xlabel('Размер гранул сырья, мкм', fontsize=12)\n",
    "plt.ylabel('Плотность распределения', fontsize=12)\n",
    "plt.legend(fontsize=12)\n",
    "\n",
    "plt.show()"
   ]
  },
  {
   "cell_type": "markdown",
   "metadata": {},
   "source": [
    "**Вывод:**\n",
    "Из графиков сравнения распределений размеров гранул сырья на обучающей и тестовой выборках видно, что распределения достаточно похожи между собой и не имеют значительных отличий. Это говорит о том, что модель должна работать стабильно и точно на обеих выборках. "
   ]
  },
  {
   "cell_type": "markdown",
   "metadata": {},
   "source": [
    "### Исследование суммарной концентрации всех веществ на разных стадиях: в сырье, в черновом и финальном концентратах"
   ]
  },
  {
   "cell_type": "code",
   "execution_count": 33,
   "metadata": {},
   "outputs": [],
   "source": [
    "# Создание новых столбцов с суммарной концентрацией\n",
    "df_full['rougher.input.feed_sum'] = df_full['rougher.input.feed_ag'] + df_full['rougher.input.feed_pb'] + df_full['rougher.input.feed_sol'] + df_full['rougher.input.feed_au']\n",
    "\n",
    "df_full['rougher.output.concentrate_sum'] = df_full['rougher.output.concentrate_ag'] + df_full['rougher.output.concentrate_pb'] + df_full['rougher.output.concentrate_sol'] + df_full['rougher.output.concentrate_au']\n",
    "\n",
    "df_full['primary_cleaner.output.concentrate_sum'] = df_full['primary_cleaner.output.concentrate_ag'] + df_full['primary_cleaner.output.concentrate_pb'] + df_full['primary_cleaner.output.concentrate_sol'] + df_full['primary_cleaner.output.concentrate_au']\n",
    "\n",
    "df_full['final.output.concentrate_sum'] = df_full['final.output.concentrate_ag'] + df_full['final.output.concentrate_pb'] + df_full['final.output.concentrate_sol'] + df_full['final.output.concentrate_au']\n",
    "\n",
    "\n",
    "# Пишем общую функцию для графика сравнения суммарной концентрации веществ на разных стадиях\n",
    "\n",
    "style.use('ggplot') # или style.use('seaborn')\n",
    "\n",
    "def comp_conc(df_full):\n",
    "    sum_columns = df_full[['rougher.input.feed_sum', 'rougher.output.concentrate_sum', 'primary_cleaner.output.concentrate_sum', 'final.output.concentrate_sum']]\n",
    "    sum_columns = sum_columns[(sum_columns > 0).all(1)] # убираем строки с нулевыми значениями\n",
    "    sns.histplot(data=sum_columns, fill=True, common_norm=False, alpha=0.6)\n",
    "\n",
    "    plt.title('Суммарная концентрация всех веществ на разных стадиях', fontsize=16)\n",
    "    plt.xlabel(\"Суммарная концентрация\", fontsize=14)\n",
    "    plt.ylabel(\"Количество значений\", fontsize=14)\n",
    "    plt.xticks(fontsize=12)\n",
    "    plt.yticks(fontsize=12)\n",
    "    plt.legend(('Исходное сырье', 'После флотации', 'После первой отчистки', 'После второй отчистки'), fontsize=12)\n",
    "    plt.grid(axis='y', alpha=0.75)\n",
    "    plt.gca().spines['right'].set_visible(False)\n",
    "    plt.gca().spines['top'].set_visible(False)\n",
    "    plt.show()\n"
   ]
  },
  {
   "cell_type": "code",
   "execution_count": 34,
   "metadata": {},
   "outputs": [
    {
     "data": {
      "image/png": "[encoded data removed]",
      "text/plain": [
       "<Figure size 432x288 with 1 Axes>"
      ]
     },
     "metadata": {},
     "output_type": "display_data"
    }
   ],
   "source": [
    "comp_conc(df_full)\n",
    "\n"
   ]
  },
  {
   "cell_type": "markdown",
   "metadata": {},
   "source": [
    "На графиках распределения суммарной концентрации всех веществ на каждой стадии видно, что в данных есть выбросы с нулевыми значениями концентрации, а также небольшое количество значений, которые явно отличаются от основного распределения. Эти выбросы могут быть связаны с ошибками измерений или проблемами в процессе обработки руды. Для более точной оценки качества модели необходимо избавиться от выбросов в тренировочной выборке, чтобы она обучалась на более репрезентативных данных.\n",
    "\n"
   ]
  },
  {
   "cell_type": "code",
   "execution_count": 35,
   "metadata": {
    "scrolled": true
   },
   "outputs": [
    {
     "name": "stdout",
     "output_type": "stream",
     "text": [
      "Строчек удалено: 547\n",
      "Что составляет: 3.8659975970033287 %\n"
     ]
    }
   ],
   "source": [
    "df_cleaned = df_full[df_full[['rougher.input.feed_sum','rougher.output.concentrate_sum',\n",
    "                  'primary_cleaner.output.concentrate_sum','final.output.concentrate_sum']].min(axis=1) > 0.1]\n",
    "#Избавимся от выбросов и в тренировочной выборке.\n",
    "df_train_cleaned = df_train[df_train['date'].isin(df_cleaned['date'])]\n",
    "\n",
    "#Узнаем от какого процента данных избавились.\n",
    "print(\"Строчек удалено:\", df_train.shape[0] - df_train_cleaned.shape[0])\n",
    "print(\"Что составляет:\", 100 - (df_train_cleaned.shape[0] / df_train.shape[0]) * 100, \"%\")"
   ]
  },
  {
   "cell_type": "code",
   "execution_count": 36,
   "metadata": {},
   "outputs": [
    {
     "data": {
      "image/png": "[encoded data removed]",
      "text/plain": [
       "<Figure size 432x288 with 1 Axes>"
      ]
     },
     "metadata": {},
     "output_type": "display_data"
    }
   ],
   "source": [
    "#Cоздадим пустой датафрейм для проверки.\n",
    "\n",
    "df_train_check = pd.DataFrame(columns = ['Col1', 'Col2', 'Col3'])\n",
    "df_train_check['rougher.input.feed_sum'] = df_train_cleaned['rougher.input.feed_ag'] + df_train_cleaned['rougher.input.feed_pb'] + df_train_cleaned['rougher.input.feed_sol'] + df_train_cleaned['rougher.input.feed_au']\n",
    "\n",
    "df_train_check['rougher.output.concentrate_sum'] = df_train_cleaned['rougher.output.concentrate_ag'] + df_train_cleaned['rougher.output.concentrate_pb']\n",
    "+ df_train_cleaned['rougher.output.concentrate_sol'] + df_train_cleaned['rougher.output.concentrate_au']\n",
    "\n",
    "df_train_check['primary_cleaner.output.concentrate_sum'] = df_train_cleaned['primary_cleaner.output.concentrate_ag'] + df_train_cleaned['primary_cleaner.output.concentrate_pb']\n",
    "+ df_train_cleaned['primary_cleaner.output.concentrate_sol'] + df_train_cleaned['primary_cleaner.output.concentrate_au']\n",
    "\n",
    "df_train_check['final.output.concentrate_sum'] = df_train_cleaned['final.output.concentrate_ag'] + df_train_cleaned['final.output.concentrate_pb']\n",
    "+ df_train_cleaned['final.output.concentrate_sol'] + df_train_cleaned['final.output.concentrate_au']\n",
    "\n",
    "comp_conc(df_train_check)"
   ]
  },
  {
   "cell_type": "markdown",
   "metadata": {},
   "source": [
    "**Вывод:**\n",
    "\n",
    "На гистограммах распределения суммарной концентрации на каждой стадии процесса видно, что нет явных выбросов и распределения имеют приблизительно нормальную форму с некоторым смещением. Это говорит о том, что данные достаточно хорошо подходят для анализа и моделирования."
   ]
  },
  {
   "cell_type": "markdown",
   "metadata": {},
   "source": [
    "### Вывод"
   ]
  },
  {
   "cell_type": "markdown",
   "metadata": {},
   "source": [
    "1. Распределение концентрации золота на каждом этапе очистки становится более узким и сдвигается влево, что свидетельствует о повышении концентрации золота на каждом последующем этапе.\n",
    "\n",
    "\n",
    "2. Распределение концентрации серебра также становится более узким и сдвигается влево на каждом последующем этапе очистки, что говорит о том, что процесс очистки серебра также эффективен и позволяет увеличивать концентрацию серебра на каждом последующем этапе.\n",
    "\n",
    "\n",
    "3. Распределение концентрации свинца имеет два пика на этапе первичной очистки, что свидетельствует о повышении концентрации свинца. Однако на последнем этапе концентрация свинца снижается по сравнению с предыдущим этапом, что может указывать на потери в процессе очистки свинца.\n",
    "\n",
    "\n",
    "4. В целом, процесс очистки золота и серебра эффективен и позволяет увеличивать концентрацию на каждом последующем этапе. Однако процесс очистки свинца может приводить к потерям на последнем этапе.\n",
    "\n",
    "\n",
    "5. На гистограммах распределения суммарной концентрации на каждой стадии процесса нет явных выбросов, и распределения имеют приблизительно нормальную форму с некоторым смещением. Это говорит о том, что данные достаточно хорошо подходят для анализа и моделирования.\n",
    "\n",
    "\n",
    "Общий вывод: Процесс очистки золота и серебра довольно эффективен и позволяет увеличивать концентрацию на каждом последующем этапе, но процесс очистки свинца может приводить к потерям на последнем этапе. Данные достаточно хорошо подходят для анализа и моделирования."
   ]
  },
  {
   "cell_type": "markdown",
   "metadata": {},
   "source": [
    "## Модель"
   ]
  },
  {
   "cell_type": "markdown",
   "metadata": {},
   "source": [
    "### Функция для вычисления итоговой sMAPE"
   ]
  },
  {
   "cell_type": "code",
   "execution_count": 37,
   "metadata": {},
   "outputs": [],
   "source": [
    "# Функция для расчета метрики sMAPE\n",
    "def sMAPE(target, predict):\n",
    "    smape = np.abs(target - predict) / ((np.abs(target) + np.abs(predict)) / 2) * 100\n",
    "    smape = np.nan_to_num(smape, nan=0, posinf=0, neginf=0) # добавлена проверка на деления на 0, так как при использовании формулы может возникнуть деление на 0.\n",
    "    smape = np.mean(smape)\n",
    "    return smape\n",
    "\n",
    "# Общая sMAPE\n",
    "def final_sMAPE(sMAPE_rougher, sMAPE_final):\n",
    "    return (0.25 * sMAPE_rougher + 0.75 * sMAPE_final)"
   ]
  },
  {
   "cell_type": "code",
   "execution_count": 38,
   "metadata": {},
   "outputs": [],
   "source": [
    "df_test = df_test.merge(df_full[['rougher.output.recovery', 'final.output.recovery', 'date']],\n",
    "                         how = 'inner', on= 'date')\n",
    "\n",
    "#Избавляемся от столбцов с временем.\n",
    "df_test = df_test[df_test['date'].isin(df_cleaned['date'])].drop(['date'], axis=1)\n",
    "df_train_cleaned = df_train_cleaned.drop(['date'], axis=1)"
   ]
  },
  {
   "cell_type": "markdown",
   "metadata": {},
   "source": [
    "Создадим чистые обучающие и тестовые наборы данных для модели final."
   ]
  },
  {
   "cell_type": "code",
   "execution_count": 39,
   "metadata": {},
   "outputs": [],
   "source": [
    "# Создаем чистые обучающие и тестовые наборы данных для модели final\n",
    "df_train_cleaned = df_train_cleaned[df_test.columns]\n",
    "\n",
    "# Целевой признак для обучения модели final\n",
    "df_train_target = df_train_cleaned['final.output.recovery']\n",
    "df_train_features = df_train_cleaned.drop(['final.output.recovery'], axis=1)\n",
    "\n",
    "# Тестовые значения и целевой признак для модели final.\n",
    "df_test_features = df_test.drop(['final.output.recovery'], axis=1)\n",
    "df_test_target = df_test['final.output.recovery']\n"
   ]
  },
  {
   "cell_type": "code",
   "execution_count": 40,
   "metadata": {},
   "outputs": [
    {
     "data": {
      "text/html": [
       "<div>\n",
       "<style scoped>\n",
       "    .dataframe tbody tr th:only-of-type {\n",
       "        vertical-align: middle;\n",
       "    }\n",
       "\n",
       "    .dataframe tbody tr th {\n",
       "        vertical-align: top;\n",
       "    }\n",
       "\n",
       "    .dataframe thead th {\n",
       "        text-align: right;\n",
       "    }\n",
       "</style>\n",
       "<table border=\"1\" class=\"dataframe\">\n",
       "  <thead>\n",
       "    <tr style=\"text-align: right;\">\n",
       "      <th></th>\n",
       "      <th>primary_cleaner.input.sulfate</th>\n",
       "      <th>primary_cleaner.input.depressant</th>\n",
       "      <th>primary_cleaner.input.feed_size</th>\n",
       "      <th>primary_cleaner.input.xanthate</th>\n",
       "      <th>primary_cleaner.state.floatbank8_a_air</th>\n",
       "      <th>primary_cleaner.state.floatbank8_a_level</th>\n",
       "      <th>primary_cleaner.state.floatbank8_b_air</th>\n",
       "      <th>primary_cleaner.state.floatbank8_b_level</th>\n",
       "      <th>primary_cleaner.state.floatbank8_c_air</th>\n",
       "      <th>primary_cleaner.state.floatbank8_c_level</th>\n",
       "      <th>...</th>\n",
       "      <th>secondary_cleaner.state.floatbank4_a_level</th>\n",
       "      <th>secondary_cleaner.state.floatbank4_b_air</th>\n",
       "      <th>secondary_cleaner.state.floatbank4_b_level</th>\n",
       "      <th>secondary_cleaner.state.floatbank5_a_air</th>\n",
       "      <th>secondary_cleaner.state.floatbank5_a_level</th>\n",
       "      <th>secondary_cleaner.state.floatbank5_b_air</th>\n",
       "      <th>secondary_cleaner.state.floatbank5_b_level</th>\n",
       "      <th>secondary_cleaner.state.floatbank6_a_air</th>\n",
       "      <th>secondary_cleaner.state.floatbank6_a_level</th>\n",
       "      <th>rougher.output.recovery</th>\n",
       "    </tr>\n",
       "  </thead>\n",
       "  <tbody>\n",
       "    <tr>\n",
       "      <th>0</th>\n",
       "      <td>-0.177106</td>\n",
       "      <td>0.374807</td>\n",
       "      <td>-0.128449</td>\n",
       "      <td>0.283293</td>\n",
       "      <td>-0.446714</td>\n",
       "      <td>-0.299156</td>\n",
       "      <td>-0.428778</td>\n",
       "      <td>-0.810473</td>\n",
       "      <td>-0.433535</td>\n",
       "      <td>-0.276213</td>\n",
       "      <td>...</td>\n",
       "      <td>-0.476161</td>\n",
       "      <td>-0.642438</td>\n",
       "      <td>-0.760005</td>\n",
       "      <td>-1.178905</td>\n",
       "      <td>-0.384013</td>\n",
       "      <td>-0.864282</td>\n",
       "      <td>-0.430480</td>\n",
       "      <td>-0.960736</td>\n",
       "      <td>-2.680189</td>\n",
       "      <td>0.327626</td>\n",
       "    </tr>\n",
       "    <tr>\n",
       "      <th>1</th>\n",
       "      <td>-0.214852</td>\n",
       "      <td>0.424903</td>\n",
       "      <td>-0.128449</td>\n",
       "      <td>0.320308</td>\n",
       "      <td>-0.241434</td>\n",
       "      <td>-0.355780</td>\n",
       "      <td>-0.241992</td>\n",
       "      <td>-0.321551</td>\n",
       "      <td>-0.239117</td>\n",
       "      <td>-0.294976</td>\n",
       "      <td>...</td>\n",
       "      <td>-0.535515</td>\n",
       "      <td>-0.670805</td>\n",
       "      <td>-0.702131</td>\n",
       "      <td>-1.159385</td>\n",
       "      <td>-0.432696</td>\n",
       "      <td>-0.880746</td>\n",
       "      <td>-0.433322</td>\n",
       "      <td>-0.987468</td>\n",
       "      <td>-2.516476</td>\n",
       "      <td>0.294188</td>\n",
       "    </tr>\n",
       "    <tr>\n",
       "      <th>2</th>\n",
       "      <td>-0.261543</td>\n",
       "      <td>0.729149</td>\n",
       "      <td>-0.128449</td>\n",
       "      <td>0.289966</td>\n",
       "      <td>-0.043943</td>\n",
       "      <td>-0.330004</td>\n",
       "      <td>-0.055818</td>\n",
       "      <td>-0.343484</td>\n",
       "      <td>-0.045525</td>\n",
       "      <td>-0.339963</td>\n",
       "      <td>...</td>\n",
       "      <td>-0.476808</td>\n",
       "      <td>-0.677972</td>\n",
       "      <td>-0.698743</td>\n",
       "      <td>-1.153944</td>\n",
       "      <td>-0.431627</td>\n",
       "      <td>-0.875695</td>\n",
       "      <td>-0.431671</td>\n",
       "      <td>-0.982172</td>\n",
       "      <td>-2.560824</td>\n",
       "      <td>0.294068</td>\n",
       "    </tr>\n",
       "    <tr>\n",
       "      <th>3</th>\n",
       "      <td>-0.301530</td>\n",
       "      <td>0.730897</td>\n",
       "      <td>-0.128449</td>\n",
       "      <td>0.304537</td>\n",
       "      <td>-0.056291</td>\n",
       "      <td>-0.357110</td>\n",
       "      <td>-0.053741</td>\n",
       "      <td>-0.315969</td>\n",
       "      <td>-0.058174</td>\n",
       "      <td>-0.335853</td>\n",
       "      <td>...</td>\n",
       "      <td>-0.444061</td>\n",
       "      <td>-0.661498</td>\n",
       "      <td>-0.699774</td>\n",
       "      <td>-1.171219</td>\n",
       "      <td>-0.407348</td>\n",
       "      <td>-0.882036</td>\n",
       "      <td>-0.424983</td>\n",
       "      <td>-0.986210</td>\n",
       "      <td>-2.522125</td>\n",
       "      <td>0.342628</td>\n",
       "    </tr>\n",
       "    <tr>\n",
       "      <th>4</th>\n",
       "      <td>-0.412025</td>\n",
       "      <td>0.907316</td>\n",
       "      <td>-0.128449</td>\n",
       "      <td>0.339492</td>\n",
       "      <td>-0.045627</td>\n",
       "      <td>-0.300955</td>\n",
       "      <td>-0.047809</td>\n",
       "      <td>-0.335072</td>\n",
       "      <td>-0.063550</td>\n",
       "      <td>-0.340487</td>\n",
       "      <td>...</td>\n",
       "      <td>-0.424009</td>\n",
       "      <td>-0.670323</td>\n",
       "      <td>-0.697384</td>\n",
       "      <td>-1.178892</td>\n",
       "      <td>-0.472400</td>\n",
       "      <td>-0.896448</td>\n",
       "      <td>-0.427542</td>\n",
       "      <td>-0.987766</td>\n",
       "      <td>-2.562699</td>\n",
       "      <td>0.274661</td>\n",
       "    </tr>\n",
       "  </tbody>\n",
       "</table>\n",
       "<p>5 rows × 53 columns</p>\n",
       "</div>"
      ],
      "text/plain": [
       "   primary_cleaner.input.sulfate  primary_cleaner.input.depressant  \\\n",
       "0                      -0.177106                          0.374807   \n",
       "1                      -0.214852                          0.424903   \n",
       "2                      -0.261543                          0.729149   \n",
       "3                      -0.301530                          0.730897   \n",
       "4                      -0.412025                          0.907316   \n",
       "\n",
       "   primary_cleaner.input.feed_size  primary_cleaner.input.xanthate  \\\n",
       "0                        -0.128449                        0.283293   \n",
       "1                        -0.128449                        0.320308   \n",
       "2                        -0.128449                        0.289966   \n",
       "3                        -0.128449                        0.304537   \n",
       "4                        -0.128449                        0.339492   \n",
       "\n",
       "   primary_cleaner.state.floatbank8_a_air  \\\n",
       "0                               -0.446714   \n",
       "1                               -0.241434   \n",
       "2                               -0.043943   \n",
       "3                               -0.056291   \n",
       "4                               -0.045627   \n",
       "\n",
       "   primary_cleaner.state.floatbank8_a_level  \\\n",
       "0                                 -0.299156   \n",
       "1                                 -0.355780   \n",
       "2                                 -0.330004   \n",
       "3                                 -0.357110   \n",
       "4                                 -0.300955   \n",
       "\n",
       "   primary_cleaner.state.floatbank8_b_air  \\\n",
       "0                               -0.428778   \n",
       "1                               -0.241992   \n",
       "2                               -0.055818   \n",
       "3                               -0.053741   \n",
       "4                               -0.047809   \n",
       "\n",
       "   primary_cleaner.state.floatbank8_b_level  \\\n",
       "0                                 -0.810473   \n",
       "1                                 -0.321551   \n",
       "2                                 -0.343484   \n",
       "3                                 -0.315969   \n",
       "4                                 -0.335072   \n",
       "\n",
       "   primary_cleaner.state.floatbank8_c_air  \\\n",
       "0                               -0.433535   \n",
       "1                               -0.239117   \n",
       "2                               -0.045525   \n",
       "3                               -0.058174   \n",
       "4                               -0.063550   \n",
       "\n",
       "   primary_cleaner.state.floatbank8_c_level  ...  \\\n",
       "0                                 -0.276213  ...   \n",
       "1                                 -0.294976  ...   \n",
       "2                                 -0.339963  ...   \n",
       "3                                 -0.335853  ...   \n",
       "4                                 -0.340487  ...   \n",
       "\n",
       "   secondary_cleaner.state.floatbank4_a_level  \\\n",
       "0                                   -0.476161   \n",
       "1                                   -0.535515   \n",
       "2                                   -0.476808   \n",
       "3                                   -0.444061   \n",
       "4                                   -0.424009   \n",
       "\n",
       "   secondary_cleaner.state.floatbank4_b_air  \\\n",
       "0                                 -0.642438   \n",
       "1                                 -0.670805   \n",
       "2                                 -0.677972   \n",
       "3                                 -0.661498   \n",
       "4                                 -0.670323   \n",
       "\n",
       "   secondary_cleaner.state.floatbank4_b_level  \\\n",
       "0                                   -0.760005   \n",
       "1                                   -0.702131   \n",
       "2                                   -0.698743   \n",
       "3                                   -0.699774   \n",
       "4                                   -0.697384   \n",
       "\n",
       "   secondary_cleaner.state.floatbank5_a_air  \\\n",
       "0                                 -1.178905   \n",
       "1                                 -1.159385   \n",
       "2                                 -1.153944   \n",
       "3                                 -1.171219   \n",
       "4                                 -1.178892   \n",
       "\n",
       "   secondary_cleaner.state.floatbank5_a_level  \\\n",
       "0                                   -0.384013   \n",
       "1                                   -0.432696   \n",
       "2                                   -0.431627   \n",
       "3                                   -0.407348   \n",
       "4                                   -0.472400   \n",
       "\n",
       "   secondary_cleaner.state.floatbank5_b_air  \\\n",
       "0                                 -0.864282   \n",
       "1                                 -0.880746   \n",
       "2                                 -0.875695   \n",
       "3                                 -0.882036   \n",
       "4                                 -0.896448   \n",
       "\n",
       "   secondary_cleaner.state.floatbank5_b_level  \\\n",
       "0                                   -0.430480   \n",
       "1                                   -0.433322   \n",
       "2                                   -0.431671   \n",
       "3                                   -0.424983   \n",
       "4                                   -0.427542   \n",
       "\n",
       "   secondary_cleaner.state.floatbank6_a_air  \\\n",
       "0                                 -0.960736   \n",
       "1                                 -0.987468   \n",
       "2                                 -0.982172   \n",
       "3                                 -0.986210   \n",
       "4                                 -0.987766   \n",
       "\n",
       "   secondary_cleaner.state.floatbank6_a_level  rougher.output.recovery  \n",
       "0                                   -2.680189                 0.327626  \n",
       "1                                   -2.516476                 0.294188  \n",
       "2                                   -2.560824                 0.294068  \n",
       "3                                   -2.522125                 0.342628  \n",
       "4                                   -2.562699                 0.274661  \n",
       "\n",
       "[5 rows x 53 columns]"
      ]
     },
     "metadata": {},
     "output_type": "display_data"
    },
    {
     "data": {
      "text/html": [
       "<div>\n",
       "<style scoped>\n",
       "    .dataframe tbody tr th:only-of-type {\n",
       "        vertical-align: middle;\n",
       "    }\n",
       "\n",
       "    .dataframe tbody tr th {\n",
       "        vertical-align: top;\n",
       "    }\n",
       "\n",
       "    .dataframe thead th {\n",
       "        text-align: right;\n",
       "    }\n",
       "</style>\n",
       "<table border=\"1\" class=\"dataframe\">\n",
       "  <thead>\n",
       "    <tr style=\"text-align: right;\">\n",
       "      <th></th>\n",
       "      <th>primary_cleaner.input.sulfate</th>\n",
       "      <th>primary_cleaner.input.depressant</th>\n",
       "      <th>primary_cleaner.input.feed_size</th>\n",
       "      <th>primary_cleaner.input.xanthate</th>\n",
       "      <th>primary_cleaner.state.floatbank8_a_air</th>\n",
       "      <th>primary_cleaner.state.floatbank8_a_level</th>\n",
       "      <th>primary_cleaner.state.floatbank8_b_air</th>\n",
       "      <th>primary_cleaner.state.floatbank8_b_level</th>\n",
       "      <th>primary_cleaner.state.floatbank8_c_air</th>\n",
       "      <th>primary_cleaner.state.floatbank8_c_level</th>\n",
       "      <th>...</th>\n",
       "      <th>secondary_cleaner.state.floatbank4_a_level</th>\n",
       "      <th>secondary_cleaner.state.floatbank4_b_air</th>\n",
       "      <th>secondary_cleaner.state.floatbank4_b_level</th>\n",
       "      <th>secondary_cleaner.state.floatbank5_a_air</th>\n",
       "      <th>secondary_cleaner.state.floatbank5_a_level</th>\n",
       "      <th>secondary_cleaner.state.floatbank5_b_air</th>\n",
       "      <th>secondary_cleaner.state.floatbank5_b_level</th>\n",
       "      <th>secondary_cleaner.state.floatbank6_a_air</th>\n",
       "      <th>secondary_cleaner.state.floatbank6_a_level</th>\n",
       "      <th>rougher.output.recovery</th>\n",
       "    </tr>\n",
       "  </thead>\n",
       "  <tbody>\n",
       "    <tr>\n",
       "      <th>0</th>\n",
       "      <td>1.982948</td>\n",
       "      <td>1.825844</td>\n",
       "      <td>1.221627</td>\n",
       "      <td>0.326586</td>\n",
       "      <td>-1.619660</td>\n",
       "      <td>-0.336476</td>\n",
       "      <td>-1.589043</td>\n",
       "      <td>-0.323143</td>\n",
       "      <td>-1.548306</td>\n",
       "      <td>-0.335169</td>\n",
       "      <td>...</td>\n",
       "      <td>-0.383798</td>\n",
       "      <td>-1.417741</td>\n",
       "      <td>-0.701407</td>\n",
       "      <td>-1.518936</td>\n",
       "      <td>1.343458</td>\n",
       "      <td>-1.420631</td>\n",
       "      <td>-0.419398</td>\n",
       "      <td>1.232919</td>\n",
       "      <td>0.189495</td>\n",
       "      <td>0.692430</td>\n",
       "    </tr>\n",
       "    <tr>\n",
       "      <th>1</th>\n",
       "      <td>2.101430</td>\n",
       "      <td>1.824160</td>\n",
       "      <td>1.221627</td>\n",
       "      <td>0.287846</td>\n",
       "      <td>-1.621242</td>\n",
       "      <td>-0.331698</td>\n",
       "      <td>-1.597344</td>\n",
       "      <td>-0.318958</td>\n",
       "      <td>-1.577721</td>\n",
       "      <td>-0.292808</td>\n",
       "      <td>...</td>\n",
       "      <td>-0.401513</td>\n",
       "      <td>-1.396035</td>\n",
       "      <td>-0.673107</td>\n",
       "      <td>-1.516924</td>\n",
       "      <td>-1.104647</td>\n",
       "      <td>-1.419531</td>\n",
       "      <td>-0.422592</td>\n",
       "      <td>0.938333</td>\n",
       "      <td>0.186520</td>\n",
       "      <td>0.451757</td>\n",
       "    </tr>\n",
       "    <tr>\n",
       "      <th>2</th>\n",
       "      <td>2.098011</td>\n",
       "      <td>1.197033</td>\n",
       "      <td>0.744492</td>\n",
       "      <td>0.302685</td>\n",
       "      <td>-1.623453</td>\n",
       "      <td>-0.354739</td>\n",
       "      <td>-1.591210</td>\n",
       "      <td>-0.318554</td>\n",
       "      <td>-1.563395</td>\n",
       "      <td>-0.377038</td>\n",
       "      <td>...</td>\n",
       "      <td>-0.402924</td>\n",
       "      <td>-1.402507</td>\n",
       "      <td>-0.693511</td>\n",
       "      <td>-1.497546</td>\n",
       "      <td>-0.449232</td>\n",
       "      <td>-1.414973</td>\n",
       "      <td>-0.414058</td>\n",
       "      <td>0.933951</td>\n",
       "      <td>0.164805</td>\n",
       "      <td>0.492603</td>\n",
       "    </tr>\n",
       "    <tr>\n",
       "      <th>3</th>\n",
       "      <td>2.099979</td>\n",
       "      <td>0.935113</td>\n",
       "      <td>0.505924</td>\n",
       "      <td>-0.050127</td>\n",
       "      <td>-1.614706</td>\n",
       "      <td>-0.297776</td>\n",
       "      <td>-1.602032</td>\n",
       "      <td>-0.302190</td>\n",
       "      <td>-1.548110</td>\n",
       "      <td>-0.267223</td>\n",
       "      <td>...</td>\n",
       "      <td>-0.394725</td>\n",
       "      <td>-1.406674</td>\n",
       "      <td>-0.670375</td>\n",
       "      <td>-1.527437</td>\n",
       "      <td>-0.450982</td>\n",
       "      <td>-1.410415</td>\n",
       "      <td>-0.417512</td>\n",
       "      <td>0.925923</td>\n",
       "      <td>0.216518</td>\n",
       "      <td>0.359531</td>\n",
       "    </tr>\n",
       "    <tr>\n",
       "      <th>4</th>\n",
       "      <td>1.680996</td>\n",
       "      <td>0.540120</td>\n",
       "      <td>0.326999</td>\n",
       "      <td>-0.204370</td>\n",
       "      <td>-1.601872</td>\n",
       "      <td>-0.353033</td>\n",
       "      <td>-1.596784</td>\n",
       "      <td>-0.310868</td>\n",
       "      <td>-1.532904</td>\n",
       "      <td>-0.338243</td>\n",
       "      <td>...</td>\n",
       "      <td>-0.442668</td>\n",
       "      <td>-1.410522</td>\n",
       "      <td>-0.686160</td>\n",
       "      <td>-1.491218</td>\n",
       "      <td>-0.677626</td>\n",
       "      <td>-1.405857</td>\n",
       "      <td>-0.427644</td>\n",
       "      <td>0.935431</td>\n",
       "      <td>0.158484</td>\n",
       "      <td>-0.161794</td>\n",
       "    </tr>\n",
       "  </tbody>\n",
       "</table>\n",
       "<p>5 rows × 53 columns</p>\n",
       "</div>"
      ],
      "text/plain": [
       "   primary_cleaner.input.sulfate  primary_cleaner.input.depressant  \\\n",
       "0                       1.982948                          1.825844   \n",
       "1                       2.101430                          1.824160   \n",
       "2                       2.098011                          1.197033   \n",
       "3                       2.099979                          0.935113   \n",
       "4                       1.680996                          0.540120   \n",
       "\n",
       "   primary_cleaner.input.feed_size  primary_cleaner.input.xanthate  \\\n",
       "0                         1.221627                        0.326586   \n",
       "1                         1.221627                        0.287846   \n",
       "2                         0.744492                        0.302685   \n",
       "3                         0.505924                       -0.050127   \n",
       "4                         0.326999                       -0.204370   \n",
       "\n",
       "   primary_cleaner.state.floatbank8_a_air  \\\n",
       "0                               -1.619660   \n",
       "1                               -1.621242   \n",
       "2                               -1.623453   \n",
       "3                               -1.614706   \n",
       "4                               -1.601872   \n",
       "\n",
       "   primary_cleaner.state.floatbank8_a_level  \\\n",
       "0                                 -0.336476   \n",
       "1                                 -0.331698   \n",
       "2                                 -0.354739   \n",
       "3                                 -0.297776   \n",
       "4                                 -0.353033   \n",
       "\n",
       "   primary_cleaner.state.floatbank8_b_air  \\\n",
       "0                               -1.589043   \n",
       "1                               -1.597344   \n",
       "2                               -1.591210   \n",
       "3                               -1.602032   \n",
       "4                               -1.596784   \n",
       "\n",
       "   primary_cleaner.state.floatbank8_b_level  \\\n",
       "0                                 -0.323143   \n",
       "1                                 -0.318958   \n",
       "2                                 -0.318554   \n",
       "3                                 -0.302190   \n",
       "4                                 -0.310868   \n",
       "\n",
       "   primary_cleaner.state.floatbank8_c_air  \\\n",
       "0                               -1.548306   \n",
       "1                               -1.577721   \n",
       "2                               -1.563395   \n",
       "3                               -1.548110   \n",
       "4                               -1.532904   \n",
       "\n",
       "   primary_cleaner.state.floatbank8_c_level  ...  \\\n",
       "0                                 -0.335169  ...   \n",
       "1                                 -0.292808  ...   \n",
       "2                                 -0.377038  ...   \n",
       "3                                 -0.267223  ...   \n",
       "4                                 -0.338243  ...   \n",
       "\n",
       "   secondary_cleaner.state.floatbank4_a_level  \\\n",
       "0                                   -0.383798   \n",
       "1                                   -0.401513   \n",
       "2                                   -0.402924   \n",
       "3                                   -0.394725   \n",
       "4                                   -0.442668   \n",
       "\n",
       "   secondary_cleaner.state.floatbank4_b_air  \\\n",
       "0                                 -1.417741   \n",
       "1                                 -1.396035   \n",
       "2                                 -1.402507   \n",
       "3                                 -1.406674   \n",
       "4                                 -1.410522   \n",
       "\n",
       "   secondary_cleaner.state.floatbank4_b_level  \\\n",
       "0                                   -0.701407   \n",
       "1                                   -0.673107   \n",
       "2                                   -0.693511   \n",
       "3                                   -0.670375   \n",
       "4                                   -0.686160   \n",
       "\n",
       "   secondary_cleaner.state.floatbank5_a_air  \\\n",
       "0                                 -1.518936   \n",
       "1                                 -1.516924   \n",
       "2                                 -1.497546   \n",
       "3                                 -1.527437   \n",
       "4                                 -1.491218   \n",
       "\n",
       "   secondary_cleaner.state.floatbank5_a_level  \\\n",
       "0                                    1.343458   \n",
       "1                                   -1.104647   \n",
       "2                                   -0.449232   \n",
       "3                                   -0.450982   \n",
       "4                                   -0.677626   \n",
       "\n",
       "   secondary_cleaner.state.floatbank5_b_air  \\\n",
       "0                                 -1.420631   \n",
       "1                                 -1.419531   \n",
       "2                                 -1.414973   \n",
       "3                                 -1.410415   \n",
       "4                                 -1.405857   \n",
       "\n",
       "   secondary_cleaner.state.floatbank5_b_level  \\\n",
       "0                                   -0.419398   \n",
       "1                                   -0.422592   \n",
       "2                                   -0.414058   \n",
       "3                                   -0.417512   \n",
       "4                                   -0.427644   \n",
       "\n",
       "   secondary_cleaner.state.floatbank6_a_air  \\\n",
       "0                                  1.232919   \n",
       "1                                  0.938333   \n",
       "2                                  0.933951   \n",
       "3                                  0.925923   \n",
       "4                                  0.935431   \n",
       "\n",
       "   secondary_cleaner.state.floatbank6_a_level  rougher.output.recovery  \n",
       "0                                    0.189495                 0.692430  \n",
       "1                                    0.186520                 0.451757  \n",
       "2                                    0.164805                 0.492603  \n",
       "3                                    0.216518                 0.359531  \n",
       "4                                    0.158484                -0.161794  \n",
       "\n",
       "[5 rows x 53 columns]"
      ]
     },
     "metadata": {},
     "output_type": "display_data"
    }
   ],
   "source": [
    "# Стандартизация значений\n",
    "scaler = StandardScaler()\n",
    "scaler.fit(df_train_features)\n",
    "\n",
    "array_train_scaled = scaler.transform(df_train_features)\n",
    "array_test_scaled = scaler.transform(df_test_features)\n",
    "\n",
    "#Заново собираем в датафрейм наши np.array. \n",
    "df_train_features_scaled = pd.DataFrame(array_train_scaled, index = df_train_features.index,\n",
    "                                      columns = df_train_features.columns)\n",
    "df_test_features_scaled = pd.DataFrame(array_test_scaled, index = df_test_features.index,\n",
    "                                      columns = df_test_features.columns)\n",
    "\n",
    "display(df_train_features_scaled.head())\n",
    "display(df_test_features_scaled.head())"
   ]
  },
  {
   "cell_type": "code",
   "execution_count": 41,
   "metadata": {},
   "outputs": [
    {
     "data": {
      "text/plain": [
       "set()"
      ]
     },
     "execution_count": 41,
     "metadata": {},
     "output_type": "execute_result"
    }
   ],
   "source": [
    "# КОД РЕВЬЮЕРА\n",
    "set(df_train_features.columns) - set(df_test_features.columns)"
   ]
  },
  {
   "cell_type": "markdown",
   "metadata": {},
   "source": [
    "Подготовка данных для обучения модели машинного обучения на примере задачи предсказания rougher.output.recovery"
   ]
  },
  {
   "cell_type": "code",
   "execution_count": 42,
   "metadata": {},
   "outputs": [
    {
     "data": {
      "text/html": [
       "<div>\n",
       "<style scoped>\n",
       "    .dataframe tbody tr th:only-of-type {\n",
       "        vertical-align: middle;\n",
       "    }\n",
       "\n",
       "    .dataframe tbody tr th {\n",
       "        vertical-align: top;\n",
       "    }\n",
       "\n",
       "    .dataframe thead th {\n",
       "        text-align: right;\n",
       "    }\n",
       "</style>\n",
       "<table border=\"1\" class=\"dataframe\">\n",
       "  <thead>\n",
       "    <tr style=\"text-align: right;\">\n",
       "      <th></th>\n",
       "      <th>rougher.input.feed_ag</th>\n",
       "      <th>rougher.input.feed_pb</th>\n",
       "      <th>rougher.input.feed_rate</th>\n",
       "      <th>rougher.input.feed_size</th>\n",
       "      <th>rougher.input.feed_sol</th>\n",
       "      <th>rougher.input.feed_au</th>\n",
       "      <th>rougher.input.floatbank10_sulfate</th>\n",
       "      <th>rougher.input.floatbank10_xanthate</th>\n",
       "      <th>rougher.input.floatbank11_sulfate</th>\n",
       "      <th>rougher.input.floatbank11_xanthate</th>\n",
       "      <th>...</th>\n",
       "      <th>rougher.state.floatbank10_b_air</th>\n",
       "      <th>rougher.state.floatbank10_b_level</th>\n",
       "      <th>rougher.state.floatbank10_c_air</th>\n",
       "      <th>rougher.state.floatbank10_c_level</th>\n",
       "      <th>rougher.state.floatbank10_d_air</th>\n",
       "      <th>rougher.state.floatbank10_d_level</th>\n",
       "      <th>rougher.state.floatbank10_e_air</th>\n",
       "      <th>rougher.state.floatbank10_e_level</th>\n",
       "      <th>rougher.state.floatbank10_f_air</th>\n",
       "      <th>rougher.state.floatbank10_f_level</th>\n",
       "    </tr>\n",
       "  </thead>\n",
       "  <tbody>\n",
       "    <tr>\n",
       "      <th>0</th>\n",
       "      <td>-1.317128</td>\n",
       "      <td>-1.124829</td>\n",
       "      <td>0.474189</td>\n",
       "      <td>-0.204489</td>\n",
       "      <td>0.103493</td>\n",
       "      <td>-0.734930</td>\n",
       "      <td>0.080287</td>\n",
       "      <td>0.119226</td>\n",
       "      <td>0.129028</td>\n",
       "      <td>0.144169</td>\n",
       "      <td>...</td>\n",
       "      <td>1.534120</td>\n",
       "      <td>0.506550</td>\n",
       "      <td>1.410555</td>\n",
       "      <td>0.401273</td>\n",
       "      <td>1.839827</td>\n",
       "      <td>0.246887</td>\n",
       "      <td>1.697960</td>\n",
       "      <td>0.158884</td>\n",
       "      <td>2.155393</td>\n",
       "      <td>0.217534</td>\n",
       "    </tr>\n",
       "    <tr>\n",
       "      <th>1</th>\n",
       "      <td>-1.284818</td>\n",
       "      <td>-1.142255</td>\n",
       "      <td>0.491248</td>\n",
       "      <td>-0.127171</td>\n",
       "      <td>-0.111090</td>\n",
       "      <td>-0.738943</td>\n",
       "      <td>0.075476</td>\n",
       "      <td>0.117180</td>\n",
       "      <td>0.172247</td>\n",
       "      <td>0.149707</td>\n",
       "      <td>...</td>\n",
       "      <td>1.521710</td>\n",
       "      <td>0.241102</td>\n",
       "      <td>1.401611</td>\n",
       "      <td>0.264780</td>\n",
       "      <td>1.847439</td>\n",
       "      <td>0.270946</td>\n",
       "      <td>1.669871</td>\n",
       "      <td>0.240125</td>\n",
       "      <td>2.060628</td>\n",
       "      <td>0.249727</td>\n",
       "    </tr>\n",
       "    <tr>\n",
       "      <th>2</th>\n",
       "      <td>-1.308576</td>\n",
       "      <td>-1.240477</td>\n",
       "      <td>0.537564</td>\n",
       "      <td>-0.117162</td>\n",
       "      <td>-0.066708</td>\n",
       "      <td>-0.800647</td>\n",
       "      <td>0.059698</td>\n",
       "      <td>0.293479</td>\n",
       "      <td>0.151682</td>\n",
       "      <td>0.306682</td>\n",
       "      <td>...</td>\n",
       "      <td>1.513917</td>\n",
       "      <td>0.240142</td>\n",
       "      <td>1.397804</td>\n",
       "      <td>0.262563</td>\n",
       "      <td>1.844193</td>\n",
       "      <td>0.270936</td>\n",
       "      <td>1.669624</td>\n",
       "      <td>0.256614</td>\n",
       "      <td>2.064030</td>\n",
       "      <td>0.242510</td>\n",
       "    </tr>\n",
       "    <tr>\n",
       "      <th>3</th>\n",
       "      <td>-1.347488</td>\n",
       "      <td>-1.352918</td>\n",
       "      <td>0.660434</td>\n",
       "      <td>-0.104992</td>\n",
       "      <td>0.114402</td>\n",
       "      <td>-0.930053</td>\n",
       "      <td>-0.030910</td>\n",
       "      <td>0.298816</td>\n",
       "      <td>0.089909</td>\n",
       "      <td>0.300097</td>\n",
       "      <td>...</td>\n",
       "      <td>1.517888</td>\n",
       "      <td>0.229492</td>\n",
       "      <td>1.399408</td>\n",
       "      <td>0.263351</td>\n",
       "      <td>1.834025</td>\n",
       "      <td>0.267778</td>\n",
       "      <td>1.679061</td>\n",
       "      <td>0.254977</td>\n",
       "      <td>2.063563</td>\n",
       "      <td>0.255530</td>\n",
       "    </tr>\n",
       "    <tr>\n",
       "      <th>4</th>\n",
       "      <td>-1.338122</td>\n",
       "      <td>-1.584539</td>\n",
       "      <td>0.640303</td>\n",
       "      <td>-0.180302</td>\n",
       "      <td>-0.396950</td>\n",
       "      <td>-1.171058</td>\n",
       "      <td>-0.240609</td>\n",
       "      <td>0.294813</td>\n",
       "      <td>-0.108522</td>\n",
       "      <td>0.298724</td>\n",
       "      <td>...</td>\n",
       "      <td>1.518709</td>\n",
       "      <td>0.247266</td>\n",
       "      <td>1.401036</td>\n",
       "      <td>0.261134</td>\n",
       "      <td>1.843761</td>\n",
       "      <td>0.271733</td>\n",
       "      <td>1.682369</td>\n",
       "      <td>0.275370</td>\n",
       "      <td>2.068835</td>\n",
       "      <td>0.244632</td>\n",
       "    </tr>\n",
       "  </tbody>\n",
       "</table>\n",
       "<p>5 rows × 22 columns</p>\n",
       "</div>"
      ],
      "text/plain": [
       "   rougher.input.feed_ag  rougher.input.feed_pb  rougher.input.feed_rate  \\\n",
       "0              -1.317128              -1.124829                 0.474189   \n",
       "1              -1.284818              -1.142255                 0.491248   \n",
       "2              -1.308576              -1.240477                 0.537564   \n",
       "3              -1.347488              -1.352918                 0.660434   \n",
       "4              -1.338122              -1.584539                 0.640303   \n",
       "\n",
       "   rougher.input.feed_size  rougher.input.feed_sol  rougher.input.feed_au  \\\n",
       "0                -0.204489                0.103493              -0.734930   \n",
       "1                -0.127171               -0.111090              -0.738943   \n",
       "2                -0.117162               -0.066708              -0.800647   \n",
       "3                -0.104992                0.114402              -0.930053   \n",
       "4                -0.180302               -0.396950              -1.171058   \n",
       "\n",
       "   rougher.input.floatbank10_sulfate  rougher.input.floatbank10_xanthate  \\\n",
       "0                           0.080287                            0.119226   \n",
       "1                           0.075476                            0.117180   \n",
       "2                           0.059698                            0.293479   \n",
       "3                          -0.030910                            0.298816   \n",
       "4                          -0.240609                            0.294813   \n",
       "\n",
       "   rougher.input.floatbank11_sulfate  rougher.input.floatbank11_xanthate  ...  \\\n",
       "0                           0.129028                            0.144169  ...   \n",
       "1                           0.172247                            0.149707  ...   \n",
       "2                           0.151682                            0.306682  ...   \n",
       "3                           0.089909                            0.300097  ...   \n",
       "4                          -0.108522                            0.298724  ...   \n",
       "\n",
       "   rougher.state.floatbank10_b_air  rougher.state.floatbank10_b_level  \\\n",
       "0                         1.534120                           0.506550   \n",
       "1                         1.521710                           0.241102   \n",
       "2                         1.513917                           0.240142   \n",
       "3                         1.517888                           0.229492   \n",
       "4                         1.518709                           0.247266   \n",
       "\n",
       "   rougher.state.floatbank10_c_air  rougher.state.floatbank10_c_level  \\\n",
       "0                         1.410555                           0.401273   \n",
       "1                         1.401611                           0.264780   \n",
       "2                         1.397804                           0.262563   \n",
       "3                         1.399408                           0.263351   \n",
       "4                         1.401036                           0.261134   \n",
       "\n",
       "   rougher.state.floatbank10_d_air  rougher.state.floatbank10_d_level  \\\n",
       "0                         1.839827                           0.246887   \n",
       "1                         1.847439                           0.270946   \n",
       "2                         1.844193                           0.270936   \n",
       "3                         1.834025                           0.267778   \n",
       "4                         1.843761                           0.271733   \n",
       "\n",
       "   rougher.state.floatbank10_e_air  rougher.state.floatbank10_e_level  \\\n",
       "0                         1.697960                           0.158884   \n",
       "1                         1.669871                           0.240125   \n",
       "2                         1.669624                           0.256614   \n",
       "3                         1.679061                           0.254977   \n",
       "4                         1.682369                           0.275370   \n",
       "\n",
       "   rougher.state.floatbank10_f_air  rougher.state.floatbank10_f_level  \n",
       "0                         2.155393                           0.217534  \n",
       "1                         2.060628                           0.249727  \n",
       "2                         2.064030                           0.242510  \n",
       "3                         2.063563                           0.255530  \n",
       "4                         2.068835                           0.244632  \n",
       "\n",
       "[5 rows x 22 columns]"
      ]
     },
     "metadata": {},
     "output_type": "display_data"
    },
    {
     "data": {
      "text/plain": [
       "0    87.107763\n",
       "1    86.843261\n",
       "2    86.842308\n",
       "3    87.226430\n",
       "4    86.688794\n",
       "Name: rougher.output.recovery, dtype: float64"
      ]
     },
     "metadata": {},
     "output_type": "display_data"
    },
    {
     "data": {
      "text/html": [
       "<div>\n",
       "<style scoped>\n",
       "    .dataframe tbody tr th:only-of-type {\n",
       "        vertical-align: middle;\n",
       "    }\n",
       "\n",
       "    .dataframe tbody tr th {\n",
       "        vertical-align: top;\n",
       "    }\n",
       "\n",
       "    .dataframe thead th {\n",
       "        text-align: right;\n",
       "    }\n",
       "</style>\n",
       "<table border=\"1\" class=\"dataframe\">\n",
       "  <thead>\n",
       "    <tr style=\"text-align: right;\">\n",
       "      <th></th>\n",
       "      <th>rougher.input.feed_ag</th>\n",
       "      <th>rougher.input.feed_pb</th>\n",
       "      <th>rougher.input.feed_rate</th>\n",
       "      <th>rougher.input.feed_size</th>\n",
       "      <th>rougher.input.feed_sol</th>\n",
       "      <th>rougher.input.feed_au</th>\n",
       "      <th>rougher.input.floatbank10_sulfate</th>\n",
       "      <th>rougher.input.floatbank10_xanthate</th>\n",
       "      <th>rougher.input.floatbank11_sulfate</th>\n",
       "      <th>rougher.input.floatbank11_xanthate</th>\n",
       "      <th>...</th>\n",
       "      <th>rougher.state.floatbank10_b_air</th>\n",
       "      <th>rougher.state.floatbank10_b_level</th>\n",
       "      <th>rougher.state.floatbank10_c_air</th>\n",
       "      <th>rougher.state.floatbank10_c_level</th>\n",
       "      <th>rougher.state.floatbank10_d_air</th>\n",
       "      <th>rougher.state.floatbank10_d_level</th>\n",
       "      <th>rougher.state.floatbank10_e_air</th>\n",
       "      <th>rougher.state.floatbank10_e_level</th>\n",
       "      <th>rougher.state.floatbank10_f_air</th>\n",
       "      <th>rougher.state.floatbank10_f_level</th>\n",
       "    </tr>\n",
       "  </thead>\n",
       "  <tbody>\n",
       "    <tr>\n",
       "      <th>0</th>\n",
       "      <td>2.421721</td>\n",
       "      <td>1.969028</td>\n",
       "      <td>0.144099</td>\n",
       "      <td>0.107180</td>\n",
       "      <td>1.163755</td>\n",
       "      <td>2.233570</td>\n",
       "      <td>1.619878</td>\n",
       "      <td>0.253090</td>\n",
       "      <td>1.492904</td>\n",
       "      <td>0.262604</td>\n",
       "      <td>...</td>\n",
       "      <td>-0.408421</td>\n",
       "      <td>1.126819</td>\n",
       "      <td>-0.253493</td>\n",
       "      <td>1.167442</td>\n",
       "      <td>-0.077950</td>\n",
       "      <td>1.176700</td>\n",
       "      <td>-0.470956</td>\n",
       "      <td>1.148183</td>\n",
       "      <td>-0.503705</td>\n",
       "      <td>1.168117</td>\n",
       "    </tr>\n",
       "    <tr>\n",
       "      <th>1</th>\n",
       "      <td>2.372625</td>\n",
       "      <td>1.866897</td>\n",
       "      <td>0.147140</td>\n",
       "      <td>0.074853</td>\n",
       "      <td>0.994048</td>\n",
       "      <td>2.146006</td>\n",
       "      <td>1.644723</td>\n",
       "      <td>0.110994</td>\n",
       "      <td>1.527753</td>\n",
       "      <td>0.141305</td>\n",
       "      <td>...</td>\n",
       "      <td>-0.415806</td>\n",
       "      <td>1.112213</td>\n",
       "      <td>-0.254607</td>\n",
       "      <td>1.163252</td>\n",
       "      <td>-0.067330</td>\n",
       "      <td>1.168554</td>\n",
       "      <td>-0.468119</td>\n",
       "      <td>1.148880</td>\n",
       "      <td>-0.500094</td>\n",
       "      <td>1.033613</td>\n",
       "    </tr>\n",
       "    <tr>\n",
       "      <th>2</th>\n",
       "      <td>2.426957</td>\n",
       "      <td>1.775051</td>\n",
       "      <td>0.142381</td>\n",
       "      <td>0.288100</td>\n",
       "      <td>1.270283</td>\n",
       "      <td>2.237403</td>\n",
       "      <td>1.641600</td>\n",
       "      <td>-0.025557</td>\n",
       "      <td>1.523967</td>\n",
       "      <td>0.019740</td>\n",
       "      <td>...</td>\n",
       "      <td>-0.421056</td>\n",
       "      <td>1.106668</td>\n",
       "      <td>-0.260776</td>\n",
       "      <td>1.137415</td>\n",
       "      <td>-0.070855</td>\n",
       "      <td>1.153332</td>\n",
       "      <td>-0.468529</td>\n",
       "      <td>1.153382</td>\n",
       "      <td>-0.499408</td>\n",
       "      <td>1.120666</td>\n",
       "    </tr>\n",
       "    <tr>\n",
       "      <th>3</th>\n",
       "      <td>2.034407</td>\n",
       "      <td>1.487243</td>\n",
       "      <td>0.015247</td>\n",
       "      <td>-0.015545</td>\n",
       "      <td>0.968078</td>\n",
       "      <td>2.285269</td>\n",
       "      <td>1.498011</td>\n",
       "      <td>-0.070363</td>\n",
       "      <td>1.397409</td>\n",
       "      <td>-0.021079</td>\n",
       "      <td>...</td>\n",
       "      <td>-0.399711</td>\n",
       "      <td>1.134697</td>\n",
       "      <td>-0.249986</td>\n",
       "      <td>1.161178</td>\n",
       "      <td>-0.072633</td>\n",
       "      <td>1.212337</td>\n",
       "      <td>-0.457791</td>\n",
       "      <td>1.132147</td>\n",
       "      <td>-0.497045</td>\n",
       "      <td>1.139433</td>\n",
       "    </tr>\n",
       "    <tr>\n",
       "      <th>4</th>\n",
       "      <td>1.463551</td>\n",
       "      <td>1.166600</td>\n",
       "      <td>0.128985</td>\n",
       "      <td>0.133277</td>\n",
       "      <td>1.010572</td>\n",
       "      <td>1.812696</td>\n",
       "      <td>0.585756</td>\n",
       "      <td>-0.129114</td>\n",
       "      <td>0.620628</td>\n",
       "      <td>-0.073412</td>\n",
       "      <td>...</td>\n",
       "      <td>-0.106431</td>\n",
       "      <td>1.119782</td>\n",
       "      <td>0.014100</td>\n",
       "      <td>1.173635</td>\n",
       "      <td>0.163353</td>\n",
       "      <td>1.151783</td>\n",
       "      <td>-0.153026</td>\n",
       "      <td>1.157782</td>\n",
       "      <td>-0.503254</td>\n",
       "      <td>1.148723</td>\n",
       "    </tr>\n",
       "  </tbody>\n",
       "</table>\n",
       "<p>5 rows × 22 columns</p>\n",
       "</div>"
      ],
      "text/plain": [
       "   rougher.input.feed_ag  rougher.input.feed_pb  rougher.input.feed_rate  \\\n",
       "0               2.421721               1.969028                 0.144099   \n",
       "1               2.372625               1.866897                 0.147140   \n",
       "2               2.426957               1.775051                 0.142381   \n",
       "3               2.034407               1.487243                 0.015247   \n",
       "4               1.463551               1.166600                 0.128985   \n",
       "\n",
       "   rougher.input.feed_size  rougher.input.feed_sol  rougher.input.feed_au  \\\n",
       "0                 0.107180                1.163755               2.233570   \n",
       "1                 0.074853                0.994048               2.146006   \n",
       "2                 0.288100                1.270283               2.237403   \n",
       "3                -0.015545                0.968078               2.285269   \n",
       "4                 0.133277                1.010572               1.812696   \n",
       "\n",
       "   rougher.input.floatbank10_sulfate  rougher.input.floatbank10_xanthate  \\\n",
       "0                           1.619878                            0.253090   \n",
       "1                           1.644723                            0.110994   \n",
       "2                           1.641600                           -0.025557   \n",
       "3                           1.498011                           -0.070363   \n",
       "4                           0.585756                           -0.129114   \n",
       "\n",
       "   rougher.input.floatbank11_sulfate  rougher.input.floatbank11_xanthate  ...  \\\n",
       "0                           1.492904                            0.262604  ...   \n",
       "1                           1.527753                            0.141305  ...   \n",
       "2                           1.523967                            0.019740  ...   \n",
       "3                           1.397409                           -0.021079  ...   \n",
       "4                           0.620628                           -0.073412  ...   \n",
       "\n",
       "   rougher.state.floatbank10_b_air  rougher.state.floatbank10_b_level  \\\n",
       "0                        -0.408421                           1.126819   \n",
       "1                        -0.415806                           1.112213   \n",
       "2                        -0.421056                           1.106668   \n",
       "3                        -0.399711                           1.134697   \n",
       "4                        -0.106431                           1.119782   \n",
       "\n",
       "   rougher.state.floatbank10_c_air  rougher.state.floatbank10_c_level  \\\n",
       "0                        -0.253493                           1.167442   \n",
       "1                        -0.254607                           1.163252   \n",
       "2                        -0.260776                           1.137415   \n",
       "3                        -0.249986                           1.161178   \n",
       "4                         0.014100                           1.173635   \n",
       "\n",
       "   rougher.state.floatbank10_d_air  rougher.state.floatbank10_d_level  \\\n",
       "0                        -0.077950                           1.176700   \n",
       "1                        -0.067330                           1.168554   \n",
       "2                        -0.070855                           1.153332   \n",
       "3                        -0.072633                           1.212337   \n",
       "4                         0.163353                           1.151783   \n",
       "\n",
       "   rougher.state.floatbank10_e_air  rougher.state.floatbank10_e_level  \\\n",
       "0                        -0.470956                           1.148183   \n",
       "1                        -0.468119                           1.148880   \n",
       "2                        -0.468529                           1.153382   \n",
       "3                        -0.457791                           1.132147   \n",
       "4                        -0.153026                           1.157782   \n",
       "\n",
       "   rougher.state.floatbank10_f_air  rougher.state.floatbank10_f_level  \n",
       "0                        -0.503705                           1.168117  \n",
       "1                        -0.500094                           1.033613  \n",
       "2                        -0.499408                           1.120666  \n",
       "3                        -0.497045                           1.139433  \n",
       "4                        -0.503254                           1.148723  \n",
       "\n",
       "[5 rows x 22 columns]"
      ]
     },
     "metadata": {},
     "output_type": "display_data"
    },
    {
     "data": {
      "text/plain": [
       "0    87.107763\n",
       "1    86.843261\n",
       "2    86.842308\n",
       "3    87.226430\n",
       "4    86.688794\n",
       "Name: rougher.output.recovery, dtype: float64"
      ]
     },
     "metadata": {},
     "output_type": "display_data"
    }
   ],
   "source": [
    "# Select columns corresponding to rougher process\n",
    "rougher_columns = [c for c in df_test.columns if \"rougher\" in c and c != 'rougher.output.recovery']\n",
    "\n",
    "# Get rougher training features and target\n",
    "df_train_rougher_features = df_train_features_scaled[rougher_columns]\n",
    "df_train_rougher_target = df_full.loc[df_train_features.index, 'rougher.output.recovery']\n",
    "\n",
    "# Get rougher test features and target\n",
    "df_test_rougher_features = df_test_features_scaled[rougher_columns]\n",
    "df_test_rougher_target = df_full.loc[df_test_features.index, 'rougher.output.recovery']\n",
    "\n",
    "# Check dataframes\n",
    "display(df_train_rougher_features.head())\n",
    "display(df_train_rougher_target.head())\n",
    "display(df_test_rougher_features.head())\n",
    "display(df_test_rougher_target.head())\n"
   ]
  },
  {
   "cell_type": "code",
   "execution_count": 43,
   "metadata": {},
   "outputs": [],
   "source": [
    "#Создание новой метрики.\n",
    "\n",
    "smape = make_scorer(sMAPE, greater_is_better = False)"
   ]
  },
  {
   "cell_type": "markdown",
   "metadata": {},
   "source": [
    "### Обучение моделей и оценка качества кросс-валидацией"
   ]
  },
  {
   "cell_type": "markdown",
   "metadata": {},
   "source": [
    "#### Rougher model"
   ]
  },
  {
   "cell_type": "markdown",
   "metadata": {},
   "source": [
    "**Случайный лес**"
   ]
  },
  {
   "cell_type": "code",
   "execution_count": 44,
   "metadata": {},
   "outputs": [
    {
     "data": {
      "text/plain": [
       "RandomizedSearchCV(cv=3, estimator=RandomForestRegressor(random_state=12345),\n",
       "                   n_jobs=-1,\n",
       "                   param_distributions={'max_depth': range(1, 8),\n",
       "                                        'max_features': ['auto', 'sqrt',\n",
       "                                                         'log2'],\n",
       "                                        'min_samples_leaf': range(1, 8),\n",
       "                                        'min_samples_split': range(2, 10),\n",
       "                                        'n_estimators': range(100, 400, 100)},\n",
       "                   random_state=12345,\n",
       "                   scoring=make_scorer(sMAPE, greater_is_better=False))"
      ]
     },
     "execution_count": 44,
     "metadata": {},
     "output_type": "execute_result"
    }
   ],
   "source": [
    "RANDOM_STATE = 12345\n",
    "rf_model_rougher = RandomForestRegressor(random_state=RANDOM_STATE)\n",
    "\n",
    "distribution_forest = dict(n_estimators=range(100, 400, 100),\n",
    "                           max_depth=range(1, 8),\n",
    "                           min_samples_split=range(2, 10),\n",
    "                           min_samples_leaf=range(1, 8),\n",
    "                           max_features=['auto', 'sqrt', 'log2'])\n",
    "\n",
    "rs_rf_rougher = RandomizedSearchCV(rf_model_rougher, \n",
    "                                   param_distributions=distribution_forest,\n",
    "                                   scoring=smape,\n",
    "                                   cv=3,\n",
    "                                   random_state=RANDOM_STATE,\n",
    "                                   n_jobs=-1)\n",
    "\n",
    "rs_rf_rougher.fit(df_train_rougher_features, df_train_rougher_target)\n",
    "\n",
    "\n",
    "\n",
    "\n",
    "\n",
    "\n"
   ]
  },
  {
   "cell_type": "code",
   "execution_count": 45,
   "metadata": {},
   "outputs": [
    {
     "data": {
      "text/plain": [
       "{'n_estimators': 300,\n",
       " 'min_samples_split': 2,\n",
       " 'min_samples_leaf': 7,\n",
       " 'max_features': 'log2',\n",
       " 'max_depth': 1}"
      ]
     },
     "metadata": {},
     "output_type": "display_data"
    },
    {
     "data": {
      "text/plain": [
       "10.64746620115389"
      ]
     },
     "metadata": {},
     "output_type": "display_data"
    }
   ],
   "source": [
    "display(rs_rf_rougher.best_params_)\n",
    "display(-rs_rf_rougher.best_score_)"
   ]
  },
  {
   "cell_type": "markdown",
   "metadata": {},
   "source": [
    "**Дерево решений**"
   ]
  },
  {
   "cell_type": "code",
   "execution_count": 46,
   "metadata": {
    "scrolled": true
   },
   "outputs": [
    {
     "name": "stdout",
     "output_type": "stream",
     "text": [
      "Fitting 3 folds for each of 10 candidates, totalling 30 fits\n",
      "[CV] END max_depth=2, min_samples_leaf=7, min_samples_split=7; total time=   0.0s\n",
      "[CV] END max_depth=2, min_samples_leaf=7, min_samples_split=7; total time=   0.0s\n",
      "[CV] END max_depth=2, min_samples_leaf=7, min_samples_split=7; total time=   0.0s\n",
      "[CV] END max_depth=5, min_samples_leaf=4, min_samples_split=5; total time=   0.1s\n",
      "[CV] END max_depth=5, min_samples_leaf=4, min_samples_split=5; total time=   0.1s\n",
      "[CV] END max_depth=5, min_samples_leaf=4, min_samples_split=5; total time=   0.1s\n",
      "[CV] END max_depth=6, min_samples_leaf=7, min_samples_split=5; total time=   0.1s\n",
      "[CV] END max_depth=6, min_samples_leaf=7, min_samples_split=5; total time=   0.1s\n",
      "[CV] END max_depth=6, min_samples_leaf=7, min_samples_split=5; total time=   0.1s\n",
      "[CV] END max_depth=1, min_samples_leaf=7, min_samples_split=7; total time=   0.0s\n",
      "[CV] END max_depth=1, min_samples_leaf=7, min_samples_split=7; total time=   0.0s\n",
      "[CV] END max_depth=1, min_samples_leaf=7, min_samples_split=7; total time=   0.0s\n",
      "[CV] END max_depth=7, min_samples_leaf=3, min_samples_split=7; total time=   0.1s\n",
      "[CV] END max_depth=7, min_samples_leaf=3, min_samples_split=7; total time=   0.1s\n",
      "[CV] END max_depth=7, min_samples_leaf=3, min_samples_split=7; total time=   0.1s\n",
      "[CV] END max_depth=5, min_samples_leaf=4, min_samples_split=3; total time=   0.1s\n",
      "[CV] END max_depth=5, min_samples_leaf=4, min_samples_split=3; total time=   0.1s\n",
      "[CV] END max_depth=5, min_samples_leaf=4, min_samples_split=3; total time=   0.1s\n",
      "[CV] END max_depth=4, min_samples_leaf=4, min_samples_split=4; total time=   0.1s\n",
      "[CV] END max_depth=4, min_samples_leaf=4, min_samples_split=4; total time=   0.1s\n",
      "[CV] END max_depth=4, min_samples_leaf=4, min_samples_split=4; total time=   0.1s\n",
      "[CV] END max_depth=8, min_samples_leaf=2, min_samples_split=3; total time=   0.3s\n",
      "[CV] END max_depth=8, min_samples_leaf=2, min_samples_split=3; total time=   0.4s\n",
      "[CV] END max_depth=8, min_samples_leaf=2, min_samples_split=3; total time=   0.4s\n",
      "[CV] END max_depth=2, min_samples_leaf=4, min_samples_split=4; total time=   0.1s\n",
      "[CV] END max_depth=2, min_samples_leaf=4, min_samples_split=4; total time=   0.1s\n",
      "[CV] END max_depth=2, min_samples_leaf=4, min_samples_split=4; total time=   0.2s\n",
      "[CV] END max_depth=1, min_samples_leaf=7, min_samples_split=2; total time=   0.1s\n",
      "[CV] END max_depth=1, min_samples_leaf=7, min_samples_split=2; total time=   0.0s\n",
      "[CV] END max_depth=1, min_samples_leaf=7, min_samples_split=2; total time=   0.1s\n"
     ]
    },
    {
     "data": {
      "text/plain": [
       "RandomizedSearchCV(cv=3, estimator=DecisionTreeRegressor(random_state=12345),\n",
       "                   n_jobs=-1,\n",
       "                   param_distributions={'max_depth': range(1, 9),\n",
       "                                        'min_samples_leaf': range(2, 8),\n",
       "                                        'min_samples_split': range(2, 8)},\n",
       "                   random_state=12345,\n",
       "                   scoring=make_scorer(sMAPE, greater_is_better=False),\n",
       "                   verbose=2)"
      ]
     },
     "execution_count": 46,
     "metadata": {},
     "output_type": "execute_result"
    }
   ],
   "source": [
    "model_tree_rougher = DecisionTreeRegressor(random_state = RANDOM_STATE)\n",
    "\n",
    "#Параметры, которые будут перебираться\n",
    "distribution_tree = dict(max_depth = range(1, 9, 1),\n",
    "                        min_samples_split = range(2, 8),\n",
    "                        min_samples_leaf = range(2, 8))\n",
    "\n",
    "rs_tree_rougher = RandomizedSearchCV(model_tree_rougher, \n",
    "                       param_distributions = distribution_tree,\n",
    "                       scoring = smape, #Выставим метрику, по которой будет идти оптимизация.\n",
    "                       cv = 3, \n",
    "                       random_state = RANDOM_STATE,\n",
    "                       n_jobs = -1,\n",
    "                       verbose = 2)\n",
    "\n",
    "rs_tree_rougher.fit(df_train_rougher_features, df_train_rougher_target)\n",
    "\n",
    "\n",
    "\n"
   ]
  },
  {
   "cell_type": "code",
   "execution_count": 47,
   "metadata": {},
   "outputs": [
    {
     "data": {
      "text/plain": [
       "{'min_samples_split': 7, 'min_samples_leaf': 7, 'max_depth': 1}"
      ]
     },
     "metadata": {},
     "output_type": "display_data"
    },
    {
     "data": {
      "text/plain": [
       "10.580972571332866"
      ]
     },
     "metadata": {},
     "output_type": "display_data"
    }
   ],
   "source": [
    "display(rs_tree_rougher.best_params_)\n",
    "display(-rs_tree_rougher.best_score_)"
   ]
  },
  {
   "cell_type": "markdown",
   "metadata": {},
   "source": [
    "**Вывод:**\n",
    "На тестировании модели будем использовать Случайный лес с гиперпараметрами:\n",
    "\n",
    "{'n_estimators': 300,\n",
    " 'min_samples_split': 2,\n",
    " 'min_samples_leaf': 7,\n",
    " 'max_features': 'log2',\n",
    " 'max_depth': 1}"
   ]
  },
  {
   "cell_type": "markdown",
   "metadata": {},
   "source": [
    "#### Final model"
   ]
  },
  {
   "cell_type": "markdown",
   "metadata": {},
   "source": [
    "**Случайный лес**"
   ]
  },
  {
   "cell_type": "code",
   "execution_count": 48,
   "metadata": {
    "scrolled": true
   },
   "outputs": [
    {
     "data": {
      "text/plain": [
       "RandomizedSearchCV(cv=3, estimator=RandomForestRegressor(random_state=5678),\n",
       "                   n_jobs=-1,\n",
       "                   param_distributions={'max_depth': range(1, 8),\n",
       "                                        'max_features': ['auto', 'sqrt',\n",
       "                                                         'log2'],\n",
       "                                        'min_samples_leaf': range(1, 8),\n",
       "                                        'min_samples_split': range(2, 10),\n",
       "                                        'n_estimators': range(100, 400, 100)},\n",
       "                   random_state=12345,\n",
       "                   scoring=make_scorer(sMAPE, greater_is_better=False))"
      ]
     },
     "execution_count": 48,
     "metadata": {},
     "output_type": "execute_result"
    }
   ],
   "source": [
    "rf_model_final = RandomForestRegressor(random_state = 5678)\n",
    "\n",
    "rf_forest_final = RandomizedSearchCV(rf_model_final, \n",
    "                         param_distributions = distribution_forest,\n",
    "                         scoring = smape,\n",
    "                         cv = 3,\n",
    "                         random_state = RANDOM_STATE,\n",
    "                         n_jobs = -1)\n",
    "\n",
    "rf_forest_final.fit(df_train_features_scaled, df_train_target)\n"
   ]
  },
  {
   "cell_type": "code",
   "execution_count": 49,
   "metadata": {
    "scrolled": false
   },
   "outputs": [
    {
     "data": {
      "text/plain": [
       "0        70.541216\n",
       "1        69.266198\n",
       "2        68.116445\n",
       "3        68.347543\n",
       "4        66.927016\n",
       "           ...    \n",
       "14144    73.755150\n",
       "14145    69.049291\n",
       "14146    67.002189\n",
       "14147    65.523246\n",
       "14148    70.281454\n",
       "Name: final.output.recovery, Length: 13602, dtype: float64"
      ]
     },
     "execution_count": 49,
     "metadata": {},
     "output_type": "execute_result"
    }
   ],
   "source": [
    "# КОД РЕВЬЮЕРА\n",
    "df_train_target"
   ]
  },
  {
   "cell_type": "code",
   "execution_count": 50,
   "metadata": {
    "scrolled": false
   },
   "outputs": [
    {
     "data": {
      "text/plain": [
       "{'n_estimators': 100,\n",
       " 'min_samples_split': 8,\n",
       " 'min_samples_leaf': 2,\n",
       " 'max_features': 'auto',\n",
       " 'max_depth': 2}"
      ]
     },
     "metadata": {},
     "output_type": "display_data"
    },
    {
     "data": {
      "text/plain": [
       "8.290151556966215"
      ]
     },
     "metadata": {},
     "output_type": "display_data"
    }
   ],
   "source": [
    "display(rf_forest_final.best_params_)\n",
    "display(-rf_forest_final.best_score_)"
   ]
  },
  {
   "cell_type": "markdown",
   "metadata": {},
   "source": [
    "**Дерево решений**"
   ]
  },
  {
   "cell_type": "code",
   "execution_count": 51,
   "metadata": {},
   "outputs": [
    {
     "name": "stdout",
     "output_type": "stream",
     "text": [
      "Fitting 3 folds for each of 10 candidates, totalling 30 fits\n",
      "[CV] END max_depth=2, min_samples_leaf=7, min_samples_split=7; total time=   0.1s\n",
      "[CV] END max_depth=2, min_samples_leaf=7, min_samples_split=7; total time=   0.1s\n",
      "[CV] END max_depth=2, min_samples_leaf=7, min_samples_split=7; total time=   0.1s\n",
      "[CV] END max_depth=5, min_samples_leaf=4, min_samples_split=5; total time=   0.2s\n",
      "[CV] END max_depth=5, min_samples_leaf=4, min_samples_split=5; total time=   0.2s\n",
      "[CV] END max_depth=5, min_samples_leaf=4, min_samples_split=5; total time=   0.2s\n",
      "[CV] END max_depth=6, min_samples_leaf=7, min_samples_split=5; total time=   0.3s\n",
      "[CV] END max_depth=6, min_samples_leaf=7, min_samples_split=5; total time=   0.3s\n",
      "[CV] END max_depth=6, min_samples_leaf=7, min_samples_split=5; total time=   0.3s\n",
      "[CV] END max_depth=1, min_samples_leaf=7, min_samples_split=7; total time=   0.1s\n",
      "[CV] END max_depth=1, min_samples_leaf=7, min_samples_split=7; total time=   0.1s\n",
      "[CV] END max_depth=1, min_samples_leaf=7, min_samples_split=7; total time=   0.1s\n",
      "[CV] END max_depth=7, min_samples_leaf=3, min_samples_split=7; total time=   0.3s\n",
      "[CV] END max_depth=7, min_samples_leaf=3, min_samples_split=7; total time=   0.4s\n",
      "[CV] END max_depth=7, min_samples_leaf=3, min_samples_split=7; total time=   0.4s\n",
      "[CV] END max_depth=5, min_samples_leaf=4, min_samples_split=3; total time=   0.3s\n",
      "[CV] END max_depth=5, min_samples_leaf=4, min_samples_split=3; total time=   0.3s\n",
      "[CV] END max_depth=5, min_samples_leaf=4, min_samples_split=3; total time=   0.3s\n",
      "[CV] END max_depth=4, min_samples_leaf=4, min_samples_split=4; total time=   0.2s\n",
      "[CV] END max_depth=4, min_samples_leaf=4, min_samples_split=4; total time=   0.2s\n",
      "[CV] END max_depth=4, min_samples_leaf=4, min_samples_split=4; total time=   0.2s\n",
      "[CV] END max_depth=8, min_samples_leaf=2, min_samples_split=3; total time=   0.4s\n",
      "[CV] END max_depth=8, min_samples_leaf=2, min_samples_split=3; total time=   0.4s\n",
      "[CV] END max_depth=8, min_samples_leaf=2, min_samples_split=3; total time=   0.4s\n",
      "[CV] END max_depth=2, min_samples_leaf=4, min_samples_split=4; total time=   0.1s\n",
      "[CV] END max_depth=2, min_samples_leaf=4, min_samples_split=4; total time=   0.1s\n",
      "[CV] END max_depth=2, min_samples_leaf=4, min_samples_split=4; total time=   0.1s\n",
      "[CV] END max_depth=1, min_samples_leaf=7, min_samples_split=2; total time=   0.1s\n",
      "[CV] END max_depth=1, min_samples_leaf=7, min_samples_split=2; total time=   0.1s\n",
      "[CV] END max_depth=1, min_samples_leaf=7, min_samples_split=2; total time=   0.1s\n"
     ]
    },
    {
     "data": {
      "text/plain": [
       "RandomizedSearchCV(cv=3, estimator=DecisionTreeRegressor(random_state=5678),\n",
       "                   n_jobs=-1,\n",
       "                   param_distributions={'max_depth': range(1, 9),\n",
       "                                        'min_samples_leaf': range(2, 8),\n",
       "                                        'min_samples_split': range(2, 8)},\n",
       "                   random_state=12345,\n",
       "                   scoring=make_scorer(sMAPE, greater_is_better=False),\n",
       "                   verbose=2)"
      ]
     },
     "execution_count": 51,
     "metadata": {},
     "output_type": "execute_result"
    }
   ],
   "source": [
    "tree_model_final = DecisionTreeRegressor(random_state = 5678)\n",
    "\n",
    "rs_forest_final = RandomizedSearchCV(tree_model_final, \n",
    "                       param_distributions = distribution_tree,\n",
    "                       scoring = smape,\n",
    "                       cv = 3, \n",
    "                       random_state = RANDOM_STATE,\n",
    "                       n_jobs = -1,\n",
    "                       verbose = 2)\n",
    "\n",
    "rs_forest_final.fit(df_train_features_scaled, df_train_target)"
   ]
  },
  {
   "cell_type": "code",
   "execution_count": 52,
   "metadata": {},
   "outputs": [
    {
     "data": {
      "text/plain": [
       "{'min_samples_split': 7, 'min_samples_leaf': 7, 'max_depth': 2}"
      ]
     },
     "metadata": {},
     "output_type": "display_data"
    },
    {
     "data": {
      "text/plain": [
       "8.738803464872836"
      ]
     },
     "metadata": {},
     "output_type": "display_data"
    }
   ],
   "source": [
    "display(rs_forest_final.best_params_)\n",
    "display(-rs_forest_final.best_score_)"
   ]
  },
  {
   "cell_type": "markdown",
   "metadata": {},
   "source": [
    "**Вывод:**\n",
    "На тестировании модели будем использовать Случайный лес с гиперпараметрами:\n",
    "\n",
    "{'n_estimators': 100,\n",
    " 'min_samples_split': 8,\n",
    " 'min_samples_leaf': 2,\n",
    " 'max_features': 'auto',\n",
    " 'max_depth': 2}\n"
   ]
  },
  {
   "cell_type": "markdown",
   "metadata": {},
   "source": [
    "### Тестирование модели"
   ]
  },
  {
   "cell_type": "markdown",
   "metadata": {},
   "source": [
    "#### Rougher модель тестирование"
   ]
  },
  {
   "cell_type": "code",
   "execution_count": 53,
   "metadata": {},
   "outputs": [
    {
     "name": "stdout",
     "output_type": "stream",
     "text": [
      "sMAPE rougher: 11.66565990055103\n"
     ]
    }
   ],
   "source": [
    "predictions_rougher = rs_rf_rougher.predict(df_test_rougher_features)\n",
    "smape_rougher = sMAPE(df_test_rougher_target, predictions_rougher)\n",
    "print('sMAPE rougher:', smape_rougher)\n",
    "\n"
   ]
  },
  {
   "cell_type": "markdown",
   "metadata": {},
   "source": [
    "#### Final model тестирование"
   ]
  },
  {
   "cell_type": "code",
   "execution_count": 54,
   "metadata": {},
   "outputs": [
    {
     "name": "stdout",
     "output_type": "stream",
     "text": [
      "sMAPE final: 6.598173526845964\n"
     ]
    }
   ],
   "source": [
    "predictions_final = rf_forest_final.predict(df_test_features_scaled)\n",
    "smape_final = sMAPE(df_test_target, predictions_final)\n",
    "print('sMAPE final:', smape_final)"
   ]
  },
  {
   "cell_type": "markdown",
   "metadata": {},
   "source": [
    "#### Итоговое sMAPE"
   ]
  },
  {
   "cell_type": "code",
   "execution_count": 55,
   "metadata": {},
   "outputs": [
    {
     "name": "stdout",
     "output_type": "stream",
     "text": [
      "ИТОГОВОЕ sMAPE = 7.865045120272231\n"
     ]
    }
   ],
   "source": [
    "print('ИТОГОВОЕ sMAPE =', final_sMAPE(smape_rougher, smape_final))"
   ]
  },
  {
   "cell_type": "markdown",
   "metadata": {},
   "source": [
    "### Сравнение метрик с дамми-моделью"
   ]
  },
  {
   "cell_type": "code",
   "execution_count": 56,
   "metadata": {},
   "outputs": [
    {
     "data": {
      "text/plain": [
       "DummyRegressor(strategy='median')"
      ]
     },
     "execution_count": 56,
     "metadata": {},
     "output_type": "execute_result"
    }
   ],
   "source": [
    "dummy_rougher = DummyRegressor(strategy=\"median\")\n",
    "dummy_final = DummyRegressor(strategy=\"median\")\n",
    "\n",
    "\n",
    "dummy_rougher.fit(df_train_rougher_features, df_train_rougher_target)\n",
    "dummy_final.fit(df_train_features_scaled, df_train_target)\n"
   ]
  },
  {
   "cell_type": "code",
   "execution_count": 57,
   "metadata": {
    "scrolled": true
   },
   "outputs": [
    {
     "name": "stdout",
     "output_type": "stream",
     "text": [
      "smape_dummy_rougher = 12.400774611489252\n",
      "smape_dummy_final = 8.233905731555899\n",
      "final_dummy_sMAPE = 9.275622951539237\n"
     ]
    }
   ],
   "source": [
    "\n",
    "dummy_rougher_pred = dummy_rougher.predict(df_test_rougher_features)\n",
    "dummy_final_pred = dummy_final.predict(df_test_features_scaled)\n",
    "\n",
    "smape_dummy_rougher = sMAPE(df_test_rougher_target, dummy_rougher_pred)\n",
    "smape_dummy_final = sMAPE(df_test_target, dummy_final_pred)\n",
    "\n",
    "\n",
    "print('smape_dummy_rougher =', smape_dummy_rougher)\n",
    "print('smape_dummy_final =', smape_dummy_final)\n",
    "print('final_dummy_sMAPE =', final_sMAPE(smape_dummy_rougher, smape_dummy_final))\n",
    "\n",
    "\n"
   ]
  },
  {
   "cell_type": "markdown",
   "metadata": {},
   "source": [
    "### Вывод"
   ]
  },
  {
   "cell_type": "markdown",
   "metadata": {},
   "source": [
    "\n",
    "Исходя из результатов тестирования моделей, получены следующие значения метрики sMAPE:\n",
    "\n",
    "- sMAPE для модели Rougher: 11.67%\n",
    "- sMAPE для модели Final: 6.60%\n",
    "- Итоговое sMAPE: 7.87%\n",
    "\n",
    "Для сравнения, была обучена дамми-модель с использованием медианы в качестве предсказания. Значения метрики sMAPE для дамми-модели составляют:\n",
    "\n",
    "- sMAPE для дамми-модели Rougher: 12.40%\n",
    "- sMAPE для дамми-модели Final: 8.23%\n",
    "- Итоговое sMAPE для дамми-модели: 9.28%\n",
    "\n",
    "Таким образом, можно сделать вывод, что обе модели (Rougher и Final) показали лучшие результаты, чем дамми-модель, и являются приемлемыми для использования в практике. Итоговое sMAPE для обеих моделей также демонстрирует хорошее качество предсказания. Модель Final, в свою очередь, показала лучшие результаты по сравнению с Rougher."
   ]
  },
  {
   "cell_type": "markdown",
   "metadata": {},
   "source": [
    "## Вывод по проекту:\n",
    "1. \n",
    "   - Были извлечены и изучены данные\n",
    "   - В обучающей выборке 87 столбцов и 14149 строчек\n",
    "   - В тестовой выборке 53 столбцов и 5290 строчек\n",
    "   - В исходной выборке 87 столбцов и 19439 строчек\n",
    "   - Нашли MAE между собственными расчётами и значением признака, которое равно 0.00000000000000973512\n",
    "   - Перевели date в формат datetime\n",
    "   - Избавились от пропусков\n",
    "2. В процессе очистки золота и серебра концентрация на каждом последующем этапе становится более высокой, а распределение концентрации становится более узким и сдвигается влево, что указывает на эффективность процесса очистки. Однако распределение концентрации свинца имеет два пика на первом этапе очистки и снижается на последнем этапе, что может свидетельствовать о потерях в процессе очистки свинца.\n",
    "3. После тестирования моделей получены следующие значения метрики sMAPE: 11.67% для модели Rougher, 6.60% для модели Final и 7.87% в целом. Дамми-модель с использованием медианы в качестве предсказания имеет значения sMAPE: 12.40% для Rougher, 8.23% для Final и 9.28% в целом. Из этого следует, что обе модели показали лучшие результаты, чем дамми-модель, и могут быть использованы в практике. Итоговое sMAPE для обеих моделей демонстрирует хорошее качество предсказания. Модель Final показала лучшие результаты по сравнению с Rougher."
   ]
  },
  {
   "cell_type": "markdown",
   "metadata": {},
   "source": [
    "## Чек-лист готовности проекта"
   ]
  }
 ],
 "metadata": {
  "ExecuteTimeLog": [
   {
    "duration": 1458,
    "start_time": "2023-04-11T17:57:43.378Z"
   },
   {
    "duration": 2496,
    "start_time": "2023-04-11T17:58:37.566Z"
   },
   {
    "duration": 3,
    "start_time": "2023-04-11T18:04:12.086Z"
   },
   {
    "duration": 771,
    "start_time": "2023-04-11T18:04:12.678Z"
   },
   {
    "duration": 1219,
    "start_time": "2023-04-11T18:04:41.245Z"
   },
   {
    "duration": 1409,
    "start_time": "2023-04-11T18:05:01.244Z"
   },
   {
    "duration": 3,
    "start_time": "2023-04-11T18:08:07.177Z"
   },
   {
    "duration": 1385,
    "start_time": "2023-04-11T18:08:07.183Z"
   },
   {
    "duration": 668,
    "start_time": "2023-04-11T18:20:23.255Z"
   },
   {
    "duration": 50,
    "start_time": "2023-04-13T10:28:20.600Z"
   },
   {
    "duration": 1462,
    "start_time": "2023-04-13T10:28:22.950Z"
   },
   {
    "duration": 744,
    "start_time": "2023-04-13T10:28:24.414Z"
   },
   {
    "duration": 343,
    "start_time": "2023-04-13T10:29:00.114Z"
   },
   {
    "duration": 2287,
    "start_time": "2023-04-13T10:30:09.340Z"
   },
   {
    "duration": 18,
    "start_time": "2023-04-13T10:44:13.924Z"
   },
   {
    "duration": 25,
    "start_time": "2023-04-13T10:44:36.333Z"
   },
   {
    "duration": 201,
    "start_time": "2023-04-13T10:45:00.810Z"
   },
   {
    "duration": 124,
    "start_time": "2023-04-13T10:45:20.115Z"
   },
   {
    "duration": 8,
    "start_time": "2023-04-13T10:45:34.118Z"
   },
   {
    "duration": 120,
    "start_time": "2023-04-13T10:45:54.741Z"
   },
   {
    "duration": 1639,
    "start_time": "2023-04-15T17:22:41.744Z"
   },
   {
    "duration": 3174,
    "start_time": "2023-04-15T17:22:43.385Z"
   },
   {
    "duration": 16,
    "start_time": "2023-04-15T17:32:57.510Z"
   },
   {
    "duration": 145,
    "start_time": "2023-04-15T17:33:09.953Z"
   },
   {
    "duration": 27,
    "start_time": "2023-04-15T17:33:18.110Z"
   },
   {
    "duration": 23,
    "start_time": "2023-04-15T17:33:37.366Z"
   },
   {
    "duration": 8,
    "start_time": "2023-04-15T17:33:48.743Z"
   },
   {
    "duration": 20,
    "start_time": "2023-04-15T17:36:24.936Z"
   },
   {
    "duration": 279,
    "start_time": "2023-04-15T17:36:46.143Z"
   },
   {
    "duration": 23,
    "start_time": "2023-04-15T17:36:52.713Z"
   },
   {
    "duration": 103,
    "start_time": "2023-04-15T17:37:03.724Z"
   },
   {
    "duration": 11,
    "start_time": "2023-04-15T17:37:17.663Z"
   },
   {
    "duration": 116,
    "start_time": "2023-04-15T18:48:23.956Z"
   },
   {
    "duration": 3,
    "start_time": "2023-04-15T18:48:29.481Z"
   },
   {
    "duration": 785,
    "start_time": "2023-04-15T18:48:29.487Z"
   },
   {
    "duration": 20,
    "start_time": "2023-04-15T18:48:30.274Z"
   },
   {
    "duration": 45,
    "start_time": "2023-04-15T18:48:30.296Z"
   },
   {
    "duration": 272,
    "start_time": "2023-04-15T18:48:30.345Z"
   },
   {
    "duration": 142,
    "start_time": "2023-04-15T18:48:30.619Z"
   },
   {
    "duration": 10,
    "start_time": "2023-04-15T18:48:30.763Z"
   },
   {
    "duration": 67,
    "start_time": "2023-04-15T18:48:30.775Z"
   },
   {
    "duration": 175,
    "start_time": "2023-04-15T18:48:30.844Z"
   },
   {
    "duration": 33,
    "start_time": "2023-04-15T18:48:31.020Z"
   },
   {
    "duration": 84,
    "start_time": "2023-04-15T18:48:31.055Z"
   },
   {
    "duration": 25,
    "start_time": "2023-04-15T18:48:31.141Z"
   },
   {
    "duration": 75,
    "start_time": "2023-04-15T18:48:31.167Z"
   },
   {
    "duration": 601,
    "start_time": "2023-04-15T18:48:31.245Z"
   },
   {
    "duration": 37,
    "start_time": "2023-04-15T18:48:31.848Z"
   },
   {
    "duration": 219,
    "start_time": "2023-04-15T18:48:31.942Z"
   },
   {
    "duration": 12,
    "start_time": "2023-04-15T18:48:32.163Z"
   },
   {
    "duration": 71,
    "start_time": "2023-04-15T18:48:32.177Z"
   },
   {
    "duration": 8,
    "start_time": "2023-04-15T18:49:19.734Z"
   },
   {
    "duration": 10,
    "start_time": "2023-04-15T18:49:27.751Z"
   },
   {
    "duration": 11,
    "start_time": "2023-04-15T18:49:51.406Z"
   },
   {
    "duration": 12,
    "start_time": "2023-04-15T18:50:02.626Z"
   },
   {
    "duration": 10,
    "start_time": "2023-04-15T18:50:34.780Z"
   },
   {
    "duration": 10,
    "start_time": "2023-04-15T18:51:17.907Z"
   },
   {
    "duration": 1465,
    "start_time": "2023-04-15T18:51:39.540Z"
   },
   {
    "duration": 836,
    "start_time": "2023-04-15T18:51:41.008Z"
   },
   {
    "duration": 20,
    "start_time": "2023-04-15T18:51:41.845Z"
   },
   {
    "duration": 96,
    "start_time": "2023-04-15T18:51:41.867Z"
   },
   {
    "duration": 509,
    "start_time": "2023-04-15T18:51:41.965Z"
   },
   {
    "duration": 281,
    "start_time": "2023-04-15T18:51:42.475Z"
   },
   {
    "duration": 9,
    "start_time": "2023-04-15T18:51:42.758Z"
   },
   {
    "duration": 19,
    "start_time": "2023-04-15T18:51:42.769Z"
   },
   {
    "duration": 292,
    "start_time": "2023-04-15T18:51:42.790Z"
   },
   {
    "duration": 77,
    "start_time": "2023-04-15T18:51:43.084Z"
   },
   {
    "duration": 25,
    "start_time": "2023-04-15T18:51:43.163Z"
   },
   {
    "duration": 60,
    "start_time": "2023-04-15T18:51:43.190Z"
   },
   {
    "duration": 26,
    "start_time": "2023-04-15T18:51:43.252Z"
   },
   {
    "duration": 497,
    "start_time": "2023-04-15T18:51:43.281Z"
   },
   {
    "duration": 23,
    "start_time": "2023-04-15T18:51:43.780Z"
   },
   {
    "duration": 121,
    "start_time": "2023-04-15T18:51:43.804Z"
   },
   {
    "duration": 18,
    "start_time": "2023-04-15T18:51:43.927Z"
   },
   {
    "duration": 7,
    "start_time": "2023-04-15T18:51:43.947Z"
   },
   {
    "duration": 5,
    "start_time": "2023-04-15T18:51:43.956Z"
   },
   {
    "duration": 87,
    "start_time": "2023-04-15T18:54:50.713Z"
   },
   {
    "duration": 70,
    "start_time": "2023-04-15T18:55:05.743Z"
   },
   {
    "duration": 6,
    "start_time": "2023-04-15T18:55:59.202Z"
   },
   {
    "duration": 7,
    "start_time": "2023-04-15T18:56:15.627Z"
   },
   {
    "duration": 123,
    "start_time": "2023-04-15T19:03:37.327Z"
   },
   {
    "duration": 26,
    "start_time": "2023-04-15T19:03:58.514Z"
   },
   {
    "duration": 40,
    "start_time": "2023-04-15T19:04:36.422Z"
   },
   {
    "duration": 112,
    "start_time": "2023-04-15T19:05:08.424Z"
   },
   {
    "duration": 20,
    "start_time": "2023-04-15T19:06:03.218Z"
   },
   {
    "duration": 14,
    "start_time": "2023-04-15T19:06:03.538Z"
   },
   {
    "duration": 19,
    "start_time": "2023-04-15T19:06:04.134Z"
   },
   {
    "duration": 13,
    "start_time": "2023-04-15T19:09:52.828Z"
   },
   {
    "duration": 12,
    "start_time": "2023-04-15T19:11:01.448Z"
   },
   {
    "duration": 4,
    "start_time": "2023-04-15T19:11:16.979Z"
   },
   {
    "duration": 5,
    "start_time": "2023-04-15T19:12:01.427Z"
   },
   {
    "duration": 5,
    "start_time": "2023-04-15T19:12:10.542Z"
   },
   {
    "duration": 9,
    "start_time": "2023-04-15T20:26:28.024Z"
   },
   {
    "duration": 8,
    "start_time": "2023-04-15T20:26:36.502Z"
   },
   {
    "duration": 16,
    "start_time": "2023-04-15T20:26:54.157Z"
   },
   {
    "duration": 19,
    "start_time": "2023-04-15T20:28:36.010Z"
   },
   {
    "duration": 16,
    "start_time": "2023-04-15T20:28:43.960Z"
   },
   {
    "duration": 11,
    "start_time": "2023-04-15T20:30:49.871Z"
   },
   {
    "duration": 444,
    "start_time": "2023-04-15T20:36:55.744Z"
   },
   {
    "duration": 104,
    "start_time": "2023-04-15T20:43:00.215Z"
   },
   {
    "duration": 40,
    "start_time": "2023-04-15T20:43:16.324Z"
   },
   {
    "duration": 5,
    "start_time": "2023-04-15T20:43:17.785Z"
   },
   {
    "duration": 5,
    "start_time": "2023-04-15T20:43:18.603Z"
   },
   {
    "duration": 5,
    "start_time": "2023-04-15T20:43:18.860Z"
   },
   {
    "duration": 50,
    "start_time": "2023-04-15T20:47:09.678Z"
   },
   {
    "duration": 46,
    "start_time": "2023-04-15T20:47:28.447Z"
   },
   {
    "duration": 64,
    "start_time": "2023-04-15T20:48:07.679Z"
   },
   {
    "duration": 28,
    "start_time": "2023-04-15T20:49:09.774Z"
   },
   {
    "duration": 60,
    "start_time": "2023-04-15T20:50:15.412Z"
   },
   {
    "duration": 24,
    "start_time": "2023-04-15T20:50:15.610Z"
   },
   {
    "duration": 14,
    "start_time": "2023-04-15T21:19:48.633Z"
   },
   {
    "duration": 7,
    "start_time": "2023-04-15T21:19:59.597Z"
   },
   {
    "duration": 1571,
    "start_time": "2023-04-16T09:41:33.746Z"
   },
   {
    "duration": 1907,
    "start_time": "2023-04-16T09:41:35.319Z"
   },
   {
    "duration": 19,
    "start_time": "2023-04-16T09:41:37.228Z"
   },
   {
    "duration": 25,
    "start_time": "2023-04-16T09:41:37.248Z"
   },
   {
    "duration": 245,
    "start_time": "2023-04-16T09:41:37.275Z"
   },
   {
    "duration": 126,
    "start_time": "2023-04-16T09:41:37.522Z"
   },
   {
    "duration": 9,
    "start_time": "2023-04-16T09:41:37.650Z"
   },
   {
    "duration": 16,
    "start_time": "2023-04-16T09:41:37.661Z"
   },
   {
    "duration": 157,
    "start_time": "2023-04-16T09:41:37.679Z"
   },
   {
    "duration": 25,
    "start_time": "2023-04-16T09:41:37.838Z"
   },
   {
    "duration": 23,
    "start_time": "2023-04-16T09:41:37.865Z"
   },
   {
    "duration": 27,
    "start_time": "2023-04-16T09:41:37.890Z"
   },
   {
    "duration": 22,
    "start_time": "2023-04-16T09:41:37.919Z"
   },
   {
    "duration": 276,
    "start_time": "2023-04-16T09:41:37.944Z"
   },
   {
    "duration": 21,
    "start_time": "2023-04-16T09:41:38.222Z"
   },
   {
    "duration": 115,
    "start_time": "2023-04-16T09:41:38.245Z"
   },
   {
    "duration": 11,
    "start_time": "2023-04-16T09:41:38.362Z"
   },
   {
    "duration": 37,
    "start_time": "2023-04-16T09:41:38.375Z"
   },
   {
    "duration": 22,
    "start_time": "2023-04-16T09:41:38.414Z"
   },
   {
    "duration": 24,
    "start_time": "2023-04-16T09:41:38.438Z"
   },
   {
    "duration": 6,
    "start_time": "2023-04-16T09:41:38.463Z"
   },
   {
    "duration": 22,
    "start_time": "2023-04-16T09:41:38.471Z"
   },
   {
    "duration": 9,
    "start_time": "2023-04-16T09:41:38.495Z"
   },
   {
    "duration": 43,
    "start_time": "2023-04-16T09:41:38.505Z"
   },
   {
    "duration": 63,
    "start_time": "2023-04-16T09:41:38.551Z"
   },
   {
    "duration": 71,
    "start_time": "2023-04-16T09:41:38.616Z"
   },
   {
    "duration": 51,
    "start_time": "2023-04-16T09:41:38.689Z"
   },
   {
    "duration": 9,
    "start_time": "2023-04-16T09:41:38.743Z"
   },
   {
    "duration": 122,
    "start_time": "2023-04-16T09:48:54.319Z"
   },
   {
    "duration": 55,
    "start_time": "2023-04-16T09:51:01.623Z"
   },
   {
    "duration": 2215,
    "start_time": "2023-04-16T09:51:10.599Z"
   },
   {
    "duration": 2117,
    "start_time": "2023-04-16T09:53:10.461Z"
   },
   {
    "duration": 2380,
    "start_time": "2023-04-16T09:55:17.603Z"
   },
   {
    "duration": 2201,
    "start_time": "2023-04-16T09:55:21.116Z"
   },
   {
    "duration": 2134,
    "start_time": "2023-04-16T09:56:15.722Z"
   },
   {
    "duration": 2111,
    "start_time": "2023-04-16T09:56:17.858Z"
   },
   {
    "duration": 2223,
    "start_time": "2023-04-16T09:56:19.970Z"
   },
   {
    "duration": 255,
    "start_time": "2023-04-16T10:14:14.345Z"
   },
   {
    "duration": 341,
    "start_time": "2023-04-16T10:14:54.908Z"
   },
   {
    "duration": 842,
    "start_time": "2023-04-16T10:16:43.078Z"
   },
   {
    "duration": 394,
    "start_time": "2023-04-16T10:17:34.098Z"
   },
   {
    "duration": 456,
    "start_time": "2023-04-16T10:18:36.114Z"
   },
   {
    "duration": 447,
    "start_time": "2023-04-16T10:18:42.298Z"
   },
   {
    "duration": 837,
    "start_time": "2023-04-16T10:19:14.814Z"
   },
   {
    "duration": 454,
    "start_time": "2023-04-16T10:19:58.749Z"
   },
   {
    "duration": 1123,
    "start_time": "2023-04-16T10:21:23.699Z"
   },
   {
    "duration": 850,
    "start_time": "2023-04-16T10:23:13.918Z"
   },
   {
    "duration": 722,
    "start_time": "2023-04-16T10:23:50.835Z"
   },
   {
    "duration": 823,
    "start_time": "2023-04-16T10:24:10.107Z"
   },
   {
    "duration": 39,
    "start_time": "2023-04-16T10:32:38.633Z"
   },
   {
    "duration": 43,
    "start_time": "2023-04-16T10:33:03.245Z"
   },
   {
    "duration": 801,
    "start_time": "2023-04-16T10:33:32.728Z"
   },
   {
    "duration": 1373,
    "start_time": "2023-04-16T10:35:23.951Z"
   },
   {
    "duration": 29,
    "start_time": "2023-04-16T10:36:35.128Z"
   },
   {
    "duration": 27,
    "start_time": "2023-04-16T10:36:57.080Z"
   },
   {
    "duration": 780,
    "start_time": "2023-04-16T10:37:01.928Z"
   },
   {
    "duration": 1395,
    "start_time": "2023-04-16T10:37:16.490Z"
   },
   {
    "duration": 209,
    "start_time": "2023-04-16T10:38:21.682Z"
   },
   {
    "duration": 175,
    "start_time": "2023-04-16T10:38:39.924Z"
   },
   {
    "duration": 1387,
    "start_time": "2023-04-16T10:38:54.624Z"
   },
   {
    "duration": 911,
    "start_time": "2023-04-16T10:40:12.618Z"
   },
   {
    "duration": 1113,
    "start_time": "2023-04-16T10:41:27.998Z"
   },
   {
    "duration": 10,
    "start_time": "2023-04-16T10:42:36.543Z"
   },
   {
    "duration": 17,
    "start_time": "2023-04-16T10:42:48.847Z"
   },
   {
    "duration": 175,
    "start_time": "2023-04-16T10:43:42.547Z"
   },
   {
    "duration": 749,
    "start_time": "2023-04-16T10:45:42.390Z"
   },
   {
    "duration": 714,
    "start_time": "2023-04-16T10:45:55.398Z"
   },
   {
    "duration": 53,
    "start_time": "2023-04-16T10:49:40.693Z"
   },
   {
    "duration": 908,
    "start_time": "2023-04-16T10:50:09.232Z"
   },
   {
    "duration": 822,
    "start_time": "2023-04-16T10:51:20.298Z"
   },
   {
    "duration": 12,
    "start_time": "2023-04-16T10:54:22.449Z"
   },
   {
    "duration": 18,
    "start_time": "2023-04-16T10:58:38.649Z"
   },
   {
    "duration": 4,
    "start_time": "2023-04-16T11:01:20.807Z"
   },
   {
    "duration": 700,
    "start_time": "2023-04-16T11:01:20.841Z"
   },
   {
    "duration": 18,
    "start_time": "2023-04-16T11:01:21.545Z"
   },
   {
    "duration": 24,
    "start_time": "2023-04-16T11:01:21.565Z"
   },
   {
    "duration": 255,
    "start_time": "2023-04-16T11:01:21.591Z"
   },
   {
    "duration": 126,
    "start_time": "2023-04-16T11:01:21.848Z"
   },
   {
    "duration": 9,
    "start_time": "2023-04-16T11:01:21.975Z"
   },
   {
    "duration": 27,
    "start_time": "2023-04-16T11:01:21.985Z"
   },
   {
    "duration": 136,
    "start_time": "2023-04-16T11:01:22.013Z"
   },
   {
    "duration": 26,
    "start_time": "2023-04-16T11:01:22.151Z"
   },
   {
    "duration": 41,
    "start_time": "2023-04-16T11:01:22.180Z"
   },
   {
    "duration": 7,
    "start_time": "2023-04-16T11:01:22.223Z"
   },
   {
    "duration": 21,
    "start_time": "2023-04-16T11:01:22.231Z"
   },
   {
    "duration": 268,
    "start_time": "2023-04-16T11:01:22.254Z"
   },
   {
    "duration": 21,
    "start_time": "2023-04-16T11:01:22.524Z"
   },
   {
    "duration": 107,
    "start_time": "2023-04-16T11:01:22.546Z"
   },
   {
    "duration": 10,
    "start_time": "2023-04-16T11:01:22.655Z"
   },
   {
    "duration": 5,
    "start_time": "2023-04-16T11:01:22.667Z"
   },
   {
    "duration": 9,
    "start_time": "2023-04-16T11:01:22.673Z"
   },
   {
    "duration": 36,
    "start_time": "2023-04-16T11:01:22.684Z"
   },
   {
    "duration": 14,
    "start_time": "2023-04-16T11:01:22.722Z"
   },
   {
    "duration": 8,
    "start_time": "2023-04-16T11:01:22.737Z"
   },
   {
    "duration": 9,
    "start_time": "2023-04-16T11:01:22.746Z"
   },
   {
    "duration": 17,
    "start_time": "2023-04-16T11:01:22.756Z"
   },
   {
    "duration": 68,
    "start_time": "2023-04-16T11:01:22.775Z"
   },
   {
    "duration": 75,
    "start_time": "2023-04-16T11:01:22.846Z"
   },
   {
    "duration": 22,
    "start_time": "2023-04-16T11:01:22.923Z"
   },
   {
    "duration": 5,
    "start_time": "2023-04-16T11:01:22.947Z"
   },
   {
    "duration": 2160,
    "start_time": "2023-04-16T11:01:22.957Z"
   },
   {
    "duration": 2262,
    "start_time": "2023-04-16T11:01:25.119Z"
   },
   {
    "duration": 2239,
    "start_time": "2023-04-16T11:01:27.383Z"
   },
   {
    "duration": 1023,
    "start_time": "2023-04-16T11:01:29.624Z"
   },
   {
    "duration": 831,
    "start_time": "2023-04-16T11:01:30.649Z"
   },
   {
    "duration": 862,
    "start_time": "2023-04-16T11:01:31.483Z"
   },
   {
    "duration": 16,
    "start_time": "2023-04-16T11:01:32.347Z"
   },
   {
    "duration": 19,
    "start_time": "2023-04-16T11:01:42.595Z"
   },
   {
    "duration": 18,
    "start_time": "2023-04-16T11:02:04.005Z"
   },
   {
    "duration": 16,
    "start_time": "2023-04-16T11:03:24.332Z"
   },
   {
    "duration": 11,
    "start_time": "2023-04-16T11:07:17.515Z"
   },
   {
    "duration": 10,
    "start_time": "2023-04-16T11:07:57.411Z"
   },
   {
    "duration": 11,
    "start_time": "2023-04-16T11:08:31.245Z"
   },
   {
    "duration": 15,
    "start_time": "2023-04-16T11:08:41.130Z"
   },
   {
    "duration": 1602,
    "start_time": "2023-04-16T11:09:33.810Z"
   },
   {
    "duration": 13,
    "start_time": "2023-04-16T11:27:51.705Z"
   },
   {
    "duration": 4,
    "start_time": "2023-04-16T11:27:54.587Z"
   },
   {
    "duration": 13,
    "start_time": "2023-04-16T11:27:54.997Z"
   },
   {
    "duration": 30,
    "start_time": "2023-04-16T11:28:34.408Z"
   },
   {
    "duration": 21,
    "start_time": "2023-04-16T11:31:11.133Z"
   },
   {
    "duration": 16,
    "start_time": "2023-04-16T11:33:21.950Z"
   },
   {
    "duration": 17,
    "start_time": "2023-04-16T11:38:09.757Z"
   },
   {
    "duration": 14,
    "start_time": "2023-04-16T11:48:57.105Z"
   },
   {
    "duration": 22,
    "start_time": "2023-04-16T11:50:10.484Z"
   },
   {
    "duration": 246,
    "start_time": "2023-04-16T11:50:17.040Z"
   },
   {
    "duration": 1441,
    "start_time": "2023-04-16T11:51:44.004Z"
   },
   {
    "duration": 717,
    "start_time": "2023-04-16T11:51:45.447Z"
   },
   {
    "duration": 20,
    "start_time": "2023-04-16T11:51:46.165Z"
   },
   {
    "duration": 51,
    "start_time": "2023-04-16T11:51:46.188Z"
   },
   {
    "duration": 242,
    "start_time": "2023-04-16T11:51:46.240Z"
   },
   {
    "duration": 128,
    "start_time": "2023-04-16T11:51:46.484Z"
   },
   {
    "duration": 10,
    "start_time": "2023-04-16T11:51:46.614Z"
   },
   {
    "duration": 14,
    "start_time": "2023-04-16T11:51:46.626Z"
   },
   {
    "duration": 153,
    "start_time": "2023-04-16T11:51:46.641Z"
   },
   {
    "duration": 32,
    "start_time": "2023-04-16T11:51:46.795Z"
   },
   {
    "duration": 20,
    "start_time": "2023-04-16T11:51:46.913Z"
   },
   {
    "duration": 8,
    "start_time": "2023-04-16T11:51:47.114Z"
   },
   {
    "duration": 19,
    "start_time": "2023-04-16T11:51:47.797Z"
   },
   {
    "duration": 245,
    "start_time": "2023-04-16T11:51:48.031Z"
   },
   {
    "duration": 20,
    "start_time": "2023-04-16T11:51:48.278Z"
   },
   {
    "duration": 92,
    "start_time": "2023-04-16T11:51:48.508Z"
   },
   {
    "duration": 16,
    "start_time": "2023-04-16T11:51:48.928Z"
   },
   {
    "duration": 7,
    "start_time": "2023-04-16T11:51:49.586Z"
   },
   {
    "duration": 6,
    "start_time": "2023-04-16T11:51:49.730Z"
   },
   {
    "duration": 13,
    "start_time": "2023-04-16T11:51:50.552Z"
   },
   {
    "duration": 4,
    "start_time": "2023-04-16T11:51:50.954Z"
   },
   {
    "duration": 5,
    "start_time": "2023-04-16T11:51:51.209Z"
   },
   {
    "duration": 5,
    "start_time": "2023-04-16T11:51:51.386Z"
   },
   {
    "duration": 14,
    "start_time": "2023-04-16T11:51:52.213Z"
   },
   {
    "duration": 54,
    "start_time": "2023-04-16T11:51:52.707Z"
   },
   {
    "duration": 63,
    "start_time": "2023-04-16T11:51:52.913Z"
   },
   {
    "duration": 25,
    "start_time": "2023-04-16T11:51:53.113Z"
   },
   {
    "duration": 7,
    "start_time": "2023-04-16T11:51:53.446Z"
   },
   {
    "duration": 2232,
    "start_time": "2023-04-16T11:51:55.329Z"
   },
   {
    "duration": 2142,
    "start_time": "2023-04-16T11:51:57.563Z"
   },
   {
    "duration": 2646,
    "start_time": "2023-04-16T11:51:59.710Z"
   },
   {
    "duration": 4,
    "start_time": "2023-04-16T11:52:03.085Z"
   },
   {
    "duration": 126,
    "start_time": "2023-04-16T11:52:05.808Z"
   },
   {
    "duration": 1300,
    "start_time": "2023-04-16T11:53:18.382Z"
   },
   {
    "duration": 1287,
    "start_time": "2023-04-16T11:54:27.008Z"
   },
   {
    "duration": 4,
    "start_time": "2023-04-16T11:54:40.909Z"
   },
   {
    "duration": 21,
    "start_time": "2023-04-16T11:54:41.152Z"
   },
   {
    "duration": 12,
    "start_time": "2023-04-16T11:59:05.506Z"
   },
   {
    "duration": 20,
    "start_time": "2023-04-16T11:59:18.707Z"
   },
   {
    "duration": 20,
    "start_time": "2023-04-16T11:59:59.815Z"
   },
   {
    "duration": 18,
    "start_time": "2023-04-16T12:00:40.896Z"
   },
   {
    "duration": 20,
    "start_time": "2023-04-16T12:03:46.717Z"
   },
   {
    "duration": 1385,
    "start_time": "2023-04-16T12:03:55.522Z"
   },
   {
    "duration": 703,
    "start_time": "2023-04-16T12:03:56.910Z"
   },
   {
    "duration": 21,
    "start_time": "2023-04-16T12:03:57.614Z"
   },
   {
    "duration": 29,
    "start_time": "2023-04-16T12:03:57.636Z"
   },
   {
    "duration": 254,
    "start_time": "2023-04-16T12:03:57.667Z"
   },
   {
    "duration": 131,
    "start_time": "2023-04-16T12:03:57.923Z"
   },
   {
    "duration": 11,
    "start_time": "2023-04-16T12:03:58.056Z"
   },
   {
    "duration": 13,
    "start_time": "2023-04-16T12:03:58.068Z"
   },
   {
    "duration": 144,
    "start_time": "2023-04-16T12:03:58.083Z"
   },
   {
    "duration": 23,
    "start_time": "2023-04-16T12:03:58.228Z"
   },
   {
    "duration": 26,
    "start_time": "2023-04-16T12:03:58.253Z"
   },
   {
    "duration": 8,
    "start_time": "2023-04-16T12:03:58.280Z"
   },
   {
    "duration": 37,
    "start_time": "2023-04-16T12:03:58.289Z"
   },
   {
    "duration": 254,
    "start_time": "2023-04-16T12:03:58.329Z"
   },
   {
    "duration": 29,
    "start_time": "2023-04-16T12:03:58.584Z"
   },
   {
    "duration": 107,
    "start_time": "2023-04-16T12:03:58.615Z"
   },
   {
    "duration": 10,
    "start_time": "2023-04-16T12:03:58.724Z"
   },
   {
    "duration": 9,
    "start_time": "2023-04-16T12:03:58.735Z"
   },
   {
    "duration": 15,
    "start_time": "2023-04-16T12:03:58.745Z"
   },
   {
    "duration": 33,
    "start_time": "2023-04-16T12:03:58.762Z"
   },
   {
    "duration": 13,
    "start_time": "2023-04-16T12:03:58.797Z"
   },
   {
    "duration": 9,
    "start_time": "2023-04-16T12:03:58.812Z"
   },
   {
    "duration": 23,
    "start_time": "2023-04-16T12:03:58.823Z"
   },
   {
    "duration": 30,
    "start_time": "2023-04-16T12:03:58.848Z"
   },
   {
    "duration": 60,
    "start_time": "2023-04-16T12:03:58.880Z"
   },
   {
    "duration": 171,
    "start_time": "2023-04-16T12:03:58.943Z"
   },
   {
    "duration": 34,
    "start_time": "2023-04-16T12:03:59.117Z"
   },
   {
    "duration": 60,
    "start_time": "2023-04-16T12:03:59.154Z"
   },
   {
    "duration": 3072,
    "start_time": "2023-04-16T12:03:59.216Z"
   },
   {
    "duration": 2173,
    "start_time": "2023-04-16T12:04:02.290Z"
   },
   {
    "duration": 2207,
    "start_time": "2023-04-16T12:04:04.465Z"
   },
   {
    "duration": 1019,
    "start_time": "2023-04-16T12:04:06.674Z"
   },
   {
    "duration": 767,
    "start_time": "2023-04-16T12:04:07.694Z"
   },
   {
    "duration": 1001,
    "start_time": "2023-04-16T12:04:08.463Z"
   },
   {
    "duration": 1554,
    "start_time": "2023-04-16T12:04:09.466Z"
   },
   {
    "duration": 7,
    "start_time": "2023-04-16T12:04:11.025Z"
   },
   {
    "duration": 139,
    "start_time": "2023-04-16T12:04:11.033Z"
   },
   {
    "duration": 18,
    "start_time": "2023-04-16T12:05:51.418Z"
   },
   {
    "duration": 18,
    "start_time": "2023-04-16T12:06:28.953Z"
   },
   {
    "duration": 12,
    "start_time": "2023-04-16T12:07:57.831Z"
   },
   {
    "duration": 12,
    "start_time": "2023-04-16T12:08:04.838Z"
   },
   {
    "duration": 17,
    "start_time": "2023-04-16T12:08:12.326Z"
   },
   {
    "duration": 789,
    "start_time": "2023-04-16T12:09:09.285Z"
   },
   {
    "duration": 5,
    "start_time": "2023-04-16T12:09:29.515Z"
   },
   {
    "duration": 17,
    "start_time": "2023-04-16T12:09:29.751Z"
   },
   {
    "duration": 1440,
    "start_time": "2023-04-16T12:09:37.423Z"
   },
   {
    "duration": 1257,
    "start_time": "2023-04-16T12:09:38.865Z"
   },
   {
    "duration": 21,
    "start_time": "2023-04-16T12:09:40.124Z"
   },
   {
    "duration": 84,
    "start_time": "2023-04-16T12:09:40.146Z"
   },
   {
    "duration": 505,
    "start_time": "2023-04-16T12:09:40.232Z"
   },
   {
    "duration": 282,
    "start_time": "2023-04-16T12:09:40.739Z"
   },
   {
    "duration": 9,
    "start_time": "2023-04-16T12:09:41.023Z"
   },
   {
    "duration": 14,
    "start_time": "2023-04-16T12:09:41.034Z"
   },
   {
    "duration": 266,
    "start_time": "2023-04-16T12:09:41.051Z"
   },
   {
    "duration": 25,
    "start_time": "2023-04-16T12:09:41.319Z"
   },
   {
    "duration": 24,
    "start_time": "2023-04-16T12:09:41.346Z"
   },
   {
    "duration": 9,
    "start_time": "2023-04-16T12:09:41.372Z"
   },
   {
    "duration": 19,
    "start_time": "2023-04-16T12:09:41.411Z"
   },
   {
    "duration": 264,
    "start_time": "2023-04-16T12:09:41.434Z"
   },
   {
    "duration": 25,
    "start_time": "2023-04-16T12:09:41.699Z"
   },
   {
    "duration": 100,
    "start_time": "2023-04-16T12:09:41.725Z"
   },
   {
    "duration": 11,
    "start_time": "2023-04-16T12:09:41.826Z"
   },
   {
    "duration": 6,
    "start_time": "2023-04-16T12:09:41.839Z"
   },
   {
    "duration": 15,
    "start_time": "2023-04-16T12:09:41.847Z"
   },
   {
    "duration": 15,
    "start_time": "2023-04-16T12:09:41.864Z"
   },
   {
    "duration": 31,
    "start_time": "2023-04-16T12:09:41.881Z"
   },
   {
    "duration": 4,
    "start_time": "2023-04-16T12:09:41.914Z"
   },
   {
    "duration": 4,
    "start_time": "2023-04-16T12:09:41.920Z"
   },
   {
    "duration": 16,
    "start_time": "2023-04-16T12:09:41.926Z"
   },
   {
    "duration": 68,
    "start_time": "2023-04-16T12:09:41.944Z"
   },
   {
    "duration": 59,
    "start_time": "2023-04-16T12:09:42.014Z"
   },
   {
    "duration": 39,
    "start_time": "2023-04-16T12:09:42.075Z"
   },
   {
    "duration": 5,
    "start_time": "2023-04-16T12:09:42.116Z"
   },
   {
    "duration": 2184,
    "start_time": "2023-04-16T12:09:42.123Z"
   },
   {
    "duration": 2151,
    "start_time": "2023-04-16T12:09:44.309Z"
   },
   {
    "duration": 2222,
    "start_time": "2023-04-16T12:09:46.462Z"
   },
   {
    "duration": 1185,
    "start_time": "2023-04-16T12:09:48.686Z"
   },
   {
    "duration": 839,
    "start_time": "2023-04-16T12:09:49.873Z"
   },
   {
    "duration": 860,
    "start_time": "2023-04-16T12:09:50.714Z"
   },
   {
    "duration": 1565,
    "start_time": "2023-04-16T12:09:51.576Z"
   },
   {
    "duration": 5,
    "start_time": "2023-04-16T12:09:53.143Z"
   },
   {
    "duration": 133,
    "start_time": "2023-04-16T12:09:53.150Z"
   },
   {
    "duration": 14,
    "start_time": "2023-04-16T12:11:36.181Z"
   },
   {
    "duration": 15,
    "start_time": "2023-04-16T12:12:16.853Z"
   },
   {
    "duration": 850,
    "start_time": "2023-04-16T12:13:59.728Z"
   },
   {
    "duration": 30,
    "start_time": "2023-04-16T12:14:13.146Z"
   },
   {
    "duration": 27,
    "start_time": "2023-04-16T12:14:22.585Z"
   },
   {
    "duration": 17,
    "start_time": "2023-04-16T12:15:50.721Z"
   },
   {
    "duration": 784,
    "start_time": "2023-04-16T12:15:55.711Z"
   },
   {
    "duration": 1031,
    "start_time": "2023-04-16T12:16:09.032Z"
   },
   {
    "duration": 1647,
    "start_time": "2023-04-16T12:17:51.919Z"
   },
   {
    "duration": 1689,
    "start_time": "2023-04-16T12:18:02.140Z"
   },
   {
    "duration": 176,
    "start_time": "2023-04-16T12:23:09.994Z"
   },
   {
    "duration": 16,
    "start_time": "2023-04-16T12:23:54.637Z"
   },
   {
    "duration": 18,
    "start_time": "2023-04-16T12:24:13.102Z"
   },
   {
    "duration": 13,
    "start_time": "2023-04-16T12:24:27.308Z"
   },
   {
    "duration": 187,
    "start_time": "2023-04-16T12:24:53.219Z"
   },
   {
    "duration": 1395,
    "start_time": "2023-04-16T12:25:06.210Z"
   },
   {
    "duration": 696,
    "start_time": "2023-04-16T12:25:07.608Z"
   },
   {
    "duration": 21,
    "start_time": "2023-04-16T12:25:08.306Z"
   },
   {
    "duration": 27,
    "start_time": "2023-04-16T12:25:08.329Z"
   },
   {
    "duration": 249,
    "start_time": "2023-04-16T12:25:08.358Z"
   },
   {
    "duration": 120,
    "start_time": "2023-04-16T12:25:08.609Z"
   },
   {
    "duration": 10,
    "start_time": "2023-04-16T12:25:08.731Z"
   },
   {
    "duration": 16,
    "start_time": "2023-04-16T12:25:08.742Z"
   },
   {
    "duration": 178,
    "start_time": "2023-04-16T12:25:08.760Z"
   },
   {
    "duration": 31,
    "start_time": "2023-04-16T12:25:08.941Z"
   },
   {
    "duration": 44,
    "start_time": "2023-04-16T12:25:08.974Z"
   },
   {
    "duration": 9,
    "start_time": "2023-04-16T12:25:09.021Z"
   },
   {
    "duration": 22,
    "start_time": "2023-04-16T12:25:09.032Z"
   },
   {
    "duration": 286,
    "start_time": "2023-04-16T12:25:09.059Z"
   },
   {
    "duration": 20,
    "start_time": "2023-04-16T12:25:09.347Z"
   },
   {
    "duration": 110,
    "start_time": "2023-04-16T12:25:09.368Z"
   },
   {
    "duration": 9,
    "start_time": "2023-04-16T12:25:09.479Z"
   },
   {
    "duration": 5,
    "start_time": "2023-04-16T12:25:09.490Z"
   },
   {
    "duration": 5,
    "start_time": "2023-04-16T12:25:09.516Z"
   },
   {
    "duration": 14,
    "start_time": "2023-04-16T12:25:09.522Z"
   },
   {
    "duration": 6,
    "start_time": "2023-04-16T12:25:09.538Z"
   },
   {
    "duration": 8,
    "start_time": "2023-04-16T12:25:09.545Z"
   },
   {
    "duration": 19,
    "start_time": "2023-04-16T12:25:09.555Z"
   },
   {
    "duration": 33,
    "start_time": "2023-04-16T12:25:09.575Z"
   },
   {
    "duration": 53,
    "start_time": "2023-04-16T12:25:09.609Z"
   },
   {
    "duration": 73,
    "start_time": "2023-04-16T12:25:09.664Z"
   },
   {
    "duration": 24,
    "start_time": "2023-04-16T12:25:09.739Z"
   },
   {
    "duration": 8,
    "start_time": "2023-04-16T12:25:09.764Z"
   },
   {
    "duration": 2897,
    "start_time": "2023-04-16T12:25:09.773Z"
   },
   {
    "duration": 2185,
    "start_time": "2023-04-16T12:25:12.672Z"
   },
   {
    "duration": 2196,
    "start_time": "2023-04-16T12:25:14.859Z"
   },
   {
    "duration": 1020,
    "start_time": "2023-04-16T12:25:17.057Z"
   },
   {
    "duration": 790,
    "start_time": "2023-04-16T12:25:18.079Z"
   },
   {
    "duration": 14,
    "start_time": "2023-04-16T12:25:18.872Z"
   },
   {
    "duration": 235,
    "start_time": "2023-04-16T12:25:18.888Z"
   },
   {
    "duration": 1741,
    "start_time": "2023-04-16T12:25:19.125Z"
   },
   {
    "duration": 0,
    "start_time": "2023-04-16T12:25:20.868Z"
   },
   {
    "duration": 0,
    "start_time": "2023-04-16T12:25:20.869Z"
   },
   {
    "duration": 178,
    "start_time": "2023-04-16T12:26:07.413Z"
   },
   {
    "duration": 13,
    "start_time": "2023-04-16T12:27:29.029Z"
   },
   {
    "duration": 196,
    "start_time": "2023-04-16T12:27:49.441Z"
   },
   {
    "duration": 42,
    "start_time": "2023-04-16T12:28:25.239Z"
   },
   {
    "duration": 55,
    "start_time": "2023-04-16T12:28:25.965Z"
   },
   {
    "duration": 21,
    "start_time": "2023-04-16T12:28:26.205Z"
   },
   {
    "duration": 6,
    "start_time": "2023-04-16T12:28:27.141Z"
   },
   {
    "duration": 5,
    "start_time": "2023-04-16T12:28:42.422Z"
   },
   {
    "duration": 13,
    "start_time": "2023-04-16T12:31:41.949Z"
   },
   {
    "duration": 1618,
    "start_time": "2023-04-16T12:32:04.140Z"
   },
   {
    "duration": 11,
    "start_time": "2023-04-16T12:33:31.685Z"
   },
   {
    "duration": 14,
    "start_time": "2023-04-16T12:34:34.826Z"
   },
   {
    "duration": 20,
    "start_time": "2023-04-16T12:37:36.814Z"
   },
   {
    "duration": 25,
    "start_time": "2023-04-16T12:37:52.623Z"
   },
   {
    "duration": 1403,
    "start_time": "2023-04-16T12:40:08.197Z"
   },
   {
    "duration": 13,
    "start_time": "2023-04-16T12:42:32.150Z"
   },
   {
    "duration": 1556,
    "start_time": "2023-04-16T12:42:37.027Z"
   },
   {
    "duration": 19,
    "start_time": "2023-04-16T12:43:22.373Z"
   },
   {
    "duration": 5,
    "start_time": "2023-04-16T12:43:55.119Z"
   },
   {
    "duration": 14,
    "start_time": "2023-04-16T12:44:02.505Z"
   },
   {
    "duration": 1602,
    "start_time": "2023-04-16T12:44:03.420Z"
   },
   {
    "duration": 18,
    "start_time": "2023-04-16T12:44:16.844Z"
   },
   {
    "duration": 1428,
    "start_time": "2023-04-16T12:44:21.310Z"
   },
   {
    "duration": 5,
    "start_time": "2023-04-16T12:44:29.159Z"
   },
   {
    "duration": 19,
    "start_time": "2023-04-16T12:44:29.600Z"
   },
   {
    "duration": 19,
    "start_time": "2023-04-16T12:46:32.207Z"
   },
   {
    "duration": 16,
    "start_time": "2023-04-16T12:47:18.524Z"
   },
   {
    "duration": 1468,
    "start_time": "2023-04-16T12:48:59.713Z"
   },
   {
    "duration": 783,
    "start_time": "2023-04-16T12:49:01.184Z"
   },
   {
    "duration": 19,
    "start_time": "2023-04-16T12:49:01.969Z"
   },
   {
    "duration": 51,
    "start_time": "2023-04-16T12:49:01.990Z"
   },
   {
    "duration": 246,
    "start_time": "2023-04-16T12:49:02.043Z"
   },
   {
    "duration": 132,
    "start_time": "2023-04-16T12:49:02.291Z"
   },
   {
    "duration": 11,
    "start_time": "2023-04-16T12:49:02.425Z"
   },
   {
    "duration": 48,
    "start_time": "2023-04-16T12:49:02.438Z"
   },
   {
    "duration": 151,
    "start_time": "2023-04-16T12:49:02.488Z"
   },
   {
    "duration": 26,
    "start_time": "2023-04-16T12:49:02.641Z"
   },
   {
    "duration": 33,
    "start_time": "2023-04-16T12:49:02.668Z"
   },
   {
    "duration": 7,
    "start_time": "2023-04-16T12:49:02.712Z"
   },
   {
    "duration": 35,
    "start_time": "2023-04-16T12:49:02.721Z"
   },
   {
    "duration": 304,
    "start_time": "2023-04-16T12:49:02.760Z"
   },
   {
    "duration": 21,
    "start_time": "2023-04-16T12:49:03.065Z"
   },
   {
    "duration": 114,
    "start_time": "2023-04-16T12:49:03.088Z"
   },
   {
    "duration": 14,
    "start_time": "2023-04-16T12:49:03.204Z"
   },
   {
    "duration": 17,
    "start_time": "2023-04-16T12:49:03.220Z"
   },
   {
    "duration": 17,
    "start_time": "2023-04-16T12:49:03.238Z"
   },
   {
    "duration": 48,
    "start_time": "2023-04-16T12:49:03.256Z"
   },
   {
    "duration": 20,
    "start_time": "2023-04-16T12:49:03.306Z"
   },
   {
    "duration": 53,
    "start_time": "2023-04-16T12:49:03.328Z"
   },
   {
    "duration": 42,
    "start_time": "2023-04-16T12:49:03.383Z"
   },
   {
    "duration": 36,
    "start_time": "2023-04-16T12:49:03.427Z"
   },
   {
    "duration": 73,
    "start_time": "2023-04-16T12:49:03.465Z"
   },
   {
    "duration": 73,
    "start_time": "2023-04-16T12:49:03.540Z"
   },
   {
    "duration": 23,
    "start_time": "2023-04-16T12:49:03.614Z"
   },
   {
    "duration": 7,
    "start_time": "2023-04-16T12:49:03.639Z"
   },
   {
    "duration": 3053,
    "start_time": "2023-04-16T12:49:03.647Z"
   },
   {
    "duration": 2275,
    "start_time": "2023-04-16T12:49:06.703Z"
   },
   {
    "duration": 2293,
    "start_time": "2023-04-16T12:49:08.980Z"
   },
   {
    "duration": 1052,
    "start_time": "2023-04-16T12:49:11.275Z"
   },
   {
    "duration": 839,
    "start_time": "2023-04-16T12:49:12.329Z"
   },
   {
    "duration": 15,
    "start_time": "2023-04-16T12:49:13.170Z"
   },
   {
    "duration": 1652,
    "start_time": "2023-04-16T12:49:13.187Z"
   },
   {
    "duration": 129,
    "start_time": "2023-04-16T12:49:14.842Z"
   },
   {
    "duration": 0,
    "start_time": "2023-04-16T12:49:14.973Z"
   },
   {
    "duration": 0,
    "start_time": "2023-04-16T12:49:14.974Z"
   },
   {
    "duration": 0,
    "start_time": "2023-04-16T12:49:14.975Z"
   },
   {
    "duration": 0,
    "start_time": "2023-04-16T12:49:14.976Z"
   },
   {
    "duration": 23,
    "start_time": "2023-04-16T12:49:29.100Z"
   },
   {
    "duration": 1283,
    "start_time": "2023-04-16T12:49:31.630Z"
   },
   {
    "duration": 6,
    "start_time": "2023-04-16T12:49:36.721Z"
   },
   {
    "duration": 24,
    "start_time": "2023-04-16T12:49:37.413Z"
   },
   {
    "duration": 19,
    "start_time": "2023-04-16T12:49:57.239Z"
   },
   {
    "duration": 17,
    "start_time": "2023-04-16T12:50:09.514Z"
   },
   {
    "duration": 1427,
    "start_time": "2023-04-16T12:50:29.614Z"
   },
   {
    "duration": 890,
    "start_time": "2023-04-16T12:50:31.043Z"
   },
   {
    "duration": 18,
    "start_time": "2023-04-16T12:50:31.935Z"
   },
   {
    "duration": 80,
    "start_time": "2023-04-16T12:50:31.955Z"
   },
   {
    "duration": 486,
    "start_time": "2023-04-16T12:50:32.037Z"
   },
   {
    "duration": 222,
    "start_time": "2023-04-16T12:50:32.525Z"
   },
   {
    "duration": 9,
    "start_time": "2023-04-16T12:50:32.748Z"
   },
   {
    "duration": 15,
    "start_time": "2023-04-16T12:50:32.811Z"
   },
   {
    "duration": 289,
    "start_time": "2023-04-16T12:50:32.827Z"
   },
   {
    "duration": 25,
    "start_time": "2023-04-16T12:50:33.118Z"
   },
   {
    "duration": 75,
    "start_time": "2023-04-16T12:50:33.145Z"
   },
   {
    "duration": 7,
    "start_time": "2023-04-16T12:50:33.222Z"
   },
   {
    "duration": 20,
    "start_time": "2023-04-16T12:50:33.231Z"
   },
   {
    "duration": 472,
    "start_time": "2023-04-16T12:50:33.254Z"
   },
   {
    "duration": 21,
    "start_time": "2023-04-16T12:50:33.728Z"
   },
   {
    "duration": 117,
    "start_time": "2023-04-16T12:50:33.751Z"
   },
   {
    "duration": 10,
    "start_time": "2023-04-16T12:50:33.870Z"
   },
   {
    "duration": 8,
    "start_time": "2023-04-16T12:50:33.882Z"
   },
   {
    "duration": 21,
    "start_time": "2023-04-16T12:50:33.892Z"
   },
   {
    "duration": 12,
    "start_time": "2023-04-16T12:50:33.915Z"
   },
   {
    "duration": 6,
    "start_time": "2023-04-16T12:50:33.929Z"
   },
   {
    "duration": 4,
    "start_time": "2023-04-16T12:50:33.937Z"
   },
   {
    "duration": 8,
    "start_time": "2023-04-16T12:50:33.943Z"
   },
   {
    "duration": 15,
    "start_time": "2023-04-16T12:50:33.953Z"
   },
   {
    "duration": 82,
    "start_time": "2023-04-16T12:50:33.969Z"
   },
   {
    "duration": 71,
    "start_time": "2023-04-16T12:50:34.052Z"
   },
   {
    "duration": 22,
    "start_time": "2023-04-16T12:50:34.125Z"
   },
   {
    "duration": 7,
    "start_time": "2023-04-16T12:50:34.148Z"
   },
   {
    "duration": 2267,
    "start_time": "2023-04-16T12:50:34.157Z"
   },
   {
    "duration": 2148,
    "start_time": "2023-04-16T12:50:36.425Z"
   },
   {
    "duration": 2311,
    "start_time": "2023-04-16T12:50:38.575Z"
   },
   {
    "duration": 1045,
    "start_time": "2023-04-16T12:50:40.888Z"
   },
   {
    "duration": 776,
    "start_time": "2023-04-16T12:50:41.935Z"
   },
   {
    "duration": 15,
    "start_time": "2023-04-16T12:50:42.714Z"
   },
   {
    "duration": 1621,
    "start_time": "2023-04-16T12:50:42.730Z"
   },
   {
    "duration": 24,
    "start_time": "2023-04-16T12:50:44.353Z"
   },
   {
    "duration": 1266,
    "start_time": "2023-04-16T12:50:44.379Z"
   },
   {
    "duration": 4,
    "start_time": "2023-04-16T12:50:45.647Z"
   },
   {
    "duration": 13,
    "start_time": "2023-04-16T12:50:45.652Z"
   },
   {
    "duration": 122,
    "start_time": "2023-04-16T12:50:45.667Z"
   },
   {
    "duration": 39,
    "start_time": "2023-04-16T12:52:41.303Z"
   },
   {
    "duration": 38,
    "start_time": "2023-04-16T12:53:42.217Z"
   },
   {
    "duration": 74,
    "start_time": "2023-04-16T12:57:00.113Z"
   },
   {
    "duration": 39,
    "start_time": "2023-04-16T12:59:36.690Z"
   },
   {
    "duration": 39,
    "start_time": "2023-04-16T12:59:48.765Z"
   },
   {
    "duration": 58,
    "start_time": "2023-04-16T12:59:51.425Z"
   },
   {
    "duration": 32,
    "start_time": "2023-04-16T13:00:57.518Z"
   },
   {
    "duration": 30,
    "start_time": "2023-04-16T13:01:04.883Z"
   },
   {
    "duration": 48,
    "start_time": "2023-04-16T13:02:39.638Z"
   },
   {
    "duration": 90,
    "start_time": "2023-04-16T13:03:05.941Z"
   },
   {
    "duration": 43,
    "start_time": "2023-04-16T13:04:12.914Z"
   },
   {
    "duration": 83,
    "start_time": "2023-04-16T13:04:13.811Z"
   },
   {
    "duration": 40,
    "start_time": "2023-04-16T13:05:29.755Z"
   },
   {
    "duration": 84,
    "start_time": "2023-04-16T13:05:30.711Z"
   },
   {
    "duration": 81,
    "start_time": "2023-04-16T13:06:19.214Z"
   },
   {
    "duration": 29,
    "start_time": "2023-04-16T13:06:56.728Z"
   },
   {
    "duration": 22,
    "start_time": "2023-04-16T13:07:06.311Z"
   },
   {
    "duration": 0,
    "start_time": "2023-04-16T13:07:06.335Z"
   },
   {
    "duration": 11,
    "start_time": "2023-04-16T13:07:06.986Z"
   },
   {
    "duration": 23,
    "start_time": "2023-04-16T13:07:13.984Z"
   },
   {
    "duration": 12,
    "start_time": "2023-04-16T13:07:18.727Z"
   },
   {
    "duration": 16,
    "start_time": "2023-04-16T13:07:19.733Z"
   },
   {
    "duration": 1400,
    "start_time": "2023-04-16T13:07:24.932Z"
   },
   {
    "duration": 737,
    "start_time": "2023-04-16T13:07:26.334Z"
   },
   {
    "duration": 20,
    "start_time": "2023-04-16T13:07:27.073Z"
   },
   {
    "duration": 54,
    "start_time": "2023-04-16T13:07:27.095Z"
   },
   {
    "duration": 561,
    "start_time": "2023-04-16T13:07:27.153Z"
   },
   {
    "duration": 229,
    "start_time": "2023-04-16T13:07:27.716Z"
   },
   {
    "duration": 9,
    "start_time": "2023-04-16T13:07:27.947Z"
   },
   {
    "duration": 65,
    "start_time": "2023-04-16T13:07:27.957Z"
   },
   {
    "duration": 236,
    "start_time": "2023-04-16T13:07:28.024Z"
   },
   {
    "duration": 25,
    "start_time": "2023-04-16T13:07:28.312Z"
   },
   {
    "duration": 85,
    "start_time": "2023-04-16T13:07:28.339Z"
   },
   {
    "duration": 8,
    "start_time": "2023-04-16T13:07:28.425Z"
   },
   {
    "duration": 19,
    "start_time": "2023-04-16T13:07:28.434Z"
   },
   {
    "duration": 590,
    "start_time": "2023-04-16T13:07:28.456Z"
   },
   {
    "duration": 88,
    "start_time": "2023-04-16T13:07:29.049Z"
   },
   {
    "duration": 165,
    "start_time": "2023-04-16T13:07:29.140Z"
   },
   {
    "duration": 11,
    "start_time": "2023-04-16T13:07:29.311Z"
   },
   {
    "duration": 6,
    "start_time": "2023-04-16T13:07:29.323Z"
   },
   {
    "duration": 14,
    "start_time": "2023-04-16T13:07:29.331Z"
   },
   {
    "duration": 38,
    "start_time": "2023-04-16T13:07:29.347Z"
   },
   {
    "duration": 13,
    "start_time": "2023-04-16T13:07:29.387Z"
   },
   {
    "duration": 20,
    "start_time": "2023-04-16T13:07:29.402Z"
   },
   {
    "duration": 7,
    "start_time": "2023-04-16T13:07:29.424Z"
   },
   {
    "duration": 18,
    "start_time": "2023-04-16T13:07:29.433Z"
   },
   {
    "duration": 48,
    "start_time": "2023-04-16T13:07:29.453Z"
   },
   {
    "duration": 67,
    "start_time": "2023-04-16T13:07:29.503Z"
   },
   {
    "duration": 42,
    "start_time": "2023-04-16T13:07:29.572Z"
   },
   {
    "duration": 6,
    "start_time": "2023-04-16T13:07:29.616Z"
   },
   {
    "duration": 2171,
    "start_time": "2023-04-16T13:07:29.623Z"
   },
   {
    "duration": 2173,
    "start_time": "2023-04-16T13:07:31.796Z"
   },
   {
    "duration": 2230,
    "start_time": "2023-04-16T13:07:33.971Z"
   },
   {
    "duration": 1059,
    "start_time": "2023-04-16T13:07:36.203Z"
   },
   {
    "duration": 799,
    "start_time": "2023-04-16T13:07:37.265Z"
   },
   {
    "duration": 14,
    "start_time": "2023-04-16T13:07:38.066Z"
   },
   {
    "duration": 1713,
    "start_time": "2023-04-16T13:07:38.081Z"
   },
   {
    "duration": 28,
    "start_time": "2023-04-16T13:07:39.796Z"
   },
   {
    "duration": 1272,
    "start_time": "2023-04-16T13:07:39.826Z"
   },
   {
    "duration": 11,
    "start_time": "2023-04-16T13:07:41.101Z"
   },
   {
    "duration": 11,
    "start_time": "2023-04-16T13:07:41.114Z"
   },
   {
    "duration": 154,
    "start_time": "2023-04-16T13:07:41.128Z"
   },
   {
    "duration": 0,
    "start_time": "2023-04-16T13:07:41.284Z"
   },
   {
    "duration": 0,
    "start_time": "2023-04-16T13:07:41.285Z"
   },
   {
    "duration": 39,
    "start_time": "2023-04-16T13:08:42.624Z"
   },
   {
    "duration": 14,
    "start_time": "2023-04-16T13:08:58.036Z"
   },
   {
    "duration": 69,
    "start_time": "2023-04-16T13:08:59.031Z"
   },
   {
    "duration": 12,
    "start_time": "2023-04-16T13:09:01.764Z"
   },
   {
    "duration": 58,
    "start_time": "2023-04-16T13:11:48.986Z"
   },
   {
    "duration": 4,
    "start_time": "2023-04-16T13:12:13.120Z"
   },
   {
    "duration": 4,
    "start_time": "2023-04-16T13:21:37.050Z"
   },
   {
    "duration": 1602,
    "start_time": "2023-04-16T13:23:56.666Z"
   },
   {
    "duration": 911,
    "start_time": "2023-04-16T13:23:58.270Z"
   },
   {
    "duration": 38,
    "start_time": "2023-04-16T13:23:59.184Z"
   },
   {
    "duration": 45,
    "start_time": "2023-04-16T13:23:59.225Z"
   },
   {
    "duration": 313,
    "start_time": "2023-04-16T13:23:59.274Z"
   },
   {
    "duration": 138,
    "start_time": "2023-04-16T13:23:59.589Z"
   },
   {
    "duration": 9,
    "start_time": "2023-04-16T13:23:59.729Z"
   },
   {
    "duration": 18,
    "start_time": "2023-04-16T13:23:59.739Z"
   },
   {
    "duration": 172,
    "start_time": "2023-04-16T13:23:59.759Z"
   },
   {
    "duration": 41,
    "start_time": "2023-04-16T13:23:59.933Z"
   },
   {
    "duration": 40,
    "start_time": "2023-04-16T13:23:59.976Z"
   },
   {
    "duration": 9,
    "start_time": "2023-04-16T13:24:00.018Z"
   },
   {
    "duration": 61,
    "start_time": "2023-04-16T13:24:00.029Z"
   },
   {
    "duration": 339,
    "start_time": "2023-04-16T13:24:00.095Z"
   },
   {
    "duration": 21,
    "start_time": "2023-04-16T13:24:00.436Z"
   },
   {
    "duration": 131,
    "start_time": "2023-04-16T13:24:00.459Z"
   },
   {
    "duration": 22,
    "start_time": "2023-04-16T13:24:00.592Z"
   },
   {
    "duration": 24,
    "start_time": "2023-04-16T13:24:00.615Z"
   },
   {
    "duration": 28,
    "start_time": "2023-04-16T13:24:00.641Z"
   },
   {
    "duration": 69,
    "start_time": "2023-04-16T13:24:00.672Z"
   },
   {
    "duration": 43,
    "start_time": "2023-04-16T13:24:00.744Z"
   },
   {
    "duration": 34,
    "start_time": "2023-04-16T13:24:00.790Z"
   },
   {
    "duration": 39,
    "start_time": "2023-04-16T13:24:00.826Z"
   },
   {
    "duration": 51,
    "start_time": "2023-04-16T13:24:00.867Z"
   },
   {
    "duration": 108,
    "start_time": "2023-04-16T13:24:00.919Z"
   },
   {
    "duration": 103,
    "start_time": "2023-04-16T13:24:01.029Z"
   },
   {
    "duration": 32,
    "start_time": "2023-04-16T13:24:01.135Z"
   },
   {
    "duration": 42,
    "start_time": "2023-04-16T13:24:01.170Z"
   },
   {
    "duration": 2398,
    "start_time": "2023-04-16T13:24:01.215Z"
   },
   {
    "duration": 2391,
    "start_time": "2023-04-16T13:24:03.616Z"
   },
   {
    "duration": 2516,
    "start_time": "2023-04-16T13:24:06.014Z"
   },
   {
    "duration": 1210,
    "start_time": "2023-04-16T13:24:08.532Z"
   },
   {
    "duration": 832,
    "start_time": "2023-04-16T13:24:09.744Z"
   },
   {
    "duration": 19,
    "start_time": "2023-04-16T13:24:10.579Z"
   },
   {
    "duration": 1673,
    "start_time": "2023-04-16T13:24:10.612Z"
   },
   {
    "duration": 35,
    "start_time": "2023-04-16T13:24:12.287Z"
   },
   {
    "duration": 1399,
    "start_time": "2023-04-16T13:24:12.325Z"
   },
   {
    "duration": 4,
    "start_time": "2023-04-16T13:24:13.725Z"
   },
   {
    "duration": 15,
    "start_time": "2023-04-16T13:24:13.730Z"
   },
   {
    "duration": 18,
    "start_time": "2023-04-16T13:24:13.747Z"
   },
   {
    "duration": 96,
    "start_time": "2023-04-16T13:24:13.770Z"
   },
   {
    "duration": 63,
    "start_time": "2023-04-16T13:24:13.868Z"
   },
   {
    "duration": 3,
    "start_time": "2023-04-16T13:24:13.933Z"
   },
   {
    "duration": 96766,
    "start_time": "2023-04-16T13:25:50.602Z"
   },
   {
    "duration": 54,
    "start_time": "2023-04-16T13:27:46.108Z"
   },
   {
    "duration": 1443,
    "start_time": "2023-04-16T13:27:50.522Z"
   },
   {
    "duration": 1257,
    "start_time": "2023-04-16T13:27:51.967Z"
   },
   {
    "duration": 21,
    "start_time": "2023-04-16T13:27:53.226Z"
   },
   {
    "duration": 83,
    "start_time": "2023-04-16T13:27:53.249Z"
   },
   {
    "duration": 587,
    "start_time": "2023-04-16T13:27:53.334Z"
   },
   {
    "duration": 220,
    "start_time": "2023-04-16T13:27:53.923Z"
   },
   {
    "duration": 10,
    "start_time": "2023-04-16T13:27:54.145Z"
   },
   {
    "duration": 18,
    "start_time": "2023-04-16T13:27:54.212Z"
   },
   {
    "duration": 255,
    "start_time": "2023-04-16T13:27:54.232Z"
   },
   {
    "duration": 31,
    "start_time": "2023-04-16T13:27:54.512Z"
   },
   {
    "duration": 72,
    "start_time": "2023-04-16T13:27:54.545Z"
   },
   {
    "duration": 26,
    "start_time": "2023-04-16T13:27:54.619Z"
   },
   {
    "duration": 51,
    "start_time": "2023-04-16T13:27:54.646Z"
   },
   {
    "duration": 304,
    "start_time": "2023-04-16T13:27:54.701Z"
   },
   {
    "duration": 25,
    "start_time": "2023-04-16T13:27:55.006Z"
   },
   {
    "duration": 113,
    "start_time": "2023-04-16T13:27:55.032Z"
   },
   {
    "duration": 10,
    "start_time": "2023-04-16T13:27:55.147Z"
   },
   {
    "duration": 6,
    "start_time": "2023-04-16T13:27:55.159Z"
   },
   {
    "duration": 16,
    "start_time": "2023-04-16T13:27:55.167Z"
   },
   {
    "duration": 30,
    "start_time": "2023-04-16T13:27:55.185Z"
   },
   {
    "duration": 6,
    "start_time": "2023-04-16T13:27:55.218Z"
   },
   {
    "duration": 5,
    "start_time": "2023-04-16T13:27:55.226Z"
   },
   {
    "duration": 6,
    "start_time": "2023-04-16T13:27:55.232Z"
   },
   {
    "duration": 30,
    "start_time": "2023-04-16T13:27:55.240Z"
   },
   {
    "duration": 80,
    "start_time": "2023-04-16T13:27:55.271Z"
   },
   {
    "duration": 72,
    "start_time": "2023-04-16T13:27:55.353Z"
   },
   {
    "duration": 26,
    "start_time": "2023-04-16T13:27:55.427Z"
   },
   {
    "duration": 7,
    "start_time": "2023-04-16T13:27:55.455Z"
   },
   {
    "duration": 2306,
    "start_time": "2023-04-16T13:27:55.463Z"
   },
   {
    "duration": 2407,
    "start_time": "2023-04-16T13:27:57.772Z"
   },
   {
    "duration": 2604,
    "start_time": "2023-04-16T13:28:00.181Z"
   },
   {
    "duration": 1149,
    "start_time": "2023-04-16T13:28:02.787Z"
   },
   {
    "duration": 868,
    "start_time": "2023-04-16T13:28:03.937Z"
   },
   {
    "duration": 18,
    "start_time": "2023-04-16T13:28:04.812Z"
   },
   {
    "duration": 1623,
    "start_time": "2023-04-16T13:28:04.832Z"
   },
   {
    "duration": 20,
    "start_time": "2023-04-16T13:28:06.457Z"
   },
   {
    "duration": 1385,
    "start_time": "2023-04-16T13:28:06.479Z"
   },
   {
    "duration": 3,
    "start_time": "2023-04-16T13:28:07.866Z"
   },
   {
    "duration": 19,
    "start_time": "2023-04-16T13:28:07.871Z"
   },
   {
    "duration": 25,
    "start_time": "2023-04-16T13:28:07.892Z"
   },
   {
    "duration": 60,
    "start_time": "2023-04-16T13:28:07.921Z"
   },
   {
    "duration": 58,
    "start_time": "2023-04-16T13:28:07.982Z"
   },
   {
    "duration": 3,
    "start_time": "2023-04-16T13:28:08.042Z"
   },
   {
    "duration": 99285,
    "start_time": "2023-04-16T13:28:08.047Z"
   },
   {
    "duration": 1795,
    "start_time": "2023-04-16T13:29:47.334Z"
   },
   {
    "duration": 25565,
    "start_time": "2023-04-16T13:29:49.132Z"
   },
   {
    "duration": 101056,
    "start_time": "2023-04-16T13:36:50.748Z"
   },
   {
    "duration": 1760,
    "start_time": "2023-04-16T13:38:31.806Z"
   },
   {
    "duration": 25143,
    "start_time": "2023-04-16T13:38:57.391Z"
   },
   {
    "duration": 77,
    "start_time": "2023-04-16T13:40:07.967Z"
   },
   {
    "duration": 1753,
    "start_time": "2023-04-16T13:40:17.046Z"
   },
   {
    "duration": 21,
    "start_time": "2023-04-16T13:40:18.802Z"
   },
   {
    "duration": 0,
    "start_time": "2023-04-16T13:40:18.825Z"
   },
   {
    "duration": 57,
    "start_time": "2023-04-16T13:44:23.223Z"
   },
   {
    "duration": 2040,
    "start_time": "2023-04-16T13:44:28.408Z"
   },
   {
    "duration": 1269,
    "start_time": "2023-04-16T13:44:30.450Z"
   },
   {
    "duration": 19,
    "start_time": "2023-04-16T13:44:31.721Z"
   },
   {
    "duration": 47,
    "start_time": "2023-04-16T13:44:31.743Z"
   },
   {
    "duration": 268,
    "start_time": "2023-04-16T13:44:31.792Z"
   },
   {
    "duration": 139,
    "start_time": "2023-04-16T13:44:32.061Z"
   },
   {
    "duration": 14,
    "start_time": "2023-04-16T13:44:32.202Z"
   },
   {
    "duration": 12,
    "start_time": "2023-04-16T13:44:32.218Z"
   },
   {
    "duration": 142,
    "start_time": "2023-04-16T13:44:32.232Z"
   },
   {
    "duration": 24,
    "start_time": "2023-04-16T13:44:32.376Z"
   },
   {
    "duration": 43,
    "start_time": "2023-04-16T13:44:32.402Z"
   },
   {
    "duration": 7,
    "start_time": "2023-04-16T13:44:32.447Z"
   },
   {
    "duration": 21,
    "start_time": "2023-04-16T13:44:32.456Z"
   },
   {
    "duration": 281,
    "start_time": "2023-04-16T13:44:32.479Z"
   },
   {
    "duration": 21,
    "start_time": "2023-04-16T13:44:32.761Z"
   },
   {
    "duration": 118,
    "start_time": "2023-04-16T13:44:32.784Z"
   },
   {
    "duration": 11,
    "start_time": "2023-04-16T13:44:32.904Z"
   },
   {
    "duration": 8,
    "start_time": "2023-04-16T13:44:32.917Z"
   },
   {
    "duration": 5,
    "start_time": "2023-04-16T13:44:32.927Z"
   },
   {
    "duration": 16,
    "start_time": "2023-04-16T13:44:32.934Z"
   },
   {
    "duration": 5,
    "start_time": "2023-04-16T13:44:32.953Z"
   },
   {
    "duration": 5,
    "start_time": "2023-04-16T13:44:32.960Z"
   },
   {
    "duration": 52,
    "start_time": "2023-04-16T13:44:32.966Z"
   },
   {
    "duration": 17,
    "start_time": "2023-04-16T13:44:33.021Z"
   },
   {
    "duration": 51,
    "start_time": "2023-04-16T13:44:33.040Z"
   },
   {
    "duration": 65,
    "start_time": "2023-04-16T13:44:33.111Z"
   },
   {
    "duration": 50,
    "start_time": "2023-04-16T13:44:33.178Z"
   },
   {
    "duration": 8,
    "start_time": "2023-04-16T13:44:33.233Z"
   },
   {
    "duration": 2405,
    "start_time": "2023-04-16T13:44:33.243Z"
   },
   {
    "duration": 2251,
    "start_time": "2023-04-16T13:44:35.651Z"
   },
   {
    "duration": 2521,
    "start_time": "2023-04-16T13:44:37.911Z"
   },
   {
    "duration": 1157,
    "start_time": "2023-04-16T13:44:40.434Z"
   },
   {
    "duration": 801,
    "start_time": "2023-04-16T13:44:41.593Z"
   },
   {
    "duration": 23,
    "start_time": "2023-04-16T13:44:42.396Z"
   },
   {
    "duration": 2944,
    "start_time": "2023-04-16T13:44:42.421Z"
   },
   {
    "duration": 22,
    "start_time": "2023-04-16T13:44:45.367Z"
   },
   {
    "duration": 1380,
    "start_time": "2023-04-16T13:44:45.391Z"
   },
   {
    "duration": 6,
    "start_time": "2023-04-16T13:44:46.773Z"
   },
   {
    "duration": 16,
    "start_time": "2023-04-16T13:44:46.781Z"
   },
   {
    "duration": 87,
    "start_time": "2023-04-16T13:44:46.812Z"
   },
   {
    "duration": 0,
    "start_time": "2023-04-16T13:44:46.901Z"
   },
   {
    "duration": 0,
    "start_time": "2023-04-16T13:44:46.912Z"
   },
   {
    "duration": 0,
    "start_time": "2023-04-16T13:44:46.913Z"
   },
   {
    "duration": 0,
    "start_time": "2023-04-16T13:44:46.914Z"
   },
   {
    "duration": 0,
    "start_time": "2023-04-16T13:44:46.916Z"
   },
   {
    "duration": 0,
    "start_time": "2023-04-16T13:44:46.917Z"
   },
   {
    "duration": 0,
    "start_time": "2023-04-16T13:44:46.919Z"
   },
   {
    "duration": 0,
    "start_time": "2023-04-16T13:44:46.920Z"
   },
   {
    "duration": 0,
    "start_time": "2023-04-16T13:44:46.921Z"
   },
   {
    "duration": 0,
    "start_time": "2023-04-16T13:44:46.922Z"
   },
   {
    "duration": 0,
    "start_time": "2023-04-16T13:44:46.924Z"
   },
   {
    "duration": 1629,
    "start_time": "2023-04-16T13:50:18.866Z"
   },
   {
    "duration": 743,
    "start_time": "2023-04-16T13:50:20.497Z"
   },
   {
    "duration": 21,
    "start_time": "2023-04-16T13:50:21.243Z"
   },
   {
    "duration": 49,
    "start_time": "2023-04-16T13:50:21.266Z"
   },
   {
    "duration": 294,
    "start_time": "2023-04-16T13:50:21.318Z"
   },
   {
    "duration": 137,
    "start_time": "2023-04-16T13:50:21.614Z"
   },
   {
    "duration": 11,
    "start_time": "2023-04-16T13:50:21.754Z"
   },
   {
    "duration": 20,
    "start_time": "2023-04-16T13:50:21.767Z"
   },
   {
    "duration": 169,
    "start_time": "2023-04-16T13:50:21.789Z"
   },
   {
    "duration": 25,
    "start_time": "2023-04-16T13:50:21.960Z"
   },
   {
    "duration": 34,
    "start_time": "2023-04-16T13:50:21.987Z"
   },
   {
    "duration": 7,
    "start_time": "2023-04-16T13:50:22.023Z"
   },
   {
    "duration": 20,
    "start_time": "2023-04-16T13:50:22.032Z"
   },
   {
    "duration": 301,
    "start_time": "2023-04-16T13:50:22.055Z"
   },
   {
    "duration": 22,
    "start_time": "2023-04-16T13:50:22.358Z"
   },
   {
    "duration": 113,
    "start_time": "2023-04-16T13:50:22.382Z"
   },
   {
    "duration": 23,
    "start_time": "2023-04-16T13:50:22.497Z"
   },
   {
    "duration": 15,
    "start_time": "2023-04-16T13:50:22.521Z"
   },
   {
    "duration": 9,
    "start_time": "2023-04-16T13:50:22.538Z"
   },
   {
    "duration": 27,
    "start_time": "2023-04-16T13:50:22.549Z"
   },
   {
    "duration": 12,
    "start_time": "2023-04-16T13:50:22.578Z"
   },
   {
    "duration": 9,
    "start_time": "2023-04-16T13:50:22.593Z"
   },
   {
    "duration": 13,
    "start_time": "2023-04-16T13:50:22.604Z"
   },
   {
    "duration": 17,
    "start_time": "2023-04-16T13:50:22.619Z"
   },
   {
    "duration": 53,
    "start_time": "2023-04-16T13:50:22.638Z"
   },
   {
    "duration": 62,
    "start_time": "2023-04-16T13:50:22.711Z"
   },
   {
    "duration": 47,
    "start_time": "2023-04-16T13:50:22.775Z"
   },
   {
    "duration": 8,
    "start_time": "2023-04-16T13:50:22.824Z"
   },
   {
    "duration": 2371,
    "start_time": "2023-04-16T13:50:22.835Z"
   },
   {
    "duration": 2149,
    "start_time": "2023-04-16T13:50:25.217Z"
   },
   {
    "duration": 2377,
    "start_time": "2023-04-16T13:50:27.368Z"
   },
   {
    "duration": 1094,
    "start_time": "2023-04-16T13:50:29.748Z"
   },
   {
    "duration": 896,
    "start_time": "2023-04-16T13:50:30.844Z"
   },
   {
    "duration": 16,
    "start_time": "2023-04-16T13:50:31.742Z"
   },
   {
    "duration": 1761,
    "start_time": "2023-04-16T13:50:31.759Z"
   },
   {
    "duration": 25,
    "start_time": "2023-04-16T13:50:33.522Z"
   },
   {
    "duration": 1347,
    "start_time": "2023-04-16T13:50:33.549Z"
   },
   {
    "duration": 4,
    "start_time": "2023-04-16T13:50:34.898Z"
   },
   {
    "duration": 11,
    "start_time": "2023-04-16T13:50:34.912Z"
   },
   {
    "duration": 133,
    "start_time": "2023-04-16T13:50:34.925Z"
   },
   {
    "duration": 0,
    "start_time": "2023-04-16T13:50:35.060Z"
   },
   {
    "duration": 0,
    "start_time": "2023-04-16T13:50:35.062Z"
   },
   {
    "duration": 0,
    "start_time": "2023-04-16T13:50:35.063Z"
   },
   {
    "duration": 0,
    "start_time": "2023-04-16T13:50:35.064Z"
   },
   {
    "duration": 0,
    "start_time": "2023-04-16T13:50:35.066Z"
   },
   {
    "duration": 0,
    "start_time": "2023-04-16T13:50:35.067Z"
   },
   {
    "duration": 0,
    "start_time": "2023-04-16T13:50:35.068Z"
   },
   {
    "duration": 0,
    "start_time": "2023-04-16T13:50:35.069Z"
   },
   {
    "duration": 0,
    "start_time": "2023-04-16T13:50:35.071Z"
   },
   {
    "duration": 0,
    "start_time": "2023-04-16T13:50:35.072Z"
   },
   {
    "duration": 0,
    "start_time": "2023-04-16T13:50:35.073Z"
   },
   {
    "duration": 19,
    "start_time": "2023-04-16T13:51:46.494Z"
   },
   {
    "duration": 23,
    "start_time": "2023-04-16T13:52:58.847Z"
   },
   {
    "duration": 20,
    "start_time": "2023-04-16T13:53:31.462Z"
   },
   {
    "duration": 40,
    "start_time": "2023-04-16T13:53:33.372Z"
   },
   {
    "duration": 1572,
    "start_time": "2023-04-16T13:53:44.669Z"
   },
   {
    "duration": 1408,
    "start_time": "2023-04-16T13:53:46.243Z"
   },
   {
    "duration": 68,
    "start_time": "2023-04-16T13:53:47.652Z"
   },
   {
    "duration": 29,
    "start_time": "2023-04-16T13:53:47.722Z"
   },
   {
    "duration": 259,
    "start_time": "2023-04-16T13:53:47.753Z"
   },
   {
    "duration": 134,
    "start_time": "2023-04-16T13:53:48.015Z"
   },
   {
    "duration": 10,
    "start_time": "2023-04-16T13:53:48.150Z"
   },
   {
    "duration": 14,
    "start_time": "2023-04-16T13:53:48.161Z"
   },
   {
    "duration": 151,
    "start_time": "2023-04-16T13:53:48.177Z"
   },
   {
    "duration": 24,
    "start_time": "2023-04-16T13:53:48.330Z"
   },
   {
    "duration": 21,
    "start_time": "2023-04-16T13:53:48.356Z"
   },
   {
    "duration": 32,
    "start_time": "2023-04-16T13:53:48.379Z"
   },
   {
    "duration": 19,
    "start_time": "2023-04-16T13:53:48.414Z"
   },
   {
    "duration": 278,
    "start_time": "2023-04-16T13:53:48.436Z"
   },
   {
    "duration": 27,
    "start_time": "2023-04-16T13:53:48.716Z"
   },
   {
    "duration": 139,
    "start_time": "2023-04-16T13:53:48.745Z"
   },
   {
    "duration": 10,
    "start_time": "2023-04-16T13:53:48.886Z"
   },
   {
    "duration": 15,
    "start_time": "2023-04-16T13:53:48.898Z"
   },
   {
    "duration": 6,
    "start_time": "2023-04-16T13:53:48.915Z"
   },
   {
    "duration": 15,
    "start_time": "2023-04-16T13:53:48.923Z"
   },
   {
    "duration": 6,
    "start_time": "2023-04-16T13:53:48.940Z"
   },
   {
    "duration": 9,
    "start_time": "2023-04-16T13:53:48.948Z"
   },
   {
    "duration": 5,
    "start_time": "2023-04-16T13:53:48.959Z"
   },
   {
    "duration": 58,
    "start_time": "2023-04-16T13:53:48.966Z"
   },
   {
    "duration": 85,
    "start_time": "2023-04-16T13:53:49.027Z"
   },
   {
    "duration": 98,
    "start_time": "2023-04-16T13:53:49.117Z"
   },
   {
    "duration": 35,
    "start_time": "2023-04-16T13:53:49.217Z"
   },
   {
    "duration": 9,
    "start_time": "2023-04-16T13:53:49.254Z"
   },
   {
    "duration": 2257,
    "start_time": "2023-04-16T13:53:49.265Z"
   },
   {
    "duration": 2187,
    "start_time": "2023-04-16T13:53:51.524Z"
   },
   {
    "duration": 2321,
    "start_time": "2023-04-16T13:53:53.713Z"
   },
   {
    "duration": 1175,
    "start_time": "2023-04-16T13:53:56.037Z"
   },
   {
    "duration": 867,
    "start_time": "2023-04-16T13:53:57.214Z"
   },
   {
    "duration": 12,
    "start_time": "2023-04-16T13:53:58.083Z"
   },
   {
    "duration": 1784,
    "start_time": "2023-04-16T13:53:58.097Z"
   },
   {
    "duration": 30,
    "start_time": "2023-04-16T13:53:59.883Z"
   },
   {
    "duration": 1422,
    "start_time": "2023-04-16T13:53:59.915Z"
   },
   {
    "duration": 4,
    "start_time": "2023-04-16T13:54:01.339Z"
   },
   {
    "duration": 17,
    "start_time": "2023-04-16T13:54:01.345Z"
   },
   {
    "duration": 23,
    "start_time": "2023-04-16T13:54:01.363Z"
   },
   {
    "duration": 186,
    "start_time": "2023-04-16T13:54:01.390Z"
   },
   {
    "duration": 0,
    "start_time": "2023-04-16T13:54:01.578Z"
   },
   {
    "duration": 0,
    "start_time": "2023-04-16T13:54:01.579Z"
   },
   {
    "duration": 0,
    "start_time": "2023-04-16T13:54:01.581Z"
   },
   {
    "duration": 0,
    "start_time": "2023-04-16T13:54:01.582Z"
   },
   {
    "duration": 0,
    "start_time": "2023-04-16T13:54:01.583Z"
   },
   {
    "duration": 0,
    "start_time": "2023-04-16T13:54:01.584Z"
   },
   {
    "duration": 0,
    "start_time": "2023-04-16T13:54:01.585Z"
   },
   {
    "duration": 0,
    "start_time": "2023-04-16T13:54:01.586Z"
   },
   {
    "duration": 0,
    "start_time": "2023-04-16T13:54:01.587Z"
   },
   {
    "duration": 0,
    "start_time": "2023-04-16T13:54:01.589Z"
   },
   {
    "duration": 61,
    "start_time": "2023-04-16T13:54:59.928Z"
   },
   {
    "duration": 52,
    "start_time": "2023-04-16T13:55:04.413Z"
   },
   {
    "duration": 3,
    "start_time": "2023-04-16T13:55:05.404Z"
   },
   {
    "duration": 1535,
    "start_time": "2023-04-16T13:57:04.224Z"
   },
   {
    "duration": 798,
    "start_time": "2023-04-16T13:57:05.761Z"
   },
   {
    "duration": 23,
    "start_time": "2023-04-16T13:57:06.561Z"
   },
   {
    "duration": 50,
    "start_time": "2023-04-16T13:57:06.587Z"
   },
   {
    "duration": 252,
    "start_time": "2023-04-16T13:57:06.639Z"
   },
   {
    "duration": 145,
    "start_time": "2023-04-16T13:57:06.893Z"
   },
   {
    "duration": 10,
    "start_time": "2023-04-16T13:57:07.041Z"
   },
   {
    "duration": 14,
    "start_time": "2023-04-16T13:57:07.053Z"
   },
   {
    "duration": 174,
    "start_time": "2023-04-16T13:57:07.068Z"
   },
   {
    "duration": 22,
    "start_time": "2023-04-16T13:57:07.245Z"
   },
   {
    "duration": 29,
    "start_time": "2023-04-16T13:57:07.268Z"
   },
   {
    "duration": 22,
    "start_time": "2023-04-16T13:57:07.299Z"
   },
   {
    "duration": 24,
    "start_time": "2023-04-16T13:57:07.323Z"
   },
   {
    "duration": 299,
    "start_time": "2023-04-16T13:57:07.349Z"
   },
   {
    "duration": 27,
    "start_time": "2023-04-16T13:57:07.651Z"
   },
   {
    "duration": 148,
    "start_time": "2023-04-16T13:57:07.681Z"
   },
   {
    "duration": 12,
    "start_time": "2023-04-16T13:57:07.831Z"
   },
   {
    "duration": 10,
    "start_time": "2023-04-16T13:57:07.845Z"
   },
   {
    "duration": 6,
    "start_time": "2023-04-16T13:57:07.857Z"
   },
   {
    "duration": 27,
    "start_time": "2023-04-16T13:57:07.864Z"
   },
   {
    "duration": 21,
    "start_time": "2023-04-16T13:57:07.892Z"
   },
   {
    "duration": 15,
    "start_time": "2023-04-16T13:57:07.915Z"
   },
   {
    "duration": 7,
    "start_time": "2023-04-16T13:57:07.933Z"
   },
   {
    "duration": 13,
    "start_time": "2023-04-16T13:57:07.942Z"
   },
   {
    "duration": 73,
    "start_time": "2023-04-16T13:57:07.956Z"
   },
   {
    "duration": 59,
    "start_time": "2023-04-16T13:57:08.030Z"
   },
   {
    "duration": 38,
    "start_time": "2023-04-16T13:57:08.091Z"
   },
   {
    "duration": 8,
    "start_time": "2023-04-16T13:57:08.134Z"
   },
   {
    "duration": 3807,
    "start_time": "2023-04-16T13:57:08.144Z"
   },
   {
    "duration": 2635,
    "start_time": "2023-04-16T13:57:11.953Z"
   },
   {
    "duration": 2313,
    "start_time": "2023-04-16T13:57:14.590Z"
   },
   {
    "duration": 1090,
    "start_time": "2023-04-16T13:57:16.904Z"
   },
   {
    "duration": 860,
    "start_time": "2023-04-16T13:57:17.996Z"
   },
   {
    "duration": 22,
    "start_time": "2023-04-16T13:57:18.858Z"
   },
   {
    "duration": 1646,
    "start_time": "2023-04-16T13:57:18.883Z"
   },
   {
    "duration": 20,
    "start_time": "2023-04-16T13:57:20.531Z"
   },
   {
    "duration": 1271,
    "start_time": "2023-04-16T13:57:20.552Z"
   },
   {
    "duration": 5,
    "start_time": "2023-04-16T13:57:21.825Z"
   },
   {
    "duration": 16,
    "start_time": "2023-04-16T13:57:21.832Z"
   },
   {
    "duration": 19,
    "start_time": "2023-04-16T13:57:21.850Z"
   },
   {
    "duration": 86,
    "start_time": "2023-04-16T13:57:21.871Z"
   },
   {
    "duration": 54,
    "start_time": "2023-04-16T13:57:21.959Z"
   },
   {
    "duration": 2,
    "start_time": "2023-04-16T13:57:22.016Z"
   },
   {
    "duration": 1457,
    "start_time": "2023-04-16T13:58:18.863Z"
   },
   {
    "duration": 726,
    "start_time": "2023-04-16T13:58:20.322Z"
   },
   {
    "duration": 19,
    "start_time": "2023-04-16T13:58:21.050Z"
   },
   {
    "duration": 48,
    "start_time": "2023-04-16T13:58:21.070Z"
   },
   {
    "duration": 243,
    "start_time": "2023-04-16T13:58:21.120Z"
   },
   {
    "duration": 134,
    "start_time": "2023-04-16T13:58:21.364Z"
   },
   {
    "duration": 20,
    "start_time": "2023-04-16T13:58:21.501Z"
   },
   {
    "duration": 20,
    "start_time": "2023-04-16T13:58:21.523Z"
   },
   {
    "duration": 184,
    "start_time": "2023-04-16T13:58:21.545Z"
   },
   {
    "duration": 26,
    "start_time": "2023-04-16T13:58:21.730Z"
   },
   {
    "duration": 35,
    "start_time": "2023-04-16T13:58:21.758Z"
   },
   {
    "duration": 25,
    "start_time": "2023-04-16T13:58:21.794Z"
   },
   {
    "duration": 29,
    "start_time": "2023-04-16T13:58:21.821Z"
   },
   {
    "duration": 278,
    "start_time": "2023-04-16T13:58:21.854Z"
   },
   {
    "duration": 21,
    "start_time": "2023-04-16T13:58:22.134Z"
   },
   {
    "duration": 116,
    "start_time": "2023-04-16T13:58:22.156Z"
   },
   {
    "duration": 10,
    "start_time": "2023-04-16T13:58:22.273Z"
   },
   {
    "duration": 5,
    "start_time": "2023-04-16T13:58:22.285Z"
   },
   {
    "duration": 26,
    "start_time": "2023-04-16T13:58:22.292Z"
   },
   {
    "duration": 14,
    "start_time": "2023-04-16T13:58:22.320Z"
   },
   {
    "duration": 5,
    "start_time": "2023-04-16T13:58:22.336Z"
   },
   {
    "duration": 5,
    "start_time": "2023-04-16T13:58:22.343Z"
   },
   {
    "duration": 6,
    "start_time": "2023-04-16T13:58:22.350Z"
   },
   {
    "duration": 60,
    "start_time": "2023-04-16T13:58:22.358Z"
   },
   {
    "duration": 49,
    "start_time": "2023-04-16T13:58:22.420Z"
   },
   {
    "duration": 84,
    "start_time": "2023-04-16T13:58:22.471Z"
   },
   {
    "duration": 25,
    "start_time": "2023-04-16T13:58:22.557Z"
   },
   {
    "duration": 5,
    "start_time": "2023-04-16T13:58:22.583Z"
   },
   {
    "duration": 3272,
    "start_time": "2023-04-16T13:58:22.613Z"
   },
   {
    "duration": 2140,
    "start_time": "2023-04-16T13:58:25.886Z"
   },
   {
    "duration": 2351,
    "start_time": "2023-04-16T13:58:28.028Z"
   },
   {
    "duration": 1167,
    "start_time": "2023-04-16T13:58:30.381Z"
   },
   {
    "duration": 821,
    "start_time": "2023-04-16T13:58:31.550Z"
   },
   {
    "duration": 15,
    "start_time": "2023-04-16T13:58:32.373Z"
   },
   {
    "duration": 1677,
    "start_time": "2023-04-16T13:58:32.390Z"
   },
   {
    "duration": 28,
    "start_time": "2023-04-16T13:58:34.070Z"
   },
   {
    "duration": 1254,
    "start_time": "2023-04-16T13:58:34.112Z"
   },
   {
    "duration": 5,
    "start_time": "2023-04-16T13:58:35.368Z"
   },
   {
    "duration": 12,
    "start_time": "2023-04-16T13:58:35.375Z"
   },
   {
    "duration": 35,
    "start_time": "2023-04-16T13:58:35.389Z"
   },
   {
    "duration": 63,
    "start_time": "2023-04-16T13:58:35.429Z"
   },
   {
    "duration": 59,
    "start_time": "2023-04-16T13:58:35.494Z"
   },
   {
    "duration": 3,
    "start_time": "2023-04-16T13:58:35.554Z"
   },
   {
    "duration": 96332,
    "start_time": "2023-04-16T13:58:35.558Z"
   },
   {
    "duration": 1700,
    "start_time": "2023-04-16T14:00:11.891Z"
   },
   {
    "duration": 23948,
    "start_time": "2023-04-16T14:00:13.592Z"
   },
   {
    "duration": 434,
    "start_time": "2023-04-16T14:00:37.542Z"
   },
   {
    "duration": 271881,
    "start_time": "2023-04-16T14:00:37.978Z"
   },
   {
    "duration": 4666,
    "start_time": "2023-04-16T14:05:09.862Z"
   },
   {
    "duration": 69037,
    "start_time": "2023-04-16T14:05:14.530Z"
   },
   {
    "duration": 1226,
    "start_time": "2023-04-16T14:06:23.569Z"
   },
   {
    "duration": 4,
    "start_time": "2023-04-16T14:23:42.820Z"
   },
   {
    "duration": 416,
    "start_time": "2023-04-16T15:04:39.806Z"
   },
   {
    "duration": 1170,
    "start_time": "2023-04-16T15:04:51.810Z"
   },
   {
    "duration": 1434,
    "start_time": "2023-04-16T15:09:32.939Z"
   },
   {
    "duration": 753,
    "start_time": "2023-04-16T15:09:34.375Z"
   },
   {
    "duration": 20,
    "start_time": "2023-04-16T15:09:35.130Z"
   },
   {
    "duration": 33,
    "start_time": "2023-04-16T15:09:35.152Z"
   },
   {
    "duration": 248,
    "start_time": "2023-04-16T15:09:35.187Z"
   },
   {
    "duration": 130,
    "start_time": "2023-04-16T15:09:35.437Z"
   },
   {
    "duration": 9,
    "start_time": "2023-04-16T15:09:35.569Z"
   },
   {
    "duration": 13,
    "start_time": "2023-04-16T15:09:35.580Z"
   },
   {
    "duration": 157,
    "start_time": "2023-04-16T15:09:35.594Z"
   },
   {
    "duration": 23,
    "start_time": "2023-04-16T15:09:35.753Z"
   },
   {
    "duration": 39,
    "start_time": "2023-04-16T15:09:35.778Z"
   },
   {
    "duration": 7,
    "start_time": "2023-04-16T15:09:35.819Z"
   },
   {
    "duration": 56,
    "start_time": "2023-04-16T15:09:35.828Z"
   },
   {
    "duration": 258,
    "start_time": "2023-04-16T15:09:35.887Z"
   },
   {
    "duration": 22,
    "start_time": "2023-04-16T15:09:36.147Z"
   },
   {
    "duration": 120,
    "start_time": "2023-04-16T15:09:36.171Z"
   },
   {
    "duration": 20,
    "start_time": "2023-04-16T15:09:36.293Z"
   },
   {
    "duration": 7,
    "start_time": "2023-04-16T15:09:36.314Z"
   },
   {
    "duration": 23,
    "start_time": "2023-04-16T15:09:36.322Z"
   },
   {
    "duration": 14,
    "start_time": "2023-04-16T15:09:36.346Z"
   },
   {
    "duration": 19,
    "start_time": "2023-04-16T15:09:36.362Z"
   },
   {
    "duration": 10,
    "start_time": "2023-04-16T15:09:36.383Z"
   },
   {
    "duration": 19,
    "start_time": "2023-04-16T15:09:36.394Z"
   },
   {
    "duration": 16,
    "start_time": "2023-04-16T15:09:36.416Z"
   },
   {
    "duration": 50,
    "start_time": "2023-04-16T15:09:36.434Z"
   },
   {
    "duration": 81,
    "start_time": "2023-04-16T15:09:36.486Z"
   },
   {
    "duration": 51,
    "start_time": "2023-04-16T15:09:36.569Z"
   },
   {
    "duration": 7,
    "start_time": "2023-04-16T15:09:36.622Z"
   },
   {
    "duration": 2158,
    "start_time": "2023-04-16T15:09:36.632Z"
   },
   {
    "duration": 2285,
    "start_time": "2023-04-16T15:09:38.793Z"
   },
   {
    "duration": 2226,
    "start_time": "2023-04-16T15:09:41.080Z"
   },
   {
    "duration": 1068,
    "start_time": "2023-04-16T15:09:43.311Z"
   },
   {
    "duration": 829,
    "start_time": "2023-04-16T15:09:44.382Z"
   },
   {
    "duration": 14,
    "start_time": "2023-04-16T15:09:45.213Z"
   },
   {
    "duration": 1616,
    "start_time": "2023-04-16T15:09:45.228Z"
   },
   {
    "duration": 20,
    "start_time": "2023-04-16T15:09:46.846Z"
   },
   {
    "duration": 1258,
    "start_time": "2023-04-16T15:09:46.868Z"
   },
   {
    "duration": 4,
    "start_time": "2023-04-16T15:09:48.128Z"
   },
   {
    "duration": 14,
    "start_time": "2023-04-16T15:09:48.134Z"
   },
   {
    "duration": 26,
    "start_time": "2023-04-16T15:09:48.150Z"
   },
   {
    "duration": 95,
    "start_time": "2023-04-16T15:09:48.182Z"
   },
   {
    "duration": 57,
    "start_time": "2023-04-16T15:09:48.279Z"
   },
   {
    "duration": 3,
    "start_time": "2023-04-16T15:09:48.338Z"
   },
   {
    "duration": 13,
    "start_time": "2023-04-16T22:03:40.255Z"
   },
   {
    "duration": 1497,
    "start_time": "2023-04-16T23:04:39.243Z"
   },
   {
    "duration": 712,
    "start_time": "2023-04-16T23:04:40.742Z"
   },
   {
    "duration": 22,
    "start_time": "2023-04-16T23:04:41.456Z"
   },
   {
    "duration": 45,
    "start_time": "2023-04-16T23:04:41.480Z"
   },
   {
    "duration": 239,
    "start_time": "2023-04-16T23:04:41.528Z"
   },
   {
    "duration": 130,
    "start_time": "2023-04-16T23:04:41.769Z"
   },
   {
    "duration": 11,
    "start_time": "2023-04-16T23:04:41.901Z"
   },
   {
    "duration": 15,
    "start_time": "2023-04-16T23:04:41.914Z"
   },
   {
    "duration": 143,
    "start_time": "2023-04-16T23:04:41.931Z"
   },
   {
    "duration": 23,
    "start_time": "2023-04-16T23:04:42.076Z"
   },
   {
    "duration": 23,
    "start_time": "2023-04-16T23:04:42.111Z"
   },
   {
    "duration": 8,
    "start_time": "2023-04-16T23:04:42.136Z"
   },
   {
    "duration": 17,
    "start_time": "2023-04-16T23:04:42.146Z"
   },
   {
    "duration": 269,
    "start_time": "2023-04-16T23:04:42.166Z"
   },
   {
    "duration": 20,
    "start_time": "2023-04-16T23:04:42.436Z"
   },
   {
    "duration": 109,
    "start_time": "2023-04-16T23:04:42.458Z"
   },
   {
    "duration": 11,
    "start_time": "2023-04-16T23:04:42.569Z"
   },
   {
    "duration": 6,
    "start_time": "2023-04-16T23:04:42.581Z"
   },
   {
    "duration": 6,
    "start_time": "2023-04-16T23:04:42.588Z"
   },
   {
    "duration": 4,
    "start_time": "2023-04-16T23:04:42.611Z"
   },
   {
    "duration": 15,
    "start_time": "2023-04-16T23:04:42.617Z"
   },
   {
    "duration": 6,
    "start_time": "2023-04-16T23:04:42.633Z"
   },
   {
    "duration": 5,
    "start_time": "2023-04-16T23:04:42.641Z"
   },
   {
    "duration": 5,
    "start_time": "2023-04-16T23:04:42.648Z"
   },
   {
    "duration": 30,
    "start_time": "2023-04-16T23:04:42.654Z"
   },
   {
    "duration": 70,
    "start_time": "2023-04-16T23:04:42.686Z"
   },
   {
    "duration": 86,
    "start_time": "2023-04-16T23:04:42.758Z"
   },
   {
    "duration": 28,
    "start_time": "2023-04-16T23:04:42.846Z"
   },
   {
    "duration": 8,
    "start_time": "2023-04-16T23:04:42.876Z"
   },
   {
    "duration": 2210,
    "start_time": "2023-04-16T23:04:42.885Z"
   },
   {
    "duration": 2172,
    "start_time": "2023-04-16T23:04:45.096Z"
   },
   {
    "duration": 2223,
    "start_time": "2023-04-16T23:04:47.269Z"
   },
   {
    "duration": 1037,
    "start_time": "2023-04-16T23:04:49.493Z"
   },
   {
    "duration": 779,
    "start_time": "2023-04-16T23:04:50.532Z"
   },
   {
    "duration": 16,
    "start_time": "2023-04-16T23:04:51.313Z"
   },
   {
    "duration": 1552,
    "start_time": "2023-04-16T23:04:51.330Z"
   },
   {
    "duration": 28,
    "start_time": "2023-04-16T23:04:52.884Z"
   },
   {
    "duration": 1270,
    "start_time": "2023-04-16T23:04:52.914Z"
   },
   {
    "duration": 4,
    "start_time": "2023-04-16T23:04:54.186Z"
   },
   {
    "duration": 28,
    "start_time": "2023-04-16T23:04:54.192Z"
   },
   {
    "duration": 18,
    "start_time": "2023-04-16T23:04:54.224Z"
   },
   {
    "duration": 71,
    "start_time": "2023-04-16T23:04:54.244Z"
   },
   {
    "duration": 42,
    "start_time": "2023-04-16T23:04:54.316Z"
   },
   {
    "duration": 2,
    "start_time": "2023-04-16T23:04:54.360Z"
   },
   {
    "duration": 92747,
    "start_time": "2023-04-16T23:04:54.364Z"
   },
   {
    "duration": 1616,
    "start_time": "2023-04-16T23:06:27.113Z"
   },
   {
    "duration": 22862,
    "start_time": "2023-04-16T23:06:28.731Z"
   },
   {
    "duration": 405,
    "start_time": "2023-04-16T23:06:51.595Z"
   },
   {
    "duration": 256770,
    "start_time": "2023-04-16T23:06:52.002Z"
   },
   {
    "duration": 4540,
    "start_time": "2023-04-16T23:11:08.774Z"
   },
   {
    "duration": 67612,
    "start_time": "2023-04-16T23:11:13.316Z"
   },
   {
    "duration": 1151,
    "start_time": "2023-04-16T23:12:20.929Z"
   },
   {
    "duration": 1755,
    "start_time": "2023-04-17T10:31:48.925Z"
   },
   {
    "duration": 1995,
    "start_time": "2023-04-17T10:31:50.682Z"
   },
   {
    "duration": 19,
    "start_time": "2023-04-17T10:31:52.679Z"
   },
   {
    "duration": 25,
    "start_time": "2023-04-17T10:31:52.700Z"
   },
   {
    "duration": 223,
    "start_time": "2023-04-17T10:31:52.728Z"
   },
   {
    "duration": 130,
    "start_time": "2023-04-17T10:31:52.955Z"
   },
   {
    "duration": 8,
    "start_time": "2023-04-17T10:31:53.086Z"
   },
   {
    "duration": 15,
    "start_time": "2023-04-17T10:31:53.096Z"
   },
   {
    "duration": 137,
    "start_time": "2023-04-17T10:31:53.113Z"
   },
   {
    "duration": 24,
    "start_time": "2023-04-17T10:31:53.251Z"
   },
   {
    "duration": 21,
    "start_time": "2023-04-17T10:31:53.277Z"
   },
   {
    "duration": 8,
    "start_time": "2023-04-17T10:31:53.299Z"
   },
   {
    "duration": 50,
    "start_time": "2023-04-17T10:31:53.310Z"
   },
   {
    "duration": 281,
    "start_time": "2023-04-17T10:31:53.364Z"
   },
   {
    "duration": 25,
    "start_time": "2023-04-17T10:31:53.647Z"
   },
   {
    "duration": 99,
    "start_time": "2023-04-17T10:31:53.674Z"
   },
   {
    "duration": 10,
    "start_time": "2023-04-17T10:31:53.775Z"
   },
   {
    "duration": 7,
    "start_time": "2023-04-17T10:31:53.787Z"
   },
   {
    "duration": 6,
    "start_time": "2023-04-17T10:31:53.795Z"
   },
   {
    "duration": 5,
    "start_time": "2023-04-17T10:31:53.803Z"
   },
   {
    "duration": 14,
    "start_time": "2023-04-17T10:31:53.810Z"
   },
   {
    "duration": 4,
    "start_time": "2023-04-17T10:31:53.856Z"
   },
   {
    "duration": 4,
    "start_time": "2023-04-17T10:31:53.863Z"
   },
   {
    "duration": 8,
    "start_time": "2023-04-17T10:31:53.870Z"
   },
   {
    "duration": 21,
    "start_time": "2023-04-17T10:31:53.879Z"
   },
   {
    "duration": 64,
    "start_time": "2023-04-17T10:31:53.901Z"
   },
   {
    "duration": 58,
    "start_time": "2023-04-17T10:31:53.967Z"
   },
   {
    "duration": 48,
    "start_time": "2023-04-17T10:31:54.026Z"
   },
   {
    "duration": 5,
    "start_time": "2023-04-17T10:31:54.076Z"
   },
   {
    "duration": 2111,
    "start_time": "2023-04-17T10:31:54.083Z"
   },
   {
    "duration": 2103,
    "start_time": "2023-04-17T10:31:56.196Z"
   },
   {
    "duration": 2121,
    "start_time": "2023-04-17T10:31:58.301Z"
   },
   {
    "duration": 1132,
    "start_time": "2023-04-17T10:32:00.424Z"
   },
   {
    "duration": 850,
    "start_time": "2023-04-17T10:32:01.558Z"
   },
   {
    "duration": 14,
    "start_time": "2023-04-17T10:32:02.410Z"
   },
   {
    "duration": 1710,
    "start_time": "2023-04-17T10:32:02.425Z"
   },
   {
    "duration": 30,
    "start_time": "2023-04-17T10:32:04.136Z"
   },
   {
    "duration": 1244,
    "start_time": "2023-04-17T10:32:04.168Z"
   },
   {
    "duration": 4,
    "start_time": "2023-04-17T10:32:05.414Z"
   },
   {
    "duration": 26,
    "start_time": "2023-04-17T10:32:05.420Z"
   },
   {
    "duration": 16,
    "start_time": "2023-04-17T10:32:05.450Z"
   },
   {
    "duration": 94,
    "start_time": "2023-04-17T10:32:05.468Z"
   },
   {
    "duration": 43,
    "start_time": "2023-04-17T10:32:05.563Z"
   },
   {
    "duration": 4,
    "start_time": "2023-04-17T10:32:05.608Z"
   },
   {
    "duration": 85508,
    "start_time": "2023-04-17T10:32:05.614Z"
   },
   {
    "duration": 1464,
    "start_time": "2023-04-17T10:33:31.124Z"
   },
   {
    "duration": 22224,
    "start_time": "2023-04-17T10:33:32.590Z"
   },
   {
    "duration": 408,
    "start_time": "2023-04-17T10:33:54.816Z"
   },
   {
    "duration": 1378,
    "start_time": "2023-04-17T10:34:45.832Z"
   },
   {
    "duration": 652,
    "start_time": "2023-04-17T10:34:47.212Z"
   },
   {
    "duration": 19,
    "start_time": "2023-04-17T10:34:47.865Z"
   },
   {
    "duration": 25,
    "start_time": "2023-04-17T10:34:47.886Z"
   },
   {
    "duration": 243,
    "start_time": "2023-04-17T10:34:47.913Z"
   },
   {
    "duration": 121,
    "start_time": "2023-04-17T10:34:48.158Z"
   },
   {
    "duration": 8,
    "start_time": "2023-04-17T10:34:48.281Z"
   },
   {
    "duration": 13,
    "start_time": "2023-04-17T10:34:48.291Z"
   },
   {
    "duration": 134,
    "start_time": "2023-04-17T10:34:48.306Z"
   },
   {
    "duration": 24,
    "start_time": "2023-04-17T10:34:48.442Z"
   },
   {
    "duration": 19,
    "start_time": "2023-04-17T10:34:48.468Z"
   },
   {
    "duration": 6,
    "start_time": "2023-04-17T10:34:48.488Z"
   },
   {
    "duration": 61,
    "start_time": "2023-04-17T10:34:48.495Z"
   },
   {
    "duration": 428,
    "start_time": "2023-04-17T10:34:48.558Z"
   },
   {
    "duration": 71,
    "start_time": "2023-04-17T10:34:48.987Z"
   },
   {
    "duration": 132,
    "start_time": "2023-04-17T10:34:49.059Z"
   },
   {
    "duration": 64,
    "start_time": "2023-04-17T10:34:49.192Z"
   },
   {
    "duration": 8,
    "start_time": "2023-04-17T10:34:49.258Z"
   },
   {
    "duration": 5,
    "start_time": "2023-04-17T10:34:49.268Z"
   },
   {
    "duration": 6,
    "start_time": "2023-04-17T10:34:49.275Z"
   },
   {
    "duration": 13,
    "start_time": "2023-04-17T10:34:49.283Z"
   },
   {
    "duration": 59,
    "start_time": "2023-04-17T10:34:49.297Z"
   },
   {
    "duration": 7,
    "start_time": "2023-04-17T10:34:49.358Z"
   },
   {
    "duration": 4,
    "start_time": "2023-04-17T10:34:49.367Z"
   },
   {
    "duration": 14,
    "start_time": "2023-04-17T10:34:49.373Z"
   },
   {
    "duration": 74,
    "start_time": "2023-04-17T10:34:49.389Z"
   },
   {
    "duration": 6,
    "start_time": "2023-04-17T10:34:49.464Z"
   },
   {
    "duration": 2332,
    "start_time": "2023-04-17T10:34:49.473Z"
   },
   {
    "duration": 1964,
    "start_time": "2023-04-17T10:34:51.807Z"
   },
   {
    "duration": 2077,
    "start_time": "2023-04-17T10:34:53.774Z"
   },
   {
    "duration": 1068,
    "start_time": "2023-04-17T10:34:55.855Z"
   },
   {
    "duration": 818,
    "start_time": "2023-04-17T10:34:56.925Z"
   },
   {
    "duration": 22,
    "start_time": "2023-04-17T10:34:57.744Z"
   },
   {
    "duration": 1460,
    "start_time": "2023-04-17T10:34:57.768Z"
   },
   {
    "duration": 32,
    "start_time": "2023-04-17T10:34:59.230Z"
   },
   {
    "duration": 1337,
    "start_time": "2023-04-17T10:34:59.263Z"
   },
   {
    "duration": 5,
    "start_time": "2023-04-17T10:35:00.602Z"
   },
   {
    "duration": 55,
    "start_time": "2023-04-17T10:35:00.608Z"
   },
   {
    "duration": 50,
    "start_time": "2023-04-17T10:35:00.665Z"
   },
   {
    "duration": 79,
    "start_time": "2023-04-17T10:35:00.719Z"
   },
   {
    "duration": 73,
    "start_time": "2023-04-17T10:35:00.800Z"
   },
   {
    "duration": 4,
    "start_time": "2023-04-17T10:35:00.875Z"
   },
   {
    "duration": 86822,
    "start_time": "2023-04-17T10:35:00.882Z"
   },
   {
    "duration": 1459,
    "start_time": "2023-04-17T10:36:27.705Z"
   },
   {
    "duration": 21380,
    "start_time": "2023-04-17T10:36:29.165Z"
   },
   {
    "duration": 359,
    "start_time": "2023-04-17T10:36:50.546Z"
   },
   {
    "duration": 1335,
    "start_time": "2023-04-17T10:39:48.511Z"
   },
   {
    "duration": 620,
    "start_time": "2023-04-17T10:39:49.848Z"
   },
   {
    "duration": 19,
    "start_time": "2023-04-17T10:39:50.470Z"
   },
   {
    "duration": 29,
    "start_time": "2023-04-17T10:39:50.491Z"
   },
   {
    "duration": 436,
    "start_time": "2023-04-17T10:39:50.522Z"
   },
   {
    "duration": 215,
    "start_time": "2023-04-17T10:39:50.960Z"
   },
   {
    "duration": 9,
    "start_time": "2023-04-17T10:39:51.176Z"
   },
   {
    "duration": 72,
    "start_time": "2023-04-17T10:39:51.186Z"
   },
   {
    "duration": 229,
    "start_time": "2023-04-17T10:39:51.260Z"
   },
   {
    "duration": 74,
    "start_time": "2023-04-17T10:39:51.491Z"
   },
   {
    "duration": 32,
    "start_time": "2023-04-17T10:39:51.567Z"
   },
   {
    "duration": 64,
    "start_time": "2023-04-17T10:39:51.600Z"
   },
   {
    "duration": 31,
    "start_time": "2023-04-17T10:39:51.665Z"
   },
   {
    "duration": 498,
    "start_time": "2023-04-17T10:39:51.699Z"
   },
   {
    "duration": 74,
    "start_time": "2023-04-17T10:39:52.200Z"
   },
   {
    "duration": 184,
    "start_time": "2023-04-17T10:39:52.275Z"
   },
   {
    "duration": 9,
    "start_time": "2023-04-17T10:39:52.461Z"
   },
   {
    "duration": 18,
    "start_time": "2023-04-17T10:39:52.472Z"
   },
   {
    "duration": 26,
    "start_time": "2023-04-17T10:39:52.492Z"
   },
   {
    "duration": 20,
    "start_time": "2023-04-17T10:39:52.520Z"
   },
   {
    "duration": 25,
    "start_time": "2023-04-17T10:39:52.541Z"
   },
   {
    "duration": 18,
    "start_time": "2023-04-17T10:39:52.568Z"
   },
   {
    "duration": 16,
    "start_time": "2023-04-17T10:39:52.587Z"
   },
   {
    "duration": 18,
    "start_time": "2023-04-17T10:39:52.605Z"
   },
   {
    "duration": 22,
    "start_time": "2023-04-17T10:39:52.624Z"
   },
   {
    "duration": 23,
    "start_time": "2023-04-17T10:39:52.648Z"
   },
   {
    "duration": 25,
    "start_time": "2023-04-17T10:39:52.673Z"
   },
   {
    "duration": 2061,
    "start_time": "2023-04-17T10:39:52.700Z"
   },
   {
    "duration": 2183,
    "start_time": "2023-04-17T10:39:54.763Z"
   },
   {
    "duration": 2174,
    "start_time": "2023-04-17T10:39:56.947Z"
   },
   {
    "duration": 1100,
    "start_time": "2023-04-17T10:39:59.122Z"
   },
   {
    "duration": 828,
    "start_time": "2023-04-17T10:40:00.223Z"
   },
   {
    "duration": 13,
    "start_time": "2023-04-17T10:40:01.055Z"
   },
   {
    "duration": 1416,
    "start_time": "2023-04-17T10:40:01.069Z"
   },
   {
    "duration": 19,
    "start_time": "2023-04-17T10:40:02.487Z"
   },
   {
    "duration": 1326,
    "start_time": "2023-04-17T10:40:02.508Z"
   },
   {
    "duration": 4,
    "start_time": "2023-04-17T10:40:03.836Z"
   },
   {
    "duration": 24,
    "start_time": "2023-04-17T10:40:03.842Z"
   },
   {
    "duration": 26,
    "start_time": "2023-04-17T10:40:03.868Z"
   },
   {
    "duration": 60,
    "start_time": "2023-04-17T10:40:03.895Z"
   },
   {
    "duration": 52,
    "start_time": "2023-04-17T10:40:03.959Z"
   },
   {
    "duration": 3,
    "start_time": "2023-04-17T10:40:04.013Z"
   },
   {
    "duration": 1318,
    "start_time": "2023-04-17T10:40:30.601Z"
   },
   {
    "duration": 662,
    "start_time": "2023-04-17T10:40:31.921Z"
   },
   {
    "duration": 20,
    "start_time": "2023-04-17T10:40:32.584Z"
   },
   {
    "duration": 29,
    "start_time": "2023-04-17T10:40:32.605Z"
   },
   {
    "duration": 251,
    "start_time": "2023-04-17T10:40:32.635Z"
   },
   {
    "duration": 119,
    "start_time": "2023-04-17T10:40:32.888Z"
   },
   {
    "duration": 8,
    "start_time": "2023-04-17T10:40:33.008Z"
   },
   {
    "duration": 12,
    "start_time": "2023-04-17T10:40:33.018Z"
   },
   {
    "duration": 145,
    "start_time": "2023-04-17T10:40:33.032Z"
   },
   {
    "duration": 23,
    "start_time": "2023-04-17T10:40:33.179Z"
   },
   {
    "duration": 21,
    "start_time": "2023-04-17T10:40:33.203Z"
   },
   {
    "duration": 31,
    "start_time": "2023-04-17T10:40:33.226Z"
   },
   {
    "duration": 32,
    "start_time": "2023-04-17T10:40:33.259Z"
   },
   {
    "duration": 250,
    "start_time": "2023-04-17T10:40:33.294Z"
   },
   {
    "duration": 26,
    "start_time": "2023-04-17T10:40:33.546Z"
   },
   {
    "duration": 104,
    "start_time": "2023-04-17T10:40:33.574Z"
   },
   {
    "duration": 9,
    "start_time": "2023-04-17T10:40:33.680Z"
   },
   {
    "duration": 5,
    "start_time": "2023-04-17T10:40:33.691Z"
   },
   {
    "duration": 7,
    "start_time": "2023-04-17T10:40:33.697Z"
   },
   {
    "duration": 6,
    "start_time": "2023-04-17T10:40:33.705Z"
   },
   {
    "duration": 14,
    "start_time": "2023-04-17T10:40:33.712Z"
   },
   {
    "duration": 31,
    "start_time": "2023-04-17T10:40:33.728Z"
   },
   {
    "duration": 10,
    "start_time": "2023-04-17T10:40:33.760Z"
   },
   {
    "duration": 6,
    "start_time": "2023-04-17T10:40:33.771Z"
   },
   {
    "duration": 17,
    "start_time": "2023-04-17T10:40:33.779Z"
   },
   {
    "duration": 26,
    "start_time": "2023-04-17T10:40:33.798Z"
   },
   {
    "duration": 33,
    "start_time": "2023-04-17T10:40:33.826Z"
   },
   {
    "duration": 2330,
    "start_time": "2023-04-17T10:40:33.860Z"
   },
   {
    "duration": 2475,
    "start_time": "2023-04-17T10:40:36.192Z"
   },
   {
    "duration": 2285,
    "start_time": "2023-04-17T10:40:38.668Z"
   },
   {
    "duration": 1211,
    "start_time": "2023-04-17T10:40:40.956Z"
   },
   {
    "duration": 845,
    "start_time": "2023-04-17T10:40:42.169Z"
   },
   {
    "duration": 15,
    "start_time": "2023-04-17T10:40:43.016Z"
   },
   {
    "duration": 1471,
    "start_time": "2023-04-17T10:40:43.033Z"
   },
   {
    "duration": 19,
    "start_time": "2023-04-17T10:40:44.506Z"
   },
   {
    "duration": 1282,
    "start_time": "2023-04-17T10:40:44.527Z"
   },
   {
    "duration": 3,
    "start_time": "2023-04-17T10:40:45.811Z"
   },
   {
    "duration": 28,
    "start_time": "2023-04-17T10:40:45.816Z"
   },
   {
    "duration": 14,
    "start_time": "2023-04-17T10:40:45.846Z"
   },
   {
    "duration": 53,
    "start_time": "2023-04-17T10:40:45.862Z"
   },
   {
    "duration": 52,
    "start_time": "2023-04-17T10:40:45.918Z"
   },
   {
    "duration": 2,
    "start_time": "2023-04-17T10:40:45.972Z"
   },
   {
    "duration": 86214,
    "start_time": "2023-04-17T10:40:45.976Z"
   },
   {
    "duration": 1532,
    "start_time": "2023-04-17T10:42:12.193Z"
   },
   {
    "duration": 20973,
    "start_time": "2023-04-17T10:42:13.728Z"
   },
   {
    "duration": 398,
    "start_time": "2023-04-17T10:42:34.703Z"
   },
   {
    "duration": 1551,
    "start_time": "2023-04-17T10:43:34.845Z"
   },
   {
    "duration": 1301,
    "start_time": "2023-04-17T10:43:36.397Z"
   },
   {
    "duration": 73,
    "start_time": "2023-04-17T10:43:37.700Z"
   },
   {
    "duration": 39,
    "start_time": "2023-04-17T10:43:37.776Z"
   },
   {
    "duration": 268,
    "start_time": "2023-04-17T10:43:37.817Z"
   },
   {
    "duration": 127,
    "start_time": "2023-04-17T10:43:38.086Z"
   },
   {
    "duration": 10,
    "start_time": "2023-04-17T10:43:38.216Z"
   },
   {
    "duration": 29,
    "start_time": "2023-04-17T10:43:38.227Z"
   },
   {
    "duration": 131,
    "start_time": "2023-04-17T10:43:38.257Z"
   },
   {
    "duration": 23,
    "start_time": "2023-04-17T10:43:38.389Z"
   },
   {
    "duration": 24,
    "start_time": "2023-04-17T10:43:38.414Z"
   },
   {
    "duration": 8,
    "start_time": "2023-04-17T10:43:38.455Z"
   },
   {
    "duration": 18,
    "start_time": "2023-04-17T10:43:38.467Z"
   },
   {
    "duration": 272,
    "start_time": "2023-04-17T10:43:38.487Z"
   },
   {
    "duration": 19,
    "start_time": "2023-04-17T10:43:38.761Z"
   },
   {
    "duration": 98,
    "start_time": "2023-04-17T10:43:38.782Z"
   },
   {
    "duration": 9,
    "start_time": "2023-04-17T10:43:38.882Z"
   },
   {
    "duration": 6,
    "start_time": "2023-04-17T10:43:38.893Z"
   },
   {
    "duration": 6,
    "start_time": "2023-04-17T10:43:38.900Z"
   },
   {
    "duration": 4,
    "start_time": "2023-04-17T10:43:38.908Z"
   },
   {
    "duration": 43,
    "start_time": "2023-04-17T10:43:38.914Z"
   },
   {
    "duration": 5,
    "start_time": "2023-04-17T10:43:38.959Z"
   },
   {
    "duration": 4,
    "start_time": "2023-04-17T10:43:38.966Z"
   },
   {
    "duration": 5,
    "start_time": "2023-04-17T10:43:38.973Z"
   },
   {
    "duration": 16,
    "start_time": "2023-04-17T10:43:38.980Z"
   },
   {
    "duration": 30,
    "start_time": "2023-04-17T10:43:38.998Z"
   },
   {
    "duration": 7,
    "start_time": "2023-04-17T10:43:39.056Z"
   },
   {
    "duration": 2145,
    "start_time": "2023-04-17T10:43:39.065Z"
   },
   {
    "duration": 2200,
    "start_time": "2023-04-17T10:43:41.212Z"
   },
   {
    "duration": 2152,
    "start_time": "2023-04-17T10:43:43.414Z"
   },
   {
    "duration": 1090,
    "start_time": "2023-04-17T10:43:45.567Z"
   },
   {
    "duration": 788,
    "start_time": "2023-04-17T10:43:46.659Z"
   },
   {
    "duration": 14,
    "start_time": "2023-04-17T10:43:47.455Z"
   },
   {
    "duration": 1380,
    "start_time": "2023-04-17T10:43:47.470Z"
   },
   {
    "duration": 22,
    "start_time": "2023-04-17T10:43:48.852Z"
   },
   {
    "duration": 1592,
    "start_time": "2023-04-17T10:43:48.876Z"
   },
   {
    "duration": 4,
    "start_time": "2023-04-17T10:43:50.470Z"
   },
   {
    "duration": 129,
    "start_time": "2023-04-17T10:43:50.476Z"
   },
   {
    "duration": 21,
    "start_time": "2023-04-17T10:43:50.607Z"
   },
   {
    "duration": 61,
    "start_time": "2023-04-17T10:43:50.632Z"
   },
   {
    "duration": 43,
    "start_time": "2023-04-17T10:43:50.695Z"
   },
   {
    "duration": 3,
    "start_time": "2023-04-17T10:43:50.755Z"
   },
   {
    "duration": 1670,
    "start_time": "2023-04-17T10:45:00.604Z"
   },
   {
    "duration": 1159,
    "start_time": "2023-04-17T10:45:02.276Z"
   },
   {
    "duration": 26,
    "start_time": "2023-04-17T10:45:03.437Z"
   },
   {
    "duration": 26,
    "start_time": "2023-04-17T10:45:03.464Z"
   },
   {
    "duration": 236,
    "start_time": "2023-04-17T10:45:03.492Z"
   },
   {
    "duration": 118,
    "start_time": "2023-04-17T10:45:03.730Z"
   },
   {
    "duration": 11,
    "start_time": "2023-04-17T10:45:03.850Z"
   },
   {
    "duration": 20,
    "start_time": "2023-04-17T10:45:03.862Z"
   },
   {
    "duration": 138,
    "start_time": "2023-04-17T10:45:03.883Z"
   },
   {
    "duration": 26,
    "start_time": "2023-04-17T10:45:04.022Z"
   },
   {
    "duration": 25,
    "start_time": "2023-04-17T10:45:04.056Z"
   },
   {
    "duration": 8,
    "start_time": "2023-04-17T10:45:04.083Z"
   },
   {
    "duration": 20,
    "start_time": "2023-04-17T10:45:04.094Z"
   },
   {
    "duration": 305,
    "start_time": "2023-04-17T10:45:04.118Z"
   },
   {
    "duration": 19,
    "start_time": "2023-04-17T10:45:04.425Z"
   },
   {
    "duration": 83,
    "start_time": "2023-04-17T10:45:04.455Z"
   },
   {
    "duration": 17,
    "start_time": "2023-04-17T10:45:04.539Z"
   },
   {
    "duration": 6,
    "start_time": "2023-04-17T10:45:04.558Z"
   },
   {
    "duration": 7,
    "start_time": "2023-04-17T10:45:04.566Z"
   },
   {
    "duration": 13,
    "start_time": "2023-04-17T10:45:04.575Z"
   },
   {
    "duration": 19,
    "start_time": "2023-04-17T10:45:04.590Z"
   },
   {
    "duration": 11,
    "start_time": "2023-04-17T10:45:04.610Z"
   },
   {
    "duration": 5,
    "start_time": "2023-04-17T10:45:04.623Z"
   },
   {
    "duration": 10,
    "start_time": "2023-04-17T10:45:04.630Z"
   },
   {
    "duration": 27,
    "start_time": "2023-04-17T10:45:04.642Z"
   },
   {
    "duration": 25,
    "start_time": "2023-04-17T10:45:04.671Z"
   },
   {
    "duration": 6,
    "start_time": "2023-04-17T10:45:04.698Z"
   },
   {
    "duration": 2115,
    "start_time": "2023-04-17T10:45:04.705Z"
   },
   {
    "duration": 2043,
    "start_time": "2023-04-17T10:45:06.822Z"
   },
   {
    "duration": 2011,
    "start_time": "2023-04-17T10:45:08.867Z"
   },
   {
    "duration": 1122,
    "start_time": "2023-04-17T10:45:10.881Z"
   },
   {
    "duration": 1717,
    "start_time": "2023-04-17T10:45:12.006Z"
   },
   {
    "duration": 13,
    "start_time": "2023-04-17T10:45:13.725Z"
   },
   {
    "duration": 1522,
    "start_time": "2023-04-17T10:45:13.739Z"
   },
   {
    "duration": 18,
    "start_time": "2023-04-17T10:45:15.263Z"
   },
   {
    "duration": 1428,
    "start_time": "2023-04-17T10:45:15.283Z"
   },
   {
    "duration": 4,
    "start_time": "2023-04-17T10:45:16.712Z"
   },
   {
    "duration": 23,
    "start_time": "2023-04-17T10:45:16.718Z"
   },
   {
    "duration": 20,
    "start_time": "2023-04-17T10:45:16.743Z"
   },
   {
    "duration": 67,
    "start_time": "2023-04-17T10:45:16.764Z"
   },
   {
    "duration": 55,
    "start_time": "2023-04-17T10:45:16.834Z"
   },
   {
    "duration": 3,
    "start_time": "2023-04-17T10:45:16.890Z"
   },
   {
    "duration": 1366,
    "start_time": "2023-04-17T10:46:02.005Z"
   },
   {
    "duration": 810,
    "start_time": "2023-04-17T10:46:03.372Z"
   },
   {
    "duration": 72,
    "start_time": "2023-04-17T10:46:04.184Z"
   },
   {
    "duration": 30,
    "start_time": "2023-04-17T10:46:04.258Z"
   },
   {
    "duration": 574,
    "start_time": "2023-04-17T10:46:04.289Z"
   },
   {
    "duration": 232,
    "start_time": "2023-04-17T10:46:04.865Z"
   },
   {
    "duration": 60,
    "start_time": "2023-04-17T10:46:05.099Z"
   },
   {
    "duration": 17,
    "start_time": "2023-04-17T10:46:05.161Z"
   },
   {
    "duration": 320,
    "start_time": "2023-04-17T10:46:05.180Z"
   },
   {
    "duration": 73,
    "start_time": "2023-04-17T10:46:05.503Z"
   },
   {
    "duration": 89,
    "start_time": "2023-04-17T10:46:05.579Z"
   },
   {
    "duration": 8,
    "start_time": "2023-04-17T10:46:05.670Z"
   },
   {
    "duration": 77,
    "start_time": "2023-04-17T10:46:05.680Z"
   },
   {
    "duration": 261,
    "start_time": "2023-04-17T10:46:05.758Z"
   },
   {
    "duration": 19,
    "start_time": "2023-04-17T10:46:06.020Z"
   },
   {
    "duration": 98,
    "start_time": "2023-04-17T10:46:06.041Z"
   },
   {
    "duration": 16,
    "start_time": "2023-04-17T10:46:06.140Z"
   },
   {
    "duration": 5,
    "start_time": "2023-04-17T10:46:06.158Z"
   },
   {
    "duration": 10,
    "start_time": "2023-04-17T10:46:06.165Z"
   },
   {
    "duration": 5,
    "start_time": "2023-04-17T10:46:06.177Z"
   },
   {
    "duration": 19,
    "start_time": "2023-04-17T10:46:06.185Z"
   },
   {
    "duration": 9,
    "start_time": "2023-04-17T10:46:06.206Z"
   },
   {
    "duration": 10,
    "start_time": "2023-04-17T10:46:06.217Z"
   },
   {
    "duration": 28,
    "start_time": "2023-04-17T10:46:06.229Z"
   },
   {
    "duration": 16,
    "start_time": "2023-04-17T10:46:06.259Z"
   },
   {
    "duration": 29,
    "start_time": "2023-04-17T10:46:06.277Z"
   },
   {
    "duration": 6,
    "start_time": "2023-04-17T10:46:06.308Z"
   },
   {
    "duration": 2076,
    "start_time": "2023-04-17T10:46:06.318Z"
   },
   {
    "duration": 1924,
    "start_time": "2023-04-17T10:46:08.396Z"
   },
   {
    "duration": 2178,
    "start_time": "2023-04-17T10:46:10.322Z"
   },
   {
    "duration": 1073,
    "start_time": "2023-04-17T10:46:12.502Z"
   },
   {
    "duration": 793,
    "start_time": "2023-04-17T10:46:13.576Z"
   },
   {
    "duration": 13,
    "start_time": "2023-04-17T10:46:14.371Z"
   },
   {
    "duration": 1435,
    "start_time": "2023-04-17T10:46:14.386Z"
   },
   {
    "duration": 19,
    "start_time": "2023-04-17T10:46:15.823Z"
   },
   {
    "duration": 1356,
    "start_time": "2023-04-17T10:46:15.844Z"
   },
   {
    "duration": 3,
    "start_time": "2023-04-17T10:46:17.202Z"
   },
   {
    "duration": 24,
    "start_time": "2023-04-17T10:46:17.207Z"
   },
   {
    "duration": 23,
    "start_time": "2023-04-17T10:46:17.233Z"
   },
   {
    "duration": 59,
    "start_time": "2023-04-17T10:46:17.258Z"
   },
   {
    "duration": 58,
    "start_time": "2023-04-17T10:46:17.319Z"
   },
   {
    "duration": 3,
    "start_time": "2023-04-17T10:46:17.379Z"
   },
   {
    "duration": 87116,
    "start_time": "2023-04-17T10:46:17.384Z"
   },
   {
    "duration": 1672,
    "start_time": "2023-04-17T10:47:44.501Z"
   },
   {
    "duration": 22581,
    "start_time": "2023-04-17T10:47:46.175Z"
   },
   {
    "duration": 373,
    "start_time": "2023-04-17T10:48:08.758Z"
   },
   {
    "duration": 1463,
    "start_time": "2023-04-17T10:50:00.414Z"
   },
   {
    "duration": 808,
    "start_time": "2023-04-17T10:50:01.879Z"
   },
   {
    "duration": 71,
    "start_time": "2023-04-17T10:50:02.689Z"
   },
   {
    "duration": 29,
    "start_time": "2023-04-17T10:50:02.762Z"
   },
   {
    "duration": 502,
    "start_time": "2023-04-17T10:50:02.792Z"
   },
   {
    "duration": 272,
    "start_time": "2023-04-17T10:50:03.296Z"
   },
   {
    "duration": 11,
    "start_time": "2023-04-17T10:50:03.570Z"
   },
   {
    "duration": 73,
    "start_time": "2023-04-17T10:50:03.583Z"
   },
   {
    "duration": 243,
    "start_time": "2023-04-17T10:50:03.658Z"
   },
   {
    "duration": 26,
    "start_time": "2023-04-17T10:50:03.955Z"
   },
   {
    "duration": 82,
    "start_time": "2023-04-17T10:50:03.983Z"
   },
   {
    "duration": 7,
    "start_time": "2023-04-17T10:50:04.067Z"
   },
   {
    "duration": 80,
    "start_time": "2023-04-17T10:50:04.075Z"
   },
   {
    "duration": 459,
    "start_time": "2023-04-17T10:50:04.158Z"
   },
   {
    "duration": 21,
    "start_time": "2023-04-17T10:50:04.618Z"
   },
   {
    "duration": 102,
    "start_time": "2023-04-17T10:50:04.641Z"
   },
   {
    "duration": 16,
    "start_time": "2023-04-17T10:50:04.745Z"
   },
   {
    "duration": 14,
    "start_time": "2023-04-17T10:50:04.763Z"
   },
   {
    "duration": 13,
    "start_time": "2023-04-17T10:50:04.779Z"
   },
   {
    "duration": 4,
    "start_time": "2023-04-17T10:50:04.794Z"
   },
   {
    "duration": 25,
    "start_time": "2023-04-17T10:50:04.800Z"
   },
   {
    "duration": 5,
    "start_time": "2023-04-17T10:50:04.827Z"
   },
   {
    "duration": 9,
    "start_time": "2023-04-17T10:50:04.834Z"
   },
   {
    "duration": 14,
    "start_time": "2023-04-17T10:50:04.845Z"
   },
   {
    "duration": 22,
    "start_time": "2023-04-17T10:50:04.861Z"
   },
   {
    "duration": 30,
    "start_time": "2023-04-17T10:50:04.885Z"
   },
   {
    "duration": 7,
    "start_time": "2023-04-17T10:50:04.917Z"
   },
   {
    "duration": 2147,
    "start_time": "2023-04-17T10:50:04.958Z"
   },
   {
    "duration": 2010,
    "start_time": "2023-04-17T10:50:07.106Z"
   },
   {
    "duration": 2143,
    "start_time": "2023-04-17T10:50:09.118Z"
   },
   {
    "duration": 1178,
    "start_time": "2023-04-17T10:50:11.263Z"
   },
   {
    "duration": 752,
    "start_time": "2023-04-17T10:50:12.443Z"
   },
   {
    "duration": 13,
    "start_time": "2023-04-17T10:50:13.196Z"
   },
   {
    "duration": 1420,
    "start_time": "2023-04-17T10:50:13.210Z"
   },
   {
    "duration": 32,
    "start_time": "2023-04-17T10:50:14.631Z"
   },
   {
    "duration": 1367,
    "start_time": "2023-04-17T10:50:14.665Z"
   },
   {
    "duration": 3,
    "start_time": "2023-04-17T10:50:16.034Z"
   },
   {
    "duration": 18,
    "start_time": "2023-04-17T10:50:16.039Z"
   },
   {
    "duration": 14,
    "start_time": "2023-04-17T10:50:16.058Z"
   },
   {
    "duration": 53,
    "start_time": "2023-04-17T10:50:16.074Z"
   },
   {
    "duration": 70,
    "start_time": "2023-04-17T10:50:16.129Z"
   },
   {
    "duration": 74,
    "start_time": "2023-04-17T10:50:16.201Z"
   },
   {
    "duration": 89220,
    "start_time": "2023-04-17T10:50:16.277Z"
   },
   {
    "duration": 1504,
    "start_time": "2023-04-17T10:51:45.499Z"
   },
   {
    "duration": 106,
    "start_time": "2023-04-17T10:51:47.005Z"
   },
   {
    "duration": 0,
    "start_time": "2023-04-17T10:51:47.113Z"
   },
   {
    "duration": 0,
    "start_time": "2023-04-17T10:51:47.115Z"
   },
   {
    "duration": 0,
    "start_time": "2023-04-17T10:51:47.117Z"
   },
   {
    "duration": 0,
    "start_time": "2023-04-17T10:51:47.118Z"
   },
   {
    "duration": 0,
    "start_time": "2023-04-17T10:51:47.119Z"
   },
   {
    "duration": 0,
    "start_time": "2023-04-17T10:51:47.121Z"
   },
   {
    "duration": 2512,
    "start_time": "2023-04-17T10:58:00.516Z"
   },
   {
    "duration": 680,
    "start_time": "2023-04-17T10:58:03.030Z"
   },
   {
    "duration": 18,
    "start_time": "2023-04-17T10:58:03.712Z"
   },
   {
    "duration": 41,
    "start_time": "2023-04-17T10:58:03.731Z"
   },
   {
    "duration": 226,
    "start_time": "2023-04-17T10:58:03.775Z"
   },
   {
    "duration": 116,
    "start_time": "2023-04-17T10:58:04.002Z"
   },
   {
    "duration": 9,
    "start_time": "2023-04-17T10:58:04.119Z"
   },
   {
    "duration": 11,
    "start_time": "2023-04-17T10:58:04.129Z"
   },
   {
    "duration": 124,
    "start_time": "2023-04-17T10:58:04.156Z"
   },
   {
    "duration": 22,
    "start_time": "2023-04-17T10:58:04.282Z"
   },
   {
    "duration": 38,
    "start_time": "2023-04-17T10:58:04.305Z"
   },
   {
    "duration": 13,
    "start_time": "2023-04-17T10:58:04.345Z"
   },
   {
    "duration": 18,
    "start_time": "2023-04-17T10:58:04.359Z"
   },
   {
    "duration": 246,
    "start_time": "2023-04-17T10:58:04.381Z"
   },
   {
    "duration": 19,
    "start_time": "2023-04-17T10:58:04.629Z"
   },
   {
    "duration": 87,
    "start_time": "2023-04-17T10:58:04.656Z"
   },
   {
    "duration": 16,
    "start_time": "2023-04-17T10:58:04.744Z"
   },
   {
    "duration": 6,
    "start_time": "2023-04-17T10:58:04.762Z"
   },
   {
    "duration": 9,
    "start_time": "2023-04-17T10:58:04.769Z"
   },
   {
    "duration": 10,
    "start_time": "2023-04-17T10:58:04.779Z"
   },
   {
    "duration": 18,
    "start_time": "2023-04-17T10:58:04.790Z"
   },
   {
    "duration": 7,
    "start_time": "2023-04-17T10:58:04.810Z"
   },
   {
    "duration": 9,
    "start_time": "2023-04-17T10:58:04.819Z"
   },
   {
    "duration": 28,
    "start_time": "2023-04-17T10:58:04.829Z"
   },
   {
    "duration": 16,
    "start_time": "2023-04-17T10:58:04.858Z"
   },
   {
    "duration": 26,
    "start_time": "2023-04-17T10:58:04.876Z"
   },
   {
    "duration": 6,
    "start_time": "2023-04-17T10:58:04.903Z"
   },
   {
    "duration": 2175,
    "start_time": "2023-04-17T10:58:04.910Z"
   },
   {
    "duration": 1868,
    "start_time": "2023-04-17T10:58:07.087Z"
   },
   {
    "duration": 1962,
    "start_time": "2023-04-17T10:58:08.956Z"
   },
   {
    "duration": 1092,
    "start_time": "2023-04-17T10:58:10.919Z"
   },
   {
    "duration": 815,
    "start_time": "2023-04-17T10:58:12.012Z"
   },
   {
    "duration": 13,
    "start_time": "2023-04-17T10:58:12.829Z"
   },
   {
    "duration": 1311,
    "start_time": "2023-04-17T10:58:12.844Z"
   },
   {
    "duration": 21,
    "start_time": "2023-04-17T10:58:14.157Z"
   },
   {
    "duration": 1305,
    "start_time": "2023-04-17T10:58:14.180Z"
   },
   {
    "duration": 4,
    "start_time": "2023-04-17T10:58:15.488Z"
   },
   {
    "duration": 14,
    "start_time": "2023-04-17T10:58:15.493Z"
   },
   {
    "duration": 15,
    "start_time": "2023-04-17T10:58:15.509Z"
   },
   {
    "duration": 80,
    "start_time": "2023-04-17T10:58:15.526Z"
   },
   {
    "duration": 59,
    "start_time": "2023-04-17T10:58:15.610Z"
   },
   {
    "duration": 3,
    "start_time": "2023-04-17T10:58:15.671Z"
   },
   {
    "duration": 129,
    "start_time": "2023-04-17T10:58:15.675Z"
   },
   {
    "duration": 0,
    "start_time": "2023-04-17T10:58:15.806Z"
   },
   {
    "duration": 0,
    "start_time": "2023-04-17T10:58:15.807Z"
   },
   {
    "duration": 0,
    "start_time": "2023-04-17T10:58:15.808Z"
   },
   {
    "duration": 0,
    "start_time": "2023-04-17T10:58:15.809Z"
   },
   {
    "duration": 0,
    "start_time": "2023-04-17T10:58:15.810Z"
   },
   {
    "duration": 0,
    "start_time": "2023-04-17T10:58:15.811Z"
   },
   {
    "duration": 0,
    "start_time": "2023-04-17T10:58:15.811Z"
   },
   {
    "duration": 12,
    "start_time": "2023-04-17T11:00:02.767Z"
   },
   {
    "duration": 1407,
    "start_time": "2023-04-17T11:00:15.146Z"
   },
   {
    "duration": 677,
    "start_time": "2023-04-17T11:00:16.555Z"
   },
   {
    "duration": 25,
    "start_time": "2023-04-17T11:00:17.234Z"
   },
   {
    "duration": 25,
    "start_time": "2023-04-17T11:00:17.261Z"
   },
   {
    "duration": 238,
    "start_time": "2023-04-17T11:00:17.288Z"
   },
   {
    "duration": 118,
    "start_time": "2023-04-17T11:00:17.528Z"
   },
   {
    "duration": 11,
    "start_time": "2023-04-17T11:00:17.647Z"
   },
   {
    "duration": 25,
    "start_time": "2023-04-17T11:00:17.659Z"
   },
   {
    "duration": 120,
    "start_time": "2023-04-17T11:00:17.686Z"
   },
   {
    "duration": 23,
    "start_time": "2023-04-17T11:00:17.807Z"
   },
   {
    "duration": 31,
    "start_time": "2023-04-17T11:00:17.831Z"
   },
   {
    "duration": 6,
    "start_time": "2023-04-17T11:00:17.864Z"
   },
   {
    "duration": 27,
    "start_time": "2023-04-17T11:00:17.871Z"
   },
   {
    "duration": 262,
    "start_time": "2023-04-17T11:00:17.900Z"
   },
   {
    "duration": 24,
    "start_time": "2023-04-17T11:00:18.164Z"
   },
   {
    "duration": 122,
    "start_time": "2023-04-17T11:00:18.190Z"
   },
   {
    "duration": 12,
    "start_time": "2023-04-17T11:00:18.315Z"
   },
   {
    "duration": 27,
    "start_time": "2023-04-17T11:00:18.329Z"
   },
   {
    "duration": 6,
    "start_time": "2023-04-17T11:00:18.358Z"
   },
   {
    "duration": 5,
    "start_time": "2023-04-17T11:00:18.366Z"
   },
   {
    "duration": 34,
    "start_time": "2023-04-17T11:00:18.373Z"
   },
   {
    "duration": 12,
    "start_time": "2023-04-17T11:00:18.409Z"
   },
   {
    "duration": 17,
    "start_time": "2023-04-17T11:00:18.423Z"
   },
   {
    "duration": 15,
    "start_time": "2023-04-17T11:00:18.442Z"
   },
   {
    "duration": 23,
    "start_time": "2023-04-17T11:00:18.459Z"
   },
   {
    "duration": 27,
    "start_time": "2023-04-17T11:00:18.484Z"
   },
   {
    "duration": 7,
    "start_time": "2023-04-17T11:00:18.513Z"
   },
   {
    "duration": 1972,
    "start_time": "2023-04-17T11:00:18.522Z"
   },
   {
    "duration": 1871,
    "start_time": "2023-04-17T11:00:20.496Z"
   },
   {
    "duration": 1979,
    "start_time": "2023-04-17T11:00:22.368Z"
   },
   {
    "duration": 986,
    "start_time": "2023-04-17T11:00:24.348Z"
   },
   {
    "duration": 939,
    "start_time": "2023-04-17T11:00:25.336Z"
   },
   {
    "duration": 14,
    "start_time": "2023-04-17T11:00:26.277Z"
   },
   {
    "duration": 1900,
    "start_time": "2023-04-17T11:00:26.293Z"
   },
   {
    "duration": 22,
    "start_time": "2023-04-17T11:00:28.195Z"
   },
   {
    "duration": 1267,
    "start_time": "2023-04-17T11:00:28.218Z"
   },
   {
    "duration": 4,
    "start_time": "2023-04-17T11:00:29.487Z"
   },
   {
    "duration": 38,
    "start_time": "2023-04-17T11:00:29.492Z"
   },
   {
    "duration": 17,
    "start_time": "2023-04-17T11:00:29.532Z"
   },
   {
    "duration": 71,
    "start_time": "2023-04-17T11:00:29.550Z"
   },
   {
    "duration": 39,
    "start_time": "2023-04-17T11:00:29.626Z"
   },
   {
    "duration": 4,
    "start_time": "2023-04-17T11:00:29.667Z"
   },
   {
    "duration": 115,
    "start_time": "2023-04-17T11:00:29.672Z"
   },
   {
    "duration": 0,
    "start_time": "2023-04-17T11:00:29.789Z"
   },
   {
    "duration": 0,
    "start_time": "2023-04-17T11:00:29.790Z"
   },
   {
    "duration": 0,
    "start_time": "2023-04-17T11:00:29.792Z"
   },
   {
    "duration": 0,
    "start_time": "2023-04-17T11:00:29.793Z"
   },
   {
    "duration": 0,
    "start_time": "2023-04-17T11:00:29.794Z"
   },
   {
    "duration": 0,
    "start_time": "2023-04-17T11:00:29.796Z"
   },
   {
    "duration": 0,
    "start_time": "2023-04-17T11:00:29.798Z"
   },
   {
    "duration": 17,
    "start_time": "2023-04-17T11:00:45.672Z"
   },
   {
    "duration": 4,
    "start_time": "2023-04-17T11:02:29.320Z"
   },
   {
    "duration": 42,
    "start_time": "2023-04-17T11:03:24.746Z"
   },
   {
    "duration": 18,
    "start_time": "2023-04-17T11:03:33.451Z"
   },
   {
    "duration": 540,
    "start_time": "2023-04-17T11:05:11.628Z"
   },
   {
    "duration": 2563,
    "start_time": "2023-04-17T11:06:59.701Z"
   },
   {
    "duration": 775,
    "start_time": "2023-04-17T11:07:02.267Z"
   },
   {
    "duration": 39,
    "start_time": "2023-04-17T11:07:03.044Z"
   },
   {
    "duration": 28,
    "start_time": "2023-04-17T11:07:03.084Z"
   },
   {
    "duration": 286,
    "start_time": "2023-04-17T11:07:03.115Z"
   },
   {
    "duration": 121,
    "start_time": "2023-04-17T11:07:03.403Z"
   },
   {
    "duration": 8,
    "start_time": "2023-04-17T11:07:03.527Z"
   },
   {
    "duration": 28,
    "start_time": "2023-04-17T11:07:03.536Z"
   },
   {
    "duration": 151,
    "start_time": "2023-04-17T11:07:03.566Z"
   },
   {
    "duration": 24,
    "start_time": "2023-04-17T11:07:03.719Z"
   },
   {
    "duration": 37,
    "start_time": "2023-04-17T11:07:03.745Z"
   },
   {
    "duration": 10,
    "start_time": "2023-04-17T11:07:03.784Z"
   },
   {
    "duration": 20,
    "start_time": "2023-04-17T11:07:03.796Z"
   },
   {
    "duration": 299,
    "start_time": "2023-04-17T11:07:03.821Z"
   },
   {
    "duration": 21,
    "start_time": "2023-04-17T11:07:04.122Z"
   },
   {
    "duration": 124,
    "start_time": "2023-04-17T11:07:04.156Z"
   },
   {
    "duration": 19,
    "start_time": "2023-04-17T11:07:04.285Z"
   },
   {
    "duration": 6,
    "start_time": "2023-04-17T11:07:04.306Z"
   },
   {
    "duration": 6,
    "start_time": "2023-04-17T11:07:04.314Z"
   },
   {
    "duration": 4,
    "start_time": "2023-04-17T11:07:04.322Z"
   },
   {
    "duration": 28,
    "start_time": "2023-04-17T11:07:04.328Z"
   },
   {
    "duration": 6,
    "start_time": "2023-04-17T11:07:04.361Z"
   },
   {
    "duration": 11,
    "start_time": "2023-04-17T11:07:04.369Z"
   },
   {
    "duration": 12,
    "start_time": "2023-04-17T11:07:04.386Z"
   },
   {
    "duration": 17,
    "start_time": "2023-04-17T11:07:04.400Z"
   },
   {
    "duration": 50,
    "start_time": "2023-04-17T11:07:04.419Z"
   },
   {
    "duration": 12,
    "start_time": "2023-04-17T11:07:04.472Z"
   },
   {
    "duration": 2091,
    "start_time": "2023-04-17T11:07:04.487Z"
   },
   {
    "duration": 2142,
    "start_time": "2023-04-17T11:07:06.582Z"
   },
   {
    "duration": 2237,
    "start_time": "2023-04-17T11:07:08.726Z"
   },
   {
    "duration": 1280,
    "start_time": "2023-04-17T11:07:10.965Z"
   },
   {
    "duration": 886,
    "start_time": "2023-04-17T11:07:12.247Z"
   },
   {
    "duration": 25,
    "start_time": "2023-04-17T11:07:13.135Z"
   },
   {
    "duration": 1606,
    "start_time": "2023-04-17T11:07:13.164Z"
   },
   {
    "duration": 26,
    "start_time": "2023-04-17T11:07:14.772Z"
   },
   {
    "duration": 1606,
    "start_time": "2023-04-17T11:07:14.800Z"
   },
   {
    "duration": 3,
    "start_time": "2023-04-17T11:07:16.408Z"
   },
   {
    "duration": 14,
    "start_time": "2023-04-17T11:07:16.413Z"
   },
   {
    "duration": 36,
    "start_time": "2023-04-17T11:07:16.429Z"
   },
   {
    "duration": 61,
    "start_time": "2023-04-17T11:07:16.477Z"
   },
   {
    "duration": 1001,
    "start_time": "2023-04-17T11:07:16.543Z"
   },
   {
    "duration": 0,
    "start_time": "2023-04-17T11:07:17.545Z"
   },
   {
    "duration": 0,
    "start_time": "2023-04-17T11:07:17.546Z"
   },
   {
    "duration": 0,
    "start_time": "2023-04-17T11:07:17.547Z"
   },
   {
    "duration": 0,
    "start_time": "2023-04-17T11:07:17.548Z"
   },
   {
    "duration": 0,
    "start_time": "2023-04-17T11:07:17.549Z"
   },
   {
    "duration": 0,
    "start_time": "2023-04-17T11:07:17.550Z"
   },
   {
    "duration": 0,
    "start_time": "2023-04-17T11:07:17.551Z"
   },
   {
    "duration": 0,
    "start_time": "2023-04-17T11:07:17.552Z"
   },
   {
    "duration": 0,
    "start_time": "2023-04-17T11:07:17.553Z"
   },
   {
    "duration": 22,
    "start_time": "2023-04-17T11:10:47.703Z"
   },
   {
    "duration": 1601,
    "start_time": "2023-04-17T11:11:02.319Z"
   },
   {
    "duration": 938,
    "start_time": "2023-04-17T11:11:03.922Z"
   },
   {
    "duration": 31,
    "start_time": "2023-04-17T11:11:04.868Z"
   },
   {
    "duration": 31,
    "start_time": "2023-04-17T11:11:04.902Z"
   },
   {
    "duration": 303,
    "start_time": "2023-04-17T11:11:04.935Z"
   },
   {
    "duration": 305,
    "start_time": "2023-04-17T11:11:05.269Z"
   },
   {
    "duration": 17,
    "start_time": "2023-04-17T11:11:05.577Z"
   },
   {
    "duration": 65,
    "start_time": "2023-04-17T11:11:05.599Z"
   },
   {
    "duration": 427,
    "start_time": "2023-04-17T11:11:05.667Z"
   },
   {
    "duration": 83,
    "start_time": "2023-04-17T11:11:06.096Z"
   },
   {
    "duration": 98,
    "start_time": "2023-04-17T11:11:06.182Z"
   },
   {
    "duration": 14,
    "start_time": "2023-04-17T11:11:06.284Z"
   },
   {
    "duration": 91,
    "start_time": "2023-04-17T11:11:06.301Z"
   },
   {
    "duration": 697,
    "start_time": "2023-04-17T11:11:06.394Z"
   },
   {
    "duration": 77,
    "start_time": "2023-04-17T11:11:07.093Z"
   },
   {
    "duration": 289,
    "start_time": "2023-04-17T11:11:07.173Z"
   },
   {
    "duration": 26,
    "start_time": "2023-04-17T11:11:07.464Z"
   },
   {
    "duration": 24,
    "start_time": "2023-04-17T11:11:07.497Z"
   },
   {
    "duration": 59,
    "start_time": "2023-04-17T11:11:07.522Z"
   },
   {
    "duration": 37,
    "start_time": "2023-04-17T11:11:07.584Z"
   },
   {
    "duration": 53,
    "start_time": "2023-04-17T11:11:07.623Z"
   },
   {
    "duration": 16,
    "start_time": "2023-04-17T11:11:07.684Z"
   },
   {
    "duration": 11,
    "start_time": "2023-04-17T11:11:07.704Z"
   },
   {
    "duration": 10,
    "start_time": "2023-04-17T11:11:07.717Z"
   },
   {
    "duration": 51,
    "start_time": "2023-04-17T11:11:07.729Z"
   },
   {
    "duration": 26,
    "start_time": "2023-04-17T11:11:07.782Z"
   },
   {
    "duration": 14,
    "start_time": "2023-04-17T11:11:07.810Z"
   },
   {
    "duration": 3356,
    "start_time": "2023-04-17T11:11:07.826Z"
   },
   {
    "duration": 2703,
    "start_time": "2023-04-17T11:11:11.185Z"
   },
   {
    "duration": 2275,
    "start_time": "2023-04-17T11:11:13.891Z"
   },
   {
    "duration": 1183,
    "start_time": "2023-04-17T11:11:16.168Z"
   },
   {
    "duration": 861,
    "start_time": "2023-04-17T11:11:17.353Z"
   },
   {
    "duration": 13,
    "start_time": "2023-04-17T11:11:18.216Z"
   },
   {
    "duration": 1668,
    "start_time": "2023-04-17T11:11:18.231Z"
   },
   {
    "duration": 22,
    "start_time": "2023-04-17T11:11:19.900Z"
   },
   {
    "duration": 1516,
    "start_time": "2023-04-17T11:11:19.924Z"
   },
   {
    "duration": 4,
    "start_time": "2023-04-17T11:11:21.442Z"
   },
   {
    "duration": 25,
    "start_time": "2023-04-17T11:11:21.447Z"
   },
   {
    "duration": 117,
    "start_time": "2023-04-17T11:11:21.476Z"
   },
   {
    "duration": 0,
    "start_time": "2023-04-17T11:11:21.595Z"
   },
   {
    "duration": 0,
    "start_time": "2023-04-17T11:11:21.596Z"
   },
   {
    "duration": 0,
    "start_time": "2023-04-17T11:11:21.597Z"
   },
   {
    "duration": 0,
    "start_time": "2023-04-17T11:11:21.599Z"
   },
   {
    "duration": 0,
    "start_time": "2023-04-17T11:11:21.600Z"
   },
   {
    "duration": 0,
    "start_time": "2023-04-17T11:11:21.601Z"
   },
   {
    "duration": 0,
    "start_time": "2023-04-17T11:11:21.603Z"
   },
   {
    "duration": 0,
    "start_time": "2023-04-17T11:11:21.605Z"
   },
   {
    "duration": 0,
    "start_time": "2023-04-17T11:11:21.606Z"
   },
   {
    "duration": 0,
    "start_time": "2023-04-17T11:11:21.607Z"
   },
   {
    "duration": 0,
    "start_time": "2023-04-17T11:11:21.609Z"
   },
   {
    "duration": 17,
    "start_time": "2023-04-17T11:11:45.905Z"
   },
   {
    "duration": 16,
    "start_time": "2023-04-17T11:12:13.636Z"
   },
   {
    "duration": 21,
    "start_time": "2023-04-17T11:12:32.283Z"
   },
   {
    "duration": 41,
    "start_time": "2023-04-17T11:12:45.630Z"
   },
   {
    "duration": 10,
    "start_time": "2023-04-17T11:12:53.495Z"
   },
   {
    "duration": 103,
    "start_time": "2023-04-17T11:12:57.929Z"
   },
   {
    "duration": 67,
    "start_time": "2023-04-17T11:13:03.985Z"
   },
   {
    "duration": 71,
    "start_time": "2023-04-17T11:13:14.581Z"
   },
   {
    "duration": 770,
    "start_time": "2023-04-17T11:14:12.926Z"
   },
   {
    "duration": 34,
    "start_time": "2023-04-17T11:16:25.310Z"
   },
   {
    "duration": 1571,
    "start_time": "2023-04-17T11:16:41.715Z"
   },
   {
    "duration": 1392,
    "start_time": "2023-04-17T11:16:43.288Z"
   },
   {
    "duration": 77,
    "start_time": "2023-04-17T11:16:44.682Z"
   },
   {
    "duration": 26,
    "start_time": "2023-04-17T11:16:44.761Z"
   },
   {
    "duration": 369,
    "start_time": "2023-04-17T11:16:44.789Z"
   },
   {
    "duration": 125,
    "start_time": "2023-04-17T11:16:45.160Z"
   },
   {
    "duration": 11,
    "start_time": "2023-04-17T11:16:45.287Z"
   },
   {
    "duration": 14,
    "start_time": "2023-04-17T11:16:45.299Z"
   },
   {
    "duration": 157,
    "start_time": "2023-04-17T11:16:45.315Z"
   },
   {
    "duration": 24,
    "start_time": "2023-04-17T11:16:45.474Z"
   },
   {
    "duration": 20,
    "start_time": "2023-04-17T11:16:45.500Z"
   },
   {
    "duration": 6,
    "start_time": "2023-04-17T11:16:45.521Z"
   },
   {
    "duration": 18,
    "start_time": "2023-04-17T11:16:45.555Z"
   },
   {
    "duration": 272,
    "start_time": "2023-04-17T11:16:45.576Z"
   },
   {
    "duration": 23,
    "start_time": "2023-04-17T11:16:45.855Z"
   },
   {
    "duration": 114,
    "start_time": "2023-04-17T11:16:45.880Z"
   },
   {
    "duration": 11,
    "start_time": "2023-04-17T11:16:45.996Z"
   },
   {
    "duration": 6,
    "start_time": "2023-04-17T11:16:46.009Z"
   },
   {
    "duration": 7,
    "start_time": "2023-04-17T11:16:46.017Z"
   },
   {
    "duration": 31,
    "start_time": "2023-04-17T11:16:46.026Z"
   },
   {
    "duration": 18,
    "start_time": "2023-04-17T11:16:46.059Z"
   },
   {
    "duration": 14,
    "start_time": "2023-04-17T11:16:46.079Z"
   },
   {
    "duration": 7,
    "start_time": "2023-04-17T11:16:46.095Z"
   },
   {
    "duration": 8,
    "start_time": "2023-04-17T11:16:46.103Z"
   },
   {
    "duration": 17,
    "start_time": "2023-04-17T11:16:46.113Z"
   },
   {
    "duration": 45,
    "start_time": "2023-04-17T11:16:46.131Z"
   },
   {
    "duration": 5,
    "start_time": "2023-04-17T11:16:46.178Z"
   },
   {
    "duration": 2086,
    "start_time": "2023-04-17T11:16:46.186Z"
   },
   {
    "duration": 1945,
    "start_time": "2023-04-17T11:16:48.274Z"
   },
   {
    "duration": 2094,
    "start_time": "2023-04-17T11:16:50.220Z"
   },
   {
    "duration": 1070,
    "start_time": "2023-04-17T11:16:52.316Z"
   },
   {
    "duration": 779,
    "start_time": "2023-04-17T11:16:53.388Z"
   },
   {
    "duration": 14,
    "start_time": "2023-04-17T11:16:54.170Z"
   },
   {
    "duration": 1527,
    "start_time": "2023-04-17T11:16:54.185Z"
   },
   {
    "duration": 22,
    "start_time": "2023-04-17T11:16:55.714Z"
   },
   {
    "duration": 1431,
    "start_time": "2023-04-17T11:16:55.738Z"
   },
   {
    "duration": 5,
    "start_time": "2023-04-17T11:16:57.171Z"
   },
   {
    "duration": 18,
    "start_time": "2023-04-17T11:16:57.178Z"
   },
   {
    "duration": 62,
    "start_time": "2023-04-17T11:16:57.198Z"
   },
   {
    "duration": 80,
    "start_time": "2023-04-17T11:16:57.262Z"
   },
   {
    "duration": 789,
    "start_time": "2023-04-17T11:16:57.359Z"
   },
   {
    "duration": 0,
    "start_time": "2023-04-17T11:16:58.150Z"
   },
   {
    "duration": 0,
    "start_time": "2023-04-17T11:16:58.151Z"
   },
   {
    "duration": 0,
    "start_time": "2023-04-17T11:16:58.153Z"
   },
   {
    "duration": 0,
    "start_time": "2023-04-17T11:16:58.154Z"
   },
   {
    "duration": 0,
    "start_time": "2023-04-17T11:16:58.156Z"
   },
   {
    "duration": 0,
    "start_time": "2023-04-17T11:16:58.157Z"
   },
   {
    "duration": 0,
    "start_time": "2023-04-17T11:16:58.159Z"
   },
   {
    "duration": 0,
    "start_time": "2023-04-17T11:16:58.160Z"
   },
   {
    "duration": 0,
    "start_time": "2023-04-17T11:16:58.161Z"
   },
   {
    "duration": 47,
    "start_time": "2023-04-17T11:20:19.002Z"
   },
   {
    "duration": 11,
    "start_time": "2023-04-17T11:20:22.856Z"
   },
   {
    "duration": 1402,
    "start_time": "2023-04-17T11:20:31.334Z"
   },
   {
    "duration": 675,
    "start_time": "2023-04-17T11:20:32.738Z"
   },
   {
    "duration": 23,
    "start_time": "2023-04-17T11:20:33.458Z"
   },
   {
    "duration": 78,
    "start_time": "2023-04-17T11:20:33.483Z"
   },
   {
    "duration": 513,
    "start_time": "2023-04-17T11:20:33.563Z"
   },
   {
    "duration": 216,
    "start_time": "2023-04-17T11:20:34.077Z"
   },
   {
    "duration": 8,
    "start_time": "2023-04-17T11:20:34.294Z"
   },
   {
    "duration": 13,
    "start_time": "2023-04-17T11:20:34.355Z"
   },
   {
    "duration": 227,
    "start_time": "2023-04-17T11:20:34.369Z"
   },
   {
    "duration": 77,
    "start_time": "2023-04-17T11:20:34.597Z"
   },
   {
    "duration": 19,
    "start_time": "2023-04-17T11:20:34.676Z"
   },
   {
    "duration": 61,
    "start_time": "2023-04-17T11:20:34.698Z"
   },
   {
    "duration": 17,
    "start_time": "2023-04-17T11:20:34.760Z"
   },
   {
    "duration": 452,
    "start_time": "2023-04-17T11:20:34.779Z"
   },
   {
    "duration": 21,
    "start_time": "2023-04-17T11:20:35.255Z"
   },
   {
    "duration": 100,
    "start_time": "2023-04-17T11:20:35.278Z"
   },
   {
    "duration": 9,
    "start_time": "2023-04-17T11:20:35.379Z"
   },
   {
    "duration": 12,
    "start_time": "2023-04-17T11:20:35.389Z"
   },
   {
    "duration": 11,
    "start_time": "2023-04-17T11:20:35.403Z"
   },
   {
    "duration": 21,
    "start_time": "2023-04-17T11:20:35.415Z"
   },
   {
    "duration": 26,
    "start_time": "2023-04-17T11:20:35.438Z"
   },
   {
    "duration": 20,
    "start_time": "2023-04-17T11:20:35.465Z"
   },
   {
    "duration": 16,
    "start_time": "2023-04-17T11:20:35.487Z"
   },
   {
    "duration": 20,
    "start_time": "2023-04-17T11:20:35.504Z"
   },
   {
    "duration": 34,
    "start_time": "2023-04-17T11:20:35.526Z"
   },
   {
    "duration": 30,
    "start_time": "2023-04-17T11:20:35.561Z"
   },
   {
    "duration": 10,
    "start_time": "2023-04-17T11:20:35.592Z"
   },
   {
    "duration": 2059,
    "start_time": "2023-04-17T11:20:35.603Z"
   },
   {
    "duration": 2089,
    "start_time": "2023-04-17T11:20:37.664Z"
   },
   {
    "duration": 2188,
    "start_time": "2023-04-17T11:20:39.756Z"
   },
   {
    "duration": 1188,
    "start_time": "2023-04-17T11:20:41.946Z"
   },
   {
    "duration": 768,
    "start_time": "2023-04-17T11:20:43.136Z"
   },
   {
    "duration": 12,
    "start_time": "2023-04-17T11:20:43.906Z"
   },
   {
    "duration": 1305,
    "start_time": "2023-04-17T11:20:43.920Z"
   },
   {
    "duration": 33,
    "start_time": "2023-04-17T11:20:45.228Z"
   },
   {
    "duration": 1276,
    "start_time": "2023-04-17T11:20:45.263Z"
   },
   {
    "duration": 4,
    "start_time": "2023-04-17T11:20:46.541Z"
   },
   {
    "duration": 19,
    "start_time": "2023-04-17T11:20:46.546Z"
   },
   {
    "duration": 40,
    "start_time": "2023-04-17T11:20:46.568Z"
   },
   {
    "duration": 79,
    "start_time": "2023-04-17T11:20:46.609Z"
   },
   {
    "duration": 39,
    "start_time": "2023-04-17T11:20:46.691Z"
   },
   {
    "duration": 2,
    "start_time": "2023-04-17T11:20:46.732Z"
   },
   {
    "duration": 149,
    "start_time": "2023-04-17T11:20:46.737Z"
   },
   {
    "duration": 0,
    "start_time": "2023-04-17T11:20:46.888Z"
   },
   {
    "duration": 0,
    "start_time": "2023-04-17T11:20:46.889Z"
   },
   {
    "duration": 0,
    "start_time": "2023-04-17T11:20:46.890Z"
   },
   {
    "duration": 0,
    "start_time": "2023-04-17T11:20:46.891Z"
   },
   {
    "duration": 0,
    "start_time": "2023-04-17T11:20:46.892Z"
   },
   {
    "duration": 0,
    "start_time": "2023-04-17T11:20:46.893Z"
   },
   {
    "duration": 0,
    "start_time": "2023-04-17T11:20:46.894Z"
   },
   {
    "duration": 131789,
    "start_time": "2023-04-17T11:22:17.457Z"
   },
   {
    "duration": 5,
    "start_time": "2023-04-17T11:24:29.248Z"
   },
   {
    "duration": 13,
    "start_time": "2023-04-17T11:24:29.260Z"
   },
   {
    "duration": 0,
    "start_time": "2023-04-17T11:24:29.274Z"
   },
   {
    "duration": 2489,
    "start_time": "2023-04-17T11:27:15.818Z"
   },
   {
    "duration": 4,
    "start_time": "2023-04-17T11:27:20.219Z"
   },
   {
    "duration": 17,
    "start_time": "2023-04-17T11:27:59.847Z"
   },
   {
    "duration": 11,
    "start_time": "2023-04-17T11:28:24.923Z"
   },
   {
    "duration": 1558,
    "start_time": "2023-04-17T11:30:37.962Z"
   },
   {
    "duration": 947,
    "start_time": "2023-04-17T11:30:39.522Z"
   },
   {
    "duration": 25,
    "start_time": "2023-04-17T11:30:40.472Z"
   },
   {
    "duration": 93,
    "start_time": "2023-04-17T11:30:40.499Z"
   },
   {
    "duration": 669,
    "start_time": "2023-04-17T11:30:40.595Z"
   },
   {
    "duration": 309,
    "start_time": "2023-04-17T11:30:41.267Z"
   },
   {
    "duration": 9,
    "start_time": "2023-04-17T11:30:41.579Z"
   },
   {
    "duration": 72,
    "start_time": "2023-04-17T11:30:41.590Z"
   },
   {
    "duration": 329,
    "start_time": "2023-04-17T11:30:41.666Z"
   },
   {
    "duration": 87,
    "start_time": "2023-04-17T11:30:41.998Z"
   },
   {
    "duration": 76,
    "start_time": "2023-04-17T11:30:42.087Z"
   },
   {
    "duration": 11,
    "start_time": "2023-04-17T11:30:42.165Z"
   },
   {
    "duration": 77,
    "start_time": "2023-04-17T11:30:42.179Z"
   },
   {
    "duration": 622,
    "start_time": "2023-04-17T11:30:42.276Z"
   },
   {
    "duration": 86,
    "start_time": "2023-04-17T11:30:42.900Z"
   },
   {
    "duration": 278,
    "start_time": "2023-04-17T11:30:42.987Z"
   },
   {
    "duration": 15,
    "start_time": "2023-04-17T11:30:43.269Z"
   },
   {
    "duration": 7,
    "start_time": "2023-04-17T11:30:43.285Z"
   },
   {
    "duration": 64,
    "start_time": "2023-04-17T11:30:43.294Z"
   },
   {
    "duration": 9,
    "start_time": "2023-04-17T11:30:43.360Z"
   },
   {
    "duration": 20,
    "start_time": "2023-04-17T11:30:43.372Z"
   },
   {
    "duration": 10,
    "start_time": "2023-04-17T11:30:43.394Z"
   },
   {
    "duration": 13,
    "start_time": "2023-04-17T11:30:43.456Z"
   },
   {
    "duration": 8,
    "start_time": "2023-04-17T11:30:43.472Z"
   },
   {
    "duration": 79,
    "start_time": "2023-04-17T11:30:43.482Z"
   },
   {
    "duration": 30,
    "start_time": "2023-04-17T11:30:43.563Z"
   },
   {
    "duration": 64,
    "start_time": "2023-04-17T11:30:43.595Z"
   },
   {
    "duration": 2859,
    "start_time": "2023-04-17T11:30:43.661Z"
   },
   {
    "duration": 2043,
    "start_time": "2023-04-17T11:30:46.522Z"
   },
   {
    "duration": 2150,
    "start_time": "2023-04-17T11:30:48.567Z"
   },
   {
    "duration": 1163,
    "start_time": "2023-04-17T11:30:50.719Z"
   },
   {
    "duration": 841,
    "start_time": "2023-04-17T11:30:51.883Z"
   },
   {
    "duration": 12,
    "start_time": "2023-04-17T11:30:52.726Z"
   },
   {
    "duration": 1430,
    "start_time": "2023-04-17T11:30:52.740Z"
   },
   {
    "duration": 26,
    "start_time": "2023-04-17T11:30:54.172Z"
   },
   {
    "duration": 1488,
    "start_time": "2023-04-17T11:30:54.200Z"
   },
   {
    "duration": 4,
    "start_time": "2023-04-17T11:30:55.690Z"
   },
   {
    "duration": 24,
    "start_time": "2023-04-17T11:30:55.695Z"
   },
   {
    "duration": 42,
    "start_time": "2023-04-17T11:30:55.721Z"
   },
   {
    "duration": 67,
    "start_time": "2023-04-17T11:30:55.765Z"
   },
   {
    "duration": 64,
    "start_time": "2023-04-17T11:30:55.835Z"
   },
   {
    "duration": 2,
    "start_time": "2023-04-17T11:30:55.901Z"
   },
   {
    "duration": 1419,
    "start_time": "2023-04-17T11:33:49.279Z"
   },
   {
    "duration": 770,
    "start_time": "2023-04-17T11:33:50.700Z"
   },
   {
    "duration": 26,
    "start_time": "2023-04-17T11:33:51.472Z"
   },
   {
    "duration": 29,
    "start_time": "2023-04-17T11:33:51.501Z"
   },
   {
    "duration": 260,
    "start_time": "2023-04-17T11:33:51.531Z"
   },
   {
    "duration": 126,
    "start_time": "2023-04-17T11:33:51.793Z"
   },
   {
    "duration": 9,
    "start_time": "2023-04-17T11:33:51.921Z"
   },
   {
    "duration": 27,
    "start_time": "2023-04-17T11:33:51.931Z"
   },
   {
    "duration": 149,
    "start_time": "2023-04-17T11:33:51.960Z"
   },
   {
    "duration": 30,
    "start_time": "2023-04-17T11:33:52.112Z"
   },
   {
    "duration": 52,
    "start_time": "2023-04-17T11:33:52.144Z"
   },
   {
    "duration": 10,
    "start_time": "2023-04-17T11:33:52.198Z"
   },
   {
    "duration": 27,
    "start_time": "2023-04-17T11:33:52.211Z"
   },
   {
    "duration": 292,
    "start_time": "2023-04-17T11:33:52.240Z"
   },
   {
    "duration": 24,
    "start_time": "2023-04-17T11:33:52.534Z"
   },
   {
    "duration": 100,
    "start_time": "2023-04-17T11:33:52.560Z"
   },
   {
    "duration": 12,
    "start_time": "2023-04-17T11:33:52.662Z"
   },
   {
    "duration": 7,
    "start_time": "2023-04-17T11:33:52.676Z"
   },
   {
    "duration": 5,
    "start_time": "2023-04-17T11:33:52.685Z"
   },
   {
    "duration": 9,
    "start_time": "2023-04-17T11:33:52.692Z"
   },
   {
    "duration": 25,
    "start_time": "2023-04-17T11:33:52.703Z"
   },
   {
    "duration": 6,
    "start_time": "2023-04-17T11:33:52.729Z"
   },
   {
    "duration": 31,
    "start_time": "2023-04-17T11:33:52.736Z"
   },
   {
    "duration": 10,
    "start_time": "2023-04-17T11:33:52.769Z"
   },
   {
    "duration": 15,
    "start_time": "2023-04-17T11:33:52.781Z"
   },
   {
    "duration": 26,
    "start_time": "2023-04-17T11:33:52.798Z"
   },
   {
    "duration": 30,
    "start_time": "2023-04-17T11:33:52.826Z"
   },
   {
    "duration": 2190,
    "start_time": "2023-04-17T11:33:52.863Z"
   },
   {
    "duration": 2112,
    "start_time": "2023-04-17T11:33:55.061Z"
   },
   {
    "duration": 2480,
    "start_time": "2023-04-17T11:33:57.176Z"
   },
   {
    "duration": 2624,
    "start_time": "2023-04-17T11:33:59.658Z"
   },
   {
    "duration": 911,
    "start_time": "2023-04-17T11:34:02.284Z"
   },
   {
    "duration": 13,
    "start_time": "2023-04-17T11:34:03.197Z"
   },
   {
    "duration": 1734,
    "start_time": "2023-04-17T11:34:03.212Z"
   },
   {
    "duration": 31,
    "start_time": "2023-04-17T11:34:04.949Z"
   },
   {
    "duration": 1498,
    "start_time": "2023-04-17T11:34:04.982Z"
   },
   {
    "duration": 4,
    "start_time": "2023-04-17T11:34:06.482Z"
   },
   {
    "duration": 17,
    "start_time": "2023-04-17T11:34:06.488Z"
   },
   {
    "duration": 34,
    "start_time": "2023-04-17T11:34:06.506Z"
   },
   {
    "duration": 68,
    "start_time": "2023-04-17T11:34:06.557Z"
   },
   {
    "duration": 63,
    "start_time": "2023-04-17T11:34:06.627Z"
   },
   {
    "duration": 3,
    "start_time": "2023-04-17T11:34:06.691Z"
   },
   {
    "duration": 138713,
    "start_time": "2023-04-17T11:34:06.696Z"
   },
   {
    "duration": 6,
    "start_time": "2023-04-17T11:36:25.411Z"
   },
   {
    "duration": 2398,
    "start_time": "2023-04-17T11:36:25.419Z"
   },
   {
    "duration": 6,
    "start_time": "2023-04-17T11:36:27.819Z"
   },
   {
    "duration": 1472,
    "start_time": "2023-04-17T11:39:58.394Z"
   },
   {
    "duration": 728,
    "start_time": "2023-04-17T11:39:59.870Z"
   },
   {
    "duration": 21,
    "start_time": "2023-04-17T11:40:00.600Z"
   },
   {
    "duration": 40,
    "start_time": "2023-04-17T11:40:00.623Z"
   },
   {
    "duration": 265,
    "start_time": "2023-04-17T11:40:00.670Z"
   },
   {
    "duration": 128,
    "start_time": "2023-04-17T11:40:00.937Z"
   },
   {
    "duration": 10,
    "start_time": "2023-04-17T11:40:01.067Z"
   },
   {
    "duration": 39,
    "start_time": "2023-04-17T11:40:01.079Z"
   },
   {
    "duration": 147,
    "start_time": "2023-04-17T11:40:01.120Z"
   },
   {
    "duration": 22,
    "start_time": "2023-04-17T11:40:01.270Z"
   },
   {
    "duration": 54,
    "start_time": "2023-04-17T11:40:01.294Z"
   },
   {
    "duration": 60,
    "start_time": "2023-04-17T11:40:01.350Z"
   },
   {
    "duration": 47,
    "start_time": "2023-04-17T11:40:01.411Z"
   },
   {
    "duration": 312,
    "start_time": "2023-04-17T11:40:01.460Z"
   },
   {
    "duration": 22,
    "start_time": "2023-04-17T11:40:01.775Z"
   },
   {
    "duration": 144,
    "start_time": "2023-04-17T11:40:01.799Z"
   },
   {
    "duration": 14,
    "start_time": "2023-04-17T11:40:01.945Z"
   },
   {
    "duration": 54,
    "start_time": "2023-04-17T11:40:01.961Z"
   },
   {
    "duration": 86,
    "start_time": "2023-04-17T11:40:02.017Z"
   },
   {
    "duration": 130,
    "start_time": "2023-04-17T11:40:02.105Z"
   },
   {
    "duration": 43,
    "start_time": "2023-04-17T11:40:02.236Z"
   },
   {
    "duration": 17,
    "start_time": "2023-04-17T11:40:02.281Z"
   },
   {
    "duration": 21,
    "start_time": "2023-04-17T11:40:02.300Z"
   },
   {
    "duration": 20,
    "start_time": "2023-04-17T11:40:02.323Z"
   },
   {
    "duration": 35,
    "start_time": "2023-04-17T11:40:02.344Z"
   },
   {
    "duration": 55,
    "start_time": "2023-04-17T11:40:02.381Z"
   },
   {
    "duration": 5,
    "start_time": "2023-04-17T11:40:02.438Z"
   },
   {
    "duration": 2200,
    "start_time": "2023-04-17T11:40:02.446Z"
   },
   {
    "duration": 2112,
    "start_time": "2023-04-17T11:40:04.647Z"
   },
   {
    "duration": 2054,
    "start_time": "2023-04-17T11:40:06.762Z"
   },
   {
    "duration": 1110,
    "start_time": "2023-04-17T11:40:08.818Z"
   },
   {
    "duration": 794,
    "start_time": "2023-04-17T11:40:09.930Z"
   },
   {
    "duration": 13,
    "start_time": "2023-04-17T11:40:10.726Z"
   },
   {
    "duration": 1473,
    "start_time": "2023-04-17T11:40:10.741Z"
   },
   {
    "duration": 27,
    "start_time": "2023-04-17T11:40:12.216Z"
   },
   {
    "duration": 1570,
    "start_time": "2023-04-17T11:40:12.256Z"
   },
   {
    "duration": 4,
    "start_time": "2023-04-17T11:40:13.828Z"
   },
   {
    "duration": 23,
    "start_time": "2023-04-17T11:40:13.833Z"
   },
   {
    "duration": 40,
    "start_time": "2023-04-17T11:40:13.858Z"
   },
   {
    "duration": 108,
    "start_time": "2023-04-17T11:40:13.900Z"
   },
   {
    "duration": 65,
    "start_time": "2023-04-17T11:40:14.011Z"
   },
   {
    "duration": 4,
    "start_time": "2023-04-17T11:40:14.078Z"
   },
   {
    "duration": 1414,
    "start_time": "2023-04-17T11:44:02.315Z"
   },
   {
    "duration": 787,
    "start_time": "2023-04-17T11:44:03.732Z"
   },
   {
    "duration": 19,
    "start_time": "2023-04-17T11:44:04.521Z"
   },
   {
    "duration": 48,
    "start_time": "2023-04-17T11:44:04.541Z"
   },
   {
    "duration": 254,
    "start_time": "2023-04-17T11:44:04.591Z"
   },
   {
    "duration": 136,
    "start_time": "2023-04-17T11:44:04.847Z"
   },
   {
    "duration": 9,
    "start_time": "2023-04-17T11:44:04.985Z"
   },
   {
    "duration": 13,
    "start_time": "2023-04-17T11:44:04.995Z"
   },
   {
    "duration": 172,
    "start_time": "2023-04-17T11:44:05.009Z"
   },
   {
    "duration": 27,
    "start_time": "2023-04-17T11:44:05.183Z"
   },
   {
    "duration": 49,
    "start_time": "2023-04-17T11:44:05.211Z"
   },
   {
    "duration": 10,
    "start_time": "2023-04-17T11:44:05.262Z"
   },
   {
    "duration": 21,
    "start_time": "2023-04-17T11:44:05.275Z"
   },
   {
    "duration": 663,
    "start_time": "2023-04-17T11:44:05.299Z"
   },
   {
    "duration": 28,
    "start_time": "2023-04-17T11:44:05.965Z"
   },
   {
    "duration": 263,
    "start_time": "2023-04-17T11:44:05.994Z"
   },
   {
    "duration": 16,
    "start_time": "2023-04-17T11:44:06.260Z"
   },
   {
    "duration": 7,
    "start_time": "2023-04-17T11:44:06.279Z"
   },
   {
    "duration": 6,
    "start_time": "2023-04-17T11:44:06.288Z"
   },
   {
    "duration": 62,
    "start_time": "2023-04-17T11:44:06.296Z"
   },
   {
    "duration": 20,
    "start_time": "2023-04-17T11:44:06.360Z"
   },
   {
    "duration": 5,
    "start_time": "2023-04-17T11:44:06.382Z"
   },
   {
    "duration": 6,
    "start_time": "2023-04-17T11:44:06.389Z"
   },
   {
    "duration": 8,
    "start_time": "2023-04-17T11:44:06.396Z"
   },
   {
    "duration": 18,
    "start_time": "2023-04-17T11:44:06.463Z"
   },
   {
    "duration": 79,
    "start_time": "2023-04-17T11:44:06.482Z"
   },
   {
    "duration": 16,
    "start_time": "2023-04-17T11:44:06.563Z"
   },
   {
    "duration": 2502,
    "start_time": "2023-04-17T11:44:06.581Z"
   },
   {
    "duration": 1911,
    "start_time": "2023-04-17T11:44:09.085Z"
   },
   {
    "duration": 2109,
    "start_time": "2023-04-17T11:44:10.998Z"
   },
   {
    "duration": 1220,
    "start_time": "2023-04-17T11:44:13.110Z"
   },
   {
    "duration": 813,
    "start_time": "2023-04-17T11:44:14.332Z"
   },
   {
    "duration": 28,
    "start_time": "2023-04-17T11:44:15.147Z"
   },
   {
    "duration": 1416,
    "start_time": "2023-04-17T11:44:15.177Z"
   },
   {
    "duration": 20,
    "start_time": "2023-04-17T11:44:16.594Z"
   },
   {
    "duration": 1311,
    "start_time": "2023-04-17T11:44:16.616Z"
   },
   {
    "duration": 3,
    "start_time": "2023-04-17T11:44:17.929Z"
   },
   {
    "duration": 24,
    "start_time": "2023-04-17T11:44:17.934Z"
   },
   {
    "duration": 38,
    "start_time": "2023-04-17T11:44:17.960Z"
   },
   {
    "duration": 91,
    "start_time": "2023-04-17T11:44:18.000Z"
   },
   {
    "duration": 41,
    "start_time": "2023-04-17T11:44:18.094Z"
   },
   {
    "duration": 24,
    "start_time": "2023-04-17T11:44:18.137Z"
   },
   {
    "duration": 139037,
    "start_time": "2023-04-17T11:44:18.163Z"
   },
   {
    "duration": 5,
    "start_time": "2023-04-17T11:46:37.201Z"
   },
   {
    "duration": 2572,
    "start_time": "2023-04-17T11:46:37.207Z"
   },
   {
    "duration": 6,
    "start_time": "2023-04-17T11:46:39.781Z"
   },
   {
    "duration": 314462,
    "start_time": "2023-04-17T11:46:39.788Z"
   },
   {
    "duration": 106,
    "start_time": "2023-04-17T11:51:54.255Z"
   },
   {
    "duration": 1,
    "start_time": "2023-04-17T11:51:54.362Z"
   },
   {
    "duration": 0,
    "start_time": "2023-04-17T11:51:54.364Z"
   },
   {
    "duration": 11,
    "start_time": "2023-04-17T11:56:01.709Z"
   },
   {
    "duration": 1473,
    "start_time": "2023-04-17T11:56:11.644Z"
   },
   {
    "duration": 1566,
    "start_time": "2023-04-17T11:56:13.119Z"
   },
   {
    "duration": 70,
    "start_time": "2023-04-17T11:56:14.686Z"
   },
   {
    "duration": 34,
    "start_time": "2023-04-17T11:56:14.759Z"
   },
   {
    "duration": 578,
    "start_time": "2023-04-17T11:56:14.795Z"
   },
   {
    "duration": 155,
    "start_time": "2023-04-17T11:56:15.375Z"
   },
   {
    "duration": 10,
    "start_time": "2023-04-17T11:56:15.531Z"
   },
   {
    "duration": 246,
    "start_time": "2023-04-17T11:56:15.543Z"
   },
   {
    "duration": 129,
    "start_time": "2023-04-17T11:56:15.791Z"
   },
   {
    "duration": 20,
    "start_time": "2023-04-17T11:56:15.922Z"
   },
   {
    "duration": 38,
    "start_time": "2023-04-17T11:56:15.943Z"
   },
   {
    "duration": 6,
    "start_time": "2023-04-17T11:56:15.983Z"
   },
   {
    "duration": 20,
    "start_time": "2023-04-17T11:56:15.990Z"
   },
   {
    "duration": 274,
    "start_time": "2023-04-17T11:56:16.013Z"
   },
   {
    "duration": 19,
    "start_time": "2023-04-17T11:56:16.289Z"
   },
   {
    "duration": 105,
    "start_time": "2023-04-17T11:56:16.309Z"
   },
   {
    "duration": 8,
    "start_time": "2023-04-17T11:56:16.416Z"
   },
   {
    "duration": 64,
    "start_time": "2023-04-17T11:56:16.426Z"
   },
   {
    "duration": 74,
    "start_time": "2023-04-17T11:56:16.491Z"
   },
   {
    "duration": 6,
    "start_time": "2023-04-17T11:56:16.567Z"
   },
   {
    "duration": 13,
    "start_time": "2023-04-17T11:56:16.576Z"
   },
   {
    "duration": 16,
    "start_time": "2023-04-17T11:56:16.590Z"
   },
   {
    "duration": 6,
    "start_time": "2023-04-17T11:56:16.607Z"
   },
   {
    "duration": 9,
    "start_time": "2023-04-17T11:56:16.615Z"
   },
   {
    "duration": 31,
    "start_time": "2023-04-17T11:56:16.625Z"
   },
   {
    "duration": 29,
    "start_time": "2023-04-17T11:56:16.659Z"
   },
   {
    "duration": 6,
    "start_time": "2023-04-17T11:56:16.690Z"
   },
   {
    "duration": 3145,
    "start_time": "2023-04-17T11:56:16.698Z"
   },
   {
    "duration": 2043,
    "start_time": "2023-04-17T11:56:19.844Z"
   },
   {
    "duration": 2007,
    "start_time": "2023-04-17T11:56:21.888Z"
   },
   {
    "duration": 1080,
    "start_time": "2023-04-17T11:56:23.897Z"
   },
   {
    "duration": 809,
    "start_time": "2023-04-17T11:56:24.979Z"
   },
   {
    "duration": 13,
    "start_time": "2023-04-17T11:56:25.790Z"
   },
   {
    "duration": 1445,
    "start_time": "2023-04-17T11:56:25.805Z"
   },
   {
    "duration": 24,
    "start_time": "2023-04-17T11:56:27.252Z"
   },
   {
    "duration": 1387,
    "start_time": "2023-04-17T11:56:27.279Z"
   },
   {
    "duration": 5,
    "start_time": "2023-04-17T11:56:28.668Z"
   },
   {
    "duration": 14,
    "start_time": "2023-04-17T11:56:28.675Z"
   },
   {
    "duration": 33,
    "start_time": "2023-04-17T11:56:28.691Z"
   },
   {
    "duration": 88,
    "start_time": "2023-04-17T11:56:28.725Z"
   },
   {
    "duration": 59,
    "start_time": "2023-04-17T11:56:28.817Z"
   },
   {
    "duration": 3,
    "start_time": "2023-04-17T11:56:28.878Z"
   },
   {
    "duration": 146737,
    "start_time": "2023-04-17T11:56:28.882Z"
   },
   {
    "duration": 6,
    "start_time": "2023-04-17T11:58:55.621Z"
   },
   {
    "duration": 2545,
    "start_time": "2023-04-17T11:58:55.629Z"
   },
   {
    "duration": 6,
    "start_time": "2023-04-17T11:58:58.177Z"
   },
   {
    "duration": 330374,
    "start_time": "2023-04-17T11:58:58.185Z"
   },
   {
    "duration": 117,
    "start_time": "2023-04-17T12:04:28.561Z"
   },
   {
    "duration": 0,
    "start_time": "2023-04-17T12:04:28.680Z"
   },
   {
    "duration": 0,
    "start_time": "2023-04-17T12:04:28.681Z"
   },
   {
    "duration": 0,
    "start_time": "2023-04-17T12:04:28.683Z"
   },
   {
    "duration": 0,
    "start_time": "2023-04-17T12:04:28.684Z"
   },
   {
    "duration": 0,
    "start_time": "2023-04-17T12:04:28.685Z"
   },
   {
    "duration": 5,
    "start_time": "2023-04-17T12:04:48.041Z"
   },
   {
    "duration": 6386,
    "start_time": "2023-04-17T12:04:50.362Z"
   },
   {
    "duration": 15,
    "start_time": "2023-04-17T12:04:56.756Z"
   },
   {
    "duration": 49,
    "start_time": "2023-04-17T12:04:57.732Z"
   },
   {
    "duration": 233,
    "start_time": "2023-04-17T12:04:58.551Z"
   },
   {
    "duration": 12,
    "start_time": "2023-04-17T12:04:59.372Z"
   },
   {
    "duration": 216,
    "start_time": "2023-04-17T12:06:58.198Z"
   },
   {
    "duration": 185,
    "start_time": "2023-04-17T12:07:20.064Z"
   },
   {
    "duration": 678,
    "start_time": "2023-04-17T12:08:23.397Z"
   },
   {
    "duration": 108,
    "start_time": "2023-04-17T12:12:15.845Z"
   },
   {
    "duration": 94,
    "start_time": "2023-04-17T12:14:27.072Z"
   },
   {
    "duration": 44,
    "start_time": "2023-04-17T12:16:03.998Z"
   },
   {
    "duration": 108,
    "start_time": "2023-04-17T12:16:07.819Z"
   },
   {
    "duration": 4,
    "start_time": "2023-04-17T12:16:23.929Z"
   },
   {
    "duration": 39,
    "start_time": "2023-04-17T12:17:39.279Z"
   },
   {
    "duration": 46,
    "start_time": "2023-04-17T12:18:12.146Z"
   },
   {
    "duration": 104,
    "start_time": "2023-04-17T12:18:17.451Z"
   },
   {
    "duration": 66,
    "start_time": "2023-04-17T12:19:57.584Z"
   },
   {
    "duration": 103,
    "start_time": "2023-04-17T12:20:09.541Z"
   },
   {
    "duration": 89,
    "start_time": "2023-04-17T12:22:02.591Z"
   },
   {
    "duration": 5,
    "start_time": "2023-04-17T12:22:04.877Z"
   },
   {
    "duration": 3,
    "start_time": "2023-04-17T12:22:06.420Z"
   },
   {
    "duration": 1546,
    "start_time": "2023-04-17T12:31:22.147Z"
   },
   {
    "duration": 827,
    "start_time": "2023-04-17T12:31:23.695Z"
   },
   {
    "duration": 18,
    "start_time": "2023-04-17T12:31:24.523Z"
   },
   {
    "duration": 48,
    "start_time": "2023-04-17T12:31:24.542Z"
   },
   {
    "duration": 269,
    "start_time": "2023-04-17T12:31:24.592Z"
   },
   {
    "duration": 128,
    "start_time": "2023-04-17T12:31:24.863Z"
   },
   {
    "duration": 8,
    "start_time": "2023-04-17T12:31:24.993Z"
   },
   {
    "duration": 13,
    "start_time": "2023-04-17T12:31:25.002Z"
   },
   {
    "duration": 160,
    "start_time": "2023-04-17T12:31:25.017Z"
   },
   {
    "duration": 24,
    "start_time": "2023-04-17T12:31:25.179Z"
   },
   {
    "duration": 22,
    "start_time": "2023-04-17T12:31:25.205Z"
   },
   {
    "duration": 34,
    "start_time": "2023-04-17T12:31:25.229Z"
   },
   {
    "duration": 25,
    "start_time": "2023-04-17T12:31:25.265Z"
   },
   {
    "duration": 247,
    "start_time": "2023-04-17T12:31:25.293Z"
   },
   {
    "duration": 31,
    "start_time": "2023-04-17T12:31:25.542Z"
   },
   {
    "duration": 110,
    "start_time": "2023-04-17T12:31:25.574Z"
   },
   {
    "duration": 12,
    "start_time": "2023-04-17T12:31:25.686Z"
   },
   {
    "duration": 7,
    "start_time": "2023-04-17T12:31:25.699Z"
   },
   {
    "duration": 10,
    "start_time": "2023-04-17T12:31:25.708Z"
   },
   {
    "duration": 5,
    "start_time": "2023-04-17T12:31:25.719Z"
   },
   {
    "duration": 36,
    "start_time": "2023-04-17T12:31:25.726Z"
   },
   {
    "duration": 26,
    "start_time": "2023-04-17T12:31:25.765Z"
   },
   {
    "duration": 56,
    "start_time": "2023-04-17T12:31:25.792Z"
   },
   {
    "duration": 61,
    "start_time": "2023-04-17T12:31:25.850Z"
   },
   {
    "duration": 17,
    "start_time": "2023-04-17T12:31:25.913Z"
   },
   {
    "duration": 28,
    "start_time": "2023-04-17T12:31:25.932Z"
   },
   {
    "duration": 10,
    "start_time": "2023-04-17T12:31:25.962Z"
   },
   {
    "duration": 2154,
    "start_time": "2023-04-17T12:31:25.974Z"
   },
   {
    "duration": 2108,
    "start_time": "2023-04-17T12:31:28.130Z"
   },
   {
    "duration": 2319,
    "start_time": "2023-04-17T12:31:30.240Z"
   },
   {
    "duration": 1357,
    "start_time": "2023-04-17T12:31:32.561Z"
   },
   {
    "duration": 842,
    "start_time": "2023-04-17T12:31:33.920Z"
   },
   {
    "duration": 20,
    "start_time": "2023-04-17T12:31:34.765Z"
   },
   {
    "duration": 1565,
    "start_time": "2023-04-17T12:31:34.787Z"
   },
   {
    "duration": 27,
    "start_time": "2023-04-17T12:31:36.355Z"
   },
   {
    "duration": 1483,
    "start_time": "2023-04-17T12:31:36.384Z"
   },
   {
    "duration": 5,
    "start_time": "2023-04-17T12:31:37.871Z"
   },
   {
    "duration": 27,
    "start_time": "2023-04-17T12:31:37.878Z"
   },
   {
    "duration": 36,
    "start_time": "2023-04-17T12:31:37.907Z"
   },
   {
    "duration": 85,
    "start_time": "2023-04-17T12:31:37.944Z"
   },
   {
    "duration": 63,
    "start_time": "2023-04-17T12:31:38.033Z"
   },
   {
    "duration": 2,
    "start_time": "2023-04-17T12:31:38.098Z"
   },
   {
    "duration": 137902,
    "start_time": "2023-04-17T12:31:38.102Z"
   },
   {
    "duration": 5,
    "start_time": "2023-04-17T12:33:56.006Z"
   },
   {
    "duration": 2707,
    "start_time": "2023-04-17T12:33:56.013Z"
   },
   {
    "duration": 5,
    "start_time": "2023-04-17T12:33:58.722Z"
   },
   {
    "duration": 317220,
    "start_time": "2023-04-17T12:33:58.728Z"
   },
   {
    "duration": 8,
    "start_time": "2023-04-17T12:39:15.956Z"
   },
   {
    "duration": 6231,
    "start_time": "2023-04-17T12:39:15.967Z"
   },
   {
    "duration": 4,
    "start_time": "2023-04-17T12:39:22.200Z"
   },
   {
    "duration": 73,
    "start_time": "2023-04-17T12:39:22.205Z"
   },
   {
    "duration": 79,
    "start_time": "2023-04-17T12:39:22.281Z"
   },
   {
    "duration": 5,
    "start_time": "2023-04-17T12:39:22.363Z"
   },
   {
    "duration": 1509,
    "start_time": "2023-04-17T18:24:58.318Z"
   },
   {
    "duration": 3407,
    "start_time": "2023-04-17T18:24:59.829Z"
   },
   {
    "duration": 19,
    "start_time": "2023-04-17T18:25:03.238Z"
   },
   {
    "duration": 27,
    "start_time": "2023-04-17T18:25:03.258Z"
   },
   {
    "duration": 238,
    "start_time": "2023-04-17T18:25:03.287Z"
   },
   {
    "duration": 123,
    "start_time": "2023-04-17T18:25:03.527Z"
   },
   {
    "duration": 8,
    "start_time": "2023-04-17T18:25:03.651Z"
   },
   {
    "duration": 11,
    "start_time": "2023-04-17T18:25:03.661Z"
   },
   {
    "duration": 144,
    "start_time": "2023-04-17T18:25:03.674Z"
   },
   {
    "duration": 27,
    "start_time": "2023-04-17T18:25:03.820Z"
   },
   {
    "duration": 51,
    "start_time": "2023-04-17T18:25:03.848Z"
   },
   {
    "duration": 7,
    "start_time": "2023-04-17T18:25:03.900Z"
   },
   {
    "duration": 31,
    "start_time": "2023-04-17T18:25:03.908Z"
   },
   {
    "duration": 273,
    "start_time": "2023-04-17T18:25:03.942Z"
   },
   {
    "duration": 29,
    "start_time": "2023-04-17T18:25:04.217Z"
   },
   {
    "duration": 111,
    "start_time": "2023-04-17T18:25:04.248Z"
   },
   {
    "duration": 11,
    "start_time": "2023-04-17T18:25:04.361Z"
   },
   {
    "duration": 7,
    "start_time": "2023-04-17T18:25:04.373Z"
   },
   {
    "duration": 10,
    "start_time": "2023-04-17T18:25:04.381Z"
   },
   {
    "duration": 20,
    "start_time": "2023-04-17T18:25:04.392Z"
   },
   {
    "duration": 24,
    "start_time": "2023-04-17T18:25:04.413Z"
   },
   {
    "duration": 22,
    "start_time": "2023-04-17T18:25:04.439Z"
   },
   {
    "duration": 19,
    "start_time": "2023-04-17T18:25:04.463Z"
   },
   {
    "duration": 26,
    "start_time": "2023-04-17T18:25:04.484Z"
   },
   {
    "duration": 24,
    "start_time": "2023-04-17T18:25:04.511Z"
   },
   {
    "duration": 44,
    "start_time": "2023-04-17T18:25:04.537Z"
   },
   {
    "duration": 10,
    "start_time": "2023-04-17T18:25:04.583Z"
   },
   {
    "duration": 2215,
    "start_time": "2023-04-17T18:25:04.595Z"
   },
   {
    "duration": 2164,
    "start_time": "2023-04-17T18:25:06.812Z"
   },
   {
    "duration": 2220,
    "start_time": "2023-04-17T18:25:08.979Z"
   },
   {
    "duration": 1764,
    "start_time": "2023-04-17T18:25:11.201Z"
   },
   {
    "duration": 1266,
    "start_time": "2023-04-17T18:25:12.967Z"
   },
   {
    "duration": 13,
    "start_time": "2023-04-17T18:25:14.235Z"
   },
   {
    "duration": 1759,
    "start_time": "2023-04-17T18:25:14.249Z"
   },
   {
    "duration": 35,
    "start_time": "2023-04-17T18:25:16.010Z"
   },
   {
    "duration": 2218,
    "start_time": "2023-04-17T18:25:16.048Z"
   },
   {
    "duration": 4,
    "start_time": "2023-04-17T18:25:18.268Z"
   },
   {
    "duration": 32,
    "start_time": "2023-04-17T18:25:18.274Z"
   },
   {
    "duration": 46,
    "start_time": "2023-04-17T18:25:18.308Z"
   },
   {
    "duration": 78,
    "start_time": "2023-04-17T18:25:18.356Z"
   },
   {
    "duration": 50,
    "start_time": "2023-04-17T18:25:18.439Z"
   },
   {
    "duration": 3,
    "start_time": "2023-04-17T18:25:18.491Z"
   },
   {
    "duration": 299038,
    "start_time": "2023-04-17T18:25:18.496Z"
   },
   {
    "duration": 5,
    "start_time": "2023-04-17T18:30:17.537Z"
   },
   {
    "duration": 5401,
    "start_time": "2023-04-17T18:30:17.543Z"
   },
   {
    "duration": 5,
    "start_time": "2023-04-17T18:30:22.948Z"
   },
   {
    "duration": 1522,
    "start_time": "2023-04-18T03:35:34.787Z"
   },
   {
    "duration": 2164,
    "start_time": "2023-04-18T03:35:36.311Z"
   },
   {
    "duration": 19,
    "start_time": "2023-04-18T03:35:38.477Z"
   },
   {
    "duration": 24,
    "start_time": "2023-04-18T03:35:38.498Z"
   },
   {
    "duration": 219,
    "start_time": "2023-04-18T03:35:38.524Z"
   },
   {
    "duration": 125,
    "start_time": "2023-04-18T03:35:38.745Z"
   },
   {
    "duration": 10,
    "start_time": "2023-04-18T03:35:38.872Z"
   },
   {
    "duration": 31,
    "start_time": "2023-04-18T03:35:38.884Z"
   },
   {
    "duration": 152,
    "start_time": "2023-04-18T03:35:38.916Z"
   },
   {
    "duration": 20,
    "start_time": "2023-04-18T03:35:39.069Z"
   },
   {
    "duration": 37,
    "start_time": "2023-04-18T03:35:39.091Z"
   },
   {
    "duration": 6,
    "start_time": "2023-04-18T03:35:39.130Z"
   },
   {
    "duration": 31,
    "start_time": "2023-04-18T03:35:39.137Z"
   },
   {
    "duration": 231,
    "start_time": "2023-04-18T03:35:39.171Z"
   },
   {
    "duration": 18,
    "start_time": "2023-04-18T03:35:39.412Z"
   },
   {
    "duration": 90,
    "start_time": "2023-04-18T03:35:39.432Z"
   },
   {
    "duration": 9,
    "start_time": "2023-04-18T03:35:39.524Z"
   },
   {
    "duration": 5,
    "start_time": "2023-04-18T03:35:39.534Z"
   },
   {
    "duration": 5,
    "start_time": "2023-04-18T03:35:39.541Z"
   },
   {
    "duration": 4,
    "start_time": "2023-04-18T03:35:39.547Z"
   },
   {
    "duration": 28,
    "start_time": "2023-04-18T03:35:39.553Z"
   },
   {
    "duration": 30,
    "start_time": "2023-04-18T03:35:39.583Z"
   },
   {
    "duration": 4,
    "start_time": "2023-04-18T03:35:39.615Z"
   },
   {
    "duration": 6,
    "start_time": "2023-04-18T03:35:39.620Z"
   },
   {
    "duration": 14,
    "start_time": "2023-04-18T03:35:39.628Z"
   },
   {
    "duration": 25,
    "start_time": "2023-04-18T03:35:39.643Z"
   },
   {
    "duration": 41,
    "start_time": "2023-04-18T03:35:39.670Z"
   },
   {
    "duration": 1934,
    "start_time": "2023-04-18T03:35:39.713Z"
   },
   {
    "duration": 1996,
    "start_time": "2023-04-18T03:35:41.648Z"
   },
   {
    "duration": 1988,
    "start_time": "2023-04-18T03:35:43.645Z"
   },
   {
    "duration": 1022,
    "start_time": "2023-04-18T03:35:45.635Z"
   },
   {
    "duration": 715,
    "start_time": "2023-04-18T03:35:46.659Z"
   },
   {
    "duration": 11,
    "start_time": "2023-04-18T03:35:47.376Z"
   },
   {
    "duration": 1309,
    "start_time": "2023-04-18T03:35:47.389Z"
   },
   {
    "duration": 22,
    "start_time": "2023-04-18T03:35:48.700Z"
   },
   {
    "duration": 1315,
    "start_time": "2023-04-18T03:35:48.724Z"
   },
   {
    "duration": 4,
    "start_time": "2023-04-18T03:35:50.040Z"
   },
   {
    "duration": 15,
    "start_time": "2023-04-18T03:35:50.045Z"
   },
   {
    "duration": 31,
    "start_time": "2023-04-18T03:35:50.062Z"
   },
   {
    "duration": 72,
    "start_time": "2023-04-18T03:35:50.095Z"
   },
   {
    "duration": 55,
    "start_time": "2023-04-18T03:35:50.170Z"
   },
   {
    "duration": 3,
    "start_time": "2023-04-18T03:35:50.226Z"
   },
   {
    "duration": 140697,
    "start_time": "2023-04-18T03:35:50.230Z"
   },
   {
    "duration": 5,
    "start_time": "2023-04-18T03:38:10.929Z"
   },
   {
    "duration": 2419,
    "start_time": "2023-04-18T03:38:10.936Z"
   },
   {
    "duration": 6,
    "start_time": "2023-04-18T03:38:13.356Z"
   },
   {
    "duration": 329617,
    "start_time": "2023-04-18T03:38:13.364Z"
   },
   {
    "duration": 5,
    "start_time": "2023-04-18T03:43:42.983Z"
   },
   {
    "duration": 6349,
    "start_time": "2023-04-18T03:43:42.989Z"
   },
   {
    "duration": 4,
    "start_time": "2023-04-18T03:43:49.340Z"
   },
   {
    "duration": 52,
    "start_time": "2023-04-18T03:43:49.346Z"
   },
   {
    "duration": 94,
    "start_time": "2023-04-18T03:43:49.400Z"
   },
   {
    "duration": 3,
    "start_time": "2023-04-18T03:43:49.495Z"
   },
   {
    "duration": 125,
    "start_time": "2023-04-18T03:43:49.499Z"
   },
   {
    "duration": 0,
    "start_time": "2023-04-18T03:43:49.625Z"
   },
   {
    "duration": 8,
    "start_time": "2023-04-18T03:48:53.846Z"
   },
   {
    "duration": 54,
    "start_time": "2023-04-18T03:48:55.641Z"
   },
   {
    "duration": 22,
    "start_time": "2023-04-18T03:49:02.550Z"
   },
   {
    "duration": 20,
    "start_time": "2023-04-18T03:49:32.141Z"
   },
   {
    "duration": 36,
    "start_time": "2023-04-18T03:51:24.936Z"
   },
   {
    "duration": 8,
    "start_time": "2023-04-18T03:53:47.228Z"
   },
   {
    "duration": 8,
    "start_time": "2023-04-18T03:54:02.976Z"
   },
   {
    "duration": 1959,
    "start_time": "2023-04-18T20:06:57.800Z"
   },
   {
    "duration": 2843,
    "start_time": "2023-04-18T20:06:59.762Z"
   },
   {
    "duration": 21,
    "start_time": "2023-04-18T20:07:02.607Z"
   },
   {
    "duration": 45,
    "start_time": "2023-04-18T20:07:02.630Z"
   },
   {
    "duration": 259,
    "start_time": "2023-04-18T20:07:02.677Z"
   },
   {
    "duration": 149,
    "start_time": "2023-04-18T20:07:02.937Z"
   },
   {
    "duration": 10,
    "start_time": "2023-04-18T20:07:03.088Z"
   },
   {
    "duration": 17,
    "start_time": "2023-04-18T20:07:03.101Z"
   },
   {
    "duration": 165,
    "start_time": "2023-04-18T20:07:03.121Z"
   },
   {
    "duration": 25,
    "start_time": "2023-04-18T20:07:03.292Z"
   },
   {
    "duration": 20,
    "start_time": "2023-04-18T20:07:03.318Z"
   },
   {
    "duration": 36,
    "start_time": "2023-04-18T20:07:03.340Z"
   },
   {
    "duration": 27,
    "start_time": "2023-04-18T20:07:03.383Z"
   },
   {
    "duration": 290,
    "start_time": "2023-04-18T20:07:03.414Z"
   },
   {
    "duration": 26,
    "start_time": "2023-04-18T20:07:03.707Z"
   },
   {
    "duration": 117,
    "start_time": "2023-04-18T20:07:03.735Z"
   },
   {
    "duration": 23,
    "start_time": "2023-04-18T20:07:03.853Z"
   },
   {
    "duration": 16,
    "start_time": "2023-04-18T20:07:03.878Z"
   },
   {
    "duration": 5,
    "start_time": "2023-04-18T20:07:03.897Z"
   },
   {
    "duration": 4,
    "start_time": "2023-04-18T20:07:03.904Z"
   },
   {
    "duration": 20,
    "start_time": "2023-04-18T20:07:03.909Z"
   },
   {
    "duration": 11,
    "start_time": "2023-04-18T20:07:03.930Z"
   },
   {
    "duration": 7,
    "start_time": "2023-04-18T20:07:03.942Z"
   },
   {
    "duration": 35,
    "start_time": "2023-04-18T20:07:03.950Z"
   },
   {
    "duration": 19,
    "start_time": "2023-04-18T20:07:03.987Z"
   },
   {
    "duration": 25,
    "start_time": "2023-04-18T20:07:04.008Z"
   },
   {
    "duration": 8,
    "start_time": "2023-04-18T20:07:04.035Z"
   },
   {
    "duration": 2349,
    "start_time": "2023-04-18T20:07:04.044Z"
   },
   {
    "duration": 2262,
    "start_time": "2023-04-18T20:07:06.394Z"
   },
   {
    "duration": 2312,
    "start_time": "2023-04-18T20:07:08.658Z"
   },
   {
    "duration": 1283,
    "start_time": "2023-04-18T20:07:10.972Z"
   },
   {
    "duration": 872,
    "start_time": "2023-04-18T20:07:12.257Z"
   },
   {
    "duration": 14,
    "start_time": "2023-04-18T20:07:13.130Z"
   },
   {
    "duration": 1875,
    "start_time": "2023-04-18T20:07:13.146Z"
   },
   {
    "duration": 20,
    "start_time": "2023-04-18T20:07:15.023Z"
   },
   {
    "duration": 1493,
    "start_time": "2023-04-18T20:07:15.044Z"
   },
   {
    "duration": 4,
    "start_time": "2023-04-18T20:07:16.539Z"
   },
   {
    "duration": 35,
    "start_time": "2023-04-18T20:07:16.545Z"
   },
   {
    "duration": 42,
    "start_time": "2023-04-18T20:07:16.582Z"
   },
   {
    "duration": 89,
    "start_time": "2023-04-18T20:07:16.626Z"
   },
   {
    "duration": 73,
    "start_time": "2023-04-18T20:07:16.720Z"
   },
   {
    "duration": 3,
    "start_time": "2023-04-18T20:07:16.796Z"
   },
   {
    "duration": 166556,
    "start_time": "2023-04-18T20:07:16.801Z"
   },
   {
    "duration": 19,
    "start_time": "2023-04-18T20:10:03.359Z"
   },
   {
    "duration": 2886,
    "start_time": "2023-04-18T20:10:03.388Z"
   },
   {
    "duration": 5,
    "start_time": "2023-04-18T20:10:06.276Z"
   },
   {
    "duration": 365039,
    "start_time": "2023-04-18T20:10:06.282Z"
   },
   {
    "duration": 6,
    "start_time": "2023-04-18T20:16:11.323Z"
   },
   {
    "duration": 7043,
    "start_time": "2023-04-18T20:16:11.331Z"
   },
   {
    "duration": 7,
    "start_time": "2023-04-18T20:16:18.380Z"
   },
   {
    "duration": 35,
    "start_time": "2023-04-18T20:16:18.393Z"
   },
   {
    "duration": 99,
    "start_time": "2023-04-18T20:16:18.429Z"
   },
   {
    "duration": 4,
    "start_time": "2023-04-18T20:16:18.529Z"
   },
   {
    "duration": 9,
    "start_time": "2023-04-18T20:16:18.535Z"
   },
   {
    "duration": 40,
    "start_time": "2023-04-18T20:16:18.546Z"
   },
   {
    "duration": 139,
    "start_time": "2023-04-18T20:30:26.581Z"
   },
   {
    "duration": 11,
    "start_time": "2023-04-18T20:30:37.292Z"
   },
   {
    "duration": 10,
    "start_time": "2023-04-18T20:30:42.451Z"
   },
   {
    "duration": 8,
    "start_time": "2023-04-18T20:30:53.491Z"
   },
   {
    "duration": 4,
    "start_time": "2023-04-18T20:31:04.525Z"
   },
   {
    "duration": 29,
    "start_time": "2023-04-18T20:31:36.085Z"
   },
   {
    "duration": 9,
    "start_time": "2023-04-18T20:31:52.101Z"
   },
   {
    "duration": 9,
    "start_time": "2023-04-18T20:32:26.950Z"
   },
   {
    "duration": 9,
    "start_time": "2023-04-18T20:33:05.212Z"
   },
   {
    "duration": 55,
    "start_time": "2023-04-19T01:07:36.782Z"
   },
   {
    "duration": 1632,
    "start_time": "2023-04-19T01:07:42.099Z"
   },
   {
    "duration": 1889,
    "start_time": "2023-04-19T01:07:43.733Z"
   },
   {
    "duration": 21,
    "start_time": "2023-04-19T01:07:45.624Z"
   },
   {
    "duration": 44,
    "start_time": "2023-04-19T01:07:45.647Z"
   },
   {
    "duration": 516,
    "start_time": "2023-04-19T01:07:45.693Z"
   },
   {
    "duration": 280,
    "start_time": "2023-04-19T01:07:46.210Z"
   },
   {
    "duration": 10,
    "start_time": "2023-04-19T01:07:46.492Z"
   },
   {
    "duration": 15,
    "start_time": "2023-04-19T01:07:46.503Z"
   },
   {
    "duration": 293,
    "start_time": "2023-04-19T01:07:46.520Z"
   },
   {
    "duration": 79,
    "start_time": "2023-04-19T01:07:46.815Z"
   },
   {
    "duration": 23,
    "start_time": "2023-04-19T01:07:46.896Z"
   },
   {
    "duration": 7,
    "start_time": "2023-04-19T01:07:46.920Z"
   },
   {
    "duration": 74,
    "start_time": "2023-04-19T01:07:46.929Z"
   },
   {
    "duration": 525,
    "start_time": "2023-04-19T01:07:47.006Z"
   },
   {
    "duration": 77,
    "start_time": "2023-04-19T01:07:47.532Z"
   },
   {
    "duration": 112,
    "start_time": "2023-04-19T01:07:47.610Z"
   },
   {
    "duration": 11,
    "start_time": "2023-04-19T01:07:47.723Z"
   },
   {
    "duration": 21,
    "start_time": "2023-04-19T01:07:47.735Z"
   },
   {
    "duration": 28,
    "start_time": "2023-04-19T01:07:47.757Z"
   },
   {
    "duration": 35,
    "start_time": "2023-04-19T01:07:47.787Z"
   },
   {
    "duration": 20,
    "start_time": "2023-04-19T01:07:47.823Z"
   },
   {
    "duration": 12,
    "start_time": "2023-04-19T01:07:47.845Z"
   },
   {
    "duration": 6,
    "start_time": "2023-04-19T01:07:47.859Z"
   },
   {
    "duration": 7,
    "start_time": "2023-04-19T01:07:47.867Z"
   },
   {
    "duration": 16,
    "start_time": "2023-04-19T01:07:47.875Z"
   },
   {
    "duration": 28,
    "start_time": "2023-04-19T01:07:47.893Z"
   },
   {
    "duration": 7,
    "start_time": "2023-04-19T01:07:47.922Z"
   },
   {
    "duration": 2266,
    "start_time": "2023-04-19T01:07:47.930Z"
   },
   {
    "duration": 2463,
    "start_time": "2023-04-19T01:07:50.198Z"
   },
   {
    "duration": 2208,
    "start_time": "2023-04-19T01:07:52.663Z"
   },
   {
    "duration": 1198,
    "start_time": "2023-04-19T01:07:54.873Z"
   },
   {
    "duration": 819,
    "start_time": "2023-04-19T01:07:56.073Z"
   },
   {
    "duration": 15,
    "start_time": "2023-04-19T01:07:56.894Z"
   },
   {
    "duration": 1471,
    "start_time": "2023-04-19T01:07:56.911Z"
   },
   {
    "duration": 22,
    "start_time": "2023-04-19T01:07:58.384Z"
   },
   {
    "duration": 1417,
    "start_time": "2023-04-19T01:07:58.407Z"
   },
   {
    "duration": 4,
    "start_time": "2023-04-19T01:07:59.826Z"
   },
   {
    "duration": 13,
    "start_time": "2023-04-19T01:07:59.831Z"
   },
   {
    "duration": 54,
    "start_time": "2023-04-19T01:07:59.845Z"
   },
   {
    "duration": 72,
    "start_time": "2023-04-19T01:07:59.901Z"
   },
   {
    "duration": 49,
    "start_time": "2023-04-19T01:07:59.990Z"
   },
   {
    "duration": 3,
    "start_time": "2023-04-19T01:08:00.041Z"
   },
   {
    "duration": 1491,
    "start_time": "2023-04-19T01:09:37.870Z"
   },
   {
    "duration": 754,
    "start_time": "2023-04-19T01:09:39.363Z"
   },
   {
    "duration": 20,
    "start_time": "2023-04-19T01:09:40.119Z"
   },
   {
    "duration": 47,
    "start_time": "2023-04-19T01:09:40.142Z"
   },
   {
    "duration": 288,
    "start_time": "2023-04-19T01:09:40.191Z"
   },
   {
    "duration": 141,
    "start_time": "2023-04-19T01:09:40.481Z"
   },
   {
    "duration": 11,
    "start_time": "2023-04-19T01:09:40.624Z"
   },
   {
    "duration": 15,
    "start_time": "2023-04-19T01:09:40.637Z"
   },
   {
    "duration": 161,
    "start_time": "2023-04-19T01:09:40.655Z"
   },
   {
    "duration": 25,
    "start_time": "2023-04-19T01:09:40.819Z"
   },
   {
    "duration": 36,
    "start_time": "2023-04-19T01:09:40.845Z"
   },
   {
    "duration": 7,
    "start_time": "2023-04-19T01:09:40.888Z"
   },
   {
    "duration": 27,
    "start_time": "2023-04-19T01:09:40.897Z"
   },
   {
    "duration": 278,
    "start_time": "2023-04-19T01:09:40.926Z"
   },
   {
    "duration": 23,
    "start_time": "2023-04-19T01:09:41.206Z"
   },
   {
    "duration": 119,
    "start_time": "2023-04-19T01:09:41.231Z"
   },
   {
    "duration": 11,
    "start_time": "2023-04-19T01:09:41.351Z"
   },
   {
    "duration": 6,
    "start_time": "2023-04-19T01:09:41.364Z"
   },
   {
    "duration": 23,
    "start_time": "2023-04-19T01:09:41.371Z"
   },
   {
    "duration": 8,
    "start_time": "2023-04-19T01:09:41.395Z"
   },
   {
    "duration": 14,
    "start_time": "2023-04-19T01:09:41.405Z"
   },
   {
    "duration": 7,
    "start_time": "2023-04-19T01:09:41.421Z"
   },
   {
    "duration": 7,
    "start_time": "2023-04-19T01:09:41.429Z"
   },
   {
    "duration": 5,
    "start_time": "2023-04-19T01:09:41.438Z"
   },
   {
    "duration": 45,
    "start_time": "2023-04-19T01:09:41.445Z"
   },
   {
    "duration": 29,
    "start_time": "2023-04-19T01:09:41.492Z"
   },
   {
    "duration": 7,
    "start_time": "2023-04-19T01:09:41.523Z"
   },
   {
    "duration": 2282,
    "start_time": "2023-04-19T01:09:41.534Z"
   },
   {
    "duration": 3031,
    "start_time": "2023-04-19T01:09:43.818Z"
   },
   {
    "duration": 2231,
    "start_time": "2023-04-19T01:09:46.851Z"
   },
   {
    "duration": 1248,
    "start_time": "2023-04-19T01:09:49.084Z"
   },
   {
    "duration": 979,
    "start_time": "2023-04-19T01:09:50.335Z"
   },
   {
    "duration": 16,
    "start_time": "2023-04-19T01:09:51.315Z"
   },
   {
    "duration": 1528,
    "start_time": "2023-04-19T01:09:51.333Z"
   },
   {
    "duration": 31,
    "start_time": "2023-04-19T01:09:52.862Z"
   },
   {
    "duration": 1424,
    "start_time": "2023-04-19T01:09:52.894Z"
   },
   {
    "duration": 4,
    "start_time": "2023-04-19T01:09:54.320Z"
   },
   {
    "duration": 29,
    "start_time": "2023-04-19T01:09:54.325Z"
   },
   {
    "duration": 120,
    "start_time": "2023-04-19T01:09:54.356Z"
   },
   {
    "duration": 0,
    "start_time": "2023-04-19T01:09:54.478Z"
   },
   {
    "duration": 0,
    "start_time": "2023-04-19T01:09:54.479Z"
   },
   {
    "duration": 0,
    "start_time": "2023-04-19T01:09:54.489Z"
   },
   {
    "duration": 0,
    "start_time": "2023-04-19T01:09:54.490Z"
   },
   {
    "duration": 0,
    "start_time": "2023-04-19T01:09:54.491Z"
   },
   {
    "duration": 0,
    "start_time": "2023-04-19T01:09:54.493Z"
   },
   {
    "duration": 0,
    "start_time": "2023-04-19T01:09:54.494Z"
   },
   {
    "duration": 0,
    "start_time": "2023-04-19T01:09:54.495Z"
   },
   {
    "duration": 0,
    "start_time": "2023-04-19T01:09:54.496Z"
   },
   {
    "duration": 0,
    "start_time": "2023-04-19T01:09:54.497Z"
   },
   {
    "duration": 0,
    "start_time": "2023-04-19T01:09:54.498Z"
   },
   {
    "duration": 0,
    "start_time": "2023-04-19T01:09:54.499Z"
   },
   {
    "duration": 0,
    "start_time": "2023-04-19T01:09:54.500Z"
   },
   {
    "duration": 0,
    "start_time": "2023-04-19T01:09:54.501Z"
   },
   {
    "duration": 0,
    "start_time": "2023-04-19T01:09:54.502Z"
   },
   {
    "duration": 0,
    "start_time": "2023-04-19T01:09:54.503Z"
   },
   {
    "duration": 0,
    "start_time": "2023-04-19T01:09:54.504Z"
   },
   {
    "duration": 16,
    "start_time": "2023-04-19T01:13:47.875Z"
   },
   {
    "duration": 13,
    "start_time": "2023-04-19T01:14:32.926Z"
   },
   {
    "duration": 21,
    "start_time": "2023-04-19T01:17:45.847Z"
   },
   {
    "duration": 17,
    "start_time": "2023-04-19T01:19:07.996Z"
   },
   {
    "duration": 18,
    "start_time": "2023-04-19T01:20:07.611Z"
   },
   {
    "duration": 11,
    "start_time": "2023-04-19T01:20:51.849Z"
   },
   {
    "duration": 15,
    "start_time": "2023-04-19T01:21:44.173Z"
   },
   {
    "duration": 1526,
    "start_time": "2023-04-19T01:22:00.406Z"
   },
   {
    "duration": 735,
    "start_time": "2023-04-19T01:22:01.934Z"
   },
   {
    "duration": 27,
    "start_time": "2023-04-19T01:22:02.670Z"
   },
   {
    "duration": 29,
    "start_time": "2023-04-19T01:22:02.699Z"
   },
   {
    "duration": 267,
    "start_time": "2023-04-19T01:22:02.730Z"
   },
   {
    "duration": 134,
    "start_time": "2023-04-19T01:22:02.999Z"
   },
   {
    "duration": 9,
    "start_time": "2023-04-19T01:22:03.135Z"
   },
   {
    "duration": 13,
    "start_time": "2023-04-19T01:22:03.145Z"
   },
   {
    "duration": 154,
    "start_time": "2023-04-19T01:22:03.160Z"
   },
   {
    "duration": 26,
    "start_time": "2023-04-19T01:22:03.316Z"
   },
   {
    "duration": 23,
    "start_time": "2023-04-19T01:22:03.343Z"
   },
   {
    "duration": 28,
    "start_time": "2023-04-19T01:22:03.368Z"
   },
   {
    "duration": 18,
    "start_time": "2023-04-19T01:22:03.397Z"
   },
   {
    "duration": 287,
    "start_time": "2023-04-19T01:22:03.417Z"
   },
   {
    "duration": 23,
    "start_time": "2023-04-19T01:22:03.705Z"
   },
   {
    "duration": 113,
    "start_time": "2023-04-19T01:22:03.729Z"
   },
   {
    "duration": 10,
    "start_time": "2023-04-19T01:22:03.844Z"
   },
   {
    "duration": 6,
    "start_time": "2023-04-19T01:22:03.855Z"
   },
   {
    "duration": 5,
    "start_time": "2023-04-19T01:22:03.863Z"
   },
   {
    "duration": 4,
    "start_time": "2023-04-19T01:22:03.889Z"
   },
   {
    "duration": 16,
    "start_time": "2023-04-19T01:22:03.895Z"
   },
   {
    "duration": 6,
    "start_time": "2023-04-19T01:22:03.913Z"
   },
   {
    "duration": 12,
    "start_time": "2023-04-19T01:22:03.921Z"
   },
   {
    "duration": 5,
    "start_time": "2023-04-19T01:22:03.935Z"
   },
   {
    "duration": 16,
    "start_time": "2023-04-19T01:22:03.941Z"
   },
   {
    "duration": 26,
    "start_time": "2023-04-19T01:22:03.990Z"
   },
   {
    "duration": 6,
    "start_time": "2023-04-19T01:22:04.018Z"
   },
   {
    "duration": 2270,
    "start_time": "2023-04-19T01:22:04.028Z"
   },
   {
    "duration": 2330,
    "start_time": "2023-04-19T01:22:06.300Z"
   },
   {
    "duration": 3046,
    "start_time": "2023-04-19T01:22:08.632Z"
   },
   {
    "duration": 1156,
    "start_time": "2023-04-19T01:22:11.680Z"
   },
   {
    "duration": 825,
    "start_time": "2023-04-19T01:22:12.838Z"
   },
   {
    "duration": 14,
    "start_time": "2023-04-19T01:22:13.665Z"
   },
   {
    "duration": 1512,
    "start_time": "2023-04-19T01:22:13.690Z"
   },
   {
    "duration": 20,
    "start_time": "2023-04-19T01:22:15.204Z"
   },
   {
    "duration": 1409,
    "start_time": "2023-04-19T01:22:15.226Z"
   },
   {
    "duration": 4,
    "start_time": "2023-04-19T01:22:16.636Z"
   },
   {
    "duration": 34,
    "start_time": "2023-04-19T01:22:16.642Z"
   },
   {
    "duration": 125,
    "start_time": "2023-04-19T01:22:16.677Z"
   },
   {
    "duration": 0,
    "start_time": "2023-04-19T01:22:16.804Z"
   },
   {
    "duration": 0,
    "start_time": "2023-04-19T01:22:16.805Z"
   },
   {
    "duration": 0,
    "start_time": "2023-04-19T01:22:16.806Z"
   },
   {
    "duration": 0,
    "start_time": "2023-04-19T01:22:16.807Z"
   },
   {
    "duration": 0,
    "start_time": "2023-04-19T01:22:16.808Z"
   },
   {
    "duration": 0,
    "start_time": "2023-04-19T01:22:16.809Z"
   },
   {
    "duration": 0,
    "start_time": "2023-04-19T01:22:16.811Z"
   },
   {
    "duration": 0,
    "start_time": "2023-04-19T01:22:16.812Z"
   },
   {
    "duration": 0,
    "start_time": "2023-04-19T01:22:16.813Z"
   },
   {
    "duration": 0,
    "start_time": "2023-04-19T01:22:16.814Z"
   },
   {
    "duration": 0,
    "start_time": "2023-04-19T01:22:16.815Z"
   },
   {
    "duration": 0,
    "start_time": "2023-04-19T01:22:16.816Z"
   },
   {
    "duration": 0,
    "start_time": "2023-04-19T01:22:16.817Z"
   },
   {
    "duration": 0,
    "start_time": "2023-04-19T01:22:16.818Z"
   },
   {
    "duration": 0,
    "start_time": "2023-04-19T01:22:16.819Z"
   },
   {
    "duration": 0,
    "start_time": "2023-04-19T01:22:16.820Z"
   },
   {
    "duration": 0,
    "start_time": "2023-04-19T01:22:16.821Z"
   },
   {
    "duration": 41,
    "start_time": "2023-04-19T01:23:25.295Z"
   },
   {
    "duration": 70,
    "start_time": "2023-04-19T01:23:28.655Z"
   },
   {
    "duration": 44,
    "start_time": "2023-04-19T01:23:32.955Z"
   },
   {
    "duration": 3,
    "start_time": "2023-04-19T01:23:33.514Z"
   },
   {
    "duration": 12,
    "start_time": "2023-04-19T01:24:38.078Z"
   },
   {
    "duration": 13,
    "start_time": "2023-04-19T01:25:28.336Z"
   },
   {
    "duration": 17,
    "start_time": "2023-04-19T01:25:29.678Z"
   },
   {
    "duration": 15,
    "start_time": "2023-04-19T01:28:23.760Z"
   },
   {
    "duration": 14,
    "start_time": "2023-04-19T01:28:25.017Z"
   },
   {
    "duration": 16,
    "start_time": "2023-04-19T01:29:32.495Z"
   },
   {
    "duration": 18,
    "start_time": "2023-04-19T01:29:33.692Z"
   },
   {
    "duration": 18,
    "start_time": "2023-04-19T01:31:43.974Z"
   },
   {
    "duration": 23,
    "start_time": "2023-04-19T01:33:00.347Z"
   },
   {
    "duration": 14,
    "start_time": "2023-04-19T01:35:25.076Z"
   },
   {
    "duration": 13,
    "start_time": "2023-04-19T01:35:29.801Z"
   },
   {
    "duration": 14,
    "start_time": "2023-04-19T01:36:37.047Z"
   },
   {
    "duration": 12,
    "start_time": "2023-04-19T01:36:41.984Z"
   },
   {
    "duration": 14,
    "start_time": "2023-04-19T01:36:42.854Z"
   },
   {
    "duration": 1480,
    "start_time": "2023-04-19T01:36:55.576Z"
   },
   {
    "duration": 724,
    "start_time": "2023-04-19T01:36:57.058Z"
   },
   {
    "duration": 21,
    "start_time": "2023-04-19T01:36:57.783Z"
   },
   {
    "duration": 29,
    "start_time": "2023-04-19T01:36:57.805Z"
   },
   {
    "duration": 271,
    "start_time": "2023-04-19T01:36:57.836Z"
   },
   {
    "duration": 129,
    "start_time": "2023-04-19T01:36:58.109Z"
   },
   {
    "duration": 11,
    "start_time": "2023-04-19T01:36:58.240Z"
   },
   {
    "duration": 13,
    "start_time": "2023-04-19T01:36:58.252Z"
   },
   {
    "duration": 158,
    "start_time": "2023-04-19T01:36:58.267Z"
   },
   {
    "duration": 25,
    "start_time": "2023-04-19T01:36:58.427Z"
   },
   {
    "duration": 43,
    "start_time": "2023-04-19T01:36:58.454Z"
   },
   {
    "duration": 7,
    "start_time": "2023-04-19T01:36:58.499Z"
   },
   {
    "duration": 38,
    "start_time": "2023-04-19T01:36:58.507Z"
   },
   {
    "duration": 267,
    "start_time": "2023-04-19T01:36:58.548Z"
   },
   {
    "duration": 30,
    "start_time": "2023-04-19T01:36:58.817Z"
   },
   {
    "duration": 113,
    "start_time": "2023-04-19T01:36:58.849Z"
   },
   {
    "duration": 11,
    "start_time": "2023-04-19T01:36:58.963Z"
   },
   {
    "duration": 18,
    "start_time": "2023-04-19T01:36:58.975Z"
   },
   {
    "duration": 7,
    "start_time": "2023-04-19T01:36:58.995Z"
   },
   {
    "duration": 8,
    "start_time": "2023-04-19T01:36:59.004Z"
   },
   {
    "duration": 16,
    "start_time": "2023-04-19T01:36:59.014Z"
   },
   {
    "duration": 7,
    "start_time": "2023-04-19T01:36:59.031Z"
   },
   {
    "duration": 5,
    "start_time": "2023-04-19T01:36:59.039Z"
   },
   {
    "duration": 5,
    "start_time": "2023-04-19T01:36:59.046Z"
   },
   {
    "duration": 49,
    "start_time": "2023-04-19T01:36:59.053Z"
   },
   {
    "duration": 26,
    "start_time": "2023-04-19T01:36:59.104Z"
   },
   {
    "duration": 6,
    "start_time": "2023-04-19T01:36:59.132Z"
   },
   {
    "duration": 2244,
    "start_time": "2023-04-19T01:36:59.140Z"
   },
   {
    "duration": 2171,
    "start_time": "2023-04-19T01:37:01.389Z"
   },
   {
    "duration": 2214,
    "start_time": "2023-04-19T01:37:03.562Z"
   },
   {
    "duration": 1155,
    "start_time": "2023-04-19T01:37:05.778Z"
   },
   {
    "duration": 817,
    "start_time": "2023-04-19T01:37:06.935Z"
   },
   {
    "duration": 15,
    "start_time": "2023-04-19T01:37:07.753Z"
   },
   {
    "duration": 1505,
    "start_time": "2023-04-19T01:37:07.769Z"
   },
   {
    "duration": 26,
    "start_time": "2023-04-19T01:37:09.275Z"
   },
   {
    "duration": 1512,
    "start_time": "2023-04-19T01:37:09.302Z"
   },
   {
    "duration": 4,
    "start_time": "2023-04-19T01:37:10.816Z"
   },
   {
    "duration": 22,
    "start_time": "2023-04-19T01:37:10.822Z"
   },
   {
    "duration": 48,
    "start_time": "2023-04-19T01:37:10.846Z"
   },
   {
    "duration": 69,
    "start_time": "2023-04-19T01:37:10.896Z"
   },
   {
    "duration": 60,
    "start_time": "2023-04-19T01:37:10.969Z"
   },
   {
    "duration": 2,
    "start_time": "2023-04-19T01:37:11.031Z"
   },
   {
    "duration": 1465,
    "start_time": "2023-04-19T01:39:46.510Z"
   },
   {
    "duration": 731,
    "start_time": "2023-04-19T01:39:47.977Z"
   },
   {
    "duration": 20,
    "start_time": "2023-04-19T01:39:48.710Z"
   },
   {
    "duration": 28,
    "start_time": "2023-04-19T01:39:48.732Z"
   },
   {
    "duration": 272,
    "start_time": "2023-04-19T01:39:48.762Z"
   },
   {
    "duration": 138,
    "start_time": "2023-04-19T01:39:49.036Z"
   },
   {
    "duration": 19,
    "start_time": "2023-04-19T01:39:49.175Z"
   },
   {
    "duration": 13,
    "start_time": "2023-04-19T01:39:49.196Z"
   },
   {
    "duration": 151,
    "start_time": "2023-04-19T01:39:49.210Z"
   },
   {
    "duration": 40,
    "start_time": "2023-04-19T01:39:49.363Z"
   },
   {
    "duration": 24,
    "start_time": "2023-04-19T01:39:49.405Z"
   },
   {
    "duration": 8,
    "start_time": "2023-04-19T01:39:49.431Z"
   },
   {
    "duration": 49,
    "start_time": "2023-04-19T01:39:49.441Z"
   },
   {
    "duration": 286,
    "start_time": "2023-04-19T01:39:49.495Z"
   },
   {
    "duration": 28,
    "start_time": "2023-04-19T01:39:49.783Z"
   },
   {
    "duration": 110,
    "start_time": "2023-04-19T01:39:49.813Z"
   },
   {
    "duration": 12,
    "start_time": "2023-04-19T01:39:49.924Z"
   },
   {
    "duration": 5,
    "start_time": "2023-04-19T01:39:49.938Z"
   },
   {
    "duration": 12,
    "start_time": "2023-04-19T01:39:49.945Z"
   },
   {
    "duration": 8,
    "start_time": "2023-04-19T01:39:49.959Z"
   },
   {
    "duration": 17,
    "start_time": "2023-04-19T01:39:49.990Z"
   },
   {
    "duration": 26,
    "start_time": "2023-04-19T01:39:50.009Z"
   },
   {
    "duration": 33,
    "start_time": "2023-04-19T01:39:50.036Z"
   },
   {
    "duration": 7,
    "start_time": "2023-04-19T01:39:50.071Z"
   },
   {
    "duration": 23,
    "start_time": "2023-04-19T01:39:50.079Z"
   },
   {
    "duration": 48,
    "start_time": "2023-04-19T01:39:50.104Z"
   },
   {
    "duration": 7,
    "start_time": "2023-04-19T01:39:50.154Z"
   },
   {
    "duration": 3784,
    "start_time": "2023-04-19T01:39:50.163Z"
   },
   {
    "duration": 2218,
    "start_time": "2023-04-19T01:39:53.949Z"
   },
   {
    "duration": 2210,
    "start_time": "2023-04-19T01:39:56.169Z"
   },
   {
    "duration": 1160,
    "start_time": "2023-04-19T01:39:58.389Z"
   },
   {
    "duration": 884,
    "start_time": "2023-04-19T01:39:59.550Z"
   },
   {
    "duration": 15,
    "start_time": "2023-04-19T01:40:00.436Z"
   },
   {
    "duration": 1605,
    "start_time": "2023-04-19T01:40:00.453Z"
   },
   {
    "duration": 21,
    "start_time": "2023-04-19T01:40:02.060Z"
   },
   {
    "duration": 1401,
    "start_time": "2023-04-19T01:40:02.090Z"
   },
   {
    "duration": 5,
    "start_time": "2023-04-19T01:40:03.493Z"
   },
   {
    "duration": 34,
    "start_time": "2023-04-19T01:40:03.500Z"
   },
   {
    "duration": 46,
    "start_time": "2023-04-19T01:40:03.536Z"
   },
   {
    "duration": 71,
    "start_time": "2023-04-19T01:40:03.584Z"
   },
   {
    "duration": 54,
    "start_time": "2023-04-19T01:40:03.659Z"
   },
   {
    "duration": 6,
    "start_time": "2023-04-19T01:40:03.715Z"
   },
   {
    "duration": 153428,
    "start_time": "2023-04-19T01:40:03.723Z"
   },
   {
    "duration": 5,
    "start_time": "2023-04-19T01:42:37.153Z"
   },
   {
    "duration": 2617,
    "start_time": "2023-04-19T01:42:37.160Z"
   },
   {
    "duration": 10,
    "start_time": "2023-04-19T01:42:39.779Z"
   },
   {
    "duration": 1544,
    "start_time": "2023-04-19T01:51:05.449Z"
   },
   {
    "duration": 732,
    "start_time": "2023-04-19T01:51:06.995Z"
   },
   {
    "duration": 23,
    "start_time": "2023-04-19T01:51:07.728Z"
   },
   {
    "duration": 41,
    "start_time": "2023-04-19T01:51:07.754Z"
   },
   {
    "duration": 277,
    "start_time": "2023-04-19T01:51:07.797Z"
   },
   {
    "duration": 132,
    "start_time": "2023-04-19T01:51:08.075Z"
   },
   {
    "duration": 9,
    "start_time": "2023-04-19T01:51:08.209Z"
   },
   {
    "duration": 13,
    "start_time": "2023-04-19T01:51:08.220Z"
   },
   {
    "duration": 163,
    "start_time": "2023-04-19T01:51:08.235Z"
   },
   {
    "duration": 25,
    "start_time": "2023-04-19T01:51:08.401Z"
   },
   {
    "duration": 31,
    "start_time": "2023-04-19T01:51:08.428Z"
   },
   {
    "duration": 8,
    "start_time": "2023-04-19T01:51:08.461Z"
   },
   {
    "duration": 28,
    "start_time": "2023-04-19T01:51:08.490Z"
   },
   {
    "duration": 310,
    "start_time": "2023-04-19T01:51:08.520Z"
   },
   {
    "duration": 23,
    "start_time": "2023-04-19T01:51:08.832Z"
   },
   {
    "duration": 114,
    "start_time": "2023-04-19T01:51:08.858Z"
   },
   {
    "duration": 16,
    "start_time": "2023-04-19T01:51:08.974Z"
   },
   {
    "duration": 7,
    "start_time": "2023-04-19T01:51:08.993Z"
   },
   {
    "duration": 6,
    "start_time": "2023-04-19T01:51:09.001Z"
   },
   {
    "duration": 5,
    "start_time": "2023-04-19T01:51:09.009Z"
   },
   {
    "duration": 17,
    "start_time": "2023-04-19T01:51:09.016Z"
   },
   {
    "duration": 5,
    "start_time": "2023-04-19T01:51:09.035Z"
   },
   {
    "duration": 6,
    "start_time": "2023-04-19T01:51:09.042Z"
   },
   {
    "duration": 5,
    "start_time": "2023-04-19T01:51:09.089Z"
   },
   {
    "duration": 15,
    "start_time": "2023-04-19T01:51:09.095Z"
   },
   {
    "duration": 26,
    "start_time": "2023-04-19T01:51:09.112Z"
   },
   {
    "duration": 7,
    "start_time": "2023-04-19T01:51:09.140Z"
   },
   {
    "duration": 2392,
    "start_time": "2023-04-19T01:51:09.189Z"
   },
   {
    "duration": 2357,
    "start_time": "2023-04-19T01:51:11.584Z"
   },
   {
    "duration": 2242,
    "start_time": "2023-04-19T01:51:13.943Z"
   },
   {
    "duration": 1180,
    "start_time": "2023-04-19T01:51:16.186Z"
   },
   {
    "duration": 864,
    "start_time": "2023-04-19T01:51:17.368Z"
   },
   {
    "duration": 15,
    "start_time": "2023-04-19T01:51:18.234Z"
   },
   {
    "duration": 1561,
    "start_time": "2023-04-19T01:51:18.251Z"
   },
   {
    "duration": 23,
    "start_time": "2023-04-19T01:51:19.814Z"
   },
   {
    "duration": 1539,
    "start_time": "2023-04-19T01:51:19.839Z"
   },
   {
    "duration": 9,
    "start_time": "2023-04-19T01:51:21.380Z"
   },
   {
    "duration": 16,
    "start_time": "2023-04-19T01:51:21.391Z"
   },
   {
    "duration": 40,
    "start_time": "2023-04-19T01:51:21.409Z"
   },
   {
    "duration": 97,
    "start_time": "2023-04-19T01:51:21.451Z"
   },
   {
    "duration": 72,
    "start_time": "2023-04-19T01:51:21.550Z"
   },
   {
    "duration": 7,
    "start_time": "2023-04-19T01:51:21.625Z"
   },
   {
    "duration": 148293,
    "start_time": "2023-04-19T01:51:21.634Z"
   },
   {
    "duration": 6,
    "start_time": "2023-04-19T01:53:49.929Z"
   },
   {
    "duration": 2682,
    "start_time": "2023-04-19T01:53:49.937Z"
   },
   {
    "duration": 6,
    "start_time": "2023-04-19T01:53:52.621Z"
   },
   {
    "duration": 317795,
    "start_time": "2023-04-19T01:53:52.629Z"
   },
   {
    "duration": 11,
    "start_time": "2023-04-19T01:59:10.425Z"
   },
   {
    "duration": 8,
    "start_time": "2023-04-19T01:59:10.437Z"
   },
   {
    "duration": 6078,
    "start_time": "2023-04-19T01:59:10.446Z"
   },
   {
    "duration": 6,
    "start_time": "2023-04-19T01:59:16.526Z"
   },
   {
    "duration": 65,
    "start_time": "2023-04-19T01:59:16.534Z"
   },
   {
    "duration": 23,
    "start_time": "2023-04-19T01:59:16.601Z"
   },
   {
    "duration": 4,
    "start_time": "2023-04-19T01:59:16.626Z"
   },
   {
    "duration": 10,
    "start_time": "2023-04-19T01:59:16.632Z"
   },
   {
    "duration": 162,
    "start_time": "2023-04-19T01:59:16.643Z"
   },
   {
    "duration": 19,
    "start_time": "2023-04-19T02:04:41.534Z"
   },
   {
    "duration": 652,
    "start_time": "2023-04-19T02:06:21.600Z"
   },
   {
    "duration": 1530,
    "start_time": "2023-04-19T02:06:38.058Z"
   },
   {
    "duration": 777,
    "start_time": "2023-04-19T02:06:39.591Z"
   },
   {
    "duration": 33,
    "start_time": "2023-04-19T02:06:40.371Z"
   },
   {
    "duration": 31,
    "start_time": "2023-04-19T02:06:40.405Z"
   },
   {
    "duration": 269,
    "start_time": "2023-04-19T02:06:40.438Z"
   },
   {
    "duration": 133,
    "start_time": "2023-04-19T02:06:40.709Z"
   },
   {
    "duration": 10,
    "start_time": "2023-04-19T02:06:40.843Z"
   },
   {
    "duration": 33,
    "start_time": "2023-04-19T02:06:40.855Z"
   },
   {
    "duration": 144,
    "start_time": "2023-04-19T02:06:40.891Z"
   },
   {
    "duration": 27,
    "start_time": "2023-04-19T02:06:41.037Z"
   },
   {
    "duration": 38,
    "start_time": "2023-04-19T02:06:41.066Z"
   },
   {
    "duration": 23,
    "start_time": "2023-04-19T02:06:41.106Z"
   },
   {
    "duration": 24,
    "start_time": "2023-04-19T02:06:41.131Z"
   },
   {
    "duration": 277,
    "start_time": "2023-04-19T02:06:41.159Z"
   },
   {
    "duration": 23,
    "start_time": "2023-04-19T02:06:41.437Z"
   },
   {
    "duration": 110,
    "start_time": "2023-04-19T02:06:41.462Z"
   },
   {
    "duration": 23,
    "start_time": "2023-04-19T02:06:41.574Z"
   },
   {
    "duration": 7,
    "start_time": "2023-04-19T02:06:41.599Z"
   },
   {
    "duration": 20,
    "start_time": "2023-04-19T02:06:41.608Z"
   },
   {
    "duration": 5,
    "start_time": "2023-04-19T02:06:41.630Z"
   },
   {
    "duration": 30,
    "start_time": "2023-04-19T02:06:41.637Z"
   },
   {
    "duration": 7,
    "start_time": "2023-04-19T02:06:41.669Z"
   },
   {
    "duration": 5,
    "start_time": "2023-04-19T02:06:41.690Z"
   },
   {
    "duration": 6,
    "start_time": "2023-04-19T02:06:41.697Z"
   },
   {
    "duration": 20,
    "start_time": "2023-04-19T02:06:41.704Z"
   },
   {
    "duration": 27,
    "start_time": "2023-04-19T02:06:41.726Z"
   },
   {
    "duration": 37,
    "start_time": "2023-04-19T02:06:41.755Z"
   },
   {
    "duration": 2191,
    "start_time": "2023-04-19T02:06:41.794Z"
   },
   {
    "duration": 2172,
    "start_time": "2023-04-19T02:06:43.987Z"
   },
   {
    "duration": 2228,
    "start_time": "2023-04-19T02:06:46.161Z"
   },
   {
    "duration": 1179,
    "start_time": "2023-04-19T02:06:48.390Z"
   },
   {
    "duration": 907,
    "start_time": "2023-04-19T02:06:49.571Z"
   },
   {
    "duration": 20,
    "start_time": "2023-04-19T02:06:50.480Z"
   },
   {
    "duration": 1635,
    "start_time": "2023-04-19T02:06:50.502Z"
   },
   {
    "duration": 23,
    "start_time": "2023-04-19T02:06:52.139Z"
   },
   {
    "duration": 1482,
    "start_time": "2023-04-19T02:06:52.164Z"
   },
   {
    "duration": 5,
    "start_time": "2023-04-19T02:06:53.647Z"
   },
   {
    "duration": 16,
    "start_time": "2023-04-19T02:06:53.654Z"
   },
   {
    "duration": 44,
    "start_time": "2023-04-19T02:06:53.672Z"
   },
   {
    "duration": 82,
    "start_time": "2023-04-19T02:06:53.718Z"
   },
   {
    "duration": 45,
    "start_time": "2023-04-19T02:06:53.804Z"
   },
   {
    "duration": 3,
    "start_time": "2023-04-19T02:06:53.850Z"
   },
   {
    "duration": 147582,
    "start_time": "2023-04-19T02:06:53.855Z"
   },
   {
    "duration": 5,
    "start_time": "2023-04-19T02:09:21.439Z"
   },
   {
    "duration": 2628,
    "start_time": "2023-04-19T02:09:21.445Z"
   },
   {
    "duration": 15,
    "start_time": "2023-04-19T02:09:24.075Z"
   },
   {
    "duration": 318770,
    "start_time": "2023-04-19T02:09:24.092Z"
   },
   {
    "duration": 9,
    "start_time": "2023-04-19T02:14:42.864Z"
   },
   {
    "duration": 17,
    "start_time": "2023-04-19T02:14:42.875Z"
   },
   {
    "duration": 6162,
    "start_time": "2023-04-19T02:14:42.894Z"
   },
   {
    "duration": 6,
    "start_time": "2023-04-19T02:14:49.058Z"
   },
   {
    "duration": 50,
    "start_time": "2023-04-19T02:14:49.066Z"
   },
   {
    "duration": 23,
    "start_time": "2023-04-19T02:14:49.117Z"
   },
   {
    "duration": 3,
    "start_time": "2023-04-19T02:14:49.142Z"
   },
   {
    "duration": 12,
    "start_time": "2023-04-19T02:14:49.147Z"
   },
   {
    "duration": 702,
    "start_time": "2023-04-19T02:14:49.161Z"
   },
   {
    "duration": 1576,
    "start_time": "2023-04-19T02:15:09.198Z"
   },
   {
    "duration": 735,
    "start_time": "2023-04-19T02:15:10.777Z"
   },
   {
    "duration": 22,
    "start_time": "2023-04-19T02:15:11.514Z"
   },
   {
    "duration": 29,
    "start_time": "2023-04-19T02:15:11.538Z"
   },
   {
    "duration": 292,
    "start_time": "2023-04-19T02:15:11.569Z"
   },
   {
    "duration": 140,
    "start_time": "2023-04-19T02:15:11.863Z"
   },
   {
    "duration": 9,
    "start_time": "2023-04-19T02:15:12.005Z"
   },
   {
    "duration": 14,
    "start_time": "2023-04-19T02:15:12.015Z"
   },
   {
    "duration": 155,
    "start_time": "2023-04-19T02:15:12.030Z"
   },
   {
    "duration": 24,
    "start_time": "2023-04-19T02:15:12.187Z"
   },
   {
    "duration": 23,
    "start_time": "2023-04-19T02:15:12.213Z"
   },
   {
    "duration": 7,
    "start_time": "2023-04-19T02:15:12.237Z"
   },
   {
    "duration": 46,
    "start_time": "2023-04-19T02:15:12.245Z"
   },
   {
    "duration": 270,
    "start_time": "2023-04-19T02:15:12.294Z"
   },
   {
    "duration": 27,
    "start_time": "2023-04-19T02:15:12.565Z"
   },
   {
    "duration": 102,
    "start_time": "2023-04-19T02:15:12.594Z"
   },
   {
    "duration": 11,
    "start_time": "2023-04-19T02:15:12.697Z"
   },
   {
    "duration": 6,
    "start_time": "2023-04-19T02:15:12.710Z"
   },
   {
    "duration": 8,
    "start_time": "2023-04-19T02:15:12.717Z"
   },
   {
    "duration": 5,
    "start_time": "2023-04-19T02:15:12.727Z"
   },
   {
    "duration": 16,
    "start_time": "2023-04-19T02:15:12.734Z"
   },
   {
    "duration": 40,
    "start_time": "2023-04-19T02:15:12.751Z"
   },
   {
    "duration": 7,
    "start_time": "2023-04-19T02:15:12.793Z"
   },
   {
    "duration": 15,
    "start_time": "2023-04-19T02:15:12.802Z"
   },
   {
    "duration": 23,
    "start_time": "2023-04-19T02:15:12.819Z"
   },
   {
    "duration": 28,
    "start_time": "2023-04-19T02:15:12.844Z"
   },
   {
    "duration": 8,
    "start_time": "2023-04-19T02:15:12.889Z"
   },
   {
    "duration": 3308,
    "start_time": "2023-04-19T02:15:12.898Z"
   },
   {
    "duration": 2234,
    "start_time": "2023-04-19T02:15:16.208Z"
   },
   {
    "duration": 2282,
    "start_time": "2023-04-19T02:15:18.443Z"
   },
   {
    "duration": 1259,
    "start_time": "2023-04-19T02:15:20.727Z"
   },
   {
    "duration": 834,
    "start_time": "2023-04-19T02:15:21.987Z"
   },
   {
    "duration": 13,
    "start_time": "2023-04-19T02:15:22.823Z"
   },
   {
    "duration": 1524,
    "start_time": "2023-04-19T02:15:22.839Z"
   },
   {
    "duration": 26,
    "start_time": "2023-04-19T02:15:24.365Z"
   },
   {
    "duration": 1434,
    "start_time": "2023-04-19T02:15:24.393Z"
   },
   {
    "duration": 5,
    "start_time": "2023-04-19T02:15:25.829Z"
   },
   {
    "duration": 13,
    "start_time": "2023-04-19T02:15:25.835Z"
   },
   {
    "duration": 15,
    "start_time": "2023-04-19T02:15:25.850Z"
   },
   {
    "duration": 191,
    "start_time": "2023-04-19T02:15:25.867Z"
   },
   {
    "duration": 0,
    "start_time": "2023-04-19T02:15:26.060Z"
   },
   {
    "duration": 0,
    "start_time": "2023-04-19T02:15:26.061Z"
   },
   {
    "duration": 0,
    "start_time": "2023-04-19T02:15:26.062Z"
   },
   {
    "duration": 0,
    "start_time": "2023-04-19T02:15:26.064Z"
   },
   {
    "duration": 0,
    "start_time": "2023-04-19T02:15:26.065Z"
   },
   {
    "duration": 0,
    "start_time": "2023-04-19T02:15:26.066Z"
   },
   {
    "duration": 0,
    "start_time": "2023-04-19T02:15:26.067Z"
   },
   {
    "duration": 0,
    "start_time": "2023-04-19T02:15:26.068Z"
   },
   {
    "duration": 0,
    "start_time": "2023-04-19T02:15:26.070Z"
   },
   {
    "duration": 0,
    "start_time": "2023-04-19T02:15:26.089Z"
   },
   {
    "duration": 0,
    "start_time": "2023-04-19T02:15:26.090Z"
   },
   {
    "duration": 0,
    "start_time": "2023-04-19T02:15:26.092Z"
   },
   {
    "duration": 0,
    "start_time": "2023-04-19T02:15:26.093Z"
   },
   {
    "duration": 0,
    "start_time": "2023-04-19T02:15:26.094Z"
   },
   {
    "duration": 0,
    "start_time": "2023-04-19T02:15:26.095Z"
   },
   {
    "duration": 0,
    "start_time": "2023-04-19T02:15:26.096Z"
   },
   {
    "duration": 1719,
    "start_time": "2023-04-19T02:25:11.988Z"
   },
   {
    "duration": 1828,
    "start_time": "2023-04-19T02:25:13.710Z"
   },
   {
    "duration": 74,
    "start_time": "2023-04-19T02:25:15.539Z"
   },
   {
    "duration": 30,
    "start_time": "2023-04-19T02:25:15.614Z"
   },
   {
    "duration": 306,
    "start_time": "2023-04-19T02:25:15.648Z"
   },
   {
    "duration": 150,
    "start_time": "2023-04-19T02:25:15.956Z"
   },
   {
    "duration": 10,
    "start_time": "2023-04-19T02:25:16.108Z"
   },
   {
    "duration": 25,
    "start_time": "2023-04-19T02:25:16.120Z"
   },
   {
    "duration": 152,
    "start_time": "2023-04-19T02:25:16.147Z"
   },
   {
    "duration": 27,
    "start_time": "2023-04-19T02:25:16.301Z"
   },
   {
    "duration": 33,
    "start_time": "2023-04-19T02:25:16.330Z"
   },
   {
    "duration": 9,
    "start_time": "2023-04-19T02:25:16.365Z"
   },
   {
    "duration": 27,
    "start_time": "2023-04-19T02:25:16.393Z"
   },
   {
    "duration": 285,
    "start_time": "2023-04-19T02:25:16.424Z"
   },
   {
    "duration": 22,
    "start_time": "2023-04-19T02:25:16.712Z"
   },
   {
    "duration": 113,
    "start_time": "2023-04-19T02:25:16.735Z"
   },
   {
    "duration": 10,
    "start_time": "2023-04-19T02:25:16.850Z"
   },
   {
    "duration": 6,
    "start_time": "2023-04-19T02:25:16.862Z"
   },
   {
    "duration": 33,
    "start_time": "2023-04-19T02:25:16.869Z"
   },
   {
    "duration": 12,
    "start_time": "2023-04-19T02:25:16.904Z"
   },
   {
    "duration": 15,
    "start_time": "2023-04-19T02:25:16.918Z"
   },
   {
    "duration": 5,
    "start_time": "2023-04-19T02:25:16.934Z"
   },
   {
    "duration": 5,
    "start_time": "2023-04-19T02:25:16.941Z"
   },
   {
    "duration": 8,
    "start_time": "2023-04-19T02:25:16.948Z"
   },
   {
    "duration": 37,
    "start_time": "2023-04-19T02:25:16.958Z"
   },
   {
    "duration": 27,
    "start_time": "2023-04-19T02:25:16.997Z"
   },
   {
    "duration": 7,
    "start_time": "2023-04-19T02:25:17.026Z"
   },
   {
    "duration": 2254,
    "start_time": "2023-04-19T02:25:17.035Z"
   },
   {
    "duration": 2316,
    "start_time": "2023-04-19T02:25:19.291Z"
   },
   {
    "duration": 2295,
    "start_time": "2023-04-19T02:25:21.610Z"
   },
   {
    "duration": 1218,
    "start_time": "2023-04-19T02:25:23.907Z"
   },
   {
    "duration": 915,
    "start_time": "2023-04-19T02:25:25.127Z"
   },
   {
    "duration": 16,
    "start_time": "2023-04-19T02:25:26.044Z"
   },
   {
    "duration": 1647,
    "start_time": "2023-04-19T02:25:26.062Z"
   },
   {
    "duration": 22,
    "start_time": "2023-04-19T02:25:27.711Z"
   },
   {
    "duration": 1612,
    "start_time": "2023-04-19T02:25:27.734Z"
   },
   {
    "duration": 4,
    "start_time": "2023-04-19T02:25:29.348Z"
   },
   {
    "duration": 43,
    "start_time": "2023-04-19T02:25:29.354Z"
   },
   {
    "duration": 10,
    "start_time": "2023-04-19T02:25:29.399Z"
   },
   {
    "duration": 1229,
    "start_time": "2023-04-19T02:25:29.411Z"
   },
   {
    "duration": 0,
    "start_time": "2023-04-19T02:25:30.642Z"
   },
   {
    "duration": 0,
    "start_time": "2023-04-19T02:25:30.645Z"
   },
   {
    "duration": 0,
    "start_time": "2023-04-19T02:25:30.646Z"
   },
   {
    "duration": 0,
    "start_time": "2023-04-19T02:25:30.650Z"
   },
   {
    "duration": 0,
    "start_time": "2023-04-19T02:25:30.652Z"
   },
   {
    "duration": 0,
    "start_time": "2023-04-19T02:25:30.655Z"
   },
   {
    "duration": 0,
    "start_time": "2023-04-19T02:25:30.656Z"
   },
   {
    "duration": 0,
    "start_time": "2023-04-19T02:25:30.658Z"
   },
   {
    "duration": 0,
    "start_time": "2023-04-19T02:25:30.660Z"
   },
   {
    "duration": 0,
    "start_time": "2023-04-19T02:25:30.661Z"
   },
   {
    "duration": 0,
    "start_time": "2023-04-19T02:25:30.663Z"
   },
   {
    "duration": 0,
    "start_time": "2023-04-19T02:25:30.665Z"
   },
   {
    "duration": 0,
    "start_time": "2023-04-19T02:25:30.666Z"
   },
   {
    "duration": 0,
    "start_time": "2023-04-19T02:25:30.668Z"
   },
   {
    "duration": 0,
    "start_time": "2023-04-19T02:25:30.670Z"
   },
   {
    "duration": 0,
    "start_time": "2023-04-19T02:25:30.672Z"
   },
   {
    "duration": 11,
    "start_time": "2023-04-19T02:27:01.540Z"
   },
   {
    "duration": 19,
    "start_time": "2023-04-19T02:27:07.807Z"
   },
   {
    "duration": 1706,
    "start_time": "2023-04-19T02:27:24.230Z"
   },
   {
    "duration": 2037,
    "start_time": "2023-04-19T02:27:25.990Z"
   },
   {
    "duration": 21,
    "start_time": "2023-04-19T02:27:28.029Z"
   },
   {
    "duration": 30,
    "start_time": "2023-04-19T02:27:28.052Z"
   },
   {
    "duration": 277,
    "start_time": "2023-04-19T02:27:28.095Z"
   },
   {
    "duration": 145,
    "start_time": "2023-04-19T02:27:28.373Z"
   },
   {
    "duration": 10,
    "start_time": "2023-04-19T02:27:28.520Z"
   },
   {
    "duration": 14,
    "start_time": "2023-04-19T02:27:28.531Z"
   },
   {
    "duration": 178,
    "start_time": "2023-04-19T02:27:28.547Z"
   },
   {
    "duration": 26,
    "start_time": "2023-04-19T02:27:28.729Z"
   },
   {
    "duration": 49,
    "start_time": "2023-04-19T02:27:28.757Z"
   },
   {
    "duration": 9,
    "start_time": "2023-04-19T02:27:28.808Z"
   },
   {
    "duration": 20,
    "start_time": "2023-04-19T02:27:28.818Z"
   },
   {
    "duration": 301,
    "start_time": "2023-04-19T02:27:28.840Z"
   },
   {
    "duration": 24,
    "start_time": "2023-04-19T02:27:29.142Z"
   },
   {
    "duration": 144,
    "start_time": "2023-04-19T02:27:29.167Z"
   },
   {
    "duration": 13,
    "start_time": "2023-04-19T02:27:29.314Z"
   },
   {
    "duration": 7,
    "start_time": "2023-04-19T02:27:29.330Z"
   },
   {
    "duration": 9,
    "start_time": "2023-04-19T02:27:29.339Z"
   },
   {
    "duration": 6,
    "start_time": "2023-04-19T02:27:29.350Z"
   },
   {
    "duration": 52,
    "start_time": "2023-04-19T02:27:29.358Z"
   },
   {
    "duration": 15,
    "start_time": "2023-04-19T02:27:29.412Z"
   },
   {
    "duration": 7,
    "start_time": "2023-04-19T02:27:29.430Z"
   },
   {
    "duration": 6,
    "start_time": "2023-04-19T02:27:29.438Z"
   },
   {
    "duration": 22,
    "start_time": "2023-04-19T02:27:29.446Z"
   },
   {
    "duration": 46,
    "start_time": "2023-04-19T02:27:29.470Z"
   },
   {
    "duration": 8,
    "start_time": "2023-04-19T02:27:29.518Z"
   },
   {
    "duration": 2550,
    "start_time": "2023-04-19T02:27:29.530Z"
   },
   {
    "duration": 2358,
    "start_time": "2023-04-19T02:27:32.083Z"
   },
   {
    "duration": 2513,
    "start_time": "2023-04-19T02:27:34.443Z"
   },
   {
    "duration": 1377,
    "start_time": "2023-04-19T02:27:36.958Z"
   },
   {
    "duration": 1008,
    "start_time": "2023-04-19T02:27:38.337Z"
   },
   {
    "duration": 17,
    "start_time": "2023-04-19T02:27:39.348Z"
   },
   {
    "duration": 2071,
    "start_time": "2023-04-19T02:27:39.368Z"
   },
   {
    "duration": 22,
    "start_time": "2023-04-19T02:27:41.441Z"
   },
   {
    "duration": 1628,
    "start_time": "2023-04-19T02:27:41.465Z"
   },
   {
    "duration": 9,
    "start_time": "2023-04-19T02:27:43.095Z"
   },
   {
    "duration": 31,
    "start_time": "2023-04-19T02:27:43.108Z"
   },
   {
    "duration": 10,
    "start_time": "2023-04-19T02:27:43.141Z"
   },
   {
    "duration": 182,
    "start_time": "2023-04-19T02:27:43.153Z"
   },
   {
    "duration": 0,
    "start_time": "2023-04-19T02:27:43.338Z"
   },
   {
    "duration": 0,
    "start_time": "2023-04-19T02:27:43.339Z"
   },
   {
    "duration": 0,
    "start_time": "2023-04-19T02:27:43.341Z"
   },
   {
    "duration": 0,
    "start_time": "2023-04-19T02:27:43.343Z"
   },
   {
    "duration": 0,
    "start_time": "2023-04-19T02:27:43.345Z"
   },
   {
    "duration": 0,
    "start_time": "2023-04-19T02:27:43.346Z"
   },
   {
    "duration": 0,
    "start_time": "2023-04-19T02:27:43.348Z"
   },
   {
    "duration": 0,
    "start_time": "2023-04-19T02:27:43.350Z"
   },
   {
    "duration": 1,
    "start_time": "2023-04-19T02:27:43.351Z"
   },
   {
    "duration": 0,
    "start_time": "2023-04-19T02:27:43.353Z"
   },
   {
    "duration": 0,
    "start_time": "2023-04-19T02:27:43.354Z"
   },
   {
    "duration": 0,
    "start_time": "2023-04-19T02:27:43.356Z"
   },
   {
    "duration": 0,
    "start_time": "2023-04-19T02:27:43.389Z"
   },
   {
    "duration": 0,
    "start_time": "2023-04-19T02:27:43.391Z"
   },
   {
    "duration": 0,
    "start_time": "2023-04-19T02:27:43.392Z"
   },
   {
    "duration": 0,
    "start_time": "2023-04-19T02:27:43.394Z"
   },
   {
    "duration": 51,
    "start_time": "2023-04-19T02:28:53.632Z"
   },
   {
    "duration": 4,
    "start_time": "2023-04-19T02:31:59.351Z"
   },
   {
    "duration": 745,
    "start_time": "2023-04-19T02:31:59.360Z"
   },
   {
    "duration": 18,
    "start_time": "2023-04-19T02:32:00.107Z"
   },
   {
    "duration": 34,
    "start_time": "2023-04-19T02:32:00.127Z"
   },
   {
    "duration": 353,
    "start_time": "2023-04-19T02:32:00.163Z"
   },
   {
    "duration": 202,
    "start_time": "2023-04-19T02:32:00.520Z"
   },
   {
    "duration": 70,
    "start_time": "2023-04-19T02:32:00.725Z"
   },
   {
    "duration": 23,
    "start_time": "2023-04-19T02:32:00.797Z"
   },
   {
    "duration": 381,
    "start_time": "2023-04-19T02:32:00.822Z"
   },
   {
    "duration": 94,
    "start_time": "2023-04-19T02:32:01.206Z"
   },
   {
    "duration": 27,
    "start_time": "2023-04-19T02:32:01.303Z"
   },
   {
    "duration": 73,
    "start_time": "2023-04-19T02:32:01.331Z"
   },
   {
    "duration": 38,
    "start_time": "2023-04-19T02:32:01.407Z"
   },
   {
    "duration": 657,
    "start_time": "2023-04-19T02:32:01.447Z"
   },
   {
    "duration": 22,
    "start_time": "2023-04-19T02:32:02.108Z"
   },
   {
    "duration": 302,
    "start_time": "2023-04-19T02:32:02.132Z"
   },
   {
    "duration": 66,
    "start_time": "2023-04-19T02:32:02.436Z"
   },
   {
    "duration": 7,
    "start_time": "2023-04-19T02:32:02.504Z"
   },
   {
    "duration": 15,
    "start_time": "2023-04-19T02:32:02.513Z"
   },
   {
    "duration": 8,
    "start_time": "2023-04-19T02:32:02.530Z"
   },
   {
    "duration": 79,
    "start_time": "2023-04-19T02:32:02.540Z"
   },
   {
    "duration": 6,
    "start_time": "2023-04-19T02:32:02.621Z"
   },
   {
    "duration": 7,
    "start_time": "2023-04-19T02:32:02.629Z"
   },
   {
    "duration": 65,
    "start_time": "2023-04-19T02:32:02.638Z"
   },
   {
    "duration": 22,
    "start_time": "2023-04-19T02:32:02.707Z"
   },
   {
    "duration": 76,
    "start_time": "2023-04-19T02:32:02.730Z"
   },
   {
    "duration": 8,
    "start_time": "2023-04-19T02:32:02.807Z"
   },
   {
    "duration": 2542,
    "start_time": "2023-04-19T02:32:02.817Z"
   },
   {
    "duration": 2249,
    "start_time": "2023-04-19T02:32:05.361Z"
   },
   {
    "duration": 2262,
    "start_time": "2023-04-19T02:32:07.611Z"
   },
   {
    "duration": 1248,
    "start_time": "2023-04-19T02:32:09.875Z"
   },
   {
    "duration": 920,
    "start_time": "2023-04-19T02:32:11.125Z"
   },
   {
    "duration": 15,
    "start_time": "2023-04-19T02:32:12.048Z"
   },
   {
    "duration": 1699,
    "start_time": "2023-04-19T02:32:12.065Z"
   },
   {
    "duration": 33,
    "start_time": "2023-04-19T02:32:13.767Z"
   },
   {
    "duration": 1567,
    "start_time": "2023-04-19T02:32:13.802Z"
   },
   {
    "duration": 4,
    "start_time": "2023-04-19T02:32:15.371Z"
   },
   {
    "duration": 32,
    "start_time": "2023-04-19T02:32:15.376Z"
   },
   {
    "duration": 9,
    "start_time": "2023-04-19T02:32:15.410Z"
   },
   {
    "duration": 47,
    "start_time": "2023-04-19T02:32:15.421Z"
   },
   {
    "duration": 0,
    "start_time": "2023-04-19T02:32:15.471Z"
   },
   {
    "duration": 0,
    "start_time": "2023-04-19T02:32:15.472Z"
   },
   {
    "duration": 0,
    "start_time": "2023-04-19T02:32:15.473Z"
   },
   {
    "duration": 0,
    "start_time": "2023-04-19T02:32:15.474Z"
   },
   {
    "duration": 0,
    "start_time": "2023-04-19T02:32:15.497Z"
   },
   {
    "duration": 0,
    "start_time": "2023-04-19T02:32:15.500Z"
   },
   {
    "duration": 0,
    "start_time": "2023-04-19T02:32:15.502Z"
   },
   {
    "duration": 0,
    "start_time": "2023-04-19T02:32:15.503Z"
   },
   {
    "duration": 0,
    "start_time": "2023-04-19T02:32:15.504Z"
   },
   {
    "duration": 0,
    "start_time": "2023-04-19T02:32:15.505Z"
   },
   {
    "duration": 0,
    "start_time": "2023-04-19T02:32:15.507Z"
   },
   {
    "duration": 0,
    "start_time": "2023-04-19T02:32:15.508Z"
   },
   {
    "duration": 0,
    "start_time": "2023-04-19T02:32:15.509Z"
   },
   {
    "duration": 0,
    "start_time": "2023-04-19T02:32:15.511Z"
   },
   {
    "duration": 0,
    "start_time": "2023-04-19T02:32:15.512Z"
   },
   {
    "duration": 0,
    "start_time": "2023-04-19T02:32:15.513Z"
   },
   {
    "duration": 3,
    "start_time": "2023-04-19T02:33:49.371Z"
   },
   {
    "duration": 5,
    "start_time": "2023-04-19T02:34:05.623Z"
   },
   {
    "duration": 5,
    "start_time": "2023-04-19T02:36:04.681Z"
   },
   {
    "duration": 72,
    "start_time": "2023-04-19T02:36:05.470Z"
   },
   {
    "duration": 1600,
    "start_time": "2023-04-19T02:36:17.896Z"
   },
   {
    "duration": 785,
    "start_time": "2023-04-19T02:36:19.499Z"
   },
   {
    "duration": 32,
    "start_time": "2023-04-19T02:36:20.287Z"
   },
   {
    "duration": 69,
    "start_time": "2023-04-19T02:36:20.322Z"
   },
   {
    "duration": 297,
    "start_time": "2023-04-19T02:36:20.394Z"
   },
   {
    "duration": 159,
    "start_time": "2023-04-19T02:36:20.693Z"
   },
   {
    "duration": 12,
    "start_time": "2023-04-19T02:36:20.854Z"
   },
   {
    "duration": 29,
    "start_time": "2023-04-19T02:36:20.867Z"
   },
   {
    "duration": 165,
    "start_time": "2023-04-19T02:36:20.899Z"
   },
   {
    "duration": 37,
    "start_time": "2023-04-19T02:36:21.067Z"
   },
   {
    "duration": 28,
    "start_time": "2023-04-19T02:36:21.106Z"
   },
   {
    "duration": 14,
    "start_time": "2023-04-19T02:36:21.138Z"
   },
   {
    "duration": 70,
    "start_time": "2023-04-19T02:36:21.156Z"
   },
   {
    "duration": 351,
    "start_time": "2023-04-19T02:36:21.230Z"
   },
   {
    "duration": 28,
    "start_time": "2023-04-19T02:36:21.582Z"
   },
   {
    "duration": 146,
    "start_time": "2023-04-19T02:36:21.612Z"
   },
   {
    "duration": 14,
    "start_time": "2023-04-19T02:36:21.760Z"
   },
   {
    "duration": 8,
    "start_time": "2023-04-19T02:36:21.788Z"
   },
   {
    "duration": 7,
    "start_time": "2023-04-19T02:36:21.798Z"
   },
   {
    "duration": 5,
    "start_time": "2023-04-19T02:36:21.807Z"
   },
   {
    "duration": 16,
    "start_time": "2023-04-19T02:36:21.814Z"
   },
   {
    "duration": 9,
    "start_time": "2023-04-19T02:36:21.831Z"
   },
   {
    "duration": 47,
    "start_time": "2023-04-19T02:36:21.843Z"
   },
   {
    "duration": 6,
    "start_time": "2023-04-19T02:36:21.893Z"
   },
   {
    "duration": 23,
    "start_time": "2023-04-19T02:36:21.901Z"
   },
   {
    "duration": 29,
    "start_time": "2023-04-19T02:36:21.926Z"
   },
   {
    "duration": 35,
    "start_time": "2023-04-19T02:36:21.957Z"
   },
   {
    "duration": 2184,
    "start_time": "2023-04-19T02:36:21.996Z"
   },
   {
    "duration": 2210,
    "start_time": "2023-04-19T02:36:24.183Z"
   },
   {
    "duration": 2359,
    "start_time": "2023-04-19T02:36:26.395Z"
   },
   {
    "duration": 1291,
    "start_time": "2023-04-19T02:36:28.756Z"
   },
   {
    "duration": 1002,
    "start_time": "2023-04-19T02:36:30.049Z"
   },
   {
    "duration": 15,
    "start_time": "2023-04-19T02:36:31.053Z"
   },
   {
    "duration": 1648,
    "start_time": "2023-04-19T02:36:31.070Z"
   },
   {
    "duration": 22,
    "start_time": "2023-04-19T02:36:32.720Z"
   },
   {
    "duration": 1486,
    "start_time": "2023-04-19T02:36:32.744Z"
   },
   {
    "duration": 5,
    "start_time": "2023-04-19T02:36:34.233Z"
   },
   {
    "duration": 37,
    "start_time": "2023-04-19T02:36:34.240Z"
   },
   {
    "duration": 16,
    "start_time": "2023-04-19T02:36:34.279Z"
   },
   {
    "duration": 22,
    "start_time": "2023-04-19T02:36:34.297Z"
   },
   {
    "duration": 7,
    "start_time": "2023-04-19T02:36:34.320Z"
   },
   {
    "duration": 95,
    "start_time": "2023-04-19T02:36:34.329Z"
   },
   {
    "duration": 862,
    "start_time": "2023-04-19T02:36:34.425Z"
   },
   {
    "duration": 0,
    "start_time": "2023-04-19T02:36:35.289Z"
   },
   {
    "duration": 0,
    "start_time": "2023-04-19T02:36:35.291Z"
   },
   {
    "duration": 0,
    "start_time": "2023-04-19T02:36:35.293Z"
   },
   {
    "duration": 0,
    "start_time": "2023-04-19T02:36:35.294Z"
   },
   {
    "duration": 0,
    "start_time": "2023-04-19T02:36:35.296Z"
   },
   {
    "duration": 0,
    "start_time": "2023-04-19T02:36:35.297Z"
   },
   {
    "duration": 0,
    "start_time": "2023-04-19T02:36:35.299Z"
   },
   {
    "duration": 0,
    "start_time": "2023-04-19T02:36:35.300Z"
   },
   {
    "duration": 0,
    "start_time": "2023-04-19T02:36:35.302Z"
   },
   {
    "duration": 0,
    "start_time": "2023-04-19T02:36:35.304Z"
   },
   {
    "duration": 0,
    "start_time": "2023-04-19T02:36:35.305Z"
   },
   {
    "duration": 0,
    "start_time": "2023-04-19T02:36:35.306Z"
   },
   {
    "duration": 0,
    "start_time": "2023-04-19T02:36:35.308Z"
   },
   {
    "duration": 0,
    "start_time": "2023-04-19T02:36:35.308Z"
   },
   {
    "duration": 1,
    "start_time": "2023-04-19T02:36:35.309Z"
   },
   {
    "duration": 5,
    "start_time": "2023-04-19T02:41:51.095Z"
   },
   {
    "duration": 19,
    "start_time": "2023-04-19T02:41:54.632Z"
   },
   {
    "duration": 1496,
    "start_time": "2023-04-19T02:42:01.399Z"
   },
   {
    "duration": 728,
    "start_time": "2023-04-19T02:42:02.898Z"
   },
   {
    "duration": 22,
    "start_time": "2023-04-19T02:42:03.628Z"
   },
   {
    "duration": 46,
    "start_time": "2023-04-19T02:42:03.652Z"
   },
   {
    "duration": 248,
    "start_time": "2023-04-19T02:42:03.701Z"
   },
   {
    "duration": 134,
    "start_time": "2023-04-19T02:42:03.950Z"
   },
   {
    "duration": 9,
    "start_time": "2023-04-19T02:42:04.086Z"
   },
   {
    "duration": 18,
    "start_time": "2023-04-19T02:42:04.097Z"
   },
   {
    "duration": 152,
    "start_time": "2023-04-19T02:42:04.117Z"
   },
   {
    "duration": 31,
    "start_time": "2023-04-19T02:42:04.270Z"
   },
   {
    "duration": 24,
    "start_time": "2023-04-19T02:42:04.303Z"
   },
   {
    "duration": 7,
    "start_time": "2023-04-19T02:42:04.329Z"
   },
   {
    "duration": 20,
    "start_time": "2023-04-19T02:42:04.338Z"
   },
   {
    "duration": 274,
    "start_time": "2023-04-19T02:42:04.392Z"
   },
   {
    "duration": 31,
    "start_time": "2023-04-19T02:42:04.668Z"
   },
   {
    "duration": 107,
    "start_time": "2023-04-19T02:42:04.701Z"
   },
   {
    "duration": 12,
    "start_time": "2023-04-19T02:42:04.810Z"
   },
   {
    "duration": 7,
    "start_time": "2023-04-19T02:42:04.824Z"
   },
   {
    "duration": 6,
    "start_time": "2023-04-19T02:42:04.833Z"
   },
   {
    "duration": 8,
    "start_time": "2023-04-19T02:42:04.841Z"
   },
   {
    "duration": 42,
    "start_time": "2023-04-19T02:42:04.851Z"
   },
   {
    "duration": 17,
    "start_time": "2023-04-19T02:42:04.895Z"
   },
   {
    "duration": 15,
    "start_time": "2023-04-19T02:42:04.914Z"
   },
   {
    "duration": 5,
    "start_time": "2023-04-19T02:42:04.931Z"
   },
   {
    "duration": 17,
    "start_time": "2023-04-19T02:42:04.938Z"
   },
   {
    "duration": 40,
    "start_time": "2023-04-19T02:42:04.956Z"
   },
   {
    "duration": 8,
    "start_time": "2023-04-19T02:42:04.998Z"
   },
   {
    "duration": 3197,
    "start_time": "2023-04-19T02:42:05.007Z"
   },
   {
    "duration": 2246,
    "start_time": "2023-04-19T02:42:08.206Z"
   },
   {
    "duration": 2240,
    "start_time": "2023-04-19T02:42:10.454Z"
   },
   {
    "duration": 1178,
    "start_time": "2023-04-19T02:42:12.696Z"
   },
   {
    "duration": 826,
    "start_time": "2023-04-19T02:42:13.876Z"
   },
   {
    "duration": 14,
    "start_time": "2023-04-19T02:42:14.704Z"
   },
   {
    "duration": 1508,
    "start_time": "2023-04-19T02:42:14.719Z"
   },
   {
    "duration": 21,
    "start_time": "2023-04-19T02:42:16.228Z"
   },
   {
    "duration": 1464,
    "start_time": "2023-04-19T02:42:16.251Z"
   },
   {
    "duration": 5,
    "start_time": "2023-04-19T02:42:17.717Z"
   },
   {
    "duration": 20,
    "start_time": "2023-04-19T02:42:17.725Z"
   },
   {
    "duration": 9,
    "start_time": "2023-04-19T02:42:17.747Z"
   },
   {
    "duration": 32,
    "start_time": "2023-04-19T02:42:17.758Z"
   },
   {
    "duration": 17,
    "start_time": "2023-04-19T02:42:17.795Z"
   },
   {
    "duration": 183,
    "start_time": "2023-04-19T02:42:17.814Z"
   },
   {
    "duration": 0,
    "start_time": "2023-04-19T02:42:18.000Z"
   },
   {
    "duration": 0,
    "start_time": "2023-04-19T02:42:18.001Z"
   },
   {
    "duration": 0,
    "start_time": "2023-04-19T02:42:18.003Z"
   },
   {
    "duration": 0,
    "start_time": "2023-04-19T02:42:18.005Z"
   },
   {
    "duration": 0,
    "start_time": "2023-04-19T02:42:18.006Z"
   },
   {
    "duration": 0,
    "start_time": "2023-04-19T02:42:18.008Z"
   },
   {
    "duration": 0,
    "start_time": "2023-04-19T02:42:18.009Z"
   },
   {
    "duration": 0,
    "start_time": "2023-04-19T02:42:18.011Z"
   },
   {
    "duration": 0,
    "start_time": "2023-04-19T02:42:18.013Z"
   },
   {
    "duration": 0,
    "start_time": "2023-04-19T02:42:18.014Z"
   },
   {
    "duration": 1,
    "start_time": "2023-04-19T02:42:18.016Z"
   },
   {
    "duration": 0,
    "start_time": "2023-04-19T02:42:18.018Z"
   },
   {
    "duration": 0,
    "start_time": "2023-04-19T02:42:18.019Z"
   },
   {
    "duration": 0,
    "start_time": "2023-04-19T02:42:18.021Z"
   },
   {
    "duration": 0,
    "start_time": "2023-04-19T02:42:18.023Z"
   },
   {
    "duration": 0,
    "start_time": "2023-04-19T02:42:18.024Z"
   },
   {
    "duration": 1531,
    "start_time": "2023-04-19T02:44:55.312Z"
   },
   {
    "duration": 754,
    "start_time": "2023-04-19T02:44:56.845Z"
   },
   {
    "duration": 22,
    "start_time": "2023-04-19T02:44:57.601Z"
   },
   {
    "duration": 29,
    "start_time": "2023-04-19T02:44:57.625Z"
   },
   {
    "duration": 278,
    "start_time": "2023-04-19T02:44:57.657Z"
   },
   {
    "duration": 132,
    "start_time": "2023-04-19T02:44:57.937Z"
   },
   {
    "duration": 20,
    "start_time": "2023-04-19T02:44:58.070Z"
   },
   {
    "duration": 20,
    "start_time": "2023-04-19T02:44:58.091Z"
   },
   {
    "duration": 182,
    "start_time": "2023-04-19T02:44:58.112Z"
   },
   {
    "duration": 25,
    "start_time": "2023-04-19T02:44:58.296Z"
   },
   {
    "duration": 79,
    "start_time": "2023-04-19T02:44:58.323Z"
   },
   {
    "duration": 7,
    "start_time": "2023-04-19T02:44:58.404Z"
   },
   {
    "duration": 18,
    "start_time": "2023-04-19T02:44:58.414Z"
   },
   {
    "duration": 588,
    "start_time": "2023-04-19T02:44:58.435Z"
   },
   {
    "duration": 76,
    "start_time": "2023-04-19T02:44:59.025Z"
   },
   {
    "duration": 201,
    "start_time": "2023-04-19T02:44:59.103Z"
   },
   {
    "duration": 10,
    "start_time": "2023-04-19T02:44:59.306Z"
   },
   {
    "duration": 6,
    "start_time": "2023-04-19T02:44:59.318Z"
   },
   {
    "duration": 65,
    "start_time": "2023-04-19T02:44:59.325Z"
   },
   {
    "duration": 9,
    "start_time": "2023-04-19T02:44:59.392Z"
   },
   {
    "duration": 14,
    "start_time": "2023-04-19T02:44:59.403Z"
   },
   {
    "duration": 6,
    "start_time": "2023-04-19T02:44:59.418Z"
   },
   {
    "duration": 9,
    "start_time": "2023-04-19T02:44:59.426Z"
   },
   {
    "duration": 54,
    "start_time": "2023-04-19T02:44:59.437Z"
   },
   {
    "duration": 17,
    "start_time": "2023-04-19T02:44:59.492Z"
   },
   {
    "duration": 80,
    "start_time": "2023-04-19T02:44:59.510Z"
   },
   {
    "duration": 7,
    "start_time": "2023-04-19T02:44:59.592Z"
   },
   {
    "duration": 2579,
    "start_time": "2023-04-19T02:44:59.601Z"
   },
   {
    "duration": 2170,
    "start_time": "2023-04-19T02:45:02.182Z"
   },
   {
    "duration": 2224,
    "start_time": "2023-04-19T02:45:04.354Z"
   },
   {
    "duration": 1164,
    "start_time": "2023-04-19T02:45:06.580Z"
   },
   {
    "duration": 836,
    "start_time": "2023-04-19T02:45:07.746Z"
   },
   {
    "duration": 18,
    "start_time": "2023-04-19T02:45:08.585Z"
   },
   {
    "duration": 1519,
    "start_time": "2023-04-19T02:45:08.605Z"
   },
   {
    "duration": 23,
    "start_time": "2023-04-19T02:45:10.127Z"
   },
   {
    "duration": 1508,
    "start_time": "2023-04-19T02:45:10.152Z"
   },
   {
    "duration": 5,
    "start_time": "2023-04-19T02:45:11.663Z"
   },
   {
    "duration": 33,
    "start_time": "2023-04-19T02:45:11.670Z"
   },
   {
    "duration": 7,
    "start_time": "2023-04-19T02:45:11.705Z"
   },
   {
    "duration": 19,
    "start_time": "2023-04-19T02:45:11.714Z"
   },
   {
    "duration": 171,
    "start_time": "2023-04-19T02:45:11.737Z"
   },
   {
    "duration": 0,
    "start_time": "2023-04-19T02:45:11.910Z"
   },
   {
    "duration": 0,
    "start_time": "2023-04-19T02:45:11.911Z"
   },
   {
    "duration": 1,
    "start_time": "2023-04-19T02:45:11.912Z"
   },
   {
    "duration": 0,
    "start_time": "2023-04-19T02:45:11.914Z"
   },
   {
    "duration": 0,
    "start_time": "2023-04-19T02:45:11.915Z"
   },
   {
    "duration": 0,
    "start_time": "2023-04-19T02:45:11.916Z"
   },
   {
    "duration": 0,
    "start_time": "2023-04-19T02:45:11.917Z"
   },
   {
    "duration": 0,
    "start_time": "2023-04-19T02:45:11.918Z"
   },
   {
    "duration": 0,
    "start_time": "2023-04-19T02:45:11.919Z"
   },
   {
    "duration": 0,
    "start_time": "2023-04-19T02:45:11.920Z"
   },
   {
    "duration": 0,
    "start_time": "2023-04-19T02:45:11.921Z"
   },
   {
    "duration": 0,
    "start_time": "2023-04-19T02:45:11.922Z"
   },
   {
    "duration": 0,
    "start_time": "2023-04-19T02:45:11.923Z"
   },
   {
    "duration": 0,
    "start_time": "2023-04-19T02:45:11.924Z"
   },
   {
    "duration": 0,
    "start_time": "2023-04-19T02:45:11.926Z"
   },
   {
    "duration": 0,
    "start_time": "2023-04-19T02:45:11.927Z"
   },
   {
    "duration": 5,
    "start_time": "2023-04-19T02:48:48.940Z"
   },
   {
    "duration": 723,
    "start_time": "2023-04-19T02:48:48.947Z"
   },
   {
    "duration": 25,
    "start_time": "2023-04-19T02:48:49.672Z"
   },
   {
    "duration": 29,
    "start_time": "2023-04-19T02:48:49.699Z"
   },
   {
    "duration": 269,
    "start_time": "2023-04-19T02:48:49.731Z"
   },
   {
    "duration": 127,
    "start_time": "2023-04-19T02:48:50.002Z"
   },
   {
    "duration": 11,
    "start_time": "2023-04-19T02:48:50.130Z"
   },
   {
    "duration": 14,
    "start_time": "2023-04-19T02:48:50.142Z"
   },
   {
    "duration": 195,
    "start_time": "2023-04-19T02:48:50.157Z"
   },
   {
    "duration": 46,
    "start_time": "2023-04-19T02:48:50.354Z"
   },
   {
    "duration": 27,
    "start_time": "2023-04-19T02:48:50.402Z"
   },
   {
    "duration": 7,
    "start_time": "2023-04-19T02:48:50.431Z"
   },
   {
    "duration": 24,
    "start_time": "2023-04-19T02:48:50.440Z"
   },
   {
    "duration": 283,
    "start_time": "2023-04-19T02:48:50.489Z"
   },
   {
    "duration": 27,
    "start_time": "2023-04-19T02:48:50.774Z"
   },
   {
    "duration": 107,
    "start_time": "2023-04-19T02:48:50.803Z"
   },
   {
    "duration": 10,
    "start_time": "2023-04-19T02:48:50.911Z"
   },
   {
    "duration": 7,
    "start_time": "2023-04-19T02:48:50.923Z"
   },
   {
    "duration": 6,
    "start_time": "2023-04-19T02:48:50.932Z"
   },
   {
    "duration": 5,
    "start_time": "2023-04-19T02:48:50.939Z"
   },
   {
    "duration": 44,
    "start_time": "2023-04-19T02:48:50.945Z"
   },
   {
    "duration": 20,
    "start_time": "2023-04-19T02:48:50.991Z"
   },
   {
    "duration": 16,
    "start_time": "2023-04-19T02:48:51.013Z"
   },
   {
    "duration": 15,
    "start_time": "2023-04-19T02:48:51.031Z"
   },
   {
    "duration": 15,
    "start_time": "2023-04-19T02:48:51.048Z"
   },
   {
    "duration": 24,
    "start_time": "2023-04-19T02:48:51.064Z"
   },
   {
    "duration": 8,
    "start_time": "2023-04-19T02:48:51.090Z"
   },
   {
    "duration": 3545,
    "start_time": "2023-04-19T02:48:51.099Z"
   },
   {
    "duration": 2244,
    "start_time": "2023-04-19T02:48:54.646Z"
   },
   {
    "duration": 2212,
    "start_time": "2023-04-19T02:48:56.892Z"
   },
   {
    "duration": 1076,
    "start_time": "2023-04-19T02:48:59.105Z"
   },
   {
    "duration": 889,
    "start_time": "2023-04-19T02:49:00.183Z"
   },
   {
    "duration": 20,
    "start_time": "2023-04-19T02:49:01.074Z"
   },
   {
    "duration": 1664,
    "start_time": "2023-04-19T02:49:01.095Z"
   },
   {
    "duration": 18,
    "start_time": "2023-04-19T02:49:02.761Z"
   },
   {
    "duration": 1445,
    "start_time": "2023-04-19T02:49:02.789Z"
   },
   {
    "duration": 4,
    "start_time": "2023-04-19T02:49:04.236Z"
   },
   {
    "duration": 20,
    "start_time": "2023-04-19T02:49:04.241Z"
   },
   {
    "duration": 7,
    "start_time": "2023-04-19T02:49:04.263Z"
   },
   {
    "duration": 34,
    "start_time": "2023-04-19T02:49:04.271Z"
   },
   {
    "duration": 41,
    "start_time": "2023-04-19T02:49:04.309Z"
   },
   {
    "duration": 0,
    "start_time": "2023-04-19T02:49:04.352Z"
   },
   {
    "duration": 0,
    "start_time": "2023-04-19T02:49:04.353Z"
   },
   {
    "duration": 0,
    "start_time": "2023-04-19T02:49:04.354Z"
   },
   {
    "duration": 0,
    "start_time": "2023-04-19T02:49:04.356Z"
   },
   {
    "duration": 0,
    "start_time": "2023-04-19T02:49:04.357Z"
   },
   {
    "duration": 0,
    "start_time": "2023-04-19T02:49:04.358Z"
   },
   {
    "duration": 0,
    "start_time": "2023-04-19T02:49:04.359Z"
   },
   {
    "duration": 0,
    "start_time": "2023-04-19T02:49:04.360Z"
   },
   {
    "duration": 0,
    "start_time": "2023-04-19T02:49:04.361Z"
   },
   {
    "duration": 0,
    "start_time": "2023-04-19T02:49:04.363Z"
   },
   {
    "duration": 0,
    "start_time": "2023-04-19T02:49:04.389Z"
   },
   {
    "duration": 0,
    "start_time": "2023-04-19T02:49:04.391Z"
   },
   {
    "duration": 0,
    "start_time": "2023-04-19T02:49:04.391Z"
   },
   {
    "duration": 0,
    "start_time": "2023-04-19T02:49:04.393Z"
   },
   {
    "duration": 0,
    "start_time": "2023-04-19T02:49:04.394Z"
   },
   {
    "duration": 0,
    "start_time": "2023-04-19T02:49:04.395Z"
   },
   {
    "duration": 7,
    "start_time": "2023-04-19T02:57:18.302Z"
   },
   {
    "duration": 753,
    "start_time": "2023-04-19T02:57:18.312Z"
   },
   {
    "duration": 23,
    "start_time": "2023-04-19T02:57:19.067Z"
   },
   {
    "duration": 25,
    "start_time": "2023-04-19T02:57:19.092Z"
   },
   {
    "duration": 273,
    "start_time": "2023-04-19T02:57:19.119Z"
   },
   {
    "duration": 133,
    "start_time": "2023-04-19T02:57:19.394Z"
   },
   {
    "duration": 9,
    "start_time": "2023-04-19T02:57:19.529Z"
   },
   {
    "duration": 17,
    "start_time": "2023-04-19T02:57:19.540Z"
   },
   {
    "duration": 166,
    "start_time": "2023-04-19T02:57:19.559Z"
   },
   {
    "duration": 30,
    "start_time": "2023-04-19T02:57:19.727Z"
   },
   {
    "duration": 41,
    "start_time": "2023-04-19T02:57:19.759Z"
   },
   {
    "duration": 8,
    "start_time": "2023-04-19T02:57:19.801Z"
   },
   {
    "duration": 20,
    "start_time": "2023-04-19T02:57:19.812Z"
   },
   {
    "duration": 300,
    "start_time": "2023-04-19T02:57:19.836Z"
   },
   {
    "duration": 22,
    "start_time": "2023-04-19T02:57:20.138Z"
   },
   {
    "duration": 152,
    "start_time": "2023-04-19T02:57:20.162Z"
   },
   {
    "duration": 14,
    "start_time": "2023-04-19T02:57:20.316Z"
   },
   {
    "duration": 7,
    "start_time": "2023-04-19T02:57:20.333Z"
   },
   {
    "duration": 12,
    "start_time": "2023-04-19T02:57:20.343Z"
   },
   {
    "duration": 33,
    "start_time": "2023-04-19T02:57:20.358Z"
   },
   {
    "duration": 24,
    "start_time": "2023-04-19T02:57:20.394Z"
   },
   {
    "duration": 5,
    "start_time": "2023-04-19T02:57:20.421Z"
   },
   {
    "duration": 9,
    "start_time": "2023-04-19T02:57:20.428Z"
   },
   {
    "duration": 5,
    "start_time": "2023-04-19T02:57:20.440Z"
   },
   {
    "duration": 58,
    "start_time": "2023-04-19T02:57:20.447Z"
   },
   {
    "duration": 28,
    "start_time": "2023-04-19T02:57:20.507Z"
   },
   {
    "duration": 7,
    "start_time": "2023-04-19T02:57:20.538Z"
   },
   {
    "duration": 3366,
    "start_time": "2023-04-19T02:57:20.547Z"
   },
   {
    "duration": 2212,
    "start_time": "2023-04-19T02:57:23.915Z"
   },
   {
    "duration": 2292,
    "start_time": "2023-04-19T02:57:26.129Z"
   },
   {
    "duration": 1235,
    "start_time": "2023-04-19T02:57:28.423Z"
   },
   {
    "duration": 816,
    "start_time": "2023-04-19T02:57:29.660Z"
   },
   {
    "duration": 19,
    "start_time": "2023-04-19T02:57:30.477Z"
   },
   {
    "duration": 1792,
    "start_time": "2023-04-19T02:57:30.497Z"
   },
   {
    "duration": 15,
    "start_time": "2023-04-19T02:57:32.291Z"
   },
   {
    "duration": 1445,
    "start_time": "2023-04-19T02:57:32.308Z"
   },
   {
    "duration": 4,
    "start_time": "2023-04-19T02:57:33.755Z"
   },
   {
    "duration": 30,
    "start_time": "2023-04-19T02:57:33.761Z"
   },
   {
    "duration": 17,
    "start_time": "2023-04-19T02:57:33.792Z"
   },
   {
    "duration": 0,
    "start_time": "2023-04-19T02:57:33.811Z"
   },
   {
    "duration": 0,
    "start_time": "2023-04-19T02:57:33.812Z"
   },
   {
    "duration": 0,
    "start_time": "2023-04-19T02:57:33.813Z"
   },
   {
    "duration": 0,
    "start_time": "2023-04-19T02:57:33.815Z"
   },
   {
    "duration": 0,
    "start_time": "2023-04-19T02:57:33.816Z"
   },
   {
    "duration": 0,
    "start_time": "2023-04-19T02:57:33.817Z"
   },
   {
    "duration": 0,
    "start_time": "2023-04-19T02:57:33.819Z"
   },
   {
    "duration": 0,
    "start_time": "2023-04-19T02:57:33.820Z"
   },
   {
    "duration": 0,
    "start_time": "2023-04-19T02:57:33.821Z"
   },
   {
    "duration": 0,
    "start_time": "2023-04-19T02:57:33.822Z"
   },
   {
    "duration": 0,
    "start_time": "2023-04-19T02:57:33.823Z"
   },
   {
    "duration": 0,
    "start_time": "2023-04-19T02:57:33.825Z"
   },
   {
    "duration": 0,
    "start_time": "2023-04-19T02:57:33.827Z"
   },
   {
    "duration": 0,
    "start_time": "2023-04-19T02:57:33.827Z"
   },
   {
    "duration": 0,
    "start_time": "2023-04-19T02:57:33.829Z"
   },
   {
    "duration": 0,
    "start_time": "2023-04-19T02:57:33.830Z"
   },
   {
    "duration": 0,
    "start_time": "2023-04-19T02:57:33.831Z"
   },
   {
    "duration": 38,
    "start_time": "2023-04-19T02:57:54.079Z"
   },
   {
    "duration": 31,
    "start_time": "2023-04-19T02:57:55.678Z"
   },
   {
    "duration": 1450,
    "start_time": "2023-04-19T03:00:58.093Z"
   },
   {
    "duration": 1244,
    "start_time": "2023-04-19T03:00:59.545Z"
   },
   {
    "duration": 24,
    "start_time": "2023-04-19T03:01:00.791Z"
   },
   {
    "duration": 106,
    "start_time": "2023-04-19T03:01:00.818Z"
   },
   {
    "duration": 589,
    "start_time": "2023-04-19T03:01:00.928Z"
   },
   {
    "duration": 311,
    "start_time": "2023-04-19T03:01:01.519Z"
   },
   {
    "duration": 59,
    "start_time": "2023-04-19T03:01:01.832Z"
   },
   {
    "duration": 19,
    "start_time": "2023-04-19T03:01:01.893Z"
   },
   {
    "duration": 277,
    "start_time": "2023-04-19T03:01:01.914Z"
   },
   {
    "duration": 28,
    "start_time": "2023-04-19T03:01:02.193Z"
   },
   {
    "duration": 27,
    "start_time": "2023-04-19T03:01:02.223Z"
   },
   {
    "duration": 8,
    "start_time": "2023-04-19T03:01:02.251Z"
   },
   {
    "duration": 50,
    "start_time": "2023-04-19T03:01:02.261Z"
   },
   {
    "duration": 279,
    "start_time": "2023-04-19T03:01:02.316Z"
   },
   {
    "duration": 22,
    "start_time": "2023-04-19T03:01:02.597Z"
   },
   {
    "duration": 112,
    "start_time": "2023-04-19T03:01:02.620Z"
   },
   {
    "duration": 10,
    "start_time": "2023-04-19T03:01:02.734Z"
   },
   {
    "duration": 21,
    "start_time": "2023-04-19T03:01:02.745Z"
   },
   {
    "duration": 5,
    "start_time": "2023-04-19T03:01:02.768Z"
   },
   {
    "duration": 14,
    "start_time": "2023-04-19T03:01:02.775Z"
   },
   {
    "duration": 14,
    "start_time": "2023-04-19T03:01:02.791Z"
   },
   {
    "duration": 18,
    "start_time": "2023-04-19T03:01:02.807Z"
   },
   {
    "duration": 11,
    "start_time": "2023-04-19T03:01:02.827Z"
   },
   {
    "duration": 10,
    "start_time": "2023-04-19T03:01:02.840Z"
   },
   {
    "duration": 16,
    "start_time": "2023-04-19T03:01:02.852Z"
   },
   {
    "duration": 42,
    "start_time": "2023-04-19T03:01:02.870Z"
   },
   {
    "duration": 6,
    "start_time": "2023-04-19T03:01:02.914Z"
   },
   {
    "duration": 2279,
    "start_time": "2023-04-19T03:01:02.922Z"
   },
   {
    "duration": 2151,
    "start_time": "2023-04-19T03:01:05.203Z"
   },
   {
    "duration": 2321,
    "start_time": "2023-04-19T03:01:07.356Z"
   },
   {
    "duration": 1266,
    "start_time": "2023-04-19T03:01:09.679Z"
   },
   {
    "duration": 896,
    "start_time": "2023-04-19T03:01:10.947Z"
   },
   {
    "duration": 16,
    "start_time": "2023-04-19T03:01:11.846Z"
   },
   {
    "duration": 1542,
    "start_time": "2023-04-19T03:01:11.864Z"
   },
   {
    "duration": 27,
    "start_time": "2023-04-19T03:01:13.409Z"
   },
   {
    "duration": 1476,
    "start_time": "2023-04-19T03:01:13.438Z"
   },
   {
    "duration": 5,
    "start_time": "2023-04-19T03:01:14.916Z"
   },
   {
    "duration": 20,
    "start_time": "2023-04-19T03:01:14.923Z"
   },
   {
    "duration": 60,
    "start_time": "2023-04-19T03:01:14.945Z"
   },
   {
    "duration": 154,
    "start_time": "2023-04-19T03:01:15.007Z"
   },
   {
    "duration": 0,
    "start_time": "2023-04-19T03:01:15.164Z"
   },
   {
    "duration": 0,
    "start_time": "2023-04-19T03:01:15.167Z"
   },
   {
    "duration": 0,
    "start_time": "2023-04-19T03:01:15.168Z"
   },
   {
    "duration": 0,
    "start_time": "2023-04-19T03:01:15.170Z"
   },
   {
    "duration": 0,
    "start_time": "2023-04-19T03:01:15.171Z"
   },
   {
    "duration": 0,
    "start_time": "2023-04-19T03:01:15.189Z"
   },
   {
    "duration": 0,
    "start_time": "2023-04-19T03:01:15.190Z"
   },
   {
    "duration": 0,
    "start_time": "2023-04-19T03:01:15.192Z"
   },
   {
    "duration": 0,
    "start_time": "2023-04-19T03:01:15.193Z"
   },
   {
    "duration": 0,
    "start_time": "2023-04-19T03:01:15.195Z"
   },
   {
    "duration": 0,
    "start_time": "2023-04-19T03:01:15.196Z"
   },
   {
    "duration": 0,
    "start_time": "2023-04-19T03:01:15.197Z"
   },
   {
    "duration": 0,
    "start_time": "2023-04-19T03:01:15.199Z"
   },
   {
    "duration": 0,
    "start_time": "2023-04-19T03:01:15.200Z"
   },
   {
    "duration": 0,
    "start_time": "2023-04-19T03:01:15.202Z"
   },
   {
    "duration": 0,
    "start_time": "2023-04-19T03:01:15.204Z"
   },
   {
    "duration": 6,
    "start_time": "2023-04-19T03:02:52.858Z"
   },
   {
    "duration": 1431,
    "start_time": "2023-04-19T03:04:25.435Z"
   },
   {
    "duration": 724,
    "start_time": "2023-04-19T03:04:26.868Z"
   },
   {
    "duration": 20,
    "start_time": "2023-04-19T03:04:27.594Z"
   },
   {
    "duration": 30,
    "start_time": "2023-04-19T03:04:27.616Z"
   },
   {
    "duration": 273,
    "start_time": "2023-04-19T03:04:27.648Z"
   },
   {
    "duration": 138,
    "start_time": "2023-04-19T03:04:27.924Z"
   },
   {
    "duration": 11,
    "start_time": "2023-04-19T03:04:28.064Z"
   },
   {
    "duration": 16,
    "start_time": "2023-04-19T03:04:28.089Z"
   },
   {
    "duration": 221,
    "start_time": "2023-04-19T03:04:28.107Z"
   },
   {
    "duration": 79,
    "start_time": "2023-04-19T03:04:28.329Z"
   },
   {
    "duration": 80,
    "start_time": "2023-04-19T03:04:28.410Z"
   },
   {
    "duration": 8,
    "start_time": "2023-04-19T03:04:28.492Z"
   },
   {
    "duration": 28,
    "start_time": "2023-04-19T03:04:28.502Z"
   },
   {
    "duration": 590,
    "start_time": "2023-04-19T03:04:28.536Z"
   },
   {
    "duration": 77,
    "start_time": "2023-04-19T03:04:29.127Z"
   },
   {
    "duration": 198,
    "start_time": "2023-04-19T03:04:29.206Z"
   },
   {
    "duration": 11,
    "start_time": "2023-04-19T03:04:29.405Z"
   },
   {
    "duration": 72,
    "start_time": "2023-04-19T03:04:29.417Z"
   },
   {
    "duration": 6,
    "start_time": "2023-04-19T03:04:29.491Z"
   },
   {
    "duration": 8,
    "start_time": "2023-04-19T03:04:29.498Z"
   },
   {
    "duration": 27,
    "start_time": "2023-04-19T03:04:29.508Z"
   },
   {
    "duration": 54,
    "start_time": "2023-04-19T03:04:29.538Z"
   },
   {
    "duration": 6,
    "start_time": "2023-04-19T03:04:29.595Z"
   },
   {
    "duration": 5,
    "start_time": "2023-04-19T03:04:29.603Z"
   },
   {
    "duration": 19,
    "start_time": "2023-04-19T03:04:29.610Z"
   },
   {
    "duration": 86,
    "start_time": "2023-04-19T03:04:29.631Z"
   },
   {
    "duration": 7,
    "start_time": "2023-04-19T03:04:29.719Z"
   },
   {
    "duration": 2674,
    "start_time": "2023-04-19T03:04:29.727Z"
   },
   {
    "duration": 2359,
    "start_time": "2023-04-19T03:04:32.403Z"
   },
   {
    "duration": 2316,
    "start_time": "2023-04-19T03:04:34.764Z"
   },
   {
    "duration": 1187,
    "start_time": "2023-04-19T03:04:37.082Z"
   },
   {
    "duration": 817,
    "start_time": "2023-04-19T03:04:38.271Z"
   },
   {
    "duration": 14,
    "start_time": "2023-04-19T03:04:39.090Z"
   },
   {
    "duration": 1629,
    "start_time": "2023-04-19T03:04:39.106Z"
   },
   {
    "duration": 20,
    "start_time": "2023-04-19T03:04:40.737Z"
   },
   {
    "duration": 1494,
    "start_time": "2023-04-19T03:04:40.759Z"
   },
   {
    "duration": 5,
    "start_time": "2023-04-19T03:04:42.254Z"
   },
   {
    "duration": 36,
    "start_time": "2023-04-19T03:04:42.262Z"
   },
   {
    "duration": 40,
    "start_time": "2023-04-19T03:04:42.299Z"
   },
   {
    "duration": 4,
    "start_time": "2023-04-19T03:04:42.342Z"
   },
   {
    "duration": 896,
    "start_time": "2023-04-19T03:04:42.352Z"
   },
   {
    "duration": 0,
    "start_time": "2023-04-19T03:04:43.250Z"
   },
   {
    "duration": 0,
    "start_time": "2023-04-19T03:04:43.252Z"
   },
   {
    "duration": 0,
    "start_time": "2023-04-19T03:04:43.253Z"
   },
   {
    "duration": 0,
    "start_time": "2023-04-19T03:04:43.254Z"
   },
   {
    "duration": 0,
    "start_time": "2023-04-19T03:04:43.255Z"
   },
   {
    "duration": 0,
    "start_time": "2023-04-19T03:04:43.257Z"
   },
   {
    "duration": 0,
    "start_time": "2023-04-19T03:04:43.258Z"
   },
   {
    "duration": 0,
    "start_time": "2023-04-19T03:04:43.259Z"
   },
   {
    "duration": 0,
    "start_time": "2023-04-19T03:04:43.260Z"
   },
   {
    "duration": 0,
    "start_time": "2023-04-19T03:04:43.262Z"
   },
   {
    "duration": 0,
    "start_time": "2023-04-19T03:04:43.263Z"
   },
   {
    "duration": 0,
    "start_time": "2023-04-19T03:04:43.264Z"
   },
   {
    "duration": 0,
    "start_time": "2023-04-19T03:04:43.265Z"
   },
   {
    "duration": 0,
    "start_time": "2023-04-19T03:04:43.266Z"
   },
   {
    "duration": 0,
    "start_time": "2023-04-19T03:04:43.268Z"
   },
   {
    "duration": 0,
    "start_time": "2023-04-19T03:04:43.269Z"
   },
   {
    "duration": 0,
    "start_time": "2023-04-19T03:04:43.270Z"
   },
   {
    "duration": 5,
    "start_time": "2023-04-19T03:05:53.432Z"
   },
   {
    "duration": 751,
    "start_time": "2023-04-19T03:05:53.439Z"
   },
   {
    "duration": 20,
    "start_time": "2023-04-19T03:05:54.192Z"
   },
   {
    "duration": 26,
    "start_time": "2023-04-19T03:05:54.214Z"
   },
   {
    "duration": 273,
    "start_time": "2023-04-19T03:05:54.242Z"
   },
   {
    "duration": 131,
    "start_time": "2023-04-19T03:05:54.517Z"
   },
   {
    "duration": 11,
    "start_time": "2023-04-19T03:05:54.650Z"
   },
   {
    "duration": 35,
    "start_time": "2023-04-19T03:05:54.663Z"
   },
   {
    "duration": 161,
    "start_time": "2023-04-19T03:05:54.701Z"
   },
   {
    "duration": 30,
    "start_time": "2023-04-19T03:05:54.864Z"
   },
   {
    "duration": 22,
    "start_time": "2023-04-19T03:05:54.896Z"
   },
   {
    "duration": 8,
    "start_time": "2023-04-19T03:05:54.920Z"
   },
   {
    "duration": 72,
    "start_time": "2023-04-19T03:05:54.930Z"
   },
   {
    "duration": 602,
    "start_time": "2023-04-19T03:05:55.005Z"
   },
   {
    "duration": 79,
    "start_time": "2023-04-19T03:05:55.609Z"
   },
   {
    "duration": 203,
    "start_time": "2023-04-19T03:05:55.690Z"
   },
   {
    "duration": 11,
    "start_time": "2023-04-19T03:05:55.894Z"
   },
   {
    "duration": 5,
    "start_time": "2023-04-19T03:05:55.907Z"
   },
   {
    "duration": 12,
    "start_time": "2023-04-19T03:05:55.914Z"
   },
   {
    "duration": 11,
    "start_time": "2023-04-19T03:05:55.927Z"
   },
   {
    "duration": 16,
    "start_time": "2023-04-19T03:05:55.989Z"
   },
   {
    "duration": 10,
    "start_time": "2023-04-19T03:05:56.006Z"
   },
   {
    "duration": 6,
    "start_time": "2023-04-19T03:05:56.017Z"
   },
   {
    "duration": 9,
    "start_time": "2023-04-19T03:05:56.024Z"
   },
   {
    "duration": 66,
    "start_time": "2023-04-19T03:05:56.035Z"
   },
   {
    "duration": 26,
    "start_time": "2023-04-19T03:05:56.103Z"
   },
   {
    "duration": 59,
    "start_time": "2023-04-19T03:05:56.131Z"
   },
   {
    "duration": 3609,
    "start_time": "2023-04-19T03:05:56.192Z"
   },
   {
    "duration": 3298,
    "start_time": "2023-04-19T03:05:59.803Z"
   },
   {
    "duration": 2216,
    "start_time": "2023-04-19T03:06:03.103Z"
   },
   {
    "duration": 1159,
    "start_time": "2023-04-19T03:06:05.321Z"
   },
   {
    "duration": 834,
    "start_time": "2023-04-19T03:06:06.482Z"
   },
   {
    "duration": 15,
    "start_time": "2023-04-19T03:06:07.319Z"
   },
   {
    "duration": 1627,
    "start_time": "2023-04-19T03:06:07.335Z"
   },
   {
    "duration": 26,
    "start_time": "2023-04-19T03:06:08.964Z"
   },
   {
    "duration": 1534,
    "start_time": "2023-04-19T03:06:08.992Z"
   },
   {
    "duration": 4,
    "start_time": "2023-04-19T03:06:10.528Z"
   },
   {
    "duration": 21,
    "start_time": "2023-04-19T03:06:10.534Z"
   },
   {
    "duration": 51,
    "start_time": "2023-04-19T03:06:10.557Z"
   },
   {
    "duration": 4,
    "start_time": "2023-04-19T03:06:10.610Z"
   },
   {
    "duration": 780,
    "start_time": "2023-04-19T03:06:10.618Z"
   },
   {
    "duration": 0,
    "start_time": "2023-04-19T03:06:11.400Z"
   },
   {
    "duration": 0,
    "start_time": "2023-04-19T03:06:11.402Z"
   },
   {
    "duration": 0,
    "start_time": "2023-04-19T03:06:11.403Z"
   },
   {
    "duration": 0,
    "start_time": "2023-04-19T03:06:11.404Z"
   },
   {
    "duration": 0,
    "start_time": "2023-04-19T03:06:11.405Z"
   },
   {
    "duration": 0,
    "start_time": "2023-04-19T03:06:11.407Z"
   },
   {
    "duration": 0,
    "start_time": "2023-04-19T03:06:11.408Z"
   },
   {
    "duration": 0,
    "start_time": "2023-04-19T03:06:11.410Z"
   },
   {
    "duration": 0,
    "start_time": "2023-04-19T03:06:11.411Z"
   },
   {
    "duration": 0,
    "start_time": "2023-04-19T03:06:11.412Z"
   },
   {
    "duration": 1,
    "start_time": "2023-04-19T03:06:11.413Z"
   },
   {
    "duration": 0,
    "start_time": "2023-04-19T03:06:11.415Z"
   },
   {
    "duration": 0,
    "start_time": "2023-04-19T03:06:11.417Z"
   },
   {
    "duration": 0,
    "start_time": "2023-04-19T03:06:11.418Z"
   },
   {
    "duration": 0,
    "start_time": "2023-04-19T03:06:11.420Z"
   },
   {
    "duration": 0,
    "start_time": "2023-04-19T03:06:11.421Z"
   },
   {
    "duration": 0,
    "start_time": "2023-04-19T03:06:11.422Z"
   },
   {
    "duration": 5,
    "start_time": "2023-04-19T03:08:27.183Z"
   },
   {
    "duration": 622,
    "start_time": "2023-04-19T03:08:27.190Z"
   },
   {
    "duration": 19,
    "start_time": "2023-04-19T03:08:27.814Z"
   },
   {
    "duration": 27,
    "start_time": "2023-04-19T03:08:27.834Z"
   },
   {
    "duration": 273,
    "start_time": "2023-04-19T03:08:27.863Z"
   },
   {
    "duration": 135,
    "start_time": "2023-04-19T03:08:28.139Z"
   },
   {
    "duration": 16,
    "start_time": "2023-04-19T03:08:28.276Z"
   },
   {
    "duration": 24,
    "start_time": "2023-04-19T03:08:28.294Z"
   },
   {
    "duration": 147,
    "start_time": "2023-04-19T03:08:28.320Z"
   },
   {
    "duration": 35,
    "start_time": "2023-04-19T03:08:28.469Z"
   },
   {
    "duration": 25,
    "start_time": "2023-04-19T03:08:28.506Z"
   },
   {
    "duration": 9,
    "start_time": "2023-04-19T03:08:28.533Z"
   },
   {
    "duration": 46,
    "start_time": "2023-04-19T03:08:28.543Z"
   },
   {
    "duration": 283,
    "start_time": "2023-04-19T03:08:28.594Z"
   },
   {
    "duration": 33,
    "start_time": "2023-04-19T03:08:28.878Z"
   },
   {
    "duration": 105,
    "start_time": "2023-04-19T03:08:28.913Z"
   },
   {
    "duration": 11,
    "start_time": "2023-04-19T03:08:29.020Z"
   },
   {
    "duration": 6,
    "start_time": "2023-04-19T03:08:29.033Z"
   },
   {
    "duration": 11,
    "start_time": "2023-04-19T03:08:29.040Z"
   },
   {
    "duration": 5,
    "start_time": "2023-04-19T03:08:29.053Z"
   },
   {
    "duration": 15,
    "start_time": "2023-04-19T03:08:29.089Z"
   },
   {
    "duration": 7,
    "start_time": "2023-04-19T03:08:29.106Z"
   },
   {
    "duration": 7,
    "start_time": "2023-04-19T03:08:29.114Z"
   },
   {
    "duration": 18,
    "start_time": "2023-04-19T03:08:29.123Z"
   },
   {
    "duration": 20,
    "start_time": "2023-04-19T03:08:29.143Z"
   },
   {
    "duration": 23,
    "start_time": "2023-04-19T03:08:29.189Z"
   },
   {
    "duration": 8,
    "start_time": "2023-04-19T03:08:29.214Z"
   },
   {
    "duration": 3435,
    "start_time": "2023-04-19T03:08:29.224Z"
   },
   {
    "duration": 2229,
    "start_time": "2023-04-19T03:08:32.661Z"
   },
   {
    "duration": 2330,
    "start_time": "2023-04-19T03:08:34.892Z"
   },
   {
    "duration": 1247,
    "start_time": "2023-04-19T03:08:37.224Z"
   },
   {
    "duration": 712,
    "start_time": "2023-04-19T03:08:38.473Z"
   },
   {
    "duration": 15,
    "start_time": "2023-04-19T03:08:39.186Z"
   },
   {
    "duration": 1763,
    "start_time": "2023-04-19T03:08:39.203Z"
   },
   {
    "duration": 24,
    "start_time": "2023-04-19T03:08:40.968Z"
   },
   {
    "duration": 1485,
    "start_time": "2023-04-19T03:08:40.994Z"
   },
   {
    "duration": 9,
    "start_time": "2023-04-19T03:08:42.481Z"
   },
   {
    "duration": 40,
    "start_time": "2023-04-19T03:08:42.491Z"
   },
   {
    "duration": 18,
    "start_time": "2023-04-19T03:08:42.533Z"
   },
   {
    "duration": 0,
    "start_time": "2023-04-19T03:08:42.553Z"
   },
   {
    "duration": 0,
    "start_time": "2023-04-19T03:08:42.555Z"
   },
   {
    "duration": 0,
    "start_time": "2023-04-19T03:08:42.556Z"
   },
   {
    "duration": 0,
    "start_time": "2023-04-19T03:08:42.557Z"
   },
   {
    "duration": 0,
    "start_time": "2023-04-19T03:08:42.558Z"
   },
   {
    "duration": 0,
    "start_time": "2023-04-19T03:08:42.559Z"
   },
   {
    "duration": 0,
    "start_time": "2023-04-19T03:08:42.560Z"
   },
   {
    "duration": 0,
    "start_time": "2023-04-19T03:08:42.590Z"
   },
   {
    "duration": 0,
    "start_time": "2023-04-19T03:08:42.591Z"
   },
   {
    "duration": 0,
    "start_time": "2023-04-19T03:08:42.592Z"
   },
   {
    "duration": 0,
    "start_time": "2023-04-19T03:08:42.594Z"
   },
   {
    "duration": 0,
    "start_time": "2023-04-19T03:08:42.595Z"
   },
   {
    "duration": 0,
    "start_time": "2023-04-19T03:08:42.597Z"
   },
   {
    "duration": 0,
    "start_time": "2023-04-19T03:08:42.598Z"
   },
   {
    "duration": 0,
    "start_time": "2023-04-19T03:08:42.600Z"
   },
   {
    "duration": 0,
    "start_time": "2023-04-19T03:08:42.601Z"
   },
   {
    "duration": 0,
    "start_time": "2023-04-19T03:08:42.604Z"
   },
   {
    "duration": 27,
    "start_time": "2023-04-19T03:12:25.235Z"
   },
   {
    "duration": 60,
    "start_time": "2023-04-19T03:17:13.572Z"
   },
   {
    "duration": 1509,
    "start_time": "2023-04-19T13:46:26.475Z"
   },
   {
    "duration": 676,
    "start_time": "2023-04-19T13:46:27.986Z"
   },
   {
    "duration": 20,
    "start_time": "2023-04-19T13:46:28.664Z"
   },
   {
    "duration": 65,
    "start_time": "2023-04-19T13:46:28.686Z"
   },
   {
    "duration": 224,
    "start_time": "2023-04-19T13:46:28.753Z"
   },
   {
    "duration": 125,
    "start_time": "2023-04-19T13:46:28.978Z"
   },
   {
    "duration": 9,
    "start_time": "2023-04-19T13:46:29.105Z"
   },
   {
    "duration": 13,
    "start_time": "2023-04-19T13:46:29.115Z"
   },
   {
    "duration": 145,
    "start_time": "2023-04-19T13:46:29.129Z"
   },
   {
    "duration": 23,
    "start_time": "2023-04-19T13:46:29.276Z"
   },
   {
    "duration": 22,
    "start_time": "2023-04-19T13:46:29.301Z"
   },
   {
    "duration": 7,
    "start_time": "2023-04-19T13:46:29.325Z"
   },
   {
    "duration": 37,
    "start_time": "2023-04-19T13:46:29.333Z"
   },
   {
    "duration": 259,
    "start_time": "2023-04-19T13:46:29.373Z"
   },
   {
    "duration": 27,
    "start_time": "2023-04-19T13:46:29.633Z"
   },
   {
    "duration": 114,
    "start_time": "2023-04-19T13:46:29.662Z"
   },
   {
    "duration": 11,
    "start_time": "2023-04-19T13:46:29.778Z"
   },
   {
    "duration": 6,
    "start_time": "2023-04-19T13:46:29.791Z"
   },
   {
    "duration": 6,
    "start_time": "2023-04-19T13:46:29.798Z"
   },
   {
    "duration": 6,
    "start_time": "2023-04-19T13:46:29.805Z"
   },
   {
    "duration": 15,
    "start_time": "2023-04-19T13:46:29.813Z"
   },
   {
    "duration": 31,
    "start_time": "2023-04-19T13:46:29.829Z"
   },
   {
    "duration": 5,
    "start_time": "2023-04-19T13:46:29.862Z"
   },
   {
    "duration": 9,
    "start_time": "2023-04-19T13:46:29.869Z"
   },
   {
    "duration": 14,
    "start_time": "2023-04-19T13:46:29.880Z"
   },
   {
    "duration": 26,
    "start_time": "2023-04-19T13:46:29.896Z"
   },
   {
    "duration": 38,
    "start_time": "2023-04-19T13:46:29.924Z"
   },
   {
    "duration": 2144,
    "start_time": "2023-04-19T13:46:29.964Z"
   },
   {
    "duration": 2072,
    "start_time": "2023-04-19T13:46:32.110Z"
   },
   {
    "duration": 2121,
    "start_time": "2023-04-19T13:46:34.184Z"
   },
   {
    "duration": 1035,
    "start_time": "2023-04-19T13:46:36.307Z"
   },
   {
    "duration": 736,
    "start_time": "2023-04-19T13:46:37.344Z"
   },
   {
    "duration": 12,
    "start_time": "2023-04-19T13:46:38.082Z"
   },
   {
    "duration": 1342,
    "start_time": "2023-04-19T13:46:38.096Z"
   },
   {
    "duration": 27,
    "start_time": "2023-04-19T13:46:39.440Z"
   },
   {
    "duration": 1279,
    "start_time": "2023-04-19T13:46:39.469Z"
   },
   {
    "duration": 9,
    "start_time": "2023-04-19T13:46:40.750Z"
   },
   {
    "duration": 32,
    "start_time": "2023-04-19T13:46:40.761Z"
   },
   {
    "duration": 39,
    "start_time": "2023-04-19T13:46:40.794Z"
   },
   {
    "duration": 135,
    "start_time": "2023-04-19T13:46:40.835Z"
   },
   {
    "duration": 0,
    "start_time": "2023-04-19T13:46:40.973Z"
   },
   {
    "duration": 0,
    "start_time": "2023-04-19T13:46:40.975Z"
   },
   {
    "duration": 0,
    "start_time": "2023-04-19T13:46:40.976Z"
   },
   {
    "duration": 0,
    "start_time": "2023-04-19T13:46:40.977Z"
   },
   {
    "duration": 0,
    "start_time": "2023-04-19T13:46:40.979Z"
   },
   {
    "duration": 0,
    "start_time": "2023-04-19T13:46:40.980Z"
   },
   {
    "duration": 0,
    "start_time": "2023-04-19T13:46:40.981Z"
   },
   {
    "duration": 0,
    "start_time": "2023-04-19T13:46:40.982Z"
   },
   {
    "duration": 0,
    "start_time": "2023-04-19T13:46:40.984Z"
   },
   {
    "duration": 0,
    "start_time": "2023-04-19T13:46:40.985Z"
   },
   {
    "duration": 0,
    "start_time": "2023-04-19T13:46:40.986Z"
   },
   {
    "duration": 0,
    "start_time": "2023-04-19T13:46:40.988Z"
   },
   {
    "duration": 0,
    "start_time": "2023-04-19T13:46:40.989Z"
   },
   {
    "duration": 0,
    "start_time": "2023-04-19T13:46:40.990Z"
   },
   {
    "duration": 0,
    "start_time": "2023-04-19T13:46:40.992Z"
   },
   {
    "duration": 0,
    "start_time": "2023-04-19T13:46:40.993Z"
   },
   {
    "duration": 27,
    "start_time": "2023-04-19T13:47:23.729Z"
   },
   {
    "duration": 5,
    "start_time": "2023-04-19T13:47:29.541Z"
   },
   {
    "duration": 5,
    "start_time": "2023-04-19T13:47:47.757Z"
   },
   {
    "duration": 1500,
    "start_time": "2023-04-19T13:53:25.209Z"
   },
   {
    "duration": 701,
    "start_time": "2023-04-19T13:53:26.710Z"
   },
   {
    "duration": 19,
    "start_time": "2023-04-19T13:53:27.412Z"
   },
   {
    "duration": 38,
    "start_time": "2023-04-19T13:53:27.433Z"
   },
   {
    "duration": 239,
    "start_time": "2023-04-19T13:53:27.473Z"
   },
   {
    "duration": 130,
    "start_time": "2023-04-19T13:53:27.713Z"
   },
   {
    "duration": 20,
    "start_time": "2023-04-19T13:53:27.845Z"
   },
   {
    "duration": 12,
    "start_time": "2023-04-19T13:53:27.866Z"
   },
   {
    "duration": 135,
    "start_time": "2023-04-19T13:53:27.880Z"
   },
   {
    "duration": 25,
    "start_time": "2023-04-19T13:53:28.017Z"
   },
   {
    "duration": 36,
    "start_time": "2023-04-19T13:53:28.044Z"
   },
   {
    "duration": 6,
    "start_time": "2023-04-19T13:53:28.082Z"
   },
   {
    "duration": 24,
    "start_time": "2023-04-19T13:53:28.090Z"
   },
   {
    "duration": 264,
    "start_time": "2023-04-19T13:53:28.117Z"
   },
   {
    "duration": 20,
    "start_time": "2023-04-19T13:53:28.383Z"
   },
   {
    "duration": 106,
    "start_time": "2023-04-19T13:53:28.405Z"
   },
   {
    "duration": 9,
    "start_time": "2023-04-19T13:53:28.513Z"
   },
   {
    "duration": 36,
    "start_time": "2023-04-19T13:53:28.524Z"
   },
   {
    "duration": 5,
    "start_time": "2023-04-19T13:53:28.562Z"
   },
   {
    "duration": 9,
    "start_time": "2023-04-19T13:53:28.568Z"
   },
   {
    "duration": 28,
    "start_time": "2023-04-19T13:53:28.579Z"
   },
   {
    "duration": 14,
    "start_time": "2023-04-19T13:53:28.610Z"
   },
   {
    "duration": 11,
    "start_time": "2023-04-19T13:53:28.626Z"
   },
   {
    "duration": 6,
    "start_time": "2023-04-19T13:53:28.639Z"
   },
   {
    "duration": 19,
    "start_time": "2023-04-19T13:53:28.646Z"
   },
   {
    "duration": 30,
    "start_time": "2023-04-19T13:53:28.667Z"
   },
   {
    "duration": 7,
    "start_time": "2023-04-19T13:53:28.699Z"
   },
   {
    "duration": 2265,
    "start_time": "2023-04-19T13:53:28.707Z"
   },
   {
    "duration": 2129,
    "start_time": "2023-04-19T13:53:30.974Z"
   },
   {
    "duration": 2132,
    "start_time": "2023-04-19T13:53:33.104Z"
   },
   {
    "duration": 1062,
    "start_time": "2023-04-19T13:53:35.238Z"
   },
   {
    "duration": 752,
    "start_time": "2023-04-19T13:53:36.302Z"
   },
   {
    "duration": 13,
    "start_time": "2023-04-19T13:53:37.059Z"
   },
   {
    "duration": 1410,
    "start_time": "2023-04-19T13:53:37.074Z"
   },
   {
    "duration": 20,
    "start_time": "2023-04-19T13:53:38.486Z"
   },
   {
    "duration": 1350,
    "start_time": "2023-04-19T13:53:38.508Z"
   },
   {
    "duration": 4,
    "start_time": "2023-04-19T13:53:39.860Z"
   },
   {
    "duration": 25,
    "start_time": "2023-04-19T13:53:39.866Z"
   },
   {
    "duration": 34,
    "start_time": "2023-04-19T13:53:39.892Z"
   },
   {
    "duration": 153,
    "start_time": "2023-04-19T13:53:39.928Z"
   },
   {
    "duration": 0,
    "start_time": "2023-04-19T13:53:40.084Z"
   },
   {
    "duration": 1,
    "start_time": "2023-04-19T13:53:40.085Z"
   },
   {
    "duration": 0,
    "start_time": "2023-04-19T13:53:40.086Z"
   },
   {
    "duration": 0,
    "start_time": "2023-04-19T13:53:40.088Z"
   },
   {
    "duration": 1,
    "start_time": "2023-04-19T13:53:40.088Z"
   },
   {
    "duration": 0,
    "start_time": "2023-04-19T13:53:40.089Z"
   },
   {
    "duration": 0,
    "start_time": "2023-04-19T13:53:40.090Z"
   },
   {
    "duration": 0,
    "start_time": "2023-04-19T13:53:40.091Z"
   },
   {
    "duration": 0,
    "start_time": "2023-04-19T13:53:40.092Z"
   },
   {
    "duration": 0,
    "start_time": "2023-04-19T13:53:40.093Z"
   },
   {
    "duration": 0,
    "start_time": "2023-04-19T13:53:40.094Z"
   },
   {
    "duration": 0,
    "start_time": "2023-04-19T13:53:40.095Z"
   },
   {
    "duration": 0,
    "start_time": "2023-04-19T13:53:40.096Z"
   },
   {
    "duration": 0,
    "start_time": "2023-04-19T13:53:40.097Z"
   },
   {
    "duration": 0,
    "start_time": "2023-04-19T13:53:40.097Z"
   },
   {
    "duration": 0,
    "start_time": "2023-04-19T13:53:40.098Z"
   },
   {
    "duration": 0,
    "start_time": "2023-04-19T13:53:40.099Z"
   },
   {
    "duration": 3,
    "start_time": "2023-04-19T13:53:54.394Z"
   },
   {
    "duration": 29,
    "start_time": "2023-04-19T13:54:07.194Z"
   },
   {
    "duration": 4,
    "start_time": "2023-04-19T13:54:20.306Z"
   },
   {
    "duration": 5,
    "start_time": "2023-04-19T13:54:45.688Z"
   },
   {
    "duration": 4,
    "start_time": "2023-04-19T13:54:57.520Z"
   },
   {
    "duration": 28,
    "start_time": "2023-04-19T13:55:07.649Z"
   },
   {
    "duration": 32,
    "start_time": "2023-04-19T13:55:12.268Z"
   },
   {
    "duration": 5,
    "start_time": "2023-04-19T13:55:17.027Z"
   },
   {
    "duration": 4,
    "start_time": "2023-04-19T13:55:31.247Z"
   },
   {
    "duration": 4,
    "start_time": "2023-04-19T13:56:02.910Z"
   },
   {
    "duration": 1506,
    "start_time": "2023-04-19T13:56:37.183Z"
   },
   {
    "duration": 681,
    "start_time": "2023-04-19T13:56:38.690Z"
   },
   {
    "duration": 18,
    "start_time": "2023-04-19T13:56:39.373Z"
   },
   {
    "duration": 29,
    "start_time": "2023-04-19T13:56:39.393Z"
   },
   {
    "duration": 258,
    "start_time": "2023-04-19T13:56:39.424Z"
   },
   {
    "duration": 127,
    "start_time": "2023-04-19T13:56:39.684Z"
   },
   {
    "duration": 8,
    "start_time": "2023-04-19T13:56:39.813Z"
   },
   {
    "duration": 16,
    "start_time": "2023-04-19T13:56:39.822Z"
   },
   {
    "duration": 136,
    "start_time": "2023-04-19T13:56:39.840Z"
   },
   {
    "duration": 26,
    "start_time": "2023-04-19T13:56:39.978Z"
   },
   {
    "duration": 23,
    "start_time": "2023-04-19T13:56:40.006Z"
   },
   {
    "duration": 29,
    "start_time": "2023-04-19T13:56:40.031Z"
   },
   {
    "duration": 18,
    "start_time": "2023-04-19T13:56:40.062Z"
   },
   {
    "duration": 251,
    "start_time": "2023-04-19T13:56:40.083Z"
   },
   {
    "duration": 25,
    "start_time": "2023-04-19T13:56:40.336Z"
   },
   {
    "duration": 97,
    "start_time": "2023-04-19T13:56:40.363Z"
   },
   {
    "duration": 10,
    "start_time": "2023-04-19T13:56:40.461Z"
   },
   {
    "duration": 6,
    "start_time": "2023-04-19T13:56:40.472Z"
   },
   {
    "duration": 6,
    "start_time": "2023-04-19T13:56:40.479Z"
   },
   {
    "duration": 13,
    "start_time": "2023-04-19T13:56:40.486Z"
   },
   {
    "duration": 15,
    "start_time": "2023-04-19T13:56:40.500Z"
   },
   {
    "duration": 6,
    "start_time": "2023-04-19T13:56:40.517Z"
   },
   {
    "duration": 5,
    "start_time": "2023-04-19T13:56:40.525Z"
   },
   {
    "duration": 28,
    "start_time": "2023-04-19T13:56:40.532Z"
   },
   {
    "duration": 13,
    "start_time": "2023-04-19T13:56:40.562Z"
   },
   {
    "duration": 31,
    "start_time": "2023-04-19T13:56:40.577Z"
   },
   {
    "duration": 8,
    "start_time": "2023-04-19T13:56:40.609Z"
   },
   {
    "duration": 2089,
    "start_time": "2023-04-19T13:56:40.618Z"
   },
   {
    "duration": 2012,
    "start_time": "2023-04-19T13:56:42.709Z"
   },
   {
    "duration": 2170,
    "start_time": "2023-04-19T13:56:44.723Z"
   },
   {
    "duration": 1057,
    "start_time": "2023-04-19T13:56:46.895Z"
   },
   {
    "duration": 736,
    "start_time": "2023-04-19T13:56:47.954Z"
   },
   {
    "duration": 11,
    "start_time": "2023-04-19T13:56:48.692Z"
   },
   {
    "duration": 1389,
    "start_time": "2023-04-19T13:56:48.705Z"
   },
   {
    "duration": 21,
    "start_time": "2023-04-19T13:56:50.096Z"
   },
   {
    "duration": 1297,
    "start_time": "2023-04-19T13:56:50.119Z"
   },
   {
    "duration": 5,
    "start_time": "2023-04-19T13:56:51.418Z"
   },
   {
    "duration": 37,
    "start_time": "2023-04-19T13:56:51.424Z"
   },
   {
    "duration": 47,
    "start_time": "2023-04-19T13:56:51.463Z"
   },
   {
    "duration": 169,
    "start_time": "2023-04-19T13:56:51.512Z"
   },
   {
    "duration": 0,
    "start_time": "2023-04-19T13:56:51.683Z"
   },
   {
    "duration": 0,
    "start_time": "2023-04-19T13:56:51.685Z"
   },
   {
    "duration": 0,
    "start_time": "2023-04-19T13:56:51.686Z"
   },
   {
    "duration": 0,
    "start_time": "2023-04-19T13:56:51.687Z"
   },
   {
    "duration": 0,
    "start_time": "2023-04-19T13:56:51.688Z"
   },
   {
    "duration": 0,
    "start_time": "2023-04-19T13:56:51.689Z"
   },
   {
    "duration": 0,
    "start_time": "2023-04-19T13:56:51.690Z"
   },
   {
    "duration": 0,
    "start_time": "2023-04-19T13:56:51.691Z"
   },
   {
    "duration": 0,
    "start_time": "2023-04-19T13:56:51.693Z"
   },
   {
    "duration": 0,
    "start_time": "2023-04-19T13:56:51.694Z"
   },
   {
    "duration": 0,
    "start_time": "2023-04-19T13:56:51.695Z"
   },
   {
    "duration": 0,
    "start_time": "2023-04-19T13:56:51.696Z"
   },
   {
    "duration": 0,
    "start_time": "2023-04-19T13:56:51.697Z"
   },
   {
    "duration": 0,
    "start_time": "2023-04-19T13:56:51.698Z"
   },
   {
    "duration": 0,
    "start_time": "2023-04-19T13:56:51.699Z"
   },
   {
    "duration": 0,
    "start_time": "2023-04-19T13:56:51.700Z"
   },
   {
    "duration": 0,
    "start_time": "2023-04-19T13:56:51.701Z"
   },
   {
    "duration": 0,
    "start_time": "2023-04-19T13:56:51.702Z"
   },
   {
    "duration": 5,
    "start_time": "2023-04-19T13:57:02.407Z"
   },
   {
    "duration": 1577,
    "start_time": "2023-04-19T13:57:15.068Z"
   },
   {
    "duration": 713,
    "start_time": "2023-04-19T13:57:16.647Z"
   },
   {
    "duration": 20,
    "start_time": "2023-04-19T13:57:17.362Z"
   },
   {
    "duration": 27,
    "start_time": "2023-04-19T13:57:17.383Z"
   },
   {
    "duration": 247,
    "start_time": "2023-04-19T13:57:17.412Z"
   },
   {
    "duration": 131,
    "start_time": "2023-04-19T13:57:17.661Z"
   },
   {
    "duration": 8,
    "start_time": "2023-04-19T13:57:17.794Z"
   },
   {
    "duration": 12,
    "start_time": "2023-04-19T13:57:17.804Z"
   },
   {
    "duration": 152,
    "start_time": "2023-04-19T13:57:17.818Z"
   },
   {
    "duration": 23,
    "start_time": "2023-04-19T13:57:17.971Z"
   },
   {
    "duration": 20,
    "start_time": "2023-04-19T13:57:17.995Z"
   },
   {
    "duration": 6,
    "start_time": "2023-04-19T13:57:18.017Z"
   },
   {
    "duration": 41,
    "start_time": "2023-04-19T13:57:18.024Z"
   },
   {
    "duration": 246,
    "start_time": "2023-04-19T13:57:18.068Z"
   },
   {
    "duration": 20,
    "start_time": "2023-04-19T13:57:18.315Z"
   },
   {
    "duration": 104,
    "start_time": "2023-04-19T13:57:18.336Z"
   },
   {
    "duration": 18,
    "start_time": "2023-04-19T13:57:18.442Z"
   },
   {
    "duration": 6,
    "start_time": "2023-04-19T13:57:18.461Z"
   },
   {
    "duration": 5,
    "start_time": "2023-04-19T13:57:18.468Z"
   },
   {
    "duration": 5,
    "start_time": "2023-04-19T13:57:18.475Z"
   },
   {
    "duration": 26,
    "start_time": "2023-04-19T13:57:18.481Z"
   },
   {
    "duration": 6,
    "start_time": "2023-04-19T13:57:18.508Z"
   },
   {
    "duration": 5,
    "start_time": "2023-04-19T13:57:18.516Z"
   },
   {
    "duration": 8,
    "start_time": "2023-04-19T13:57:18.523Z"
   },
   {
    "duration": 39,
    "start_time": "2023-04-19T13:57:18.532Z"
   },
   {
    "duration": 25,
    "start_time": "2023-04-19T13:57:18.572Z"
   },
   {
    "duration": 9,
    "start_time": "2023-04-19T13:57:18.598Z"
   },
   {
    "duration": 2221,
    "start_time": "2023-04-19T13:57:18.608Z"
   },
   {
    "duration": 2164,
    "start_time": "2023-04-19T13:57:20.831Z"
   },
   {
    "duration": 2141,
    "start_time": "2023-04-19T13:57:22.996Z"
   },
   {
    "duration": 1073,
    "start_time": "2023-04-19T13:57:25.139Z"
   },
   {
    "duration": 1559,
    "start_time": "2023-04-19T13:57:26.214Z"
   },
   {
    "duration": 15,
    "start_time": "2023-04-19T13:57:27.775Z"
   },
   {
    "duration": 1571,
    "start_time": "2023-04-19T13:57:27.792Z"
   },
   {
    "duration": 21,
    "start_time": "2023-04-19T13:57:29.365Z"
   },
   {
    "duration": 1392,
    "start_time": "2023-04-19T13:57:29.388Z"
   },
   {
    "duration": 4,
    "start_time": "2023-04-19T13:57:30.783Z"
   },
   {
    "duration": 58,
    "start_time": "2023-04-19T13:57:30.789Z"
   },
   {
    "duration": 80,
    "start_time": "2023-04-19T13:57:30.849Z"
   },
   {
    "duration": 194,
    "start_time": "2023-04-19T13:57:30.931Z"
   },
   {
    "duration": 0,
    "start_time": "2023-04-19T13:57:31.129Z"
   },
   {
    "duration": 0,
    "start_time": "2023-04-19T13:57:31.130Z"
   },
   {
    "duration": 0,
    "start_time": "2023-04-19T13:57:31.132Z"
   },
   {
    "duration": 0,
    "start_time": "2023-04-19T13:57:31.133Z"
   },
   {
    "duration": 0,
    "start_time": "2023-04-19T13:57:31.134Z"
   },
   {
    "duration": 0,
    "start_time": "2023-04-19T13:57:31.136Z"
   },
   {
    "duration": 0,
    "start_time": "2023-04-19T13:57:31.137Z"
   },
   {
    "duration": 0,
    "start_time": "2023-04-19T13:57:31.139Z"
   },
   {
    "duration": 0,
    "start_time": "2023-04-19T13:57:31.160Z"
   },
   {
    "duration": 0,
    "start_time": "2023-04-19T13:57:31.162Z"
   },
   {
    "duration": 0,
    "start_time": "2023-04-19T13:57:31.163Z"
   },
   {
    "duration": 0,
    "start_time": "2023-04-19T13:57:31.164Z"
   },
   {
    "duration": 0,
    "start_time": "2023-04-19T13:57:31.165Z"
   },
   {
    "duration": 0,
    "start_time": "2023-04-19T13:57:31.166Z"
   },
   {
    "duration": 0,
    "start_time": "2023-04-19T13:57:31.167Z"
   },
   {
    "duration": 0,
    "start_time": "2023-04-19T13:57:31.168Z"
   },
   {
    "duration": 0,
    "start_time": "2023-04-19T13:57:31.169Z"
   },
   {
    "duration": 0,
    "start_time": "2023-04-19T13:57:31.170Z"
   },
   {
    "duration": 1531,
    "start_time": "2023-04-19T13:57:48.646Z"
   },
   {
    "duration": 730,
    "start_time": "2023-04-19T13:57:50.179Z"
   },
   {
    "duration": 18,
    "start_time": "2023-04-19T13:57:50.911Z"
   },
   {
    "duration": 40,
    "start_time": "2023-04-19T13:57:50.931Z"
   },
   {
    "duration": 271,
    "start_time": "2023-04-19T13:57:50.974Z"
   },
   {
    "duration": 124,
    "start_time": "2023-04-19T13:57:51.246Z"
   },
   {
    "duration": 8,
    "start_time": "2023-04-19T13:57:51.372Z"
   },
   {
    "duration": 25,
    "start_time": "2023-04-19T13:57:51.381Z"
   },
   {
    "duration": 130,
    "start_time": "2023-04-19T13:57:51.408Z"
   },
   {
    "duration": 26,
    "start_time": "2023-04-19T13:57:51.539Z"
   },
   {
    "duration": 33,
    "start_time": "2023-04-19T13:57:51.567Z"
   },
   {
    "duration": 7,
    "start_time": "2023-04-19T13:57:51.601Z"
   },
   {
    "duration": 18,
    "start_time": "2023-04-19T13:57:51.609Z"
   },
   {
    "duration": 270,
    "start_time": "2023-04-19T13:57:51.630Z"
   },
   {
    "duration": 21,
    "start_time": "2023-04-19T13:57:51.901Z"
   },
   {
    "duration": 103,
    "start_time": "2023-04-19T13:57:51.924Z"
   },
   {
    "duration": 10,
    "start_time": "2023-04-19T13:57:52.028Z"
   },
   {
    "duration": 20,
    "start_time": "2023-04-19T13:57:52.039Z"
   },
   {
    "duration": 5,
    "start_time": "2023-04-19T13:57:52.061Z"
   },
   {
    "duration": 11,
    "start_time": "2023-04-19T13:57:52.067Z"
   },
   {
    "duration": 49,
    "start_time": "2023-04-19T13:57:52.079Z"
   },
   {
    "duration": 37,
    "start_time": "2023-04-19T13:57:52.130Z"
   },
   {
    "duration": 9,
    "start_time": "2023-04-19T13:57:52.168Z"
   },
   {
    "duration": 15,
    "start_time": "2023-04-19T13:57:52.178Z"
   },
   {
    "duration": 14,
    "start_time": "2023-04-19T13:57:52.195Z"
   },
   {
    "duration": 59,
    "start_time": "2023-04-19T13:57:52.211Z"
   },
   {
    "duration": 7,
    "start_time": "2023-04-19T13:57:52.272Z"
   },
   {
    "duration": 2034,
    "start_time": "2023-04-19T13:57:52.281Z"
   },
   {
    "duration": 2077,
    "start_time": "2023-04-19T13:57:54.317Z"
   },
   {
    "duration": 2082,
    "start_time": "2023-04-19T13:57:56.395Z"
   },
   {
    "duration": 1027,
    "start_time": "2023-04-19T13:57:58.479Z"
   },
   {
    "duration": 775,
    "start_time": "2023-04-19T13:57:59.508Z"
   },
   {
    "duration": 13,
    "start_time": "2023-04-19T13:58:00.285Z"
   },
   {
    "duration": 1449,
    "start_time": "2023-04-19T13:58:00.300Z"
   },
   {
    "duration": 31,
    "start_time": "2023-04-19T13:58:01.751Z"
   },
   {
    "duration": 1328,
    "start_time": "2023-04-19T13:58:01.784Z"
   },
   {
    "duration": 4,
    "start_time": "2023-04-19T13:58:03.113Z"
   },
   {
    "duration": 23,
    "start_time": "2023-04-19T13:58:03.119Z"
   },
   {
    "duration": 45,
    "start_time": "2023-04-19T13:58:03.143Z"
   },
   {
    "duration": 71,
    "start_time": "2023-04-19T13:58:03.190Z"
   },
   {
    "duration": 4,
    "start_time": "2023-04-19T13:58:03.265Z"
   },
   {
    "duration": 10,
    "start_time": "2023-04-19T13:58:03.270Z"
   },
   {
    "duration": 42,
    "start_time": "2023-04-19T13:58:03.281Z"
   },
   {
    "duration": 3,
    "start_time": "2023-04-19T13:58:03.325Z"
   },
   {
    "duration": 24535,
    "start_time": "2023-04-19T13:58:03.329Z"
   },
   {
    "duration": 0,
    "start_time": "2023-04-19T13:58:27.865Z"
   },
   {
    "duration": 0,
    "start_time": "2023-04-19T13:58:27.867Z"
   },
   {
    "duration": 0,
    "start_time": "2023-04-19T13:58:27.868Z"
   },
   {
    "duration": 0,
    "start_time": "2023-04-19T13:58:27.869Z"
   },
   {
    "duration": 0,
    "start_time": "2023-04-19T13:58:27.870Z"
   },
   {
    "duration": 0,
    "start_time": "2023-04-19T13:58:27.871Z"
   },
   {
    "duration": 0,
    "start_time": "2023-04-19T13:58:27.872Z"
   },
   {
    "duration": 0,
    "start_time": "2023-04-19T13:58:27.873Z"
   },
   {
    "duration": 0,
    "start_time": "2023-04-19T13:58:27.874Z"
   },
   {
    "duration": 0,
    "start_time": "2023-04-19T13:58:27.875Z"
   },
   {
    "duration": 0,
    "start_time": "2023-04-19T13:58:27.876Z"
   },
   {
    "duration": 0,
    "start_time": "2023-04-19T13:58:27.877Z"
   },
   {
    "duration": 0,
    "start_time": "2023-04-19T13:58:27.878Z"
   },
   {
    "duration": 1491,
    "start_time": "2023-04-19T14:02:37.978Z"
   },
   {
    "duration": 706,
    "start_time": "2023-04-19T14:02:39.471Z"
   },
   {
    "duration": 18,
    "start_time": "2023-04-19T14:02:40.179Z"
   },
   {
    "duration": 25,
    "start_time": "2023-04-19T14:02:40.200Z"
   },
   {
    "duration": 250,
    "start_time": "2023-04-19T14:02:40.227Z"
   },
   {
    "duration": 132,
    "start_time": "2023-04-19T14:02:40.479Z"
   },
   {
    "duration": 8,
    "start_time": "2023-04-19T14:02:40.613Z"
   },
   {
    "duration": 41,
    "start_time": "2023-04-19T14:02:40.623Z"
   },
   {
    "duration": 234,
    "start_time": "2023-04-19T14:02:40.666Z"
   },
   {
    "duration": 77,
    "start_time": "2023-04-19T14:02:40.902Z"
   },
   {
    "duration": 80,
    "start_time": "2023-04-19T14:02:40.981Z"
   },
   {
    "duration": 7,
    "start_time": "2023-04-19T14:02:41.063Z"
   },
   {
    "duration": 28,
    "start_time": "2023-04-19T14:02:41.072Z"
   },
   {
    "duration": 578,
    "start_time": "2023-04-19T14:02:41.101Z"
   },
   {
    "duration": 21,
    "start_time": "2023-04-19T14:02:41.681Z"
   },
   {
    "duration": 260,
    "start_time": "2023-04-19T14:02:41.704Z"
   },
   {
    "duration": 10,
    "start_time": "2023-04-19T14:02:41.965Z"
   },
   {
    "duration": 5,
    "start_time": "2023-04-19T14:02:41.977Z"
   },
   {
    "duration": 77,
    "start_time": "2023-04-19T14:02:41.984Z"
   },
   {
    "duration": 11,
    "start_time": "2023-04-19T14:02:42.063Z"
   },
   {
    "duration": 15,
    "start_time": "2023-04-19T14:02:42.076Z"
   },
   {
    "duration": 7,
    "start_time": "2023-04-19T14:02:42.093Z"
   },
   {
    "duration": 5,
    "start_time": "2023-04-19T14:02:42.102Z"
   },
   {
    "duration": 5,
    "start_time": "2023-04-19T14:02:42.160Z"
   },
   {
    "duration": 19,
    "start_time": "2023-04-19T14:02:42.167Z"
   },
   {
    "duration": 80,
    "start_time": "2023-04-19T14:02:42.187Z"
   },
   {
    "duration": 7,
    "start_time": "2023-04-19T14:02:42.269Z"
   },
   {
    "duration": 2238,
    "start_time": "2023-04-19T14:02:42.279Z"
   },
   {
    "duration": 2086,
    "start_time": "2023-04-19T14:02:44.519Z"
   },
   {
    "duration": 2799,
    "start_time": "2023-04-19T14:02:46.607Z"
   },
   {
    "duration": 1189,
    "start_time": "2023-04-19T14:02:49.408Z"
   },
   {
    "duration": 849,
    "start_time": "2023-04-19T14:02:50.599Z"
   },
   {
    "duration": 16,
    "start_time": "2023-04-19T14:02:51.450Z"
   },
   {
    "duration": 1927,
    "start_time": "2023-04-19T14:02:51.468Z"
   },
   {
    "duration": 26,
    "start_time": "2023-04-19T14:02:53.398Z"
   },
   {
    "duration": 2906,
    "start_time": "2023-04-19T14:02:53.427Z"
   },
   {
    "duration": 5,
    "start_time": "2023-04-19T14:02:56.335Z"
   },
   {
    "duration": 30,
    "start_time": "2023-04-19T14:02:56.341Z"
   },
   {
    "duration": 35,
    "start_time": "2023-04-19T14:02:56.373Z"
   },
   {
    "duration": 159,
    "start_time": "2023-04-19T14:02:56.410Z"
   },
   {
    "duration": 0,
    "start_time": "2023-04-19T14:02:56.571Z"
   },
   {
    "duration": 0,
    "start_time": "2023-04-19T14:02:56.572Z"
   },
   {
    "duration": 0,
    "start_time": "2023-04-19T14:02:56.573Z"
   },
   {
    "duration": 0,
    "start_time": "2023-04-19T14:02:56.574Z"
   },
   {
    "duration": 0,
    "start_time": "2023-04-19T14:02:56.575Z"
   },
   {
    "duration": 0,
    "start_time": "2023-04-19T14:02:56.576Z"
   },
   {
    "duration": 0,
    "start_time": "2023-04-19T14:02:56.577Z"
   },
   {
    "duration": 0,
    "start_time": "2023-04-19T14:02:56.578Z"
   },
   {
    "duration": 0,
    "start_time": "2023-04-19T14:02:56.579Z"
   },
   {
    "duration": 0,
    "start_time": "2023-04-19T14:02:56.580Z"
   },
   {
    "duration": 0,
    "start_time": "2023-04-19T14:02:56.581Z"
   },
   {
    "duration": 0,
    "start_time": "2023-04-19T14:02:56.582Z"
   },
   {
    "duration": 0,
    "start_time": "2023-04-19T14:02:56.583Z"
   },
   {
    "duration": 0,
    "start_time": "2023-04-19T14:02:56.584Z"
   },
   {
    "duration": 0,
    "start_time": "2023-04-19T14:02:56.585Z"
   },
   {
    "duration": 0,
    "start_time": "2023-04-19T14:02:56.586Z"
   },
   {
    "duration": 0,
    "start_time": "2023-04-19T14:02:56.587Z"
   },
   {
    "duration": 1497,
    "start_time": "2023-04-19T17:52:00.978Z"
   },
   {
    "duration": 1744,
    "start_time": "2023-04-19T17:52:02.477Z"
   },
   {
    "duration": 20,
    "start_time": "2023-04-19T17:52:04.223Z"
   },
   {
    "duration": 41,
    "start_time": "2023-04-19T17:52:04.245Z"
   },
   {
    "duration": 230,
    "start_time": "2023-04-19T17:52:04.288Z"
   },
   {
    "duration": 118,
    "start_time": "2023-04-19T17:52:04.519Z"
   },
   {
    "duration": 9,
    "start_time": "2023-04-19T17:52:04.638Z"
   },
   {
    "duration": 13,
    "start_time": "2023-04-19T17:52:04.648Z"
   },
   {
    "duration": 139,
    "start_time": "2023-04-19T17:52:04.662Z"
   },
   {
    "duration": 22,
    "start_time": "2023-04-19T17:52:04.803Z"
   },
   {
    "duration": 20,
    "start_time": "2023-04-19T17:52:04.826Z"
   },
   {
    "duration": 5,
    "start_time": "2023-04-19T17:52:04.848Z"
   },
   {
    "duration": 41,
    "start_time": "2023-04-19T17:52:04.855Z"
   },
   {
    "duration": 227,
    "start_time": "2023-04-19T17:52:04.899Z"
   },
   {
    "duration": 17,
    "start_time": "2023-04-19T17:52:05.127Z"
   },
   {
    "duration": 287,
    "start_time": "2023-04-19T17:52:05.145Z"
   },
   {
    "duration": 12,
    "start_time": "2023-04-19T17:52:05.434Z"
   },
   {
    "duration": 9,
    "start_time": "2023-04-19T17:52:05.448Z"
   },
   {
    "duration": 7,
    "start_time": "2023-04-19T17:52:05.458Z"
   },
   {
    "duration": 6,
    "start_time": "2023-04-19T17:52:05.467Z"
   },
   {
    "duration": 26,
    "start_time": "2023-04-19T17:52:05.474Z"
   },
   {
    "duration": 20,
    "start_time": "2023-04-19T17:52:05.502Z"
   },
   {
    "duration": 8,
    "start_time": "2023-04-19T17:52:05.523Z"
   },
   {
    "duration": 18,
    "start_time": "2023-04-19T17:52:05.533Z"
   },
   {
    "duration": 23,
    "start_time": "2023-04-19T17:52:05.552Z"
   },
   {
    "duration": 26,
    "start_time": "2023-04-19T17:52:05.577Z"
   },
   {
    "duration": 7,
    "start_time": "2023-04-19T17:52:05.605Z"
   },
   {
    "duration": 1998,
    "start_time": "2023-04-19T17:52:05.613Z"
   },
   {
    "duration": 1947,
    "start_time": "2023-04-19T17:52:07.612Z"
   },
   {
    "duration": 2155,
    "start_time": "2023-04-19T17:52:09.560Z"
   },
   {
    "duration": 966,
    "start_time": "2023-04-19T17:52:11.717Z"
   },
   {
    "duration": 691,
    "start_time": "2023-04-19T17:52:12.685Z"
   },
   {
    "duration": 20,
    "start_time": "2023-04-19T17:52:13.378Z"
   },
   {
    "duration": 1300,
    "start_time": "2023-04-19T17:52:13.400Z"
   },
   {
    "duration": 19,
    "start_time": "2023-04-19T17:52:14.701Z"
   },
   {
    "duration": 1139,
    "start_time": "2023-04-19T17:52:14.722Z"
   },
   {
    "duration": 4,
    "start_time": "2023-04-19T17:52:15.862Z"
   },
   {
    "duration": 31,
    "start_time": "2023-04-19T17:52:15.867Z"
   },
   {
    "duration": 29,
    "start_time": "2023-04-19T17:52:15.900Z"
   },
   {
    "duration": 142,
    "start_time": "2023-04-19T17:52:15.930Z"
   },
   {
    "duration": 0,
    "start_time": "2023-04-19T17:52:16.075Z"
   },
   {
    "duration": 0,
    "start_time": "2023-04-19T17:52:16.076Z"
   },
   {
    "duration": 0,
    "start_time": "2023-04-19T17:52:16.078Z"
   },
   {
    "duration": 0,
    "start_time": "2023-04-19T17:52:16.079Z"
   },
   {
    "duration": 0,
    "start_time": "2023-04-19T17:52:16.080Z"
   },
   {
    "duration": 0,
    "start_time": "2023-04-19T17:52:16.081Z"
   },
   {
    "duration": 0,
    "start_time": "2023-04-19T17:52:16.093Z"
   },
   {
    "duration": 0,
    "start_time": "2023-04-19T17:52:16.094Z"
   },
   {
    "duration": 0,
    "start_time": "2023-04-19T17:52:16.095Z"
   },
   {
    "duration": 0,
    "start_time": "2023-04-19T17:52:16.097Z"
   },
   {
    "duration": 0,
    "start_time": "2023-04-19T17:52:16.098Z"
   },
   {
    "duration": 0,
    "start_time": "2023-04-19T17:52:16.099Z"
   },
   {
    "duration": 0,
    "start_time": "2023-04-19T17:52:16.100Z"
   },
   {
    "duration": 0,
    "start_time": "2023-04-19T17:52:16.101Z"
   },
   {
    "duration": 0,
    "start_time": "2023-04-19T17:52:16.103Z"
   },
   {
    "duration": 0,
    "start_time": "2023-04-19T17:52:16.104Z"
   },
   {
    "duration": 0,
    "start_time": "2023-04-19T17:52:16.105Z"
   },
   {
    "duration": 4,
    "start_time": "2023-04-19T17:54:54.333Z"
   },
   {
    "duration": 611,
    "start_time": "2023-04-19T17:54:54.339Z"
   },
   {
    "duration": 16,
    "start_time": "2023-04-19T17:54:54.952Z"
   },
   {
    "duration": 31,
    "start_time": "2023-04-19T17:54:54.970Z"
   },
   {
    "duration": 204,
    "start_time": "2023-04-19T17:54:55.003Z"
   },
   {
    "duration": 119,
    "start_time": "2023-04-19T17:54:55.208Z"
   },
   {
    "duration": 7,
    "start_time": "2023-04-19T17:54:55.329Z"
   },
   {
    "duration": 11,
    "start_time": "2023-04-19T17:54:55.338Z"
   },
   {
    "duration": 148,
    "start_time": "2023-04-19T17:54:55.350Z"
   },
   {
    "duration": 21,
    "start_time": "2023-04-19T17:54:55.500Z"
   },
   {
    "duration": 30,
    "start_time": "2023-04-19T17:54:55.523Z"
   },
   {
    "duration": 7,
    "start_time": "2023-04-19T17:54:55.555Z"
   },
   {
    "duration": 44,
    "start_time": "2023-04-19T17:54:55.564Z"
   },
   {
    "duration": 221,
    "start_time": "2023-04-19T17:54:55.612Z"
   },
   {
    "duration": 18,
    "start_time": "2023-04-19T17:54:55.834Z"
   },
   {
    "duration": 162,
    "start_time": "2023-04-19T17:54:55.854Z"
   },
   {
    "duration": 9,
    "start_time": "2023-04-19T17:54:56.017Z"
   },
   {
    "duration": 5,
    "start_time": "2023-04-19T17:54:56.027Z"
   },
   {
    "duration": 61,
    "start_time": "2023-04-19T17:54:56.033Z"
   },
   {
    "duration": 3,
    "start_time": "2023-04-19T17:54:56.096Z"
   },
   {
    "duration": 12,
    "start_time": "2023-04-19T17:54:56.101Z"
   },
   {
    "duration": 4,
    "start_time": "2023-04-19T17:54:56.115Z"
   },
   {
    "duration": 4,
    "start_time": "2023-04-19T17:54:56.120Z"
   },
   {
    "duration": 5,
    "start_time": "2023-04-19T17:54:56.125Z"
   },
   {
    "duration": 63,
    "start_time": "2023-04-19T17:54:56.131Z"
   },
   {
    "duration": 22,
    "start_time": "2023-04-19T17:54:56.196Z"
   },
   {
    "duration": 6,
    "start_time": "2023-04-19T17:54:56.219Z"
   },
   {
    "duration": 2873,
    "start_time": "2023-04-19T17:54:56.226Z"
   },
   {
    "duration": 1930,
    "start_time": "2023-04-19T17:54:59.100Z"
   },
   {
    "duration": 1995,
    "start_time": "2023-04-19T17:55:01.032Z"
   },
   {
    "duration": 855,
    "start_time": "2023-04-19T17:55:03.029Z"
   },
   {
    "duration": 650,
    "start_time": "2023-04-19T17:55:03.885Z"
   },
   {
    "duration": 13,
    "start_time": "2023-04-19T17:55:04.537Z"
   },
   {
    "duration": 1371,
    "start_time": "2023-04-19T17:55:04.552Z"
   },
   {
    "duration": 14,
    "start_time": "2023-04-19T17:55:05.925Z"
   },
   {
    "duration": 1224,
    "start_time": "2023-04-19T17:55:05.941Z"
   },
   {
    "duration": 4,
    "start_time": "2023-04-19T17:55:07.167Z"
   },
   {
    "duration": 26,
    "start_time": "2023-04-19T17:55:07.172Z"
   },
   {
    "duration": 35,
    "start_time": "2023-04-19T17:55:07.200Z"
   },
   {
    "duration": 24,
    "start_time": "2023-04-19T17:55:07.236Z"
   },
   {
    "duration": 0,
    "start_time": "2023-04-19T17:55:07.263Z"
   },
   {
    "duration": 0,
    "start_time": "2023-04-19T17:55:07.264Z"
   },
   {
    "duration": 0,
    "start_time": "2023-04-19T17:55:07.264Z"
   },
   {
    "duration": 0,
    "start_time": "2023-04-19T17:55:07.266Z"
   },
   {
    "duration": 0,
    "start_time": "2023-04-19T17:55:07.267Z"
   },
   {
    "duration": 0,
    "start_time": "2023-04-19T17:55:07.294Z"
   },
   {
    "duration": 0,
    "start_time": "2023-04-19T17:55:07.295Z"
   },
   {
    "duration": 0,
    "start_time": "2023-04-19T17:55:07.296Z"
   },
   {
    "duration": 0,
    "start_time": "2023-04-19T17:55:07.297Z"
   },
   {
    "duration": 0,
    "start_time": "2023-04-19T17:55:07.298Z"
   },
   {
    "duration": 0,
    "start_time": "2023-04-19T17:55:07.299Z"
   },
   {
    "duration": 0,
    "start_time": "2023-04-19T17:55:07.300Z"
   },
   {
    "duration": 0,
    "start_time": "2023-04-19T17:55:07.301Z"
   },
   {
    "duration": 0,
    "start_time": "2023-04-19T17:55:07.302Z"
   },
   {
    "duration": 0,
    "start_time": "2023-04-19T17:55:07.303Z"
   },
   {
    "duration": 0,
    "start_time": "2023-04-19T17:55:07.304Z"
   },
   {
    "duration": 0,
    "start_time": "2023-04-19T17:55:07.305Z"
   },
   {
    "duration": 10,
    "start_time": "2023-04-19T18:05:03.443Z"
   },
   {
    "duration": 49,
    "start_time": "2023-04-19T18:05:04.619Z"
   },
   {
    "duration": 4,
    "start_time": "2023-04-19T18:05:43.571Z"
   },
   {
    "duration": 59,
    "start_time": "2023-04-19T18:05:46.135Z"
   },
   {
    "duration": 2,
    "start_time": "2023-04-19T18:05:47.312Z"
   },
   {
    "duration": 1315,
    "start_time": "2023-04-19T18:07:38.769Z"
   },
   {
    "duration": 642,
    "start_time": "2023-04-19T18:07:40.085Z"
   },
   {
    "duration": 66,
    "start_time": "2023-04-19T18:07:40.729Z"
   },
   {
    "duration": 25,
    "start_time": "2023-04-19T18:07:40.797Z"
   },
   {
    "duration": 297,
    "start_time": "2023-04-19T18:07:40.824Z"
   },
   {
    "duration": 118,
    "start_time": "2023-04-19T18:07:41.122Z"
   },
   {
    "duration": 9,
    "start_time": "2023-04-19T18:07:41.243Z"
   },
   {
    "duration": 12,
    "start_time": "2023-04-19T18:07:41.254Z"
   },
   {
    "duration": 161,
    "start_time": "2023-04-19T18:07:41.268Z"
   },
   {
    "duration": 27,
    "start_time": "2023-04-19T18:07:41.432Z"
   },
   {
    "duration": 35,
    "start_time": "2023-04-19T18:07:41.460Z"
   },
   {
    "duration": 5,
    "start_time": "2023-04-19T18:07:41.497Z"
   },
   {
    "duration": 16,
    "start_time": "2023-04-19T18:07:41.504Z"
   },
   {
    "duration": 245,
    "start_time": "2023-04-19T18:07:41.523Z"
   },
   {
    "duration": 26,
    "start_time": "2023-04-19T18:07:41.770Z"
   },
   {
    "duration": 84,
    "start_time": "2023-04-19T18:07:41.798Z"
   },
   {
    "duration": 8,
    "start_time": "2023-04-19T18:07:41.895Z"
   },
   {
    "duration": 5,
    "start_time": "2023-04-19T18:07:41.905Z"
   },
   {
    "duration": 5,
    "start_time": "2023-04-19T18:07:41.911Z"
   },
   {
    "duration": 5,
    "start_time": "2023-04-19T18:07:41.917Z"
   },
   {
    "duration": 15,
    "start_time": "2023-04-19T18:07:41.923Z"
   },
   {
    "duration": 5,
    "start_time": "2023-04-19T18:07:41.939Z"
   },
   {
    "duration": 5,
    "start_time": "2023-04-19T18:07:41.946Z"
   },
   {
    "duration": 11,
    "start_time": "2023-04-19T18:07:41.952Z"
   },
   {
    "duration": 11,
    "start_time": "2023-04-19T18:07:41.995Z"
   },
   {
    "duration": 22,
    "start_time": "2023-04-19T18:07:42.008Z"
   },
   {
    "duration": 6,
    "start_time": "2023-04-19T18:07:42.032Z"
   },
   {
    "duration": 2049,
    "start_time": "2023-04-19T18:07:42.039Z"
   },
   {
    "duration": 2193,
    "start_time": "2023-04-19T18:07:44.089Z"
   },
   {
    "duration": 1916,
    "start_time": "2023-04-19T18:07:46.283Z"
   },
   {
    "duration": 929,
    "start_time": "2023-04-19T18:07:48.201Z"
   },
   {
    "duration": 694,
    "start_time": "2023-04-19T18:07:49.132Z"
   },
   {
    "duration": 11,
    "start_time": "2023-04-19T18:07:49.828Z"
   },
   {
    "duration": 1230,
    "start_time": "2023-04-19T18:07:49.841Z"
   },
   {
    "duration": 25,
    "start_time": "2023-04-19T18:07:51.073Z"
   },
   {
    "duration": 1216,
    "start_time": "2023-04-19T18:07:51.100Z"
   },
   {
    "duration": 4,
    "start_time": "2023-04-19T18:07:52.318Z"
   },
   {
    "duration": 27,
    "start_time": "2023-04-19T18:07:52.323Z"
   },
   {
    "duration": 9,
    "start_time": "2023-04-19T18:07:52.352Z"
   },
   {
    "duration": 63,
    "start_time": "2023-04-19T18:07:52.363Z"
   },
   {
    "duration": 4,
    "start_time": "2023-04-19T18:07:52.431Z"
   },
   {
    "duration": 71,
    "start_time": "2023-04-19T18:07:52.436Z"
   },
   {
    "duration": 3,
    "start_time": "2023-04-19T18:07:52.508Z"
   },
   {
    "duration": 124139,
    "start_time": "2023-04-19T18:07:52.512Z"
   },
   {
    "duration": 4,
    "start_time": "2023-04-19T18:09:56.653Z"
   },
   {
    "duration": 2321,
    "start_time": "2023-04-19T18:09:56.659Z"
   },
   {
    "duration": 14,
    "start_time": "2023-04-19T18:09:58.981Z"
   },
   {
    "duration": 269862,
    "start_time": "2023-04-19T18:09:58.997Z"
   },
   {
    "duration": 8,
    "start_time": "2023-04-19T18:14:28.861Z"
   },
   {
    "duration": 5,
    "start_time": "2023-04-19T18:14:28.871Z"
   },
   {
    "duration": 5224,
    "start_time": "2023-04-19T18:14:28.895Z"
   },
   {
    "duration": 6,
    "start_time": "2023-04-19T18:14:34.121Z"
   },
   {
    "duration": 43,
    "start_time": "2023-04-19T18:14:34.129Z"
   },
   {
    "duration": 43,
    "start_time": "2023-04-19T18:14:34.174Z"
   },
   {
    "duration": 4,
    "start_time": "2023-04-19T18:14:34.218Z"
   },
   {
    "duration": 58,
    "start_time": "2023-04-19T18:14:34.224Z"
   },
   {
    "duration": 796,
    "start_time": "2023-04-19T18:14:34.284Z"
   },
   {
    "duration": 1434,
    "start_time": "2023-04-19T18:37:03.501Z"
   },
   {
    "duration": 1220,
    "start_time": "2023-04-19T18:37:04.937Z"
   },
   {
    "duration": 49,
    "start_time": "2023-04-19T18:37:06.159Z"
   },
   {
    "duration": 23,
    "start_time": "2023-04-19T18:37:06.210Z"
   },
   {
    "duration": 365,
    "start_time": "2023-04-19T18:37:06.235Z"
   },
   {
    "duration": 204,
    "start_time": "2023-04-19T18:37:06.601Z"
   },
   {
    "duration": 7,
    "start_time": "2023-04-19T18:37:06.807Z"
   },
   {
    "duration": 10,
    "start_time": "2023-04-19T18:37:06.816Z"
   },
   {
    "duration": 271,
    "start_time": "2023-04-19T18:37:06.827Z"
   },
   {
    "duration": 24,
    "start_time": "2023-04-19T18:37:07.100Z"
   },
   {
    "duration": 78,
    "start_time": "2023-04-19T18:37:07.126Z"
   },
   {
    "duration": 7,
    "start_time": "2023-04-19T18:37:07.206Z"
   },
   {
    "duration": 20,
    "start_time": "2023-04-19T18:37:07.215Z"
   },
   {
    "duration": 597,
    "start_time": "2023-04-19T18:37:07.239Z"
   },
   {
    "duration": 72,
    "start_time": "2023-04-19T18:37:07.837Z"
   },
   {
    "duration": 192,
    "start_time": "2023-04-19T18:37:07.911Z"
   },
   {
    "duration": 9,
    "start_time": "2023-04-19T18:37:08.105Z"
   },
   {
    "duration": 12,
    "start_time": "2023-04-19T18:37:08.116Z"
   },
   {
    "duration": 5,
    "start_time": "2023-04-19T18:37:08.130Z"
   },
   {
    "duration": 58,
    "start_time": "2023-04-19T18:37:08.137Z"
   },
   {
    "duration": 11,
    "start_time": "2023-04-19T18:37:08.197Z"
   },
   {
    "duration": 29,
    "start_time": "2023-04-19T18:37:08.209Z"
   },
   {
    "duration": 56,
    "start_time": "2023-04-19T18:37:08.239Z"
   },
   {
    "duration": 9,
    "start_time": "2023-04-19T18:37:08.297Z"
   },
   {
    "duration": 19,
    "start_time": "2023-04-19T18:37:08.307Z"
   },
   {
    "duration": 31,
    "start_time": "2023-04-19T18:37:08.327Z"
   },
   {
    "duration": 5,
    "start_time": "2023-04-19T18:37:08.359Z"
   },
   {
    "duration": 1970,
    "start_time": "2023-04-19T18:37:08.366Z"
   },
   {
    "duration": 1976,
    "start_time": "2023-04-19T18:37:10.338Z"
   },
   {
    "duration": 1950,
    "start_time": "2023-04-19T18:37:12.316Z"
   },
   {
    "duration": 988,
    "start_time": "2023-04-19T18:37:14.268Z"
   },
   {
    "duration": 709,
    "start_time": "2023-04-19T18:37:15.257Z"
   },
   {
    "duration": 13,
    "start_time": "2023-04-19T18:37:15.967Z"
   },
   {
    "duration": 1287,
    "start_time": "2023-04-19T18:37:15.981Z"
   },
   {
    "duration": 27,
    "start_time": "2023-04-19T18:37:17.269Z"
   },
   {
    "duration": 1155,
    "start_time": "2023-04-19T18:37:17.297Z"
   },
   {
    "duration": 3,
    "start_time": "2023-04-19T18:37:18.454Z"
   },
   {
    "duration": 26,
    "start_time": "2023-04-19T18:37:18.458Z"
   },
   {
    "duration": 8,
    "start_time": "2023-04-19T18:37:18.494Z"
   },
   {
    "duration": 57,
    "start_time": "2023-04-19T18:37:18.504Z"
   },
   {
    "duration": 5,
    "start_time": "2023-04-19T18:37:18.564Z"
   },
   {
    "duration": 9,
    "start_time": "2023-04-19T18:37:18.570Z"
   },
   {
    "duration": 49,
    "start_time": "2023-04-19T18:37:18.580Z"
   },
   {
    "duration": 2,
    "start_time": "2023-04-19T18:37:18.631Z"
   },
   {
    "duration": 122671,
    "start_time": "2023-04-19T18:37:18.635Z"
   },
   {
    "duration": 5,
    "start_time": "2023-04-19T18:39:21.308Z"
   },
   {
    "duration": 2193,
    "start_time": "2023-04-19T18:39:21.315Z"
   },
   {
    "duration": 4,
    "start_time": "2023-04-19T18:39:23.510Z"
   },
   {
    "duration": 263614,
    "start_time": "2023-04-19T18:39:23.516Z"
   },
   {
    "duration": 8,
    "start_time": "2023-04-19T18:43:47.131Z"
   },
   {
    "duration": 6,
    "start_time": "2023-04-19T18:43:47.141Z"
   },
   {
    "duration": 1294,
    "start_time": "2023-04-19T18:48:47.695Z"
   },
   {
    "duration": 598,
    "start_time": "2023-04-19T18:48:48.991Z"
   },
   {
    "duration": 18,
    "start_time": "2023-04-19T18:48:49.593Z"
   },
   {
    "duration": 25,
    "start_time": "2023-04-19T18:48:49.613Z"
   },
   {
    "duration": 248,
    "start_time": "2023-04-19T18:48:49.640Z"
   },
   {
    "duration": 119,
    "start_time": "2023-04-19T18:48:49.894Z"
   },
   {
    "duration": 8,
    "start_time": "2023-04-19T18:48:50.014Z"
   },
   {
    "duration": 15,
    "start_time": "2023-04-19T18:48:50.023Z"
   },
   {
    "duration": 135,
    "start_time": "2023-04-19T18:48:50.039Z"
   },
   {
    "duration": 1470,
    "start_time": "2023-04-19T18:50:00.952Z"
   },
   {
    "duration": 620,
    "start_time": "2023-04-19T18:50:02.424Z"
   },
   {
    "duration": 17,
    "start_time": "2023-04-19T18:50:03.046Z"
   },
   {
    "duration": 35,
    "start_time": "2023-04-19T18:50:03.065Z"
   },
   {
    "duration": 244,
    "start_time": "2023-04-19T18:50:03.102Z"
   },
   {
    "duration": 125,
    "start_time": "2023-04-19T18:50:03.348Z"
   },
   {
    "duration": 9,
    "start_time": "2023-04-19T18:50:03.474Z"
   },
   {
    "duration": 22,
    "start_time": "2023-04-19T18:50:03.484Z"
   },
   {
    "duration": 139,
    "start_time": "2023-04-19T18:50:03.508Z"
   },
   {
    "duration": 23,
    "start_time": "2023-04-19T18:50:03.649Z"
   },
   {
    "duration": 32,
    "start_time": "2023-04-19T18:50:03.673Z"
   },
   {
    "duration": 6,
    "start_time": "2023-04-19T18:50:03.707Z"
   },
   {
    "duration": 19,
    "start_time": "2023-04-19T18:50:03.714Z"
   },
   {
    "duration": 232,
    "start_time": "2023-04-19T18:50:03.736Z"
   },
   {
    "duration": 26,
    "start_time": "2023-04-19T18:50:03.970Z"
   },
   {
    "duration": 87,
    "start_time": "2023-04-19T18:50:03.997Z"
   },
   {
    "duration": 12,
    "start_time": "2023-04-19T18:50:04.092Z"
   },
   {
    "duration": 9,
    "start_time": "2023-04-19T18:50:04.106Z"
   },
   {
    "duration": 17,
    "start_time": "2023-04-19T18:50:04.116Z"
   },
   {
    "duration": 5,
    "start_time": "2023-04-19T18:50:04.135Z"
   },
   {
    "duration": 15,
    "start_time": "2023-04-19T18:50:04.143Z"
   },
   {
    "duration": 7,
    "start_time": "2023-04-19T18:50:04.160Z"
   },
   {
    "duration": 28,
    "start_time": "2023-04-19T18:50:04.168Z"
   },
   {
    "duration": 4,
    "start_time": "2023-04-19T18:50:04.199Z"
   },
   {
    "duration": 17,
    "start_time": "2023-04-19T18:50:04.206Z"
   },
   {
    "duration": 30,
    "start_time": "2023-04-19T18:50:04.226Z"
   },
   {
    "duration": 37,
    "start_time": "2023-04-19T18:50:04.258Z"
   },
   {
    "duration": 1902,
    "start_time": "2023-04-19T18:50:04.298Z"
   },
   {
    "duration": 1900,
    "start_time": "2023-04-19T18:50:06.202Z"
   },
   {
    "duration": 1993,
    "start_time": "2023-04-19T18:50:08.103Z"
   },
   {
    "duration": 1117,
    "start_time": "2023-04-19T18:50:10.098Z"
   },
   {
    "duration": 779,
    "start_time": "2023-04-19T18:50:11.217Z"
   },
   {
    "duration": 13,
    "start_time": "2023-04-19T18:50:11.997Z"
   },
   {
    "duration": 1328,
    "start_time": "2023-04-19T18:50:12.011Z"
   },
   {
    "duration": 19,
    "start_time": "2023-04-19T18:50:13.341Z"
   },
   {
    "duration": 1295,
    "start_time": "2023-04-19T18:50:13.362Z"
   },
   {
    "duration": 4,
    "start_time": "2023-04-19T18:50:14.659Z"
   },
   {
    "duration": 29,
    "start_time": "2023-04-19T18:50:14.665Z"
   },
   {
    "duration": 9,
    "start_time": "2023-04-19T18:50:14.696Z"
   },
   {
    "duration": 58,
    "start_time": "2023-04-19T18:50:14.707Z"
   },
   {
    "duration": 5,
    "start_time": "2023-04-19T18:50:14.768Z"
   },
   {
    "duration": 22,
    "start_time": "2023-04-19T18:50:14.774Z"
   },
   {
    "duration": 52,
    "start_time": "2023-04-19T18:50:14.798Z"
   },
   {
    "duration": 9,
    "start_time": "2023-04-19T18:50:14.851Z"
   },
   {
    "duration": 13,
    "start_time": "2023-04-19T18:50:14.862Z"
   },
   {
    "duration": 18,
    "start_time": "2023-04-19T18:50:14.877Z"
   },
   {
    "duration": 125129,
    "start_time": "2023-04-19T18:50:14.897Z"
   },
   {
    "duration": 9,
    "start_time": "2023-04-19T18:52:20.027Z"
   },
   {
    "duration": 13,
    "start_time": "2023-04-19T18:52:20.037Z"
   },
   {
    "duration": 2195,
    "start_time": "2023-04-19T18:52:20.051Z"
   },
   {
    "duration": 9,
    "start_time": "2023-04-19T18:52:22.248Z"
   },
   {
    "duration": 9,
    "start_time": "2023-04-19T18:52:22.259Z"
   },
   {
    "duration": 340268,
    "start_time": "2023-04-19T18:52:22.270Z"
   },
   {
    "duration": 8,
    "start_time": "2023-04-19T18:58:02.540Z"
   },
   {
    "duration": 20,
    "start_time": "2023-04-19T18:58:02.550Z"
   },
   {
    "duration": 5224,
    "start_time": "2023-04-19T18:58:02.571Z"
   },
   {
    "duration": 6,
    "start_time": "2023-04-19T18:58:07.797Z"
   },
   {
    "duration": 29,
    "start_time": "2023-04-19T18:58:07.805Z"
   },
   {
    "duration": 195,
    "start_time": "2023-04-19T18:58:07.835Z"
   },
   {
    "duration": 0,
    "start_time": "2023-04-19T18:58:08.032Z"
   },
   {
    "duration": 0,
    "start_time": "2023-04-19T18:58:08.033Z"
   },
   {
    "duration": 0,
    "start_time": "2023-04-19T18:58:08.034Z"
   },
   {
    "duration": 1265,
    "start_time": "2023-04-19T19:01:47.156Z"
   },
   {
    "duration": 656,
    "start_time": "2023-04-19T19:01:48.422Z"
   },
   {
    "duration": 23,
    "start_time": "2023-04-19T19:01:49.080Z"
   },
   {
    "duration": 24,
    "start_time": "2023-04-19T19:01:49.105Z"
   },
   {
    "duration": 226,
    "start_time": "2023-04-19T19:01:49.131Z"
   },
   {
    "duration": 108,
    "start_time": "2023-04-19T19:01:49.359Z"
   },
   {
    "duration": 8,
    "start_time": "2023-04-19T19:01:49.469Z"
   },
   {
    "duration": 24,
    "start_time": "2023-04-19T19:01:49.478Z"
   },
   {
    "duration": 123,
    "start_time": "2023-04-19T19:01:49.504Z"
   },
   {
    "duration": 19,
    "start_time": "2023-04-19T19:01:49.628Z"
   },
   {
    "duration": 28,
    "start_time": "2023-04-19T19:01:49.648Z"
   },
   {
    "duration": 17,
    "start_time": "2023-04-19T19:01:49.677Z"
   },
   {
    "duration": 19,
    "start_time": "2023-04-19T19:01:49.698Z"
   },
   {
    "duration": 227,
    "start_time": "2023-04-19T19:01:49.720Z"
   },
   {
    "duration": 17,
    "start_time": "2023-04-19T19:01:49.948Z"
   },
   {
    "duration": 96,
    "start_time": "2023-04-19T19:01:49.967Z"
   },
   {
    "duration": 8,
    "start_time": "2023-04-19T19:01:50.065Z"
   },
   {
    "duration": 5,
    "start_time": "2023-04-19T19:01:50.075Z"
   },
   {
    "duration": 16,
    "start_time": "2023-04-19T19:01:50.081Z"
   },
   {
    "duration": 5,
    "start_time": "2023-04-19T19:01:50.099Z"
   },
   {
    "duration": 11,
    "start_time": "2023-04-19T19:01:50.105Z"
   },
   {
    "duration": 9,
    "start_time": "2023-04-19T19:01:50.118Z"
   },
   {
    "duration": 5,
    "start_time": "2023-04-19T19:01:50.129Z"
   },
   {
    "duration": 4,
    "start_time": "2023-04-19T19:01:50.136Z"
   },
   {
    "duration": 13,
    "start_time": "2023-04-19T19:01:50.141Z"
   },
   {
    "duration": 57,
    "start_time": "2023-04-19T19:01:50.156Z"
   },
   {
    "duration": 6,
    "start_time": "2023-04-19T19:01:50.215Z"
   },
   {
    "duration": 1976,
    "start_time": "2023-04-19T19:01:50.222Z"
   },
   {
    "duration": 2638,
    "start_time": "2023-04-19T19:01:52.200Z"
   },
   {
    "duration": 2636,
    "start_time": "2023-04-19T19:01:54.839Z"
   },
   {
    "duration": 979,
    "start_time": "2023-04-19T19:01:57.477Z"
   },
   {
    "duration": 709,
    "start_time": "2023-04-19T19:01:58.457Z"
   },
   {
    "duration": 11,
    "start_time": "2023-04-19T19:01:59.168Z"
   },
   {
    "duration": 1281,
    "start_time": "2023-04-19T19:01:59.181Z"
   },
   {
    "duration": 20,
    "start_time": "2023-04-19T19:02:00.464Z"
   },
   {
    "duration": 1384,
    "start_time": "2023-04-19T19:02:00.496Z"
   },
   {
    "duration": 13,
    "start_time": "2023-04-19T19:02:01.881Z"
   },
   {
    "duration": 67,
    "start_time": "2023-04-19T19:02:01.896Z"
   },
   {
    "duration": 22,
    "start_time": "2023-04-19T19:02:01.964Z"
   },
   {
    "duration": 80,
    "start_time": "2023-04-19T19:02:01.988Z"
   },
   {
    "duration": 14,
    "start_time": "2023-04-19T19:02:02.071Z"
   },
   {
    "duration": 40,
    "start_time": "2023-04-19T19:02:02.086Z"
   },
   {
    "duration": 159,
    "start_time": "2023-04-19T19:02:02.127Z"
   },
   {
    "duration": 0,
    "start_time": "2023-04-19T19:02:02.294Z"
   },
   {
    "duration": 0,
    "start_time": "2023-04-19T19:02:02.295Z"
   },
   {
    "duration": 0,
    "start_time": "2023-04-19T19:02:02.296Z"
   },
   {
    "duration": 0,
    "start_time": "2023-04-19T19:02:02.297Z"
   },
   {
    "duration": 0,
    "start_time": "2023-04-19T19:02:02.298Z"
   },
   {
    "duration": 0,
    "start_time": "2023-04-19T19:02:02.299Z"
   },
   {
    "duration": 0,
    "start_time": "2023-04-19T19:02:02.300Z"
   },
   {
    "duration": 0,
    "start_time": "2023-04-19T19:02:02.301Z"
   },
   {
    "duration": 1,
    "start_time": "2023-04-19T19:02:02.302Z"
   },
   {
    "duration": 0,
    "start_time": "2023-04-19T19:02:02.304Z"
   },
   {
    "duration": 0,
    "start_time": "2023-04-19T19:02:02.304Z"
   },
   {
    "duration": 0,
    "start_time": "2023-04-19T19:02:02.306Z"
   },
   {
    "duration": 0,
    "start_time": "2023-04-19T19:02:02.306Z"
   },
   {
    "duration": 0,
    "start_time": "2023-04-19T19:02:02.308Z"
   },
   {
    "duration": 0,
    "start_time": "2023-04-19T19:02:02.309Z"
   },
   {
    "duration": 0,
    "start_time": "2023-04-19T19:02:02.310Z"
   },
   {
    "duration": 0,
    "start_time": "2023-04-19T19:02:02.312Z"
   },
   {
    "duration": 0,
    "start_time": "2023-04-19T19:02:02.312Z"
   },
   {
    "duration": 0,
    "start_time": "2023-04-19T19:02:02.313Z"
   },
   {
    "duration": 1335,
    "start_time": "2023-04-19T19:05:18.593Z"
   },
   {
    "duration": 662,
    "start_time": "2023-04-19T19:05:19.930Z"
   },
   {
    "duration": 21,
    "start_time": "2023-04-19T19:05:20.594Z"
   },
   {
    "duration": 23,
    "start_time": "2023-04-19T19:05:20.617Z"
   },
   {
    "duration": 232,
    "start_time": "2023-04-19T19:05:20.642Z"
   },
   {
    "duration": 118,
    "start_time": "2023-04-19T19:05:20.876Z"
   },
   {
    "duration": 8,
    "start_time": "2023-04-19T19:05:20.996Z"
   },
   {
    "duration": 14,
    "start_time": "2023-04-19T19:05:21.006Z"
   },
   {
    "duration": 133,
    "start_time": "2023-04-19T19:05:21.022Z"
   },
   {
    "duration": 19,
    "start_time": "2023-04-19T19:05:21.157Z"
   },
   {
    "duration": 36,
    "start_time": "2023-04-19T19:05:21.178Z"
   },
   {
    "duration": 6,
    "start_time": "2023-04-19T19:05:21.215Z"
   },
   {
    "duration": 36,
    "start_time": "2023-04-19T19:05:21.222Z"
   },
   {
    "duration": 248,
    "start_time": "2023-04-19T19:05:21.260Z"
   },
   {
    "duration": 22,
    "start_time": "2023-04-19T19:05:21.510Z"
   },
   {
    "duration": 123,
    "start_time": "2023-04-19T19:05:21.533Z"
   },
   {
    "duration": 10,
    "start_time": "2023-04-19T19:05:21.657Z"
   },
   {
    "duration": 38,
    "start_time": "2023-04-19T19:05:21.669Z"
   },
   {
    "duration": 9,
    "start_time": "2023-04-19T19:05:21.709Z"
   },
   {
    "duration": 12,
    "start_time": "2023-04-19T19:05:21.719Z"
   },
   {
    "duration": 37,
    "start_time": "2023-04-19T19:05:21.732Z"
   },
   {
    "duration": 28,
    "start_time": "2023-04-19T19:05:21.770Z"
   },
   {
    "duration": 5,
    "start_time": "2023-04-19T19:05:21.802Z"
   },
   {
    "duration": 12,
    "start_time": "2023-04-19T19:05:21.809Z"
   },
   {
    "duration": 25,
    "start_time": "2023-04-19T19:05:21.822Z"
   },
   {
    "duration": 23,
    "start_time": "2023-04-19T19:05:21.848Z"
   },
   {
    "duration": 5,
    "start_time": "2023-04-19T19:05:21.873Z"
   },
   {
    "duration": 1980,
    "start_time": "2023-04-19T19:05:21.881Z"
   },
   {
    "duration": 2059,
    "start_time": "2023-04-19T19:05:23.863Z"
   },
   {
    "duration": 2154,
    "start_time": "2023-04-19T19:05:25.924Z"
   },
   {
    "duration": 964,
    "start_time": "2023-04-19T19:05:28.080Z"
   },
   {
    "duration": 709,
    "start_time": "2023-04-19T19:05:29.045Z"
   },
   {
    "duration": 11,
    "start_time": "2023-04-19T19:05:29.756Z"
   },
   {
    "duration": 1348,
    "start_time": "2023-04-19T19:05:29.769Z"
   },
   {
    "duration": 18,
    "start_time": "2023-04-19T19:05:31.119Z"
   },
   {
    "duration": 1384,
    "start_time": "2023-04-19T19:05:31.139Z"
   },
   {
    "duration": 3,
    "start_time": "2023-04-19T19:05:32.525Z"
   },
   {
    "duration": 24,
    "start_time": "2023-04-19T19:05:32.529Z"
   },
   {
    "duration": 8,
    "start_time": "2023-04-19T19:05:32.555Z"
   },
   {
    "duration": 71,
    "start_time": "2023-04-19T19:05:32.565Z"
   },
   {
    "duration": 5,
    "start_time": "2023-04-19T19:05:32.637Z"
   },
   {
    "duration": 11,
    "start_time": "2023-04-19T19:05:32.643Z"
   },
   {
    "duration": 702,
    "start_time": "2023-04-19T19:05:32.655Z"
   },
   {
    "duration": 0,
    "start_time": "2023-04-19T19:05:33.358Z"
   },
   {
    "duration": 0,
    "start_time": "2023-04-19T19:05:33.359Z"
   },
   {
    "duration": 0,
    "start_time": "2023-04-19T19:05:33.360Z"
   },
   {
    "duration": 0,
    "start_time": "2023-04-19T19:05:33.361Z"
   },
   {
    "duration": 0,
    "start_time": "2023-04-19T19:05:33.362Z"
   },
   {
    "duration": 0,
    "start_time": "2023-04-19T19:05:33.363Z"
   },
   {
    "duration": 0,
    "start_time": "2023-04-19T19:05:33.364Z"
   },
   {
    "duration": 0,
    "start_time": "2023-04-19T19:05:33.365Z"
   },
   {
    "duration": 0,
    "start_time": "2023-04-19T19:05:33.366Z"
   },
   {
    "duration": 0,
    "start_time": "2023-04-19T19:05:33.367Z"
   },
   {
    "duration": 0,
    "start_time": "2023-04-19T19:05:33.368Z"
   },
   {
    "duration": 0,
    "start_time": "2023-04-19T19:05:33.369Z"
   },
   {
    "duration": 0,
    "start_time": "2023-04-19T19:05:33.370Z"
   },
   {
    "duration": 0,
    "start_time": "2023-04-19T19:05:33.371Z"
   },
   {
    "duration": 0,
    "start_time": "2023-04-19T19:05:33.372Z"
   },
   {
    "duration": 0,
    "start_time": "2023-04-19T19:05:33.372Z"
   },
   {
    "duration": 0,
    "start_time": "2023-04-19T19:05:33.373Z"
   },
   {
    "duration": 0,
    "start_time": "2023-04-19T19:05:33.374Z"
   },
   {
    "duration": 0,
    "start_time": "2023-04-19T19:05:33.375Z"
   },
   {
    "duration": 41,
    "start_time": "2023-04-19T19:07:24.685Z"
   },
   {
    "duration": 11,
    "start_time": "2023-04-19T19:07:59.385Z"
   },
   {
    "duration": 34,
    "start_time": "2023-04-19T19:09:55.278Z"
   },
   {
    "duration": 8,
    "start_time": "2023-04-19T19:09:59.168Z"
   },
   {
    "duration": 1312,
    "start_time": "2023-04-19T19:10:17.799Z"
   },
   {
    "duration": 667,
    "start_time": "2023-04-19T19:10:19.113Z"
   },
   {
    "duration": 30,
    "start_time": "2023-04-19T19:10:19.781Z"
   },
   {
    "duration": 23,
    "start_time": "2023-04-19T19:10:19.813Z"
   },
   {
    "duration": 1313,
    "start_time": "2023-04-19T19:11:46.910Z"
   },
   {
    "duration": 682,
    "start_time": "2023-04-19T19:11:48.225Z"
   },
   {
    "duration": 18,
    "start_time": "2023-04-19T19:11:48.909Z"
   },
   {
    "duration": 24,
    "start_time": "2023-04-19T19:11:48.929Z"
   },
   {
    "duration": 230,
    "start_time": "2023-04-19T19:11:48.955Z"
   },
   {
    "duration": 123,
    "start_time": "2023-04-19T19:11:49.186Z"
   },
   {
    "duration": 8,
    "start_time": "2023-04-19T19:11:49.310Z"
   },
   {
    "duration": 11,
    "start_time": "2023-04-19T19:11:49.320Z"
   },
   {
    "duration": 147,
    "start_time": "2023-04-19T19:11:49.333Z"
   },
   {
    "duration": 31,
    "start_time": "2023-04-19T19:11:49.481Z"
   },
   {
    "duration": 19,
    "start_time": "2023-04-19T19:11:49.513Z"
   },
   {
    "duration": 6,
    "start_time": "2023-04-19T19:11:49.533Z"
   },
   {
    "duration": 15,
    "start_time": "2023-04-19T19:11:49.541Z"
   },
   {
    "duration": 256,
    "start_time": "2023-04-19T19:11:49.559Z"
   },
   {
    "duration": 17,
    "start_time": "2023-04-19T19:11:49.816Z"
   },
   {
    "duration": 97,
    "start_time": "2023-04-19T19:11:49.835Z"
   },
   {
    "duration": 8,
    "start_time": "2023-04-19T19:11:49.934Z"
   },
   {
    "duration": 5,
    "start_time": "2023-04-19T19:11:49.944Z"
   },
   {
    "duration": 10,
    "start_time": "2023-04-19T19:11:49.951Z"
   },
   {
    "duration": 4,
    "start_time": "2023-04-19T19:11:49.962Z"
   },
   {
    "duration": 35,
    "start_time": "2023-04-19T19:11:49.967Z"
   },
   {
    "duration": 11,
    "start_time": "2023-04-19T19:11:50.004Z"
   },
   {
    "duration": 21,
    "start_time": "2023-04-19T19:11:50.016Z"
   },
   {
    "duration": 20,
    "start_time": "2023-04-19T19:11:50.038Z"
   },
   {
    "duration": 18,
    "start_time": "2023-04-19T19:11:50.059Z"
   },
   {
    "duration": 29,
    "start_time": "2023-04-19T19:11:50.079Z"
   },
   {
    "duration": 5,
    "start_time": "2023-04-19T19:11:50.110Z"
   },
   {
    "duration": 1918,
    "start_time": "2023-04-19T19:11:50.117Z"
   },
   {
    "duration": 1853,
    "start_time": "2023-04-19T19:11:52.037Z"
   },
   {
    "duration": 1960,
    "start_time": "2023-04-19T19:11:53.895Z"
   },
   {
    "duration": 995,
    "start_time": "2023-04-19T19:11:55.857Z"
   },
   {
    "duration": 735,
    "start_time": "2023-04-19T19:11:56.854Z"
   },
   {
    "duration": 22,
    "start_time": "2023-04-19T19:11:57.594Z"
   },
   {
    "duration": 1391,
    "start_time": "2023-04-19T19:11:57.619Z"
   },
   {
    "duration": 19,
    "start_time": "2023-04-19T19:11:59.012Z"
   },
   {
    "duration": 1193,
    "start_time": "2023-04-19T19:11:59.033Z"
   },
   {
    "duration": 3,
    "start_time": "2023-04-19T19:12:00.228Z"
   },
   {
    "duration": 43,
    "start_time": "2023-04-19T19:12:00.233Z"
   },
   {
    "duration": 36,
    "start_time": "2023-04-19T19:12:00.278Z"
   },
   {
    "duration": 70,
    "start_time": "2023-04-19T19:12:00.315Z"
   },
   {
    "duration": 6,
    "start_time": "2023-04-19T19:12:00.390Z"
   },
   {
    "duration": 6,
    "start_time": "2023-04-19T19:12:00.404Z"
   },
   {
    "duration": 726,
    "start_time": "2023-04-19T19:12:00.411Z"
   },
   {
    "duration": 0,
    "start_time": "2023-04-19T19:12:01.139Z"
   },
   {
    "duration": 0,
    "start_time": "2023-04-19T19:12:01.140Z"
   },
   {
    "duration": 0,
    "start_time": "2023-04-19T19:12:01.141Z"
   },
   {
    "duration": 0,
    "start_time": "2023-04-19T19:12:01.142Z"
   },
   {
    "duration": 0,
    "start_time": "2023-04-19T19:12:01.144Z"
   },
   {
    "duration": 0,
    "start_time": "2023-04-19T19:12:01.145Z"
   },
   {
    "duration": 0,
    "start_time": "2023-04-19T19:12:01.146Z"
   },
   {
    "duration": 0,
    "start_time": "2023-04-19T19:12:01.147Z"
   },
   {
    "duration": 0,
    "start_time": "2023-04-19T19:12:01.149Z"
   },
   {
    "duration": 0,
    "start_time": "2023-04-19T19:12:01.150Z"
   },
   {
    "duration": 0,
    "start_time": "2023-04-19T19:12:01.151Z"
   },
   {
    "duration": 0,
    "start_time": "2023-04-19T19:12:01.153Z"
   },
   {
    "duration": 0,
    "start_time": "2023-04-19T19:12:01.154Z"
   },
   {
    "duration": 0,
    "start_time": "2023-04-19T19:12:01.155Z"
   },
   {
    "duration": 0,
    "start_time": "2023-04-19T19:12:01.156Z"
   },
   {
    "duration": 0,
    "start_time": "2023-04-19T19:12:01.158Z"
   },
   {
    "duration": 0,
    "start_time": "2023-04-19T19:12:01.159Z"
   },
   {
    "duration": 0,
    "start_time": "2023-04-19T19:12:01.160Z"
   },
   {
    "duration": 0,
    "start_time": "2023-04-19T19:12:01.162Z"
   },
   {
    "duration": 609,
    "start_time": "2023-04-19T19:14:17.095Z"
   },
   {
    "duration": 9,
    "start_time": "2023-04-19T19:14:21.889Z"
   },
   {
    "duration": 662,
    "start_time": "2023-04-19T19:14:21.906Z"
   },
   {
    "duration": 15,
    "start_time": "2023-04-19T19:14:22.570Z"
   },
   {
    "duration": 22,
    "start_time": "2023-04-19T19:14:22.597Z"
   },
   {
    "duration": 202,
    "start_time": "2023-04-19T19:14:22.621Z"
   },
   {
    "duration": 108,
    "start_time": "2023-04-19T19:14:22.824Z"
   },
   {
    "duration": 7,
    "start_time": "2023-04-19T19:14:22.934Z"
   },
   {
    "duration": 12,
    "start_time": "2023-04-19T19:14:22.943Z"
   },
   {
    "duration": 126,
    "start_time": "2023-04-19T19:14:22.956Z"
   },
   {
    "duration": 33,
    "start_time": "2023-04-19T19:14:23.083Z"
   },
   {
    "duration": 23,
    "start_time": "2023-04-19T19:14:23.118Z"
   },
   {
    "duration": 6,
    "start_time": "2023-04-19T19:14:23.142Z"
   },
   {
    "duration": 25,
    "start_time": "2023-04-19T19:14:23.149Z"
   },
   {
    "duration": 228,
    "start_time": "2023-04-19T19:14:23.176Z"
   },
   {
    "duration": 23,
    "start_time": "2023-04-19T19:14:23.405Z"
   },
   {
    "duration": 92,
    "start_time": "2023-04-19T19:14:23.430Z"
   },
   {
    "duration": 9,
    "start_time": "2023-04-19T19:14:23.523Z"
   },
   {
    "duration": 6,
    "start_time": "2023-04-19T19:14:23.533Z"
   },
   {
    "duration": 6,
    "start_time": "2023-04-19T19:14:23.540Z"
   },
   {
    "duration": 5,
    "start_time": "2023-04-19T19:14:23.547Z"
   },
   {
    "duration": 17,
    "start_time": "2023-04-19T19:14:23.554Z"
   },
   {
    "duration": 6,
    "start_time": "2023-04-19T19:14:23.573Z"
   },
   {
    "duration": 6,
    "start_time": "2023-04-19T19:14:23.596Z"
   },
   {
    "duration": 8,
    "start_time": "2023-04-19T19:14:23.603Z"
   },
   {
    "duration": 18,
    "start_time": "2023-04-19T19:14:23.612Z"
   },
   {
    "duration": 21,
    "start_time": "2023-04-19T19:14:23.631Z"
   },
   {
    "duration": 6,
    "start_time": "2023-04-19T19:14:23.653Z"
   },
   {
    "duration": 1995,
    "start_time": "2023-04-19T19:14:23.660Z"
   },
   {
    "duration": 2810,
    "start_time": "2023-04-19T19:14:25.656Z"
   },
   {
    "duration": 1976,
    "start_time": "2023-04-19T19:14:28.467Z"
   },
   {
    "duration": 963,
    "start_time": "2023-04-19T19:14:30.444Z"
   },
   {
    "duration": 724,
    "start_time": "2023-04-19T19:14:31.409Z"
   },
   {
    "duration": 12,
    "start_time": "2023-04-19T19:14:32.134Z"
   },
   {
    "duration": 1407,
    "start_time": "2023-04-19T19:14:32.148Z"
   },
   {
    "duration": 13,
    "start_time": "2023-04-19T19:14:33.557Z"
   },
   {
    "duration": 1207,
    "start_time": "2023-04-19T19:14:33.572Z"
   },
   {
    "duration": 4,
    "start_time": "2023-04-19T19:14:34.780Z"
   },
   {
    "duration": 31,
    "start_time": "2023-04-19T19:14:34.785Z"
   },
   {
    "duration": 8,
    "start_time": "2023-04-19T19:14:34.818Z"
   },
   {
    "duration": 50,
    "start_time": "2023-04-19T19:14:34.827Z"
   },
   {
    "duration": 7,
    "start_time": "2023-04-19T19:14:34.902Z"
   },
   {
    "duration": 4,
    "start_time": "2023-04-19T19:14:34.911Z"
   },
   {
    "duration": 581,
    "start_time": "2023-04-19T19:14:34.916Z"
   },
   {
    "duration": 0,
    "start_time": "2023-04-19T19:14:35.499Z"
   },
   {
    "duration": 0,
    "start_time": "2023-04-19T19:14:35.500Z"
   },
   {
    "duration": 0,
    "start_time": "2023-04-19T19:14:35.501Z"
   },
   {
    "duration": 0,
    "start_time": "2023-04-19T19:14:35.503Z"
   },
   {
    "duration": 0,
    "start_time": "2023-04-19T19:14:35.504Z"
   },
   {
    "duration": 0,
    "start_time": "2023-04-19T19:14:35.505Z"
   },
   {
    "duration": 0,
    "start_time": "2023-04-19T19:14:35.506Z"
   },
   {
    "duration": 0,
    "start_time": "2023-04-19T19:14:35.507Z"
   },
   {
    "duration": 0,
    "start_time": "2023-04-19T19:14:35.508Z"
   },
   {
    "duration": 0,
    "start_time": "2023-04-19T19:14:35.509Z"
   },
   {
    "duration": 0,
    "start_time": "2023-04-19T19:14:35.510Z"
   },
   {
    "duration": 0,
    "start_time": "2023-04-19T19:14:35.511Z"
   },
   {
    "duration": 0,
    "start_time": "2023-04-19T19:14:35.512Z"
   },
   {
    "duration": 0,
    "start_time": "2023-04-19T19:14:35.513Z"
   },
   {
    "duration": 0,
    "start_time": "2023-04-19T19:14:35.514Z"
   },
   {
    "duration": 0,
    "start_time": "2023-04-19T19:14:35.516Z"
   },
   {
    "duration": 0,
    "start_time": "2023-04-19T19:14:35.516Z"
   },
   {
    "duration": 0,
    "start_time": "2023-04-19T19:14:35.517Z"
   },
   {
    "duration": 0,
    "start_time": "2023-04-19T19:14:35.518Z"
   },
   {
    "duration": 41,
    "start_time": "2023-04-19T19:18:08.605Z"
   },
   {
    "duration": 7,
    "start_time": "2023-04-19T19:18:13.601Z"
   },
   {
    "duration": 3,
    "start_time": "2023-04-19T19:18:14.979Z"
   },
   {
    "duration": 5,
    "start_time": "2023-04-19T19:18:15.389Z"
   },
   {
    "duration": 4,
    "start_time": "2023-04-19T19:18:23.120Z"
   },
   {
    "duration": 651,
    "start_time": "2023-04-19T19:18:23.127Z"
   },
   {
    "duration": 29,
    "start_time": "2023-04-19T19:18:23.779Z"
   },
   {
    "duration": 21,
    "start_time": "2023-04-19T19:18:23.809Z"
   },
   {
    "duration": 218,
    "start_time": "2023-04-19T19:18:23.832Z"
   },
   {
    "duration": 113,
    "start_time": "2023-04-19T19:18:24.052Z"
   },
   {
    "duration": 8,
    "start_time": "2023-04-19T19:18:24.166Z"
   },
   {
    "duration": 32,
    "start_time": "2023-04-19T19:18:24.176Z"
   },
   {
    "duration": 111,
    "start_time": "2023-04-19T19:18:24.210Z"
   },
   {
    "duration": 20,
    "start_time": "2023-04-19T19:18:24.322Z"
   },
   {
    "duration": 19,
    "start_time": "2023-04-19T19:18:24.343Z"
   },
   {
    "duration": 6,
    "start_time": "2023-04-19T19:18:24.363Z"
   },
   {
    "duration": 39,
    "start_time": "2023-04-19T19:18:24.370Z"
   },
   {
    "duration": 218,
    "start_time": "2023-04-19T19:18:24.412Z"
   },
   {
    "duration": 18,
    "start_time": "2023-04-19T19:18:24.631Z"
   },
   {
    "duration": 95,
    "start_time": "2023-04-19T19:18:24.651Z"
   },
   {
    "duration": 9,
    "start_time": "2023-04-19T19:18:24.748Z"
   },
   {
    "duration": 4,
    "start_time": "2023-04-19T19:18:24.758Z"
   },
   {
    "duration": 7,
    "start_time": "2023-04-19T19:18:24.763Z"
   },
   {
    "duration": 3,
    "start_time": "2023-04-19T19:18:24.772Z"
   },
   {
    "duration": 34,
    "start_time": "2023-04-19T19:18:24.776Z"
   },
   {
    "duration": 4,
    "start_time": "2023-04-19T19:18:24.811Z"
   },
   {
    "duration": 20,
    "start_time": "2023-04-19T19:18:24.817Z"
   },
   {
    "duration": 7,
    "start_time": "2023-04-19T19:18:24.839Z"
   },
   {
    "duration": 14,
    "start_time": "2023-04-19T19:18:24.847Z"
   },
   {
    "duration": 44,
    "start_time": "2023-04-19T19:18:24.862Z"
   },
   {
    "duration": 6,
    "start_time": "2023-04-19T19:18:24.908Z"
   },
   {
    "duration": 1929,
    "start_time": "2023-04-19T19:18:24.916Z"
   },
   {
    "duration": 1926,
    "start_time": "2023-04-19T19:18:26.847Z"
   },
   {
    "duration": 1996,
    "start_time": "2023-04-19T19:18:28.775Z"
   },
   {
    "duration": 1074,
    "start_time": "2023-04-19T19:18:30.773Z"
   },
   {
    "duration": 581,
    "start_time": "2023-04-19T19:18:31.848Z"
   },
   {
    "duration": 11,
    "start_time": "2023-04-19T19:18:32.431Z"
   },
   {
    "duration": 1430,
    "start_time": "2023-04-19T19:18:32.443Z"
   },
   {
    "duration": 24,
    "start_time": "2023-04-19T19:18:33.874Z"
   },
   {
    "duration": 1249,
    "start_time": "2023-04-19T19:18:33.900Z"
   },
   {
    "duration": 4,
    "start_time": "2023-04-19T19:18:35.150Z"
   },
   {
    "duration": 20,
    "start_time": "2023-04-19T19:18:35.156Z"
   },
   {
    "duration": 29,
    "start_time": "2023-04-19T19:18:35.177Z"
   },
   {
    "duration": 60,
    "start_time": "2023-04-19T19:18:35.208Z"
   },
   {
    "duration": 5,
    "start_time": "2023-04-19T19:18:35.271Z"
   },
   {
    "duration": 8,
    "start_time": "2023-04-19T19:18:35.277Z"
   },
   {
    "duration": 52,
    "start_time": "2023-04-19T19:18:35.286Z"
   },
   {
    "duration": 5,
    "start_time": "2023-04-19T19:18:35.339Z"
   },
   {
    "duration": 6,
    "start_time": "2023-04-19T19:18:35.345Z"
   },
   {
    "duration": 6,
    "start_time": "2023-04-19T19:18:35.353Z"
   },
   {
    "duration": 128848,
    "start_time": "2023-04-19T19:18:35.361Z"
   },
   {
    "duration": 5,
    "start_time": "2023-04-19T19:20:44.211Z"
   },
   {
    "duration": 6,
    "start_time": "2023-04-19T19:20:44.217Z"
   },
   {
    "duration": 2285,
    "start_time": "2023-04-19T19:20:44.224Z"
   },
   {
    "duration": 5,
    "start_time": "2023-04-19T19:20:46.511Z"
   },
   {
    "duration": 15,
    "start_time": "2023-04-19T19:20:46.517Z"
   },
   {
    "duration": 269977,
    "start_time": "2023-04-19T19:20:46.533Z"
   },
   {
    "duration": 5,
    "start_time": "2023-04-19T19:25:16.512Z"
   },
   {
    "duration": 5,
    "start_time": "2023-04-19T19:25:16.518Z"
   },
   {
    "duration": 585,
    "start_time": "2023-04-19T19:25:16.524Z"
   },
   {
    "duration": 0,
    "start_time": "2023-04-19T19:25:17.115Z"
   },
   {
    "duration": 0,
    "start_time": "2023-04-19T19:25:17.117Z"
   },
   {
    "duration": 0,
    "start_time": "2023-04-19T19:25:17.118Z"
   },
   {
    "duration": 0,
    "start_time": "2023-04-19T19:25:17.119Z"
   },
   {
    "duration": 0,
    "start_time": "2023-04-19T19:25:17.121Z"
   },
   {
    "duration": 0,
    "start_time": "2023-04-19T19:25:17.122Z"
   },
   {
    "duration": 1288,
    "start_time": "2023-04-19T19:26:54.721Z"
   },
   {
    "duration": 633,
    "start_time": "2023-04-19T19:26:56.010Z"
   },
   {
    "duration": 17,
    "start_time": "2023-04-19T19:26:56.645Z"
   },
   {
    "duration": 1280,
    "start_time": "2023-04-19T19:27:22.520Z"
   },
   {
    "duration": 660,
    "start_time": "2023-04-19T19:27:23.802Z"
   },
   {
    "duration": 18,
    "start_time": "2023-04-19T19:27:24.464Z"
   },
   {
    "duration": 33,
    "start_time": "2023-04-19T19:27:24.484Z"
   },
   {
    "duration": 218,
    "start_time": "2023-04-19T19:27:24.520Z"
   },
   {
    "duration": 113,
    "start_time": "2023-04-19T19:27:24.739Z"
   },
   {
    "duration": 8,
    "start_time": "2023-04-19T19:27:24.854Z"
   },
   {
    "duration": 10,
    "start_time": "2023-04-19T19:27:24.863Z"
   },
   {
    "duration": 130,
    "start_time": "2023-04-19T19:27:24.875Z"
   },
   {
    "duration": 19,
    "start_time": "2023-04-19T19:27:25.006Z"
   },
   {
    "duration": 20,
    "start_time": "2023-04-19T19:27:25.027Z"
   },
   {
    "duration": 7,
    "start_time": "2023-04-19T19:27:25.048Z"
   },
   {
    "duration": 45,
    "start_time": "2023-04-19T19:27:25.056Z"
   },
   {
    "duration": 213,
    "start_time": "2023-04-19T19:27:25.103Z"
   },
   {
    "duration": 17,
    "start_time": "2023-04-19T19:27:25.317Z"
   },
   {
    "duration": 95,
    "start_time": "2023-04-19T19:27:25.336Z"
   },
   {
    "duration": 8,
    "start_time": "2023-04-19T19:27:25.433Z"
   },
   {
    "duration": 6,
    "start_time": "2023-04-19T19:27:25.443Z"
   },
   {
    "duration": 24,
    "start_time": "2023-04-19T19:27:25.451Z"
   },
   {
    "duration": 6,
    "start_time": "2023-04-19T19:27:25.476Z"
   },
   {
    "duration": 12,
    "start_time": "2023-04-19T19:27:25.483Z"
   },
   {
    "duration": 6,
    "start_time": "2023-04-19T19:27:25.497Z"
   },
   {
    "duration": 5,
    "start_time": "2023-04-19T19:27:25.504Z"
   },
   {
    "duration": 4,
    "start_time": "2023-04-19T19:27:25.510Z"
   },
   {
    "duration": 14,
    "start_time": "2023-04-19T19:27:25.515Z"
   },
   {
    "duration": 22,
    "start_time": "2023-04-19T19:27:25.530Z"
   },
   {
    "duration": 5,
    "start_time": "2023-04-19T19:27:25.554Z"
   },
   {
    "duration": 2136,
    "start_time": "2023-04-19T19:27:25.561Z"
   },
   {
    "duration": 1770,
    "start_time": "2023-04-19T19:27:27.698Z"
   },
   {
    "duration": 1829,
    "start_time": "2023-04-19T19:27:29.469Z"
   },
   {
    "duration": 944,
    "start_time": "2023-04-19T19:27:31.299Z"
   },
   {
    "duration": 670,
    "start_time": "2023-04-19T19:27:32.244Z"
   },
   {
    "duration": 11,
    "start_time": "2023-04-19T19:27:32.916Z"
   },
   {
    "duration": 1235,
    "start_time": "2023-04-19T19:27:32.929Z"
   },
   {
    "duration": 33,
    "start_time": "2023-04-19T19:27:34.166Z"
   },
   {
    "duration": 1180,
    "start_time": "2023-04-19T19:27:34.201Z"
   },
   {
    "duration": 3,
    "start_time": "2023-04-19T19:27:35.383Z"
   },
   {
    "duration": 22,
    "start_time": "2023-04-19T19:27:35.388Z"
   },
   {
    "duration": 10,
    "start_time": "2023-04-19T19:27:35.411Z"
   },
   {
    "duration": 53,
    "start_time": "2023-04-19T19:27:35.423Z"
   },
   {
    "duration": 5,
    "start_time": "2023-04-19T19:27:35.495Z"
   },
   {
    "duration": 6,
    "start_time": "2023-04-19T19:27:35.501Z"
   },
   {
    "duration": 41,
    "start_time": "2023-04-19T19:27:35.508Z"
   },
   {
    "duration": 4,
    "start_time": "2023-04-19T19:27:35.551Z"
   },
   {
    "duration": 3,
    "start_time": "2023-04-19T19:27:35.557Z"
   },
   {
    "duration": 33,
    "start_time": "2023-04-19T19:27:35.562Z"
   },
   {
    "duration": 124758,
    "start_time": "2023-04-19T19:27:35.596Z"
   },
   {
    "duration": 5,
    "start_time": "2023-04-19T19:29:40.356Z"
   },
   {
    "duration": 10,
    "start_time": "2023-04-19T19:29:40.363Z"
   },
   {
    "duration": 2388,
    "start_time": "2023-04-19T19:29:40.375Z"
   },
   {
    "duration": 5,
    "start_time": "2023-04-19T19:29:42.765Z"
   },
   {
    "duration": 8,
    "start_time": "2023-04-19T19:29:42.771Z"
   },
   {
    "duration": 260871,
    "start_time": "2023-04-19T19:29:42.794Z"
   },
   {
    "duration": 5,
    "start_time": "2023-04-19T19:34:03.667Z"
   },
   {
    "duration": 8,
    "start_time": "2023-04-19T19:34:03.673Z"
   },
   {
    "duration": 5009,
    "start_time": "2023-04-19T19:34:03.682Z"
   },
   {
    "duration": 5,
    "start_time": "2023-04-19T19:34:08.692Z"
   },
   {
    "duration": 35,
    "start_time": "2023-04-19T19:34:08.698Z"
   },
   {
    "duration": 18,
    "start_time": "2023-04-19T19:34:08.734Z"
   },
   {
    "duration": 3,
    "start_time": "2023-04-19T19:34:08.754Z"
   },
   {
    "duration": 37,
    "start_time": "2023-04-19T19:34:08.758Z"
   },
   {
    "duration": 829,
    "start_time": "2023-04-19T19:34:08.797Z"
   },
   {
    "duration": 1288,
    "start_time": "2023-04-19T19:42:10.156Z"
   },
   {
    "duration": 631,
    "start_time": "2023-04-19T19:42:11.447Z"
   },
   {
    "duration": 20,
    "start_time": "2023-04-19T19:42:12.080Z"
   },
   {
    "duration": 23,
    "start_time": "2023-04-19T19:42:12.102Z"
   },
   {
    "duration": 236,
    "start_time": "2023-04-19T19:42:12.126Z"
   },
   {
    "duration": 118,
    "start_time": "2023-04-19T19:42:12.364Z"
   },
   {
    "duration": 12,
    "start_time": "2023-04-19T19:42:12.484Z"
   },
   {
    "duration": 17,
    "start_time": "2023-04-19T19:42:12.498Z"
   },
   {
    "duration": 122,
    "start_time": "2023-04-19T19:42:12.517Z"
   },
   {
    "duration": 19,
    "start_time": "2023-04-19T19:42:12.642Z"
   },
   {
    "duration": 33,
    "start_time": "2023-04-19T19:42:12.662Z"
   },
   {
    "duration": 5,
    "start_time": "2023-04-19T19:42:12.697Z"
   },
   {
    "duration": 15,
    "start_time": "2023-04-19T19:42:12.704Z"
   },
   {
    "duration": 230,
    "start_time": "2023-04-19T19:42:12.721Z"
   },
   {
    "duration": 19,
    "start_time": "2023-04-19T19:42:12.952Z"
   },
   {
    "duration": 95,
    "start_time": "2023-04-19T19:42:12.973Z"
   },
   {
    "duration": 9,
    "start_time": "2023-04-19T19:42:13.069Z"
   },
   {
    "duration": 15,
    "start_time": "2023-04-19T19:42:13.079Z"
   },
   {
    "duration": 4,
    "start_time": "2023-04-19T19:42:13.095Z"
   },
   {
    "duration": 3,
    "start_time": "2023-04-19T19:42:13.100Z"
   },
   {
    "duration": 12,
    "start_time": "2023-04-19T19:42:13.105Z"
   },
   {
    "duration": 7,
    "start_time": "2023-04-19T19:42:13.118Z"
   },
   {
    "duration": 5,
    "start_time": "2023-04-19T19:42:13.126Z"
   },
   {
    "duration": 5,
    "start_time": "2023-04-19T19:42:13.132Z"
   },
   {
    "duration": 13,
    "start_time": "2023-04-19T19:42:13.138Z"
   },
   {
    "duration": 50,
    "start_time": "2023-04-19T19:42:13.152Z"
   },
   {
    "duration": 5,
    "start_time": "2023-04-19T19:42:13.204Z"
   },
   {
    "duration": 1882,
    "start_time": "2023-04-19T19:42:13.212Z"
   },
   {
    "duration": 1933,
    "start_time": "2023-04-19T19:42:15.096Z"
   },
   {
    "duration": 1924,
    "start_time": "2023-04-19T19:42:17.030Z"
   },
   {
    "duration": 956,
    "start_time": "2023-04-19T19:42:18.956Z"
   },
   {
    "duration": 651,
    "start_time": "2023-04-19T19:42:19.913Z"
   },
   {
    "duration": 12,
    "start_time": "2023-04-19T19:42:20.566Z"
   },
   {
    "duration": 1300,
    "start_time": "2023-04-19T19:42:20.579Z"
   },
   {
    "duration": 21,
    "start_time": "2023-04-19T19:42:21.881Z"
   },
   {
    "duration": 1151,
    "start_time": "2023-04-19T19:42:21.904Z"
   },
   {
    "duration": 4,
    "start_time": "2023-04-19T19:42:23.056Z"
   },
   {
    "duration": 18,
    "start_time": "2023-04-19T19:42:23.061Z"
   },
   {
    "duration": 20,
    "start_time": "2023-04-19T19:42:23.080Z"
   },
   {
    "duration": 66,
    "start_time": "2023-04-19T19:42:23.101Z"
   },
   {
    "duration": 4,
    "start_time": "2023-04-19T19:42:23.169Z"
   },
   {
    "duration": 7,
    "start_time": "2023-04-19T19:42:23.174Z"
   },
   {
    "duration": 49,
    "start_time": "2023-04-19T19:42:23.182Z"
   },
   {
    "duration": 4,
    "start_time": "2023-04-19T19:42:23.232Z"
   },
   {
    "duration": 4,
    "start_time": "2023-04-19T19:42:23.237Z"
   },
   {
    "duration": 12,
    "start_time": "2023-04-19T19:42:23.242Z"
   },
   {
    "duration": 123885,
    "start_time": "2023-04-19T19:42:23.255Z"
   },
   {
    "duration": 5,
    "start_time": "2023-04-19T19:44:27.142Z"
   },
   {
    "duration": 6,
    "start_time": "2023-04-19T19:44:27.149Z"
   },
   {
    "duration": 2173,
    "start_time": "2023-04-19T19:44:27.156Z"
   },
   {
    "duration": 6,
    "start_time": "2023-04-19T19:44:29.331Z"
   },
   {
    "duration": 8,
    "start_time": "2023-04-19T19:44:29.338Z"
   },
   {
    "duration": 258234,
    "start_time": "2023-04-19T19:44:29.347Z"
   },
   {
    "duration": 12,
    "start_time": "2023-04-19T19:48:47.583Z"
   },
   {
    "duration": 5,
    "start_time": "2023-04-19T19:48:47.596Z"
   },
   {
    "duration": 10,
    "start_time": "2023-04-19T19:48:47.602Z"
   },
   {
    "duration": 4893,
    "start_time": "2023-04-19T19:48:47.614Z"
   },
   {
    "duration": 4,
    "start_time": "2023-04-19T19:48:52.509Z"
   },
   {
    "duration": 8,
    "start_time": "2023-04-19T19:48:52.514Z"
   },
   {
    "duration": 33,
    "start_time": "2023-04-19T19:48:52.523Z"
   },
   {
    "duration": 36,
    "start_time": "2023-04-19T19:48:52.558Z"
   },
   {
    "duration": 3,
    "start_time": "2023-04-19T19:48:52.596Z"
   },
   {
    "duration": 602,
    "start_time": "2023-04-19T19:48:52.600Z"
   },
   {
    "duration": 0,
    "start_time": "2023-04-19T19:48:53.204Z"
   },
   {
    "duration": 709,
    "start_time": "2023-04-19T19:59:51.691Z"
   },
   {
    "duration": 12,
    "start_time": "2023-04-19T19:59:53.792Z"
   },
   {
    "duration": 5,
    "start_time": "2023-04-19T20:02:24.184Z"
   },
   {
    "duration": 596,
    "start_time": "2023-04-19T20:02:24.191Z"
   },
   {
    "duration": 18,
    "start_time": "2023-04-19T20:02:24.789Z"
   },
   {
    "duration": 22,
    "start_time": "2023-04-19T20:02:24.808Z"
   },
   {
    "duration": 212,
    "start_time": "2023-04-19T20:02:24.832Z"
   },
   {
    "duration": 117,
    "start_time": "2023-04-19T20:02:25.046Z"
   },
   {
    "duration": 9,
    "start_time": "2023-04-19T20:02:25.164Z"
   },
   {
    "duration": 24,
    "start_time": "2023-04-19T20:02:25.174Z"
   },
   {
    "duration": 119,
    "start_time": "2023-04-19T20:02:25.200Z"
   },
   {
    "duration": 20,
    "start_time": "2023-04-19T20:02:25.321Z"
   },
   {
    "duration": 25,
    "start_time": "2023-04-19T20:02:25.342Z"
   },
   {
    "duration": 6,
    "start_time": "2023-04-19T20:02:25.368Z"
   },
   {
    "duration": 28,
    "start_time": "2023-04-19T20:02:25.376Z"
   },
   {
    "duration": 227,
    "start_time": "2023-04-19T20:02:25.408Z"
   },
   {
    "duration": 19,
    "start_time": "2023-04-19T20:02:25.637Z"
   },
   {
    "duration": 89,
    "start_time": "2023-04-19T20:02:25.657Z"
   },
   {
    "duration": 9,
    "start_time": "2023-04-19T20:02:25.747Z"
   },
   {
    "duration": 4,
    "start_time": "2023-04-19T20:02:25.757Z"
   },
   {
    "duration": 16,
    "start_time": "2023-04-19T20:02:25.763Z"
   },
   {
    "duration": 21,
    "start_time": "2023-04-19T20:02:25.781Z"
   },
   {
    "duration": 17,
    "start_time": "2023-04-19T20:02:25.804Z"
   },
   {
    "duration": 21,
    "start_time": "2023-04-19T20:02:25.822Z"
   },
   {
    "duration": 9,
    "start_time": "2023-04-19T20:02:25.845Z"
   },
   {
    "duration": 9,
    "start_time": "2023-04-19T20:02:25.856Z"
   },
   {
    "duration": 15,
    "start_time": "2023-04-19T20:02:25.866Z"
   },
   {
    "duration": 22,
    "start_time": "2023-04-19T20:02:25.882Z"
   },
   {
    "duration": 5,
    "start_time": "2023-04-19T20:02:25.905Z"
   },
   {
    "duration": 2693,
    "start_time": "2023-04-19T20:02:25.912Z"
   },
   {
    "duration": 1887,
    "start_time": "2023-04-19T20:02:28.607Z"
   },
   {
    "duration": 2028,
    "start_time": "2023-04-19T20:02:30.496Z"
   },
   {
    "duration": 1016,
    "start_time": "2023-04-19T20:02:32.526Z"
   },
   {
    "duration": 573,
    "start_time": "2023-04-19T20:02:33.544Z"
   },
   {
    "duration": 11,
    "start_time": "2023-04-19T20:02:34.119Z"
   },
   {
    "duration": 1404,
    "start_time": "2023-04-19T20:02:34.132Z"
   },
   {
    "duration": 18,
    "start_time": "2023-04-19T20:02:35.537Z"
   },
   {
    "duration": 1225,
    "start_time": "2023-04-19T20:02:35.557Z"
   },
   {
    "duration": 10,
    "start_time": "2023-04-19T20:02:36.784Z"
   },
   {
    "duration": 44,
    "start_time": "2023-04-19T20:02:36.796Z"
   },
   {
    "duration": 7,
    "start_time": "2023-04-19T20:02:36.842Z"
   },
   {
    "duration": 60,
    "start_time": "2023-04-19T20:02:36.851Z"
   },
   {
    "duration": 6,
    "start_time": "2023-04-19T20:02:36.915Z"
   },
   {
    "duration": 4,
    "start_time": "2023-04-19T20:02:36.923Z"
   },
   {
    "duration": 66,
    "start_time": "2023-04-19T20:02:36.929Z"
   },
   {
    "duration": 10,
    "start_time": "2023-04-19T20:02:36.997Z"
   },
   {
    "duration": 3,
    "start_time": "2023-04-19T20:02:37.009Z"
   },
   {
    "duration": 10,
    "start_time": "2023-04-19T20:02:37.013Z"
   },
   {
    "duration": 127197,
    "start_time": "2023-04-19T20:02:37.025Z"
   },
   {
    "duration": 5,
    "start_time": "2023-04-19T20:04:44.223Z"
   },
   {
    "duration": 6,
    "start_time": "2023-04-19T20:04:44.229Z"
   },
   {
    "duration": 2240,
    "start_time": "2023-04-19T20:04:44.237Z"
   },
   {
    "duration": 15,
    "start_time": "2023-04-19T20:04:46.479Z"
   },
   {
    "duration": 5,
    "start_time": "2023-04-19T20:04:46.495Z"
   },
   {
    "duration": 264219,
    "start_time": "2023-04-19T20:04:46.501Z"
   },
   {
    "duration": 8,
    "start_time": "2023-04-19T20:09:10.722Z"
   },
   {
    "duration": 9,
    "start_time": "2023-04-19T20:09:10.733Z"
   },
   {
    "duration": 7,
    "start_time": "2023-04-19T20:09:10.744Z"
   },
   {
    "duration": 5493,
    "start_time": "2023-04-19T20:09:10.753Z"
   },
   {
    "duration": 5,
    "start_time": "2023-04-19T20:09:16.247Z"
   },
   {
    "duration": 7,
    "start_time": "2023-04-19T20:09:16.254Z"
   },
   {
    "duration": 58,
    "start_time": "2023-04-19T20:09:16.262Z"
   },
   {
    "duration": 20,
    "start_time": "2023-04-19T20:09:16.321Z"
   },
   {
    "duration": 3,
    "start_time": "2023-04-19T20:09:16.343Z"
   },
   {
    "duration": 8,
    "start_time": "2023-04-19T20:09:16.348Z"
   },
   {
    "duration": 689,
    "start_time": "2023-04-19T20:09:16.358Z"
   },
   {
    "duration": 0,
    "start_time": "2023-04-19T20:09:17.049Z"
   },
   {
    "duration": 4,
    "start_time": "2023-04-19T20:47:04.347Z"
   },
   {
    "duration": 639,
    "start_time": "2023-04-19T20:47:04.352Z"
   },
   {
    "duration": 15,
    "start_time": "2023-04-19T20:47:04.993Z"
   },
   {
    "duration": 19,
    "start_time": "2023-04-19T20:47:05.009Z"
   },
   {
    "duration": 217,
    "start_time": "2023-04-19T20:47:05.030Z"
   },
   {
    "duration": 115,
    "start_time": "2023-04-19T20:47:05.248Z"
   },
   {
    "duration": 8,
    "start_time": "2023-04-19T20:47:05.365Z"
   },
   {
    "duration": 26,
    "start_time": "2023-04-19T20:47:05.375Z"
   },
   {
    "duration": 115,
    "start_time": "2023-04-19T20:47:05.402Z"
   },
   {
    "duration": 19,
    "start_time": "2023-04-19T20:47:05.519Z"
   },
   {
    "duration": 27,
    "start_time": "2023-04-19T20:47:05.539Z"
   },
   {
    "duration": 6,
    "start_time": "2023-04-19T20:47:05.568Z"
   },
   {
    "duration": 46,
    "start_time": "2023-04-19T20:47:05.575Z"
   },
   {
    "duration": 207,
    "start_time": "2023-04-19T20:47:05.624Z"
   },
   {
    "duration": 16,
    "start_time": "2023-04-19T20:47:05.833Z"
   },
   {
    "duration": 88,
    "start_time": "2023-04-19T20:47:05.851Z"
   },
   {
    "duration": 9,
    "start_time": "2023-04-19T20:47:05.940Z"
   },
   {
    "duration": 4,
    "start_time": "2023-04-19T20:47:05.951Z"
   },
   {
    "duration": 9,
    "start_time": "2023-04-19T20:47:05.957Z"
   },
   {
    "duration": 3,
    "start_time": "2023-04-19T20:47:05.968Z"
   },
   {
    "duration": 29,
    "start_time": "2023-04-19T20:47:05.972Z"
   },
   {
    "duration": 12,
    "start_time": "2023-04-19T20:47:06.002Z"
   },
   {
    "duration": 5,
    "start_time": "2023-04-19T20:47:06.016Z"
   },
   {
    "duration": 5,
    "start_time": "2023-04-19T20:47:06.022Z"
   },
   {
    "duration": 17,
    "start_time": "2023-04-19T20:47:06.028Z"
   },
   {
    "duration": 20,
    "start_time": "2023-04-19T20:47:06.047Z"
   },
   {
    "duration": 28,
    "start_time": "2023-04-19T20:47:06.068Z"
   },
   {
    "duration": 1828,
    "start_time": "2023-04-19T20:47:06.097Z"
   },
   {
    "duration": 1773,
    "start_time": "2023-04-19T20:47:07.926Z"
   },
   {
    "duration": 2025,
    "start_time": "2023-04-19T20:47:09.701Z"
   },
   {
    "duration": 978,
    "start_time": "2023-04-19T20:47:11.728Z"
   },
   {
    "duration": 574,
    "start_time": "2023-04-19T20:47:12.707Z"
   },
   {
    "duration": 16,
    "start_time": "2023-04-19T20:47:13.283Z"
   },
   {
    "duration": 1375,
    "start_time": "2023-04-19T20:47:13.301Z"
   },
   {
    "duration": 22,
    "start_time": "2023-04-19T20:47:14.678Z"
   },
   {
    "duration": 1152,
    "start_time": "2023-04-19T20:47:14.701Z"
   },
   {
    "duration": 5,
    "start_time": "2023-04-19T20:47:15.855Z"
   },
   {
    "duration": 24,
    "start_time": "2023-04-19T20:47:15.861Z"
   },
   {
    "duration": 13,
    "start_time": "2023-04-19T20:47:15.886Z"
   },
   {
    "duration": 49,
    "start_time": "2023-04-19T20:47:15.901Z"
   },
   {
    "duration": 4,
    "start_time": "2023-04-19T20:47:15.955Z"
   },
   {
    "duration": 10,
    "start_time": "2023-04-19T20:47:15.961Z"
   },
   {
    "duration": 61,
    "start_time": "2023-04-19T20:47:15.972Z"
   },
   {
    "duration": 4,
    "start_time": "2023-04-19T20:47:16.035Z"
   },
   {
    "duration": 7,
    "start_time": "2023-04-19T20:47:16.041Z"
   },
   {
    "duration": 6,
    "start_time": "2023-04-19T20:47:16.050Z"
   },
   {
    "duration": 122712,
    "start_time": "2023-04-19T20:47:16.057Z"
   },
   {
    "duration": 5,
    "start_time": "2023-04-19T20:49:18.770Z"
   },
   {
    "duration": 18,
    "start_time": "2023-04-19T20:49:18.777Z"
   },
   {
    "duration": 2159,
    "start_time": "2023-04-19T20:49:18.796Z"
   },
   {
    "duration": 5,
    "start_time": "2023-04-19T20:49:20.956Z"
   },
   {
    "duration": 5,
    "start_time": "2023-04-19T20:49:20.963Z"
   },
   {
    "duration": 256889,
    "start_time": "2023-04-19T20:49:20.969Z"
   },
   {
    "duration": 6,
    "start_time": "2023-04-19T20:53:37.860Z"
   },
   {
    "duration": 10,
    "start_time": "2023-04-19T20:53:37.867Z"
   },
   {
    "duration": 5,
    "start_time": "2023-04-19T20:53:37.893Z"
   },
   {
    "duration": 5101,
    "start_time": "2023-04-19T20:53:37.900Z"
   },
   {
    "duration": 4,
    "start_time": "2023-04-19T20:53:43.003Z"
   },
   {
    "duration": 8,
    "start_time": "2023-04-19T20:53:43.008Z"
   },
   {
    "duration": 35,
    "start_time": "2023-04-19T20:53:43.017Z"
   },
   {
    "duration": 19,
    "start_time": "2023-04-19T20:53:43.053Z"
   },
   {
    "duration": 3,
    "start_time": "2023-04-19T20:53:43.093Z"
   },
   {
    "duration": 5,
    "start_time": "2023-04-19T20:53:43.098Z"
   },
   {
    "duration": 12,
    "start_time": "2023-04-19T20:53:43.105Z"
   },
   {
    "duration": 0,
    "start_time": "2023-04-19T20:53:43.118Z"
   },
   {
    "duration": 0,
    "start_time": "2023-04-19T20:53:43.120Z"
   },
   {
    "duration": 1309,
    "start_time": "2023-04-19T21:10:57.898Z"
   },
   {
    "duration": 640,
    "start_time": "2023-04-19T21:10:59.209Z"
   },
   {
    "duration": 17,
    "start_time": "2023-04-19T21:10:59.851Z"
   },
   {
    "duration": 34,
    "start_time": "2023-04-19T21:10:59.869Z"
   },
   {
    "duration": 217,
    "start_time": "2023-04-19T21:10:59.905Z"
   },
   {
    "duration": 116,
    "start_time": "2023-04-19T21:11:00.124Z"
   },
   {
    "duration": 8,
    "start_time": "2023-04-19T21:11:00.242Z"
   },
   {
    "duration": 31,
    "start_time": "2023-04-19T21:11:00.251Z"
   },
   {
    "duration": 134,
    "start_time": "2023-04-19T21:11:00.283Z"
   },
   {
    "duration": 19,
    "start_time": "2023-04-19T21:11:00.418Z"
   },
   {
    "duration": 48,
    "start_time": "2023-04-19T21:11:00.439Z"
   },
   {
    "duration": 9,
    "start_time": "2023-04-19T21:11:00.489Z"
   },
   {
    "duration": 31,
    "start_time": "2023-04-19T21:11:00.499Z"
   },
   {
    "duration": 228,
    "start_time": "2023-04-19T21:11:00.533Z"
   },
   {
    "duration": 17,
    "start_time": "2023-04-19T21:11:00.763Z"
   },
   {
    "duration": 91,
    "start_time": "2023-04-19T21:11:00.782Z"
   },
   {
    "duration": 20,
    "start_time": "2023-04-19T21:11:00.875Z"
   },
   {
    "duration": 22,
    "start_time": "2023-04-19T21:11:00.896Z"
   },
   {
    "duration": 25,
    "start_time": "2023-04-19T21:11:00.919Z"
   },
   {
    "duration": 13,
    "start_time": "2023-04-19T21:11:00.945Z"
   },
   {
    "duration": 34,
    "start_time": "2023-04-19T21:11:00.960Z"
   },
   {
    "duration": 51,
    "start_time": "2023-04-19T21:11:00.995Z"
   },
   {
    "duration": 30,
    "start_time": "2023-04-19T21:11:01.048Z"
   },
   {
    "duration": 27,
    "start_time": "2023-04-19T21:11:01.080Z"
   },
   {
    "duration": 50,
    "start_time": "2023-04-19T21:11:01.109Z"
   },
   {
    "duration": 28,
    "start_time": "2023-04-19T21:11:01.160Z"
   },
   {
    "duration": 7,
    "start_time": "2023-04-19T21:11:01.189Z"
   },
   {
    "duration": 1888,
    "start_time": "2023-04-19T21:11:01.198Z"
   },
   {
    "duration": 1875,
    "start_time": "2023-04-19T21:11:03.087Z"
   },
   {
    "duration": 1926,
    "start_time": "2023-04-19T21:11:04.964Z"
   },
   {
    "duration": 992,
    "start_time": "2023-04-19T21:11:06.891Z"
   },
   {
    "duration": 679,
    "start_time": "2023-04-19T21:11:07.885Z"
   },
   {
    "duration": 12,
    "start_time": "2023-04-19T21:11:08.565Z"
   },
   {
    "duration": 1224,
    "start_time": "2023-04-19T21:11:08.579Z"
   },
   {
    "duration": 20,
    "start_time": "2023-04-19T21:11:09.804Z"
   },
   {
    "duration": 1209,
    "start_time": "2023-04-19T21:11:09.825Z"
   },
   {
    "duration": 3,
    "start_time": "2023-04-19T21:11:11.036Z"
   },
   {
    "duration": 29,
    "start_time": "2023-04-19T21:11:11.041Z"
   },
   {
    "duration": 8,
    "start_time": "2023-04-19T21:11:11.072Z"
   },
   {
    "duration": 58,
    "start_time": "2023-04-19T21:11:11.082Z"
   },
   {
    "duration": 4,
    "start_time": "2023-04-19T21:11:11.143Z"
   },
   {
    "duration": 7,
    "start_time": "2023-04-19T21:11:11.149Z"
   },
   {
    "duration": 56,
    "start_time": "2023-04-19T21:11:11.157Z"
   },
   {
    "duration": 6,
    "start_time": "2023-04-19T21:11:11.214Z"
   },
   {
    "duration": 8,
    "start_time": "2023-04-19T21:11:11.221Z"
   },
   {
    "duration": 5,
    "start_time": "2023-04-19T21:11:11.231Z"
   },
   {
    "duration": 122816,
    "start_time": "2023-04-19T21:11:11.238Z"
   },
   {
    "duration": 6,
    "start_time": "2023-04-19T21:13:14.056Z"
   },
   {
    "duration": 8,
    "start_time": "2023-04-19T21:13:14.063Z"
   },
   {
    "duration": 2247,
    "start_time": "2023-04-19T21:13:14.073Z"
   },
   {
    "duration": 5,
    "start_time": "2023-04-19T21:13:16.322Z"
   },
   {
    "duration": 7,
    "start_time": "2023-04-19T21:13:16.328Z"
   },
   {
    "duration": 257317,
    "start_time": "2023-04-19T21:13:16.336Z"
   },
   {
    "duration": 6,
    "start_time": "2023-04-19T21:17:33.654Z"
   },
   {
    "duration": 7,
    "start_time": "2023-04-19T21:17:33.661Z"
   },
   {
    "duration": 5,
    "start_time": "2023-04-19T21:17:33.669Z"
   },
   {
    "duration": 4958,
    "start_time": "2023-04-19T21:17:33.694Z"
   },
   {
    "duration": 5,
    "start_time": "2023-04-19T21:17:38.653Z"
   },
   {
    "duration": 5,
    "start_time": "2023-04-19T21:17:38.659Z"
   },
   {
    "duration": 42,
    "start_time": "2023-04-19T21:17:38.666Z"
   },
   {
    "duration": 17,
    "start_time": "2023-04-19T21:17:38.709Z"
   },
   {
    "duration": 2,
    "start_time": "2023-04-19T21:17:38.728Z"
   },
   {
    "duration": 7,
    "start_time": "2023-04-19T21:17:38.731Z"
   },
   {
    "duration": 5,
    "start_time": "2023-04-19T21:17:38.740Z"
   },
   {
    "duration": 605,
    "start_time": "2023-04-19T21:17:38.746Z"
   },
   {
    "duration": 1278,
    "start_time": "2023-04-19T21:19:05.702Z"
   },
   {
    "duration": 660,
    "start_time": "2023-04-19T21:19:06.981Z"
   },
   {
    "duration": 18,
    "start_time": "2023-04-19T21:19:07.643Z"
   },
   {
    "duration": 35,
    "start_time": "2023-04-19T21:19:07.662Z"
   },
   {
    "duration": 214,
    "start_time": "2023-04-19T21:19:07.699Z"
   },
   {
    "duration": 109,
    "start_time": "2023-04-19T21:19:07.915Z"
   },
   {
    "duration": 8,
    "start_time": "2023-04-19T21:19:08.026Z"
   },
   {
    "duration": 11,
    "start_time": "2023-04-19T21:19:08.035Z"
   },
   {
    "duration": 126,
    "start_time": "2023-04-19T21:19:08.048Z"
   },
   {
    "duration": 22,
    "start_time": "2023-04-19T21:19:08.176Z"
   },
   {
    "duration": 19,
    "start_time": "2023-04-19T21:19:08.200Z"
   },
   {
    "duration": 5,
    "start_time": "2023-04-19T21:19:08.221Z"
   },
   {
    "duration": 26,
    "start_time": "2023-04-19T21:19:08.227Z"
   },
   {
    "duration": 232,
    "start_time": "2023-04-19T21:19:08.256Z"
   },
   {
    "duration": 18,
    "start_time": "2023-04-19T21:19:08.490Z"
   },
   {
    "duration": 89,
    "start_time": "2023-04-19T21:19:08.509Z"
   },
   {
    "duration": 8,
    "start_time": "2023-04-19T21:19:08.600Z"
   },
   {
    "duration": 5,
    "start_time": "2023-04-19T21:19:08.609Z"
   },
   {
    "duration": 22,
    "start_time": "2023-04-19T21:19:08.616Z"
   },
   {
    "duration": 10,
    "start_time": "2023-04-19T21:19:08.639Z"
   },
   {
    "duration": 26,
    "start_time": "2023-04-19T21:19:08.650Z"
   },
   {
    "duration": 8,
    "start_time": "2023-04-19T21:19:08.677Z"
   },
   {
    "duration": 7,
    "start_time": "2023-04-19T21:19:08.686Z"
   },
   {
    "duration": 14,
    "start_time": "2023-04-19T21:19:08.695Z"
   },
   {
    "duration": 14,
    "start_time": "2023-04-19T21:19:08.710Z"
   },
   {
    "duration": 22,
    "start_time": "2023-04-19T21:19:08.726Z"
   },
   {
    "duration": 6,
    "start_time": "2023-04-19T21:19:08.750Z"
   },
   {
    "duration": 1949,
    "start_time": "2023-04-19T21:19:08.757Z"
   },
   {
    "duration": 1957,
    "start_time": "2023-04-19T21:19:10.707Z"
   },
   {
    "duration": 2433,
    "start_time": "2023-04-19T21:19:12.666Z"
   },
   {
    "duration": 1210,
    "start_time": "2023-04-19T21:19:15.100Z"
   },
   {
    "duration": 681,
    "start_time": "2023-04-19T21:19:16.312Z"
   },
   {
    "duration": 12,
    "start_time": "2023-04-19T21:19:16.995Z"
   },
   {
    "duration": 1202,
    "start_time": "2023-04-19T21:19:17.008Z"
   },
   {
    "duration": 19,
    "start_time": "2023-04-19T21:19:18.212Z"
   },
   {
    "duration": 1130,
    "start_time": "2023-04-19T21:19:18.232Z"
   },
   {
    "duration": 4,
    "start_time": "2023-04-19T21:19:19.363Z"
   },
   {
    "duration": 26,
    "start_time": "2023-04-19T21:19:19.368Z"
   },
   {
    "duration": 8,
    "start_time": "2023-04-19T21:19:19.396Z"
   },
   {
    "duration": 61,
    "start_time": "2023-04-19T21:19:19.405Z"
   },
   {
    "duration": 5,
    "start_time": "2023-04-19T21:19:19.470Z"
   },
   {
    "duration": 4,
    "start_time": "2023-04-19T21:19:19.494Z"
   },
   {
    "duration": 40,
    "start_time": "2023-04-19T21:19:19.499Z"
   },
   {
    "duration": 4,
    "start_time": "2023-04-19T21:19:19.541Z"
   },
   {
    "duration": 7,
    "start_time": "2023-04-19T21:19:19.546Z"
   },
   {
    "duration": 12,
    "start_time": "2023-04-19T21:19:19.554Z"
   },
   {
    "duration": 122490,
    "start_time": "2023-04-19T21:19:19.567Z"
   },
   {
    "duration": 5,
    "start_time": "2023-04-19T21:21:22.059Z"
   },
   {
    "duration": 18,
    "start_time": "2023-04-19T21:21:22.065Z"
   },
   {
    "duration": 2155,
    "start_time": "2023-04-19T21:21:22.085Z"
   },
   {
    "duration": 6,
    "start_time": "2023-04-19T21:21:24.241Z"
   },
   {
    "duration": 6,
    "start_time": "2023-04-19T21:21:24.249Z"
   },
   {
    "duration": 256491,
    "start_time": "2023-04-19T21:21:24.257Z"
   },
   {
    "duration": 5,
    "start_time": "2023-04-19T21:25:40.750Z"
   },
   {
    "duration": 12,
    "start_time": "2023-04-19T21:25:40.757Z"
   },
   {
    "duration": 5,
    "start_time": "2023-04-19T21:25:40.771Z"
   },
   {
    "duration": 5165,
    "start_time": "2023-04-19T21:25:40.778Z"
   },
   {
    "duration": 5,
    "start_time": "2023-04-19T21:25:45.945Z"
   },
   {
    "duration": 14,
    "start_time": "2023-04-19T21:25:45.952Z"
   },
   {
    "duration": 44,
    "start_time": "2023-04-19T21:25:45.967Z"
   },
   {
    "duration": 20,
    "start_time": "2023-04-19T21:25:46.012Z"
   },
   {
    "duration": 4,
    "start_time": "2023-04-19T21:25:46.034Z"
   },
   {
    "duration": 7,
    "start_time": "2023-04-19T21:25:46.039Z"
   },
   {
    "duration": 20,
    "start_time": "2023-04-19T21:25:46.048Z"
   },
   {
    "duration": 28,
    "start_time": "2023-04-19T21:25:46.070Z"
   },
   {
    "duration": 6,
    "start_time": "2023-04-19T21:35:21.919Z"
   },
   {
    "duration": 33,
    "start_time": "2023-04-19T21:35:54.338Z"
   },
   {
    "duration": 1576,
    "start_time": "2023-04-20T12:43:33.053Z"
   },
   {
    "duration": 734,
    "start_time": "2023-04-20T12:43:34.631Z"
   },
   {
    "duration": 25,
    "start_time": "2023-04-20T12:43:35.367Z"
   },
   {
    "duration": 50,
    "start_time": "2023-04-20T12:43:35.394Z"
   },
   {
    "duration": 239,
    "start_time": "2023-04-20T12:43:35.446Z"
   },
   {
    "duration": 147,
    "start_time": "2023-04-20T12:43:35.687Z"
   },
   {
    "duration": 8,
    "start_time": "2023-04-20T12:43:35.836Z"
   },
   {
    "duration": 34,
    "start_time": "2023-04-20T12:43:35.846Z"
   },
   {
    "duration": 142,
    "start_time": "2023-04-20T12:43:35.882Z"
   },
   {
    "duration": 32,
    "start_time": "2023-04-20T12:43:36.025Z"
   },
   {
    "duration": 46,
    "start_time": "2023-04-20T12:43:36.059Z"
   },
   {
    "duration": 18,
    "start_time": "2023-04-20T12:43:36.107Z"
   },
   {
    "duration": 32,
    "start_time": "2023-04-20T12:43:36.128Z"
   },
   {
    "duration": 276,
    "start_time": "2023-04-20T12:43:36.164Z"
   },
   {
    "duration": 17,
    "start_time": "2023-04-20T12:43:36.442Z"
   },
   {
    "duration": 243,
    "start_time": "2023-04-20T12:43:36.460Z"
   },
   {
    "duration": 9,
    "start_time": "2023-04-20T12:43:36.705Z"
   },
   {
    "duration": 43,
    "start_time": "2023-04-20T12:43:36.716Z"
   },
   {
    "duration": 42,
    "start_time": "2023-04-20T12:43:36.760Z"
   },
   {
    "duration": 18,
    "start_time": "2023-04-20T12:43:36.803Z"
   },
   {
    "duration": 94,
    "start_time": "2023-04-20T12:43:36.823Z"
   },
   {
    "duration": 34,
    "start_time": "2023-04-20T12:43:36.919Z"
   },
   {
    "duration": 116,
    "start_time": "2023-04-20T12:43:36.955Z"
   },
   {
    "duration": 76,
    "start_time": "2023-04-20T12:43:37.076Z"
   },
   {
    "duration": 111,
    "start_time": "2023-04-20T12:43:37.155Z"
   },
   {
    "duration": 31,
    "start_time": "2023-04-20T12:43:37.267Z"
   },
   {
    "duration": 22,
    "start_time": "2023-04-20T12:43:37.300Z"
   },
   {
    "duration": 2099,
    "start_time": "2023-04-20T12:43:37.323Z"
   },
   {
    "duration": 2026,
    "start_time": "2023-04-20T12:43:39.424Z"
   },
   {
    "duration": 2255,
    "start_time": "2023-04-20T12:43:41.451Z"
   },
   {
    "duration": 1034,
    "start_time": "2023-04-20T12:43:43.708Z"
   },
   {
    "duration": 765,
    "start_time": "2023-04-20T12:43:44.744Z"
   },
   {
    "duration": 13,
    "start_time": "2023-04-20T12:43:45.511Z"
   },
   {
    "duration": 1402,
    "start_time": "2023-04-20T12:43:45.526Z"
   },
   {
    "duration": 17,
    "start_time": "2023-04-20T12:43:46.929Z"
   },
   {
    "duration": 1134,
    "start_time": "2023-04-20T12:43:46.948Z"
   },
   {
    "duration": 6,
    "start_time": "2023-04-20T12:43:48.084Z"
   },
   {
    "duration": 38,
    "start_time": "2023-04-20T12:43:48.092Z"
   },
   {
    "duration": 23,
    "start_time": "2023-04-20T12:43:48.132Z"
   },
   {
    "duration": 84,
    "start_time": "2023-04-20T12:43:48.156Z"
   },
   {
    "duration": 3,
    "start_time": "2023-04-20T12:43:48.243Z"
   },
   {
    "duration": 68,
    "start_time": "2023-04-20T12:43:48.248Z"
   },
   {
    "duration": 2,
    "start_time": "2023-04-20T12:43:48.317Z"
   },
   {
    "duration": 164023,
    "start_time": "2023-04-20T12:43:48.321Z"
   },
   {
    "duration": 4,
    "start_time": "2023-04-20T12:46:32.345Z"
   },
   {
    "duration": 3842,
    "start_time": "2023-04-20T12:46:32.351Z"
   },
   {
    "duration": 16,
    "start_time": "2023-04-20T12:46:36.200Z"
   },
   {
    "duration": 335696,
    "start_time": "2023-04-20T12:46:36.217Z"
   },
   {
    "duration": 5,
    "start_time": "2023-04-20T12:52:11.915Z"
   },
   {
    "duration": 13,
    "start_time": "2023-04-20T12:52:11.921Z"
   },
   {
    "duration": 6670,
    "start_time": "2023-04-20T12:52:11.935Z"
   },
   {
    "duration": 5,
    "start_time": "2023-04-20T12:52:18.608Z"
   },
   {
    "duration": 48,
    "start_time": "2023-04-20T12:52:18.614Z"
   },
   {
    "duration": 66,
    "start_time": "2023-04-20T12:52:18.663Z"
   },
   {
    "duration": 6,
    "start_time": "2023-04-20T12:52:18.731Z"
   },
   {
    "duration": 21,
    "start_time": "2023-04-20T12:52:18.739Z"
   },
   {
    "duration": 30,
    "start_time": "2023-04-20T12:52:18.762Z"
   }
  ],
  "kernelspec": {
   "display_name": "Python 3 (ipykernel)",
   "language": "python",
   "name": "python3"
  },
  "language_info": {
   "codemirror_mode": {
    "name": "ipython",
    "version": 3
   },
   "file_extension": ".py",
   "mimetype": "text/x-python",
   "name": "python",
   "nbconvert_exporter": "python",
   "pygments_lexer": "ipython3",
   "version": "3.9.13"
  },
  "toc": {
   "base_numbering": 1,
   "nav_menu": {},
   "number_sections": true,
   "sideBar": true,
   "skip_h1_title": true,
   "title_cell": "Содержание",
   "title_sidebar": "Contents",
   "toc_cell": true,
   "toc_position": {
    "height": "calc(100% - 180px)",
    "left": "10px",
    "top": "150px",
    "width": "225px"
   },
   "toc_section_display": true,
   "toc_window_display": true
  }
 },
 "nbformat": 4,
 "nbformat_minor": 2
}
